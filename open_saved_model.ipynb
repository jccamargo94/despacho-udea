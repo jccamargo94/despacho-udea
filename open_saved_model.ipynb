{
 "cells": [
  {
   "cell_type": "code",
   "execution_count": 2,
   "metadata": {},
   "outputs": [],
   "source": [
    "from pathlib import Path\n",
    "\n",
    "import cloudpickle\n",
    "\n"
   ]
  },
  {
   "cell_type": "code",
   "execution_count": 9,
   "metadata": {},
   "outputs": [
    {
     "name": "stdout",
     "output_type": "stream",
     "text": [
      "Opening file data/models/2024-01-01_preideal_2000MWh_1000MW.pkl\n",
      "obj for data/models/2024-01-01_preideal_2000MWh_1000MW.pkl: 18,103.25 [MCOP]\n"
     ]
    }
   ],
   "source": [
    "ROOT = Path(\"\")\n",
    "DATA = ROOT.joinpath(\"data\", \"models\")\n",
    "\n",
    "for model_name in DATA.glob(\"*.pkl\"):\n",
    "    print(f\"Opening file {model_name}\")\n",
    "    with open(model_name, \"rb\") as f:\n",
    "        model = cloudpickle.load(f)\n",
    "        print(f\"obj for {model_name}: {abs(model._model.objective.expr())*1E-6:,.2f} [MCOP]\")"
   ]
  },
  {
   "cell_type": "markdown",
   "metadata": {},
   "source": []
  }
 ],
 "metadata": {
  "kernelspec": {
   "display_name": ".env",
   "language": "python",
   "name": "python3"
  },
  "language_info": {
   "codemirror_mode": {
    "name": "ipython",
    "version": 3
   },
   "file_extension": ".py",
   "mimetype": "text/x-python",
   "name": "python",
   "nbconvert_exporter": "python",
   "pygments_lexer": "ipython3",
   "version": "3.12.2"
  }
 },
 "nbformat": 4,
 "nbformat_minor": 2
}

{
 "cells": [
  {
   "cell_type": "markdown",
   "metadata": {},
   "source": [
    "# 1. Math model for a multi-period dispatch"
   ]
  },
  {
   "cell_type": "markdown",
   "metadata": {},
   "source": [
    "CREG 034 de 2019:\n",
    "\n",
    "https://gestornormativo.creg.gov.co/gestor/entorno/docs/resolucion_creg_0034_2019.htm"
   ]
  },
  {
   "cell_type": "markdown",
   "metadata": {},
   "source": [
    "# 2. Nomenclatura"
   ]
  },
  {
   "cell_type": "markdown",
   "metadata": {},
   "source": [
    "## 2.1. Conjuntos"
   ]
  },
  {
   "cell_type": "markdown",
   "metadata": {},
   "source": [
    "$i \\in \\mathcal{I}$: Todos los generadores\n",
    "\n",
    "$g \\in \\mathcal{G}$: Generadores térmicos -> $\\mathcal{G} \\subset \\mathcal{I}$\n",
    "\n",
    "\n",
    "$t \\in \\mathcal{T}$: Pasos de tiempo\n",
    "\n"
   ]
  },
  {
   "cell_type": "markdown",
   "metadata": {},
   "source": [
    "## 2.2. Parámetros"
   ]
  },
  {
   "cell_type": "markdown",
   "metadata": {},
   "source": [
    "\n",
    "$D_{t}$: Demanda eléctrica durante el tiempo $t$\n",
    "\n",
    "$\\beta_{i,t}$: Precio de oferta en la bolsa del generador $g$\n",
    "\n",
    "$\\text{Par}_{i,t}$: Precio de arranque y parada para el generador $g$ durante el tiempo $t$\n",
    "\n"
   ]
  },
  {
   "cell_type": "markdown",
   "metadata": {},
   "source": [
    "## 2.3. Variables"
   ]
  },
  {
   "cell_type": "markdown",
   "metadata": {},
   "source": [
    "$p_{i,t}$: Generación asignada al generador $i$ durante el tiempo $t$\n",
    "\n"
   ]
  },
  {
   "cell_type": "markdown",
   "metadata": {},
   "source": [
    "# 3. Predespacho ideal\n",
    "Artículo 5 numeral b)</br>\n",
    "CREG 076 de 2009 [Link](https://gestornormativo.creg.gov.co/gestor/entorno/docs/resolucion_creg_0076_2009.htm)"
   ]
  },
  {
   "cell_type": "markdown",
   "metadata": {},
   "source": [
    "$$\\text{minimize} \\sum_{i,t} \\left(\\beta_{i,t}p_{i,t} \\right) + \\text{Par}_{i,t}$$"
   ]
  },
  {
   "cell_type": "markdown",
   "metadata": {},
   "source": [
    "$$\\text{s.t.}$$"
   ]
  },
  {
   "cell_type": "markdown",
   "metadata": {},
   "source": [
    "$$D_{t} \\leq \\sum_{i} p_{i,t}, \\forall t\\in\\mathcal{T}$$"
   ]
  },
  {
   "cell_type": "markdown",
   "metadata": {},
   "source": [
    "# 4. Despacho ideal\n",
    "Artículo 1 CREG 076 de 2009 [Link](https://gestornormativo.creg.gov.co/gestor/entorno/docs/resolucion_creg_0076_2009.htm)"
   ]
  },
  {
   "cell_type": "markdown",
   "metadata": {},
   "source": [
    "$$\\text{minimize} \\sum_{i,t} \\left(\\beta_{i,t}p_{i,t} \\right) + \\text{Par}_{i,t}$$"
   ]
  },
  {
   "cell_type": "markdown",
   "metadata": {},
   "source": [
    "$$\\text{s.t.}$$"
   ]
  },
  {
   "cell_type": "markdown",
   "metadata": {},
   "source": [
    "$$D_{t} \\leq \\sum_{i} Q_{i,t}, \\forall t\\in\\mathcal{T}$$\n",
    "$$\\text{Características técnicas}$$"
   ]
  },
  {
   "cell_type": "markdown",
   "metadata": {},
   "source": []
  },
  {
   "cell_type": "markdown",
   "metadata": {},
   "source": [
    "# 4. Despacho Económico"
   ]
  },
  {
   "cell_type": "markdown",
   "metadata": {},
   "source": [
    "$$\\text{minimize} \\sum_{i,t} \\left(\\beta_{i,t}p_{i,t} \\right) + \\text{Par}_{i,t}$$"
   ]
  },
  {
   "cell_type": "markdown",
   "metadata": {},
   "source": [
    "$$\\text{s.t.}$$"
   ]
  },
  {
   "cell_type": "markdown",
   "metadata": {},
   "source": [
    "$$D_{t} \\leq \\sum_{i} Q_{i,t}, \\forall t\\in\\mathcal{T}$$\n",
    "$$\\text{Características técnicas}$$\n",
    "$$\\text{Restricciones Eléctricas y Soporte de Tensión}$$\n",
    "$$\\text{Restricciones Operativas}$$"
   ]
  },
  {
   "cell_type": "markdown",
   "metadata": {},
   "source": []
  },
  {
   "cell_type": "markdown",
   "metadata": {},
   "source": [
    "$$"
   ]
  },
  {
   "cell_type": "markdown",
   "metadata": {},
   "source": []
  },
  {
   "cell_type": "markdown",
   "metadata": {},
   "source": [
    "$\\pi^{dis}_{t} \\leq E $"
   ]
  },
  {
   "cell_type": "markdown",
   "metadata": {},
   "source": [
    "$$ p^{dis}_{b,t}$$\n",
    "$$ 0 \\leq p^{dis}_{b,t} \\leq 100$$\n",
    "\n",
    "$$ p^{ch}_{b,t}$$\n",
    "$$ 0 \\leq p^{ch}_{b,t} \\leq 100$$"
   ]
  },
  {
   "cell_type": "markdown",
   "metadata": {},
   "source": [
    "$$E_{b,t} = E_{b,t-1} - p^{dis}_{b,t} + p^{ch}_{b,t}$$"
   ]
  },
  {
   "cell_type": "markdown",
   "metadata": {},
   "source": []
  }
 ],
 "metadata": {
  "language_info": {
   "name": "python"
  }
 },
 "nbformat": 4,
 "nbformat_minor": 2
}

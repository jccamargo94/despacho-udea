{
 "cells": [
  {
   "cell_type": "code",
   "execution_count": 10,
   "metadata": {},
   "outputs": [],
   "source": [
    "from datetime import date\n",
    "\n",
    "from pydataxm import pydataxm\n",
    "import pandas as pd"
   ]
  },
  {
   "cell_type": "code",
   "execution_count": 11,
   "metadata": {},
   "outputs": [],
   "source": [
    "API = pydataxm.ReadDB()"
   ]
  },
  {
   "cell_type": "code",
   "execution_count": 14,
   "metadata": {},
   "outputs": [],
   "source": [
    "df = API.get_collections()\n",
    "\n",
    "# with pd.option_context('display.max_rows', None, 'display.max_columns', None):\n",
    "#     display(df)"
   ]
  },
  {
   "cell_type": "code",
   "execution_count": null,
   "metadata": {},
   "outputs": [],
   "source": [
    "DispoCome = API.request_data(\n",
    "    \"DispoDeclarada\",\n",
    "    \"Recurso\",\n",
    "    date(2023,6,1),\n",
    "    date.today(),\n",
    ")"
   ]
  },
  {
   "cell_type": "code",
   "execution_count": null,
   "metadata": {},
   "outputs": [],
   "source": [
    "recursos = API.request_data(\n",
    "    \"ListadoRecursos\",\n",
    "    \"Sistema\",\n",
    "    date.today(),\n",
    "    date.today(),\n",
    ")\n",
    "company = API.request_data(\n",
    "    \"ListadoAgentes\",\n",
    "    \"Sistema\",\n",
    "    date.today(),\n",
    "    date.today(),\n",
    ")"
   ]
  },
  {
   "cell_type": "code",
   "execution_count": null,
   "metadata": {},
   "outputs": [],
   "source": [
    "indx_cols = [\"Id\", \"Values_OperStartdate\", \"Values_State\", \"Date\"]\n",
    "recursos = recursos[[col for col in recursos.columns if col not in indx_cols]]\n",
    "company = company[[col for col in company.columns if col not in indx_cols]]\n",
    "agentes_company = recursos.merge(company, left_on=\"Values_CompanyCode\", right_on=\"Values_Code\", how=\"left\", suffixes=(\"_resource\", \"_company\"))\n",
    "agentes_company.columns = [\n",
    "    \"resource_code\", \"resource_name\", \"gen_type\", \"dispatched\", \"resource_gen_type\", \"resource_company_code\", \"resource_source\",\n",
    "    \"company_code\", \"resource_company_name\", \"company_activity\"]\n",
    "agentes_company.to_csv(\"data/agentes_company.csv\", index=False)\n",
    "agentes_company"
   ]
  },
  {
   "cell_type": "markdown",
   "metadata": {},
   "source": []
  },
  {
   "cell_type": "code",
   "execution_count": null,
   "metadata": {},
   "outputs": [],
   "source": [
    "DispoCome_ = DispoCome.copy()\n",
    "mapper = {f\"Values_Hour{i+1:0>2}\": i for i in range(24)}\n",
    "indx = [\"Id\", \"Values_code\", \"Date\"]\n",
    "DispoCome_.set_index(indx, inplace=True)\n",
    "DispoCome_ = DispoCome_.rename(columns=mapper)\n",
    "DispoCome_ = DispoCome_.stack().reset_index()\n",
    "DispoCome_.columns = [*indx, \"hora\", \"dispo\"]\n",
    "DispoCome_[\"datetime\"] = pd.to_datetime(DispoCome_[\"Date\"]) + pd.to_timedelta(DispoCome_[\"hora\"], unit=\"h\")\n",
    "DispoCome_"
   ]
  },
  {
   "cell_type": "code",
   "execution_count": null,
   "metadata": {},
   "outputs": [],
   "source": [
    "DispoCome_resource = DispoCome_.merge(\n",
    "    agentes_company,\n",
    "    left_on=\"Values_code\",\n",
    "    right_on=\"resource_code\",\n",
    "    how=\"left\"\n",
    ")\n",
    "DispoCome_resource"
   ]
  },
  {
   "cell_type": "code",
   "execution_count": 21,
   "metadata": {},
   "outputs": [],
   "source": [
    "DispoCome_resource.to_csv(\"data/dispo_declarada.csv\", index=False)"
   ]
  },
  {
   "cell_type": "markdown",
   "metadata": {},
   "source": [
    "# 3. Demanda Comercial"
   ]
  },
  {
   "cell_type": "code",
   "execution_count": 1,
   "metadata": {},
   "outputs": [],
   "source": [
    "from pydataxm import pydataxm\n",
    "from datetime import date\n",
    "import pandas as pd\n",
    "\n",
    "API = pydataxm.ReadDB()\n"
   ]
  },
  {
   "cell_type": "code",
   "execution_count": null,
   "metadata": {},
   "outputs": [],
   "source": [
    "demaCome = API.request_data(\n",
    "    \"DemaCome\",\n",
    "    \"Sistema\",\n",
    "    date(2023,1,1),\n",
    "    date.today(),\n",
    ")"
   ]
  },
  {
   "cell_type": "code",
   "execution_count": 27,
   "metadata": {},
   "outputs": [],
   "source": [
    "demaCome_ = demaCome.copy()\n",
    "demaCome_.set_index([\"Id\", \"Values_code\", \"Date\"], inplace=True)\n",
    "demaCome_.columns = range(24)\n",
    "demaCome_ = demaCome_.stack().reset_index()\n",
    "demaCome_.columns = [\"Id\", \"Values_code\", \"Date\", \"hora\", \"dema\"]\n",
    "demaCome_[\"datetime\"] = pd.to_datetime(demaCome_[\"Date\"]) + pd.to_timedelta(demaCome_[\"hora\"], unit=\"h\")\n",
    "demaCome_.sort_values([\"datetime\"], inplace=True)\n",
    "demaCome_ = demaCome_[[\"datetime\", \"dema\"]]\n",
    "demaCome_.to_csv(\"data/demaCome.csv\", index=False)"
   ]
  },
  {
   "cell_type": "code",
   "execution_count": null,
   "metadata": {},
   "outputs": [],
   "source": [
    "import plotly.express as px\n",
    "\n",
    "px.line(\n",
    "    demaCome_,\n",
    "    x=\"datetime\",\n",
    "    y=\"dema\",\n",
    "    color=\"Values_code\",\n",
    "    title=\"Demanda de energía\",\n",
    "    labels={\"dema\": \"Demanda [MW]\", \"datetime\": \"Fecha y hora\", \"Values_code\": \"Código\"},\n",
    ")"
   ]
  },
  {
   "cell_type": "code",
   "execution_count": null,
   "metadata": {},
   "outputs": [],
   "source": [
    "df = API.get_collections()\n",
    "\n",
    "df[df[\"MetricDescription\"].str.lower().str.contains(\"reg\")]"
   ]
  },
  {
   "cell_type": "code",
   "execution_count": null,
   "metadata": {},
   "outputs": [],
   "source": [
    "API.request_data(\n",
    "    \"RespComerAGC\",\n",
    "    \"Sistema\",\n",
    "    date(2024,2,15),\n",
    "    date(2024,2,15),\n",
    ")"
   ]
  },
  {
   "cell_type": "code",
   "execution_count": null,
   "metadata": {},
   "outputs": [],
   "source": [
    "with pd.option_context('display.max_rows', None, 'display.max_columns', None):\n",
    "    display(df)"
   ]
  },
  {
   "cell_type": "code",
   "execution_count": null,
   "metadata": {},
   "outputs": [],
   "source": [
    "df_[df_[\"Values_code\"] == \"MOY1\"]"
   ]
  },
  {
   "cell_type": "markdown",
   "metadata": {},
   "source": [
    "# 4. AGC Asignado"
   ]
  },
  {
   "cell_type": "code",
   "execution_count": null,
   "metadata": {},
   "outputs": [],
   "source": [
    "agc_df = pd.read_excel('data/AGC_Programado_(kWh)_2024.xlsx', parse_dates=[\"Fecha\"])\n",
    "agc_df = agc_df.fillna(0)\n",
    "agc_df.set_index(['Fecha', \"Recurso\", \"Código Agente\"], inplace=True)\n",
    "agc_df = agc_df.stack().reset_index()\n",
    "agc_df.columns = [\"fecha\", \"recurso\", \"codigo_agente\", \"hora\", \"agc\"]\n",
    "agc_df[\"datetime\"] = pd.to_datetime(agc_df[\"fecha\"]) + pd.to_timedelta(agc_df[\"hora\"], unit='h')\n",
    "agc_df[\"agc\"] = agc_df[\"agc\"].astype(float)\n",
    "agc_df"
   ]
  },
  {
   "cell_type": "code",
   "execution_count": 16,
   "metadata": {},
   "outputs": [],
   "source": [
    "agc_df.to_csv(\"data/agc_asignado.csv\", index=False)"
   ]
  },
  {
   "cell_type": "code",
   "execution_count": null,
   "metadata": {},
   "outputs": [],
   "source": []
  }
 ],
 "metadata": {
  "kernelspec": {
   "display_name": "base",
   "language": "python",
   "name": "python3"
  },
  "language_info": {
   "codemirror_mode": {
    "name": "ipython",
    "version": 3
   },
   "file_extension": ".py",
   "mimetype": "text/x-python",
   "name": "python",
   "nbconvert_exporter": "python",
   "pygments_lexer": "ipython3",
   "version": "3.12.2"
  }
 },
 "nbformat": 4,
 "nbformat_minor": 2
}

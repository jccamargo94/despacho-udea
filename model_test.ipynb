{
 "cells": [
  {
   "cell_type": "code",
   "execution_count": 1,
   "metadata": {},
   "outputs": [],
   "source": [
    "from datetime import date, datetime\n",
    "\n",
    "import pandas as pd\n",
    "import numpy as np\n",
    "import pyomo.environ as pyo\n",
    "from thefuzz import process, fuzz\n",
    "\n",
    "\n",
    "\n",
    "from app.model import UnitCommitmentModel, DispatchConfig"
   ]
  },
  {
   "cell_type": "code",
   "execution_count": 2,
   "metadata": {},
   "outputs": [],
   "source": [
    "config = DispatchConfig(\n",
    "    dispatch_type=\"preideal\"\n",
    ")"
   ]
  },
  {
   "cell_type": "code",
   "execution_count": 3,
   "metadata": {},
   "outputs": [],
   "source": [
    "DISPATCH_DATE = date(2024,6,9)\n",
    "# DISPATCH_DATE = date(2024,5,25)\n",
    "# DISPATCH_DATE = date(2024,8,10)\n",
    "# DISPATCH_DATE = date(2024,2,15)"
   ]
  },
  {
   "cell_type": "markdown",
   "metadata": {},
   "source": [
    "# 1. Load data"
   ]
  },
  {
   "cell_type": "code",
   "execution_count": 4,
   "metadata": {},
   "outputs": [],
   "source": [
    "# dispo = pd.read_csv('data/DispoCome_resource.csv', parse_dates=[\"datetime\"], engine=\"pyarrow\")\n",
    "dispo = pd.read_csv('data/dispo_declarada.csv', parse_dates=[\"datetime\"], engine=\"pyarrow\")\n",
    "ofertas = pd.read_csv('data/ofertas.csv', parse_dates=[\"Date\"], engine=\"pyarrow\")\n",
    "demanda = pd.read_csv('data/demaCome.csv', parse_dates=[\"datetime\"], engine=\"pyarrow\")\n",
    "agc_asignado = pd.read_csv('data/agc_asignado.csv', parse_dates=[\"datetime\"], engine=\"pyarrow\")\n"
   ]
  },
  {
   "cell_type": "code",
   "execution_count": 5,
   "metadata": {},
   "outputs": [],
   "source": [
    "import re\n",
    "\n",
    "price_pattern = r\"P(\\d+)\"\n",
    "dispo_pattern = r\"DISCONF(\\d+)\"\n",
    "# matches = re.findall(pattern, \"DISCONF7 DISCONF8 DISCONF1\")\n",
    "# matches = re.findall(pattern, \"P14 P P7\")\n",
    "# print(matches)  # Output: ['7', '8', '1']"
   ]
  },
  {
   "cell_type": "code",
   "execution_count": null,
   "metadata": {},
   "outputs": [],
   "source": [
    "output = []\n",
    "MO = []\n",
    "CC = {}\n",
    "cc_price = {}\n",
    "cc_dispo = {}\n",
    "prices = {}\n",
    "with open(f\"data/OFEI{DISPATCH_DATE.month:0>2}{DISPATCH_DATE.day:0>2}.txt\", \"r\") as file:\n",
    "    for line in file.readlines():\n",
    "        line = line.strip()\n",
    "        if \"PAP\" in line:\n",
    "            output.append(line)\n",
    "        if \"MO\" in line:\n",
    "            mo_line = line.split(\",\")\n",
    "            if len(mo_line) > 2 and \"MO\" in mo_line[1]:\n",
    "                MO.append(mo_line)\n",
    "        if (conf:=re.findall(price_pattern, line)) and \"CC\" in line:\n",
    "            fline = line.split(\",\")\n",
    "            cc_price[f\"{fline[0].strip()}_{conf[0]}\"] = float(fline[2])\n",
    "            if CC.get(fline[0].strip()):\n",
    "                CC[fline[0].strip()].append(f\"{fline[0].strip()}_{conf[0]}\")\n",
    "            else:\n",
    "                CC[fline[0].strip()] = [f\"{fline[0].strip()}_{conf[0]}\"]\n",
    "        # Disponibilidad CC\n",
    "        if (conf:=re.findall(dispo_pattern, line)) and \"CC\" in line:\n",
    "            fline = line.split(\",\")\n",
    "            cc_dispo[f\"{fline[0].strip()}_{conf[0]}\"] = [int(disp) for disp in fline[2:]]\n",
    "\n",
    "        # Extract prices\n",
    "        if \"P\" in line:\n",
    "            pri = line.split(\",\")\n",
    "            if len(pri) == 3 and \" P\" in pri[1] and not \"u\" in pri[1].lower() and not \"a\" in pri[1].lower():\n",
    "                prices[pri[0]] = float(pri[2])*1E-3\n",
    "\n",
    "            \n",
    "            \n",
    "precio_arranque = pd.DataFrame(\n",
    "    [\n",
    "        line.split(\",\")\n",
    "        for line in output\n",
    "        if not \"usd\" in line.lower()\n",
    "    ],\n",
    "    columns=[\"resource\", \"type\", \"price\"]\n",
    ")\n",
    "precio_arranque[\"price\"] = precio_arranque[\"price\"].astype(float)\n",
    "\n",
    "# Minimo operativo\n",
    "minimo_operativo = pd.DataFrame(\n",
    "    MO,\n",
    "    columns=[\"resource\", \"type\", ] + list(range(24))\n",
    ")\n",
    "minimo_operativo = minimo_operativo.set_index([\"resource\", \"type\"]).stack().reset_index()\n",
    "minimo_operativo.columns = [\"resource\", \"type\", \"hour\", \"minimo_operativo\"]\n",
    "minimo_operativo[\"datetime\"] = pd.to_datetime(DISPATCH_DATE) + pd.to_timedelta(minimo_operativo[\"hour\"], unit=\"h\")\n",
    "minimo_operativo[\"minimo_operativo\"] = minimo_operativo[\"minimo_operativo\"].astype(float)\n",
    "minimo_operativo"
   ]
  },
  {
   "cell_type": "code",
   "execution_count": 7,
   "metadata": {},
   "outputs": [],
   "source": [
    "dispo = dispo[\n",
    "    (dispo.datetime.dt.date == DISPATCH_DATE) &\n",
    "    (dispo[\"resource_name\"].notnull())\n",
    "]\n",
    "dispo = dispo.drop_duplicates(subset=[\"resource_name\", \"datetime\"])\n",
    "ofertas = ofertas[ofertas.Date.dt.date == DISPATCH_DATE]\n",
    "agc_asignado = agc_asignado[agc_asignado[\"datetime\"].dt.date == DISPATCH_DATE]\n",
    "demanda = demanda[demanda[\"datetime\"].dt.date == DISPATCH_DATE]"
   ]
  },
  {
   "cell_type": "code",
   "execution_count": 8,
   "metadata": {},
   "outputs": [],
   "source": [
    "price_bid_map = {\n",
    "    gen: process.extractOne(\n",
    "        query=gen.lower(),\n",
    "        choices=dispo[\"resource_name\"].unique(),\n",
    "        scorer=fuzz.token_sort_ratio,\n",
    "        processor=lambda x: x.lower().replace(\" \", \"\"),\n",
    "        score_cutoff=70,\n",
    "    )[0]\n",
    "    for gen in prices.keys()\n",
    "}\n",
    "prices = {\n",
    "    price_bid_map[gen]: price\n",
    "    for gen, price in prices.items()\n",
    "}"
   ]
  },
  {
   "cell_type": "code",
   "execution_count": null,
   "metadata": {},
   "outputs": [],
   "source": [
    "ofertas[\"Value\"] = ofertas.apply(lambda x: prices.get(x[\"resource_name\"],float(x[\"Value\"])), axis=1)\n",
    "ofertas"
   ]
  },
  {
   "cell_type": "code",
   "execution_count": 10,
   "metadata": {},
   "outputs": [],
   "source": [
    "# ofertas.loc[ofertas[\"resource_name\"].str.contains(\"TEBSA\"),\"Value\"] = 500.000\n",
    "# ofertas[ofertas[\"resource_name\"].str.contains(\"TEBSA\")]"
   ]
  },
  {
   "cell_type": "code",
   "execution_count": 11,
   "metadata": {},
   "outputs": [],
   "source": [
    "# import numpy as np\n",
    "# dispo.loc[dispo[\"resource_name\"].str.contains(\"VALLE\"),\"dispo\"] = np.array([239,  1,  1,  1,  1,  1,  1,  1,  1,  1,  239,  239,  239,  239,  239,  239,  239,  239,  239,  239,  239,  239,  239,  239])*1E3\n",
    "# ofertas.loc[ofertas[\"resource_name\"].str.contains(\"VALLE\"),\"Value\"] = 500.000"
   ]
  },
  {
   "cell_type": "code",
   "execution_count": 12,
   "metadata": {},
   "outputs": [],
   "source": [
    "# ofertas.loc[ofertas[\"resource_name\"].str.contains(\"TEBSA\"),\"Value\"] = 1514.537"
   ]
  },
  {
   "cell_type": "code",
   "execution_count": 13,
   "metadata": {},
   "outputs": [],
   "source": [
    "# ofertas.head()"
   ]
  },
  {
   "cell_type": "markdown",
   "metadata": {},
   "source": [
    "# 3. USING CC"
   ]
  },
  {
   "cell_type": "code",
   "execution_count": 14,
   "metadata": {},
   "outputs": [],
   "source": [
    "# DROP previous CC\n",
    "CC_MAP = {\n",
    "    gen: process.extractOne(\n",
    "        query=gen.lower(),\n",
    "        choices=dispo[\"resource_name\"].unique(),\n",
    "        scorer=fuzz.partial_token_sort_ratio,\n",
    "        processor=lambda x: x.lower().replace(\" \", \"\"),\n",
    "        score_cutoff=70,\n",
    "    )[0]\n",
    "    for gen in CC.keys()\n",
    "}\n",
    "CC_MAP\n",
    "\n",
    "dispo = dispo[~dispo[\"resource_name\"].isin(list(CC_MAP.values()))]\n",
    "ofertas = ofertas[~ofertas[\"resource_name\"].isin(list(CC_MAP.values()))]"
   ]
  },
  {
   "cell_type": "code",
   "execution_count": null,
   "metadata": {},
   "outputs": [],
   "source": []
  },
  {
   "cell_type": "code",
   "execution_count": 15,
   "metadata": {},
   "outputs": [],
   "source": [
    "# INCLUDING CC RESOURCE in DISPO and OFERTAS\n",
    "new_cc_resources = pd.DataFrame(cc_dispo).stack().reset_index()\n",
    "new_cc_resources.columns = [\"hours\", \"resource_name\", \"dispo\"]\n",
    "new_cc_resources[\"dispo\"] = new_cc_resources[\"dispo\"]*1e3\n",
    "new_cc_resources[\"hours\"] = new_cc_resources[\"hours\"].astype(int)\n",
    "new_cc_resources[\"datetime\"] = pd.to_datetime(DISPATCH_DATE) + pd.to_timedelta(new_cc_resources[\"hours\"], unit=\"h\")\n",
    "new_cc_resources[\"gen_type\"] = \"TERMICA\"\n",
    "new_cc_resources[\"dispatched\"] = \"DESPACHADO CENTRALMENTE\"\n",
    "new_cc_resources[\"company_activity\"] = \"GENERACIÓN\"\n",
    "new_cc_resources.pop(\"hours\")\n",
    "\n",
    "\n",
    "# OFERTAS\n",
    "\n",
    "new_cc_bid = pd.DataFrame(cc_price, index=[1]).stack().reset_index(drop=False)\n",
    "new_cc_bid.columns = [\"index_\", \"resource_name\", \"Value\"]\n",
    "new_cc_bid[\"Value\"] = new_cc_bid[\"Value\"].apply(lambda x: x*1E-3)\n",
    "# new_cc_bid[\"datetime\"] = pd.to_datetime(DISPATCH_DATE) + pd.to_timedelta(new_cc_bid[\"hours\"], unit=\"h\")\n",
    "new_cc_bid[\"resource_gen_type\"] = \"TERMICA\"\n",
    "new_cc_bid[\"Date\"] = DISPATCH_DATE\n",
    "# new_cc_bid[\"dispatched\"] = \"DESPACHADO CENTRALMENTE\"\n",
    "# new_cc_bid[\"company_activity\"] = \"GENERACIÓN\"\n",
    "_ = new_cc_bid.pop(\"index_\")\n",
    "\n"
   ]
  },
  {
   "cell_type": "code",
   "execution_count": null,
   "metadata": {},
   "outputs": [],
   "source": [
    "dispo = pd.concat([dispo, new_cc_resources], axis=0)\n",
    "ofertas = pd.concat([ofertas, new_cc_bid], axis=0)\n",
    "ofertas"
   ]
  },
  {
   "cell_type": "code",
   "execution_count": 17,
   "metadata": {},
   "outputs": [],
   "source": [
    "major_generators = ofertas.resource_name.unique()\n",
    "generators = dispo.resource_name.unique()\n",
    "timestamps = demanda[\"datetime\"].to_dict().values()\n",
    "# fuel_generators = dispo.query('resource_name in @major_generators and gen_type==\"TERMICA\"').resource_name.unique()\n",
    "fuel_generators = dispo[\n",
    "    (dispo[\"resource_name\"].isin(major_generators)) &\n",
    "    (dispo[\"gen_type\"] == \"TERMICA\")\n",
    "].resource_name.unique()"
   ]
  },
  {
   "cell_type": "markdown",
   "metadata": {},
   "source": [
    "## 1.2. Get startup/shutdown costs"
   ]
  },
  {
   "cell_type": "code",
   "execution_count": null,
   "metadata": {},
   "outputs": [],
   "source": [
    "MO_map = {\n",
    "    gen: results[0]\n",
    "    for gen in minimo_operativo.resource.unique()\n",
    "    if (results := process.extractOne(\n",
    "        query=gen.lower(),\n",
    "        choices=generators,\n",
    "        # choices=major_generators.tolist(),\n",
    "        scorer=fuzz.token_sort_ratio,\n",
    "        processor=lambda x: x.lower().replace(\" \", \"\"),\n",
    "        score_cutoff=70,\n",
    "    ))\n",
    "}\n",
    "minimo_operativo[\"resource\"] = minimo_operativo[\"resource\"].apply(lambda x: MO_map.get(x, x))\n",
    "minimo_operativo"
   ]
  },
  {
   "cell_type": "code",
   "execution_count": 19,
   "metadata": {},
   "outputs": [],
   "source": [
    "generators_pap_map = {\n",
    "    gen: process.extractOne(\n",
    "        query=gen.lower(),\n",
    "        choices=precio_arranque.resource.unique(),\n",
    "        scorer=fuzz.partial_token_sort_ratio,\n",
    "        processor=lambda x: x.lower().replace(\" \", \"\"),\n",
    "        score_cutoff=70,\n",
    "    )[0]\n",
    "    for gen in fuel_generators\n",
    "}\n",
    "\n",
    "cold_start = {}\n",
    "for gen in fuel_generators:\n",
    "    gen_name_mapped = generators_pap_map[gen]\n",
    "    gen_pap=precio_arranque[\n",
    "        (precio_arranque[\"resource\"] == gen_name_mapped) &\n",
    "        (precio_arranque.type.str.contains(\"F\"))\n",
    "    ][\"price\"].values[0]\n",
    "    cold_start[gen] = float(gen_pap)\n",
    "  \n"
   ]
  },
  {
   "cell_type": "markdown",
   "metadata": {},
   "source": [
    "# 1.3. Condiciones Iniciales"
   ]
  },
  {
   "cell_type": "code",
   "execution_count": 20,
   "metadata": {},
   "outputs": [],
   "source": [
    "# with open(f\"data/dCondIniP{DISPATCH_DATE.month:0>2}{DISPATCH_DATE.day:0>2}.txt\", \"r\") as file:\n",
    "#     data = file.readlines()\n",
    "#     data = [line.strip().split(\",\") for line in data]\n",
    "#     headers = data.pop(0)\n",
    "# data = pd.DataFrame(data, columns=headers)\n",
    "# data"
   ]
  },
  {
   "cell_type": "code",
   "execution_count": 21,
   "metadata": {},
   "outputs": [],
   "source": [
    "# Valores en MWh\n",
    "Pmax = dispo.query(\"resource_name in @generators\").set_index([\"resource_name\",\"datetime\"]).sort_index()[\"dispo\"]*1E-3\n",
    "Pmin = minimo_operativo.set_index([\"resource\", \"datetime\"]).sort_index()[\"minimo_operativo\"]\n",
    "beta = ofertas.query(\"resource_name in @generators\").set_index([\"resource_name\"]).sort_index()[\"Value\"]*1E3\n",
    "agc_indexed = agc_asignado.set_index([\"recurso\", \"datetime\"])[\"agc\"]*1E-3\n",
    "\n",
    "# Pmax.loc[agc_indexed.index] = Pmax.loc[agc_indexed.index] -  agc_indexed"
   ]
  },
  {
   "cell_type": "code",
   "execution_count": 22,
   "metadata": {},
   "outputs": [],
   "source": [
    "demand_pronos =pd.read_csv(f\"data/preideal_dispatch_{DISPATCH_DATE}.txt\", header=None)\n",
    "demand_pronos = demand_pronos.iloc[:, 1:].sum().values"
   ]
  },
  {
   "cell_type": "code",
   "execution_count": 23,
   "metadata": {},
   "outputs": [],
   "source": [
    "demand_pronos = dict(zip(demanda[\"datetime\"], demand_pronos))"
   ]
  },
  {
   "cell_type": "code",
   "execution_count": 24,
   "metadata": {},
   "outputs": [],
   "source": [
    "set_data = {\n",
    "    \"G\": fuel_generators,\n",
    "    \"T\": timestamps,\n",
    "    \"I\": generators,\n",
    "    # \"combined_cycle\": list(CC.keys()),\n",
    "    # \"excluded_resource\": CC,\n",
    "}\n",
    "\n",
    "param_data = {\n",
    "    # \"Pmax\" : Pmax,\n",
    "    \"Pmax\" : Pmax.apply(lambda x: np.round(x,0)),\n",
    "    \"Pmin\" : Pmin,\n",
    "    \"beta\" : beta,\n",
    "    \"cold_start\" : cold_start,\n",
    "    \"demand\" : demand_pronos,\n",
    "    # \"demand\" : demanda.set_index(\"datetime\")[\"dema\"],\n",
    "}\n"
   ]
  },
  {
   "cell_type": "code",
   "execution_count": 25,
   "metadata": {},
   "outputs": [],
   "source": [
    "model = UnitCommitmentModel(config=config)\n",
    "model.create_model(set_data=set_data, param_data=param_data)\n",
    "\n",
    "\n",
    "results = model.solve(solver=\"cbc\")\n",
    "# results = model.solve(solver=\"cplex\", executable=\"solver/cplex\")\n",
    "\n",
    "# model._model.z.fix()\n",
    "\n",
    "# results = model.solve(solver=\"cplex\", executable=\"solver/cplex\")"
   ]
  },
  {
   "cell_type": "code",
   "execution_count": null,
   "metadata": {},
   "outputs": [],
   "source": [
    "expr = model._model.objective.expr()\n",
    "print(f\"F.obj: {expr:,.2f}\")"
   ]
  },
  {
   "cell_type": "code",
   "execution_count": 27,
   "metadata": {},
   "outputs": [],
   "source": [
    "mpo_xm = pd.read_csv(f\"data/preideal_price_{DISPATCH_DATE}.txt\", header=None)\n",
    "mpo_xm = mpo_xm.iloc[0,1:].values"
   ]
  },
  {
   "cell_type": "code",
   "execution_count": null,
   "metadata": {},
   "outputs": [],
   "source": [
    "mpo_xm"
   ]
  },
  {
   "cell_type": "code",
   "execution_count": null,
   "metadata": {},
   "outputs": [],
   "source": [
    "MPO = {\n",
    "    ke.index(): pyo.value(dual_)\n",
    "    for ke, dual_ in model._model.dual.items()\n",
    "    if \"power_balance\" in ke.name\n",
    "}\n",
    "MPO"
   ]
  },
  {
   "cell_type": "code",
   "execution_count": null,
   "metadata": {},
   "outputs": [],
   "source": [
    "import matplotlib.pyplot as plt\n",
    "fig, ax = plt.subplots(1, 1)\n",
    "pd.DataFrame(data=MPO, index=[\"MPO\"]).T.plot(kind=\"line\",ax=ax)\n",
    "pd.DataFrame(data=mpo_xm, index=timestamps, columns=[\"MPO_XM\"]).plot(kind=\"line\", ax=ax, linestyle='--')"
   ]
  },
  {
   "cell_type": "code",
   "execution_count": null,
   "metadata": {},
   "outputs": [],
   "source": [
    "model._model.pout.display()"
   ]
  },
  {
   "cell_type": "code",
   "execution_count": null,
   "metadata": {},
   "outputs": [],
   "source": [
    "model._model.beta.display()"
   ]
  },
  {
   "cell_type": "code",
   "execution_count": null,
   "metadata": {},
   "outputs": [],
   "source": [
    "model._model.Pmax.display()"
   ]
  },
  {
   "cell_type": "code",
   "execution_count": null,
   "metadata": {},
   "outputs": [],
   "source": [
    "model._model.pout.display()"
   ]
  },
  {
   "cell_type": "code",
   "execution_count": null,
   "metadata": {},
   "outputs": [],
   "source": [
    "model._model.z.display()"
   ]
  },
  {
   "cell_type": "code",
   "execution_count": null,
   "metadata": {},
   "outputs": [],
   "source": [
    "model._model.zup.display()"
   ]
  },
  {
   "cell_type": "code",
   "execution_count": null,
   "metadata": {},
   "outputs": [],
   "source": [
    "model._model.pout.display()"
   ]
  },
  {
   "cell_type": "code",
   "execution_count": null,
   "metadata": {},
   "outputs": [],
   "source": [
    "for k,v in model._model.Pmin[\"PAIPA 2\",:].get_item:\n",
    "    print(k, v)"
   ]
  },
  {
   "cell_type": "code",
   "execution_count": null,
   "metadata": {},
   "outputs": [],
   "source": []
  }
 ],
 "metadata": {
  "kernelspec": {
   "display_name": ".env",
   "language": "python",
   "name": "python3"
  },
  "language_info": {
   "codemirror_mode": {
    "name": "ipython",
    "version": 3
   },
   "file_extension": ".py",
   "mimetype": "text/x-python",
   "name": "python",
   "nbconvert_exporter": "python",
   "pygments_lexer": "ipython3",
   "version": "3.11.9"
  }
 },
 "nbformat": 4,
 "nbformat_minor": 2
}

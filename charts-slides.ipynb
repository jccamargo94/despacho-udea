{
 "cells": [
  {
   "cell_type": "code",
   "execution_count": null,
   "metadata": {},
   "outputs": [],
   "source": [
    "from pathlib import Path\n",
    "\n",
    "import pandas as pd\n",
    "import plotly.express as px\n",
    "import plotly.graph_objects as go"
   ]
  },
  {
   "cell_type": "code",
   "execution_count": null,
   "metadata": {},
   "outputs": [],
   "source": [
    "demanda = pd.read_csv(\"data/demaCome.csv\", engine=\"pyarrow\", sep=\",\")\n",
    "demanda = demanda[demanda[\"datetime\"].dt.year == 2024]\n",
    "demanda"
   ]
  },
  {
   "cell_type": "code",
   "execution_count": null,
   "metadata": {},
   "outputs": [],
   "source": [
    "precio_bolsa = pd.read_excel(\n",
    "    \"data/Precio_Bolsa_Nacional_($kwh)_2024.xlsx\",\n",
    "    engine=\"openpyxl\",\n",
    "    parse_dates=[\"Fecha\"],\n",
    ")\n",
    "precio_bolsa = (\n",
    "    precio_bolsa.set_index([\"Fecha\"])\n",
    "    .stack()\n",
    "    .reset_index()\n",
    "    .rename(columns={\"level_1\": \"Hora\", 0: \"Precio\"})\n",
    ")\n",
    "precio_bolsa[\"datetime\"] = pd.to_datetime(precio_bolsa[\"Fecha\"]) + pd.to_timedelta(\n",
    "    precio_bolsa[\"Hora\"].astype(int), unit=\"h\"\n",
    ")\n",
    "precio_bolsa = precio_bolsa[precio_bolsa[\"datetime\"].dt.year == 2024]\n",
    "precio_bolsa"
   ]
  },
  {
   "cell_type": "code",
   "execution_count": null,
   "metadata": {},
   "outputs": [],
   "source": []
  },
  {
   "cell_type": "code",
   "execution_count": null,
   "metadata": {},
   "outputs": [],
   "source": [
    "fig = go.Figure()\n",
    "\n",
    "# Add first plot to the first y-axis\n",
    "fig.add_trace(\n",
    "    go.Scatter(\n",
    "        x=demanda[\"datetime\"],\n",
    "        y=demanda[\"dema\"],\n",
    "        mode=\"lines\",\n",
    "        name=\"Demanda\",\n",
    "        line=dict(color=\"blue\"),\n",
    "        yaxis=\"y1\",\n",
    "    )\n",
    ")\n",
    "\n",
    "# Add second plot to the second y-axis\n",
    "fig.add_trace(\n",
    "    go.Scatter(\n",
    "        x=precio_bolsa[\"datetime\"],\n",
    "        y=precio_bolsa[\"Precio\"],\n",
    "        mode=\"lines\",\n",
    "        name=\"Precio Bolsa\",\n",
    "        line=dict(color=\"red\"),\n",
    "        yaxis=\"y2\",\n",
    "    )\n",
    ")\n",
    "\n",
    "# Update layout for two y-axes\n",
    "fig.update_layout(\n",
    "    yaxis=dict(\n",
    "        title=\"Demanda [kW]\", titlefont=dict(color=\"blue\"), tickfont=dict(color=\"blue\")\n",
    "    ),\n",
    "    yaxis2=dict(\n",
    "        title=\"Precio Bolsa [COP/kWh]\",\n",
    "        titlefont=dict(color=\"red\"),\n",
    "        tickfont=dict(color=\"red\"),\n",
    "        anchor=\"x\",\n",
    "        overlaying=\"y\",\n",
    "        side=\"right\",\n",
    "    ),\n",
    "    xaxis=dict(title=\"Datetime\"),\n",
    "    # title=\"Demanda and Precio Bolsa Over Time\"\n",
    ")\n",
    "\n",
    "fig.show()"
   ]
  },
  {
   "cell_type": "code",
   "execution_count": null,
   "metadata": {},
   "outputs": [],
   "source": []
  }
 ],
 "metadata": {
  "kernelspec": {
   "display_name": ".env",
   "language": "python",
   "name": "python3"
  },
  "language_info": {
   "codemirror_mode": {
    "name": "ipython",
    "version": 3
   },
   "file_extension": ".py",
   "mimetype": "text/x-python",
   "name": "python",
   "nbconvert_exporter": "python",
   "pygments_lexer": "ipython3",
   "version": "3.12.2"
  }
 },
 "nbformat": 4,
 "nbformat_minor": 2
}

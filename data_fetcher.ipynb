{
 "cells": [
  {
   "cell_type": "code",
   "execution_count": 1,
   "metadata": {},
   "outputs": [],
   "source": [
    "from datetime import date\n",
    "\n",
    "from pydataxm import pydataxm\n",
    "import pandas as pd"
   ]
  },
  {
   "cell_type": "code",
   "execution_count": 2,
   "metadata": {},
   "outputs": [],
   "source": [
    "API = pydataxm.ReadDB()"
   ]
  },
  {
   "cell_type": "code",
   "execution_count": 14,
   "metadata": {},
   "outputs": [],
   "source": [
    "df = API.get_collections()\n",
    "\n",
    "# with pd.option_context('display.max_rows', None, 'display.max_columns', None):\n",
    "#     display(df)"
   ]
  },
  {
   "cell_type": "code",
   "execution_count": null,
   "metadata": {},
   "outputs": [],
   "source": [
    "DispoCome = API.request_data(\n",
    "    \"DispoDeclarada\",\n",
    "    \"Recurso\",\n",
    "    date(2023, 6, 1),\n",
    "    date.today(),\n",
    ")"
   ]
  },
  {
   "cell_type": "code",
   "execution_count": 3,
   "metadata": {},
   "outputs": [
    {
     "name": "stderr",
     "output_type": "stream",
     "text": [
      "/home/user/miniconda3/lib/python3.12/site-packages/pydataxm/pydataxm.py:234: FutureWarning: errors='ignore' is deprecated and will raise in a future version. Use to_numeric without passing `errors` and catch exceptions explicitly instead\n",
      "  data[col] = pd.to_numeric(data[col],errors='ignore')\n",
      "/home/user/miniconda3/lib/python3.12/site-packages/pydataxm/pydataxm.py:236: FutureWarning: errors='ignore' is deprecated and will raise in a future version. Use to_datetime without passing `errors` and catch exceptions explicitly instead\n",
      "  data['Date'] = pd.to_datetime(data['Date'],errors='ignore', format= '%Y-%m-%d')\n",
      "/home/user/miniconda3/lib/python3.12/site-packages/pydataxm/pydataxm.py:234: FutureWarning: errors='ignore' is deprecated and will raise in a future version. Use to_numeric without passing `errors` and catch exceptions explicitly instead\n",
      "  data[col] = pd.to_numeric(data[col],errors='ignore')\n",
      "/home/user/miniconda3/lib/python3.12/site-packages/pydataxm/pydataxm.py:236: FutureWarning: errors='ignore' is deprecated and will raise in a future version. Use to_datetime without passing `errors` and catch exceptions explicitly instead\n",
      "  data['Date'] = pd.to_datetime(data['Date'],errors='ignore', format= '%Y-%m-%d')\n"
     ]
    }
   ],
   "source": [
    "recursos = API.request_data(\n",
    "    \"ListadoRecursos\",\n",
    "    \"Sistema\",\n",
    "    date.today(),\n",
    "    date.today(),\n",
    ")\n",
    "company = API.request_data(\n",
    "    \"ListadoAgentes\",\n",
    "    \"Sistema\",\n",
    "    date.today(),\n",
    "    date.today(),\n",
    ")"
   ]
  },
  {
   "cell_type": "code",
   "execution_count": 6,
   "metadata": {},
   "outputs": [],
   "source": [
    "company.to_csv(\"data/company.csv\", index=False)"
   ]
  },
  {
   "cell_type": "code",
   "execution_count": 4,
   "metadata": {},
   "outputs": [
    {
     "data": {
      "text/html": [
       "<div>\n",
       "<style scoped>\n",
       "    .dataframe tbody tr th:only-of-type {\n",
       "        vertical-align: middle;\n",
       "    }\n",
       "\n",
       "    .dataframe tbody tr th {\n",
       "        vertical-align: top;\n",
       "    }\n",
       "\n",
       "    .dataframe thead th {\n",
       "        text-align: right;\n",
       "    }\n",
       "</style>\n",
       "<table border=\"1\" class=\"dataframe\">\n",
       "  <thead>\n",
       "    <tr style=\"text-align: right;\">\n",
       "      <th></th>\n",
       "      <th>resource_code</th>\n",
       "      <th>resource_name</th>\n",
       "      <th>gen_type</th>\n",
       "      <th>dispatched</th>\n",
       "      <th>resource_gen_type</th>\n",
       "      <th>resource_company_code</th>\n",
       "      <th>resource_source</th>\n",
       "      <th>company_code</th>\n",
       "      <th>resource_company_name</th>\n",
       "      <th>company_activity</th>\n",
       "    </tr>\n",
       "  </thead>\n",
       "  <tbody>\n",
       "    <tr>\n",
       "      <th>0</th>\n",
       "      <td>2QBW</td>\n",
       "      <td>EL POPAL</td>\n",
       "      <td>HIDRAULICA</td>\n",
       "      <td>NO DESPACHADO CENTRALMENTE</td>\n",
       "      <td>NORMAL</td>\n",
       "      <td>ISGG</td>\n",
       "      <td>AGUA</td>\n",
       "      <td>ISGG</td>\n",
       "      <td>ISAGEN S.A. E.S.P.</td>\n",
       "      <td>GENERACIÓN</td>\n",
       "    </tr>\n",
       "    <tr>\n",
       "      <th>1</th>\n",
       "      <td>2QEK</td>\n",
       "      <td>SALTO II</td>\n",
       "      <td>HIDRAULICA</td>\n",
       "      <td>DESPACHADO CENTRALMENTE</td>\n",
       "      <td>FILO DE AGUA</td>\n",
       "      <td>ENDG</td>\n",
       "      <td>AGUA</td>\n",
       "      <td>ENDG</td>\n",
       "      <td>ENEL COLOMBIA SA ESP</td>\n",
       "      <td>GENERACIÓN</td>\n",
       "    </tr>\n",
       "    <tr>\n",
       "      <th>2</th>\n",
       "      <td>2QRL</td>\n",
       "      <td>LA REBUSCA</td>\n",
       "      <td>HIDRAULICA</td>\n",
       "      <td>NO DESPACHADO CENTRALMENTE</td>\n",
       "      <td>GEN. DISTRIBUIDA</td>\n",
       "      <td>HZEG</td>\n",
       "      <td>AGUA</td>\n",
       "      <td>HZEG</td>\n",
       "      <td>HZ ENERGY S.A.S. E.S.P.</td>\n",
       "      <td>GENERACIÓN</td>\n",
       "    </tr>\n",
       "    <tr>\n",
       "      <th>3</th>\n",
       "      <td>2QV2</td>\n",
       "      <td>BAJO TULUA</td>\n",
       "      <td>HIDRAULICA</td>\n",
       "      <td>NO DESPACHADO CENTRALMENTE</td>\n",
       "      <td>NORMAL</td>\n",
       "      <td>EPSG</td>\n",
       "      <td>AGUA</td>\n",
       "      <td>EPSG</td>\n",
       "      <td>CELSIA COLOMBIA S.A. E.S.P.</td>\n",
       "      <td>GENERACIÓN</td>\n",
       "    </tr>\n",
       "    <tr>\n",
       "      <th>4</th>\n",
       "      <td>2R22</td>\n",
       "      <td>LAGUNETA</td>\n",
       "      <td>HIDRAULICA</td>\n",
       "      <td>NO DESPACHADO CENTRALMENTE</td>\n",
       "      <td>NORMAL</td>\n",
       "      <td>ENDG</td>\n",
       "      <td>AGUA</td>\n",
       "      <td>ENDG</td>\n",
       "      <td>ENEL COLOMBIA SA ESP</td>\n",
       "      <td>GENERACIÓN</td>\n",
       "    </tr>\n",
       "    <tr>\n",
       "      <th>...</th>\n",
       "      <td>...</td>\n",
       "      <td>...</td>\n",
       "      <td>...</td>\n",
       "      <td>...</td>\n",
       "      <td>...</td>\n",
       "      <td>...</td>\n",
       "      <td>...</td>\n",
       "      <td>...</td>\n",
       "      <td>...</td>\n",
       "      <td>...</td>\n",
       "    </tr>\n",
       "    <tr>\n",
       "      <th>835</th>\n",
       "      <td>VNTB</td>\n",
       "      <td>VENTANA B</td>\n",
       "      <td>HIDRAULICA</td>\n",
       "      <td>NO DESPACHADO CENTRALMENTE</td>\n",
       "      <td>NORMAL</td>\n",
       "      <td>HDTG</td>\n",
       "      <td>AGUA</td>\n",
       "      <td>HDTG</td>\n",
       "      <td>HIDROTOLIMA S.A. E.S.P.</td>\n",
       "      <td>GENERACIÓN</td>\n",
       "    </tr>\n",
       "    <tr>\n",
       "      <th>836</th>\n",
       "      <td>ZPA2</td>\n",
       "      <td>ZIPAEMG 2</td>\n",
       "      <td>TERMICA</td>\n",
       "      <td>DESPACHADO CENTRALMENTE</td>\n",
       "      <td>NORMAL</td>\n",
       "      <td>ENDG</td>\n",
       "      <td>CARBON</td>\n",
       "      <td>ENDG</td>\n",
       "      <td>ENEL COLOMBIA SA ESP</td>\n",
       "      <td>GENERACIÓN</td>\n",
       "    </tr>\n",
       "    <tr>\n",
       "      <th>837</th>\n",
       "      <td>ZPA3</td>\n",
       "      <td>ZIPAEMG 3</td>\n",
       "      <td>TERMICA</td>\n",
       "      <td>DESPACHADO CENTRALMENTE</td>\n",
       "      <td>NORMAL</td>\n",
       "      <td>ENDG</td>\n",
       "      <td>CARBON</td>\n",
       "      <td>ENDG</td>\n",
       "      <td>ENEL COLOMBIA SA ESP</td>\n",
       "      <td>GENERACIÓN</td>\n",
       "    </tr>\n",
       "    <tr>\n",
       "      <th>838</th>\n",
       "      <td>ZPA4</td>\n",
       "      <td>ZIPAEMG 4</td>\n",
       "      <td>TERMICA</td>\n",
       "      <td>DESPACHADO CENTRALMENTE</td>\n",
       "      <td>NORMAL</td>\n",
       "      <td>ENDG</td>\n",
       "      <td>CARBON</td>\n",
       "      <td>ENDG</td>\n",
       "      <td>ENEL COLOMBIA SA ESP</td>\n",
       "      <td>GENERACIÓN</td>\n",
       "    </tr>\n",
       "    <tr>\n",
       "      <th>839</th>\n",
       "      <td>ZPA5</td>\n",
       "      <td>ZIPAEMG 5</td>\n",
       "      <td>TERMICA</td>\n",
       "      <td>DESPACHADO CENTRALMENTE</td>\n",
       "      <td>NORMAL</td>\n",
       "      <td>ENDG</td>\n",
       "      <td>CARBON</td>\n",
       "      <td>ENDG</td>\n",
       "      <td>ENEL COLOMBIA SA ESP</td>\n",
       "      <td>GENERACIÓN</td>\n",
       "    </tr>\n",
       "  </tbody>\n",
       "</table>\n",
       "<p>840 rows × 10 columns</p>\n",
       "</div>"
      ],
      "text/plain": [
       "    resource_code resource_name    gen_type                  dispatched  \\\n",
       "0            2QBW      EL POPAL  HIDRAULICA  NO DESPACHADO CENTRALMENTE   \n",
       "1            2QEK      SALTO II  HIDRAULICA     DESPACHADO CENTRALMENTE   \n",
       "2            2QRL    LA REBUSCA  HIDRAULICA  NO DESPACHADO CENTRALMENTE   \n",
       "3            2QV2    BAJO TULUA  HIDRAULICA  NO DESPACHADO CENTRALMENTE   \n",
       "4            2R22      LAGUNETA  HIDRAULICA  NO DESPACHADO CENTRALMENTE   \n",
       "..            ...           ...         ...                         ...   \n",
       "835          VNTB     VENTANA B  HIDRAULICA  NO DESPACHADO CENTRALMENTE   \n",
       "836          ZPA2     ZIPAEMG 2     TERMICA     DESPACHADO CENTRALMENTE   \n",
       "837          ZPA3     ZIPAEMG 3     TERMICA     DESPACHADO CENTRALMENTE   \n",
       "838          ZPA4     ZIPAEMG 4     TERMICA     DESPACHADO CENTRALMENTE   \n",
       "839          ZPA5     ZIPAEMG 5     TERMICA     DESPACHADO CENTRALMENTE   \n",
       "\n",
       "    resource_gen_type resource_company_code resource_source company_code  \\\n",
       "0              NORMAL                  ISGG            AGUA         ISGG   \n",
       "1        FILO DE AGUA                  ENDG            AGUA         ENDG   \n",
       "2    GEN. DISTRIBUIDA                  HZEG            AGUA         HZEG   \n",
       "3              NORMAL                  EPSG            AGUA         EPSG   \n",
       "4              NORMAL                  ENDG            AGUA         ENDG   \n",
       "..                ...                   ...             ...          ...   \n",
       "835            NORMAL                  HDTG            AGUA         HDTG   \n",
       "836            NORMAL                  ENDG          CARBON         ENDG   \n",
       "837            NORMAL                  ENDG          CARBON         ENDG   \n",
       "838            NORMAL                  ENDG          CARBON         ENDG   \n",
       "839            NORMAL                  ENDG          CARBON         ENDG   \n",
       "\n",
       "           resource_company_name company_activity  \n",
       "0             ISAGEN S.A. E.S.P.       GENERACIÓN  \n",
       "1           ENEL COLOMBIA SA ESP       GENERACIÓN  \n",
       "2        HZ ENERGY S.A.S. E.S.P.       GENERACIÓN  \n",
       "3    CELSIA COLOMBIA S.A. E.S.P.       GENERACIÓN  \n",
       "4           ENEL COLOMBIA SA ESP       GENERACIÓN  \n",
       "..                           ...              ...  \n",
       "835      HIDROTOLIMA S.A. E.S.P.       GENERACIÓN  \n",
       "836         ENEL COLOMBIA SA ESP       GENERACIÓN  \n",
       "837         ENEL COLOMBIA SA ESP       GENERACIÓN  \n",
       "838         ENEL COLOMBIA SA ESP       GENERACIÓN  \n",
       "839         ENEL COLOMBIA SA ESP       GENERACIÓN  \n",
       "\n",
       "[840 rows x 10 columns]"
      ]
     },
     "execution_count": 4,
     "metadata": {},
     "output_type": "execute_result"
    }
   ],
   "source": [
    "indx_cols = [\"Id\", \"Values_OperStartdate\", \"Values_State\", \"Date\"]\n",
    "recursos = recursos[[col for col in recursos.columns if col not in indx_cols]]\n",
    "company = company[[col for col in company.columns if col not in indx_cols]]\n",
    "agentes_company = recursos.merge(\n",
    "    company,\n",
    "    left_on=\"Values_CompanyCode\",\n",
    "    right_on=\"Values_Code\",\n",
    "    how=\"left\",\n",
    "    suffixes=(\"_resource\", \"_company\"),\n",
    ")\n",
    "agentes_company.columns = [\n",
    "    \"resource_code\",\n",
    "    \"resource_name\",\n",
    "    \"gen_type\",\n",
    "    \"dispatched\",\n",
    "    \"resource_gen_type\",\n",
    "    \"resource_company_code\",\n",
    "    \"resource_source\",\n",
    "    \"company_code\",\n",
    "    \"resource_company_name\",\n",
    "    \"company_activity\",\n",
    "]\n",
    "agentes_company.to_csv(\"data/agentes_company.csv\", index=False)\n",
    "agentes_company"
   ]
  },
  {
   "cell_type": "markdown",
   "metadata": {},
   "source": []
  },
  {
   "cell_type": "code",
   "execution_count": null,
   "metadata": {},
   "outputs": [],
   "source": [
    "DispoCome_ = DispoCome.copy()\n",
    "mapper = {f\"Values_Hour{i+1:0>2}\": i for i in range(24)}\n",
    "indx = [\"Id\", \"Values_code\", \"Date\"]\n",
    "DispoCome_.set_index(indx, inplace=True)\n",
    "DispoCome_ = DispoCome_.rename(columns=mapper)\n",
    "DispoCome_ = DispoCome_.stack().reset_index()\n",
    "DispoCome_.columns = [*indx, \"hora\", \"dispo\"]\n",
    "DispoCome_[\"datetime\"] = pd.to_datetime(DispoCome_[\"Date\"]) + pd.to_timedelta(\n",
    "    DispoCome_[\"hora\"], unit=\"h\"\n",
    ")\n",
    "DispoCome_"
   ]
  },
  {
   "cell_type": "code",
   "execution_count": null,
   "metadata": {},
   "outputs": [],
   "source": [
    "DispoCome_resource = DispoCome_.merge(\n",
    "    agentes_company, left_on=\"Values_code\", right_on=\"resource_code\", how=\"left\"\n",
    ")\n",
    "DispoCome_resource"
   ]
  },
  {
   "cell_type": "code",
   "execution_count": 21,
   "metadata": {},
   "outputs": [],
   "source": [
    "DispoCome_resource.to_csv(\"data/dispo_declarada.csv\", index=False)"
   ]
  },
  {
   "cell_type": "markdown",
   "metadata": {},
   "source": [
    "# 3. Demanda Comercial"
   ]
  },
  {
   "cell_type": "code",
   "execution_count": 1,
   "metadata": {},
   "outputs": [],
   "source": [
    "from pydataxm import pydataxm\n",
    "from datetime import date\n",
    "import pandas as pd\n",
    "\n",
    "API = pydataxm.ReadDB()"
   ]
  },
  {
   "cell_type": "code",
   "execution_count": null,
   "metadata": {},
   "outputs": [],
   "source": [
    "demaCome = API.request_data(\n",
    "    \"DemaCome\",\n",
    "    \"Sistema\",\n",
    "    date(2023, 1, 1),\n",
    "    date.today(),\n",
    ")"
   ]
  },
  {
   "cell_type": "code",
   "execution_count": 27,
   "metadata": {},
   "outputs": [],
   "source": [
    "demaCome_ = demaCome.copy()\n",
    "demaCome_.set_index([\"Id\", \"Values_code\", \"Date\"], inplace=True)\n",
    "demaCome_.columns = range(24)\n",
    "demaCome_ = demaCome_.stack().reset_index()\n",
    "demaCome_.columns = [\"Id\", \"Values_code\", \"Date\", \"hora\", \"dema\"]\n",
    "demaCome_[\"datetime\"] = pd.to_datetime(demaCome_[\"Date\"]) + pd.to_timedelta(\n",
    "    demaCome_[\"hora\"], unit=\"h\"\n",
    ")\n",
    "demaCome_.sort_values([\"datetime\"], inplace=True)\n",
    "demaCome_ = demaCome_[[\"datetime\", \"dema\"]]\n",
    "demaCome_.to_csv(\"data/demaCome.csv\", index=False)"
   ]
  },
  {
   "cell_type": "code",
   "execution_count": null,
   "metadata": {},
   "outputs": [],
   "source": [
    "import plotly.express as px\n",
    "\n",
    "px.line(\n",
    "    demaCome_,\n",
    "    x=\"datetime\",\n",
    "    y=\"dema\",\n",
    "    color=\"Values_code\",\n",
    "    title=\"Demanda de energía\",\n",
    "    labels={\n",
    "        \"dema\": \"Demanda [MW]\",\n",
    "        \"datetime\": \"Fecha y hora\",\n",
    "        \"Values_code\": \"Código\",\n",
    "    },\n",
    ")"
   ]
  },
  {
   "cell_type": "code",
   "execution_count": null,
   "metadata": {},
   "outputs": [],
   "source": [
    "df = API.get_collections()\n",
    "\n",
    "df[df[\"MetricDescription\"].str.lower().str.contains(\"reg\")]"
   ]
  },
  {
   "cell_type": "code",
   "execution_count": null,
   "metadata": {},
   "outputs": [],
   "source": [
    "API.request_data(\n",
    "    \"RespComerAGC\",\n",
    "    \"Sistema\",\n",
    "    date(2024, 2, 15),\n",
    "    date(2024, 2, 15),\n",
    ")"
   ]
  },
  {
   "cell_type": "code",
   "execution_count": null,
   "metadata": {},
   "outputs": [],
   "source": [
    "with pd.option_context(\"display.max_rows\", None, \"display.max_columns\", None):\n",
    "    display(df)"
   ]
  },
  {
   "cell_type": "code",
   "execution_count": null,
   "metadata": {},
   "outputs": [],
   "source": [
    "df_[df_[\"Values_code\"] == \"MOY1\"]"
   ]
  },
  {
   "cell_type": "markdown",
   "metadata": {},
   "source": [
    "# 4. AGC Asignado"
   ]
  },
  {
   "cell_type": "code",
   "execution_count": null,
   "metadata": {},
   "outputs": [],
   "source": [
    "agc_df = pd.read_excel(\"data/AGC_Programado_(kWh)_2024.xlsx\", parse_dates=[\"Fecha\"])\n",
    "agc_df = agc_df.fillna(0)\n",
    "agc_df.set_index([\"Fecha\", \"Recurso\", \"Código Agente\"], inplace=True)\n",
    "agc_df = agc_df.stack().reset_index()\n",
    "agc_df.columns = [\"fecha\", \"recurso\", \"codigo_agente\", \"hora\", \"agc\"]\n",
    "agc_df[\"datetime\"] = pd.to_datetime(agc_df[\"fecha\"]) + pd.to_timedelta(\n",
    "    agc_df[\"hora\"], unit=\"h\"\n",
    ")\n",
    "agc_df[\"agc\"] = agc_df[\"agc\"].astype(float)\n",
    "agc_df"
   ]
  },
  {
   "cell_type": "code",
   "execution_count": 16,
   "metadata": {},
   "outputs": [],
   "source": [
    "agc_df.to_csv(\"data/agc_asignado.csv\", index=False)"
   ]
  },
  {
   "cell_type": "code",
   "execution_count": null,
   "metadata": {},
   "outputs": [],
   "source": []
  }
 ],
 "metadata": {
  "kernelspec": {
   "display_name": "base",
   "language": "python",
   "name": "python3"
  },
  "language_info": {
   "codemirror_mode": {
    "name": "ipython",
    "version": 3
   },
   "file_extension": ".py",
   "mimetype": "text/x-python",
   "name": "python",
   "nbconvert_exporter": "python",
   "pygments_lexer": "ipython3",
   "version": "3.12.2"
  }
 },
 "nbformat": 4,
 "nbformat_minor": 2
}

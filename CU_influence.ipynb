{
 "cells": [
  {
   "cell_type": "code",
   "execution_count": null,
   "metadata": {},
   "outputs": [],
   "source": [
    "import pandas as pd\n",
    "import numpy as np"
   ]
  },
  {
   "cell_type": "code",
   "execution_count": null,
   "metadata": {},
   "outputs": [],
   "source": [
    "companies = pd.read_csv('data/company.csv', engine=\"pyarrow\", sep=\",\")"
   ]
  },
  {
   "cell_type": "code",
   "execution_count": null,
   "metadata": {},
   "outputs": [],
   "source": [
    "compras_bolsa = pd.read_excel('data/Compras_Bolsa_Nacional_(kWh)_2024.xlsx', engine=\"openpyxl\", skiprows=2)\n",
    "compras_contratos = pd.read_excel('data/Compras_Contrato_(kWh)_2024.xlsx', engine=\"openpyxl\", skiprows=2)\n"
   ]
  },
  {
   "cell_type": "code",
   "execution_count": null,
   "metadata": {},
   "outputs": [],
   "source": [
    "ccompras_contratos_ = compras_contratos.fillna(0)\n",
    "ccompras_contratos_ = ccompras_contratos_.drop(\"Version\", axis=1)\n",
    "ccompras_contratos_ = ccompras_contratos_.set_index([\"Fecha\", \"Código Agente\",\"Mercado\"]).stack().reset_index()\n",
    "ccompras_contratos_.columns = [\"date\", \"agent_code\", \"mercado\",\"hour\", \"compras_contrato\"]\n",
    "ccompras_contratos_ = ccompras_contratos_.astype({\"hour\": int, \"compras_contrato\":float})\n",
    "ccompras_contratos_ = ccompras_contratos_.merge(\n",
    "    companies,\n",
    "    left_on=\"agent_code\",\n",
    "    right_on=\"Values_Code\",\n",
    "    how=\"left\"\n",
    ")\n",
    "ccompras_contratos_ = ccompras_contratos_.query(\"mercado == 'REGULADO'\")\n",
    "ccompras_contratos_[\"date\"] = pd.to_datetime(ccompras_contratos_[\"date\"])"
   ]
  },
  {
   "cell_type": "code",
   "execution_count": null,
   "metadata": {},
   "outputs": [],
   "source": [
    "compras_bolsa_ = compras_bolsa.fillna(0)\n",
    "compras_bolsa_ = compras_bolsa_.drop(\"Version\", axis=1)\n",
    "compras_bolsa_ = compras_bolsa_.set_index([\"Fecha\", \"Código Agente\",]).stack().reset_index()\n",
    "compras_bolsa_.columns = [\"date\", \"agent_code\", \"hour\", \"compras_bolsa\"]\n",
    "compras_bolsa_ = compras_bolsa_.astype({\"hour\": int, \"compras_bolsa\":float})\n",
    "compras_bolsa_ = compras_bolsa_.merge(\n",
    "    companies,\n",
    "    left_on=\"agent_code\",\n",
    "    right_on=\"Values_Code\",\n",
    "    how=\"left\"\n",
    ")\n",
    "\n",
    "compras_bolsa_[\"date\"] = pd.to_datetime(compras_bolsa_[\"date\"])"
   ]
  },
  {
   "cell_type": "code",
   "execution_count": null,
   "metadata": {},
   "outputs": [],
   "source": [
    "ccompras_contratos_bolsa = ccompras_contratos_.merge(\n",
    "    compras_bolsa_[[\"date\", \"agent_code\", \"hour\", \"compras_bolsa\"]],\n",
    "    on=[\"date\", \"agent_code\", \"hour\"],\n",
    "    how=\"left\"\n",
    ")\n",
    "ccompras_contratos_bolsa[\"datetime\"] = ccompras_contratos_bolsa[\"date\"] + pd.to_timedelta(ccompras_contratos_bolsa[\"hour\"], unit=\"h\")\n",
    "ccompras_contratos_bolsa"
   ]
  },
  {
   "cell_type": "code",
   "execution_count": null,
   "metadata": {},
   "outputs": [],
   "source": [
    "ccompras_contratos_bolsa"
   ]
  },
  {
   "cell_type": "code",
   "execution_count": null,
   "metadata": {},
   "outputs": [],
   "source": [
    "ccompras_contratos_bolsa_agg = ccompras_contratos_bolsa.groupby([\"agent_code\", ccompras_contratos_bolsa[\"date\"].dt.month]).agg({\n",
    "    # \"date\": \"min\",\n",
    "    \"compras_bolsa\": \"sum\",\n",
    "    \"compras_contrato\": \"sum\",\n",
    "}).reset_index()\n",
    "ccompras_contratos_bolsa_agg[\"exposicion_bolsa\"] = ccompras_contratos_bolsa_agg[\"compras_bolsa\"].div(ccompras_contratos_bolsa_agg[\"compras_contrato\"] + ccompras_contratos_bolsa_agg[\"compras_bolsa\"])\n",
    "ccompras_contratos_bolsa_agg"
   ]
  },
  {
   "cell_type": "markdown",
   "metadata": {},
   "source": [
    "# 2. Precio Bolsa"
   ]
  },
  {
   "cell_type": "code",
   "execution_count": null,
   "metadata": {},
   "outputs": [],
   "source": [
    "pb = pd.read_csv(\"differences_for_month_4.csv\", sep=\",\", engine=\"pyarrow\", parse_dates=[\"datetime\"])"
   ]
  },
  {
   "cell_type": "code",
   "execution_count": null,
   "metadata": {},
   "outputs": [],
   "source": [
    "ccompras_contratos_bolsa_pb = ccompras_contratos_bolsa.merge(\n",
    "    pb, on=\"datetime\"\n",
    ")\n",
    "ccompras_contratos_bolsa_pb = ccompras_contratos_bolsa_pb.fillna(0)\n",
    "ccompras_contratos_bolsa_pb"
   ]
  },
  {
   "cell_type": "code",
   "execution_count": null,
   "metadata": {},
   "outputs": [],
   "source": [
    "ccompras_contratos_bolsa_pb[\"pb_agent_XM\"] = ccompras_contratos_bolsa_pb[\"MPO preideal XM\"] * ccompras_contratos_bolsa_pb[\"compras_bolsa\"]\n",
    "ccompras_contratos_bolsa_pb[\"pb_agent_model\"] = ccompras_contratos_bolsa_pb[\"MPO preideal Modelo - DERs None\"] * ccompras_contratos_bolsa_pb[\"compras_bolsa\"]\n",
    "ccompras_contratos_bolsa_pb[\"pb_agent_model_DERS\"] = ccompras_contratos_bolsa_pb[\"MPO preideal Modelo - DERs 2025\"] * ccompras_contratos_bolsa_pb[\"compras_bolsa\"]\n",
    "ccompras_contratos_bolsa_pb[\"pb_agent_model_bess\"] = ccompras_contratos_bolsa_pb[\"MPO bess_preideal_resource Modelo - DERs None\"] * ccompras_contratos_bolsa_pb[\"compras_bolsa\"]\n",
    "ccompras_contratos_bolsa_pb[\"pb_agent_model_bess_DERS\"] = ccompras_contratos_bolsa_pb[\"MPO bess_preideal_resource Modelo - DERs 2025\"] * ccompras_contratos_bolsa_pb[\"compras_bolsa\"]\n",
    "ccompras_contratos_bolsa_pb"
   ]
  },
  {
   "cell_type": "code",
   "execution_count": null,
   "metadata": {},
   "outputs": [],
   "source": [
    "result = ccompras_contratos_bolsa_pb.groupby(\"agent_code\").agg({\n",
    "    \"pb_agent_XM\": \"sum\",\n",
    "    \"pb_agent_model\": \"sum\",\n",
    "    \"pb_agent_model_DERS\": \"sum\",\n",
    "    \"pb_agent_model_bess\": \"sum\",\n",
    "    \"pb_agent_model_bess_DERS\": \"sum\",\n",
    "    \"compras_bolsa\": \"sum\",\n",
    "}).reset_index()\n",
    "\n",
    "result[\"pb_agent_xm_ratio\"] = (result[\"pb_agent_XM\"] / result[\"compras_bolsa\"]) * 1E-3\n",
    "result[\"pb_agent_model_ratio\"] = (result[\"pb_agent_model\"] / result[\"compras_bolsa\"]) * 1E-3\n",
    "result[\"pb_agent_model_DERS_ratio\"] = (result[\"pb_agent_model_DERS\"] / result[\"compras_bolsa\"]) * 1E-3\n",
    "result[\"pb_agent_model_bess_ratio\"] = (result[\"pb_agent_model_bess\"] / result[\"compras_bolsa\"]) * 1E-3\n",
    "result[\"pb_agent_model_bess_DERS_ratio\"] = (result[\"pb_agent_model_bess_DERS\"] / result[\"compras_bolsa\"]) * 1E-3\n",
    "result"
   ]
  },
  {
   "cell_type": "code",
   "execution_count": null,
   "metadata": {
    "vscode": {
     "languageId": "javascript"
    }
   },
   "outputs": [],
   "source": [
    "result_merge_bolsa_expo = result.merge(\n",
    "    ccompras_contratos_bolsa_agg.query(\"date == 4\")[[\"agent_code\", \"exposicion_bolsa\"]],\n",
    "    on=\"agent_code\", how=\"left\"\n",
    ")\n",
    "result_merge_bolsa_expo"
   ]
  },
  {
   "cell_type": "code",
   "execution_count": null,
   "metadata": {
    "vscode": {
     "languageId": "javascript"
    }
   },
   "outputs": [],
   "source": [
    "result_merge_bolsa_expo[\"Gm_xm\"] = result_merge_bolsa_expo[\"pb_agent_xm_ratio\"] *  result_merge_bolsa_expo[\"exposicion_bolsa\"]  \n",
    "result_merge_bolsa_expo[\"Gm_model\"] = result_merge_bolsa_expo[\"pb_agent_model_ratio\"] *  result_merge_bolsa_expo[\"exposicion_bolsa\"]  \n",
    "result_merge_bolsa_expo[\"Gm_model_DERs\"] = result_merge_bolsa_expo[\"pb_agent_model_DERS_ratio\"] *  result_merge_bolsa_expo[\"exposicion_bolsa\"]  \n",
    "result_merge_bolsa_expo[\"Gm_model_BESS\"] = result_merge_bolsa_expo[\"pb_agent_model_bess_ratio\"] *  result_merge_bolsa_expo[\"exposicion_bolsa\"]  \n",
    "result_merge_bolsa_expo[\"Gm_model_BESS_DERs\"] = result_merge_bolsa_expo[\"pb_agent_model_bess_DERS_ratio\"] *  result_merge_bolsa_expo[\"exposicion_bolsa\"]  \n",
    "result_merge_bolsa_expo"
   ]
  },
  {
   "cell_type": "code",
   "execution_count": null,
   "metadata": {
    "vscode": {
     "languageId": "javascript"
    }
   },
   "outputs": [],
   "source": [
    "result_merge_bolsa_expo[[\"agent_code\"]+[col for col in result_merge_bolsa_expo if \"Gm\" in col]].describe()"
   ]
  },
  {
   "cell_type": "code",
   "execution_count": null,
   "metadata": {
    "vscode": {
     "languageId": "javascript"
    }
   },
   "outputs": [],
   "source": [
    "result_merge_bolsa_expo[[\"agent_code\"]+[col for col in result_merge_bolsa_expo if \"Gm\" in col]].head()"
   ]
  },
  {
   "cell_type": "code",
   "execution_count": null,
   "metadata": {
    "vscode": {
     "languageId": "javascript"
    }
   },
   "outputs": [],
   "source": [
    "df = pd.read_excel(\"data/dema_come_agent_SEME1_2024.xlsx\", skiprows=2, parse_dates=[\"Fecha\"])\n"
   ]
  },
  {
   "cell_type": "code",
   "execution_count": null,
   "metadata": {
    "vscode": {
     "languageId": "javascript"
    }
   },
   "outputs": [],
   "source": [
    "result_merge_bolsa_expo[\"delta_bess\"] = result_merge_bolsa_expo[\"Gm_model\"] - result_merge_bolsa_expo[\"Gm_model_BESS\"]\n"
   ]
  },
  {
   "cell_type": "code",
   "execution_count": null,
   "metadata": {},
   "outputs": [],
   "source": [
    "df_ = df.copy()\n",
    "df_ = df_[\n",
    "    (df_[\"Mercado\"]==\"REGULADO\") &\n",
    "    (df_[\"Fecha\"].dt.month == 4)\n",
    "]\n",
    "df_ = df_.set_index([\"Fecha\", \"Codigo Comercializador\", \"Mercado\", \"Version\"]).sum(axis=1).reset_index()\n",
    "df_\n",
    "df_ = df_.reset_index().groupby([\"Codigo Comercializador\"]).agg({0: \"sum\"})\n",
    "result_merge_bolsa_expo = result_merge_bolsa_expo.merge(\n",
    "    df_.reset_index(),\n",
    "    left_on=\"agent_code\", right_on=\"Codigo Comercializador\", how=\"left\"\n",
    ")\n"
   ]
  },
  {
   "cell_type": "code",
   "execution_count": null,
   "metadata": {},
   "outputs": [],
   "source": [
    "result_merge_bolsa_expo[\"beneficio\"] = abs(result_merge_bolsa_expo[\"delta_bess\"] * result_merge_bolsa_expo[0]).fillna(0)\n",
    "beneficio = result_merge_bolsa_expo.beneficio.sum()\n",
    "print(f\"Beneficio: {beneficio*1E-6:,.2f} [MCOP/mes]\")"
   ]
  },
  {
   "cell_type": "code",
   "execution_count": null,
   "metadata": {},
   "outputs": [],
   "source": [
    "fig = px.scatter(\n",
    "    result_merge_bolsa_expo,\n",
    "    x=\"delta_bess\",\n",
    "    y=\"exposicion_bolsa\",\n",
    "    color=\"beneficio\",\n",
    "    # size=\"beneficio\",\n",
    ")\n",
    "fig.update_layout({\n",
    "    \"title\": \"Beneficio vs Exposición Bolsa\",\n",
    "    \"xaxis_title\": \"Beneficio [MCOP/mes]\",\n",
    "    \"yaxis_title\": \"Exposición Bolsa\",\n",
    "})"
   ]
  },
  {
   "cell_type": "code",
   "execution_count": null,
   "metadata": {},
   "outputs": [],
   "source": [
    "result_merge_bolsa_expo.columns.to_list()"
   ]
  },
  {
   "cell_type": "code",
   "execution_count": null,
   "metadata": {},
   "outputs": [],
   "source": []
  }
 ],
 "metadata": {
  "kernelspec": {
   "display_name": ".env",
   "language": "python",
   "name": "python3"
  },
  "language_info": {
   "codemirror_mode": {
    "name": "ipython",
    "version": 3
   },
   "file_extension": ".py",
   "mimetype": "text/x-python",
   "name": "python",
   "nbconvert_exporter": "python",
   "pygments_lexer": "ipython3",
   "version": "3.12.2"
  }
 },
 "nbformat": 4,
 "nbformat_minor": 2
}

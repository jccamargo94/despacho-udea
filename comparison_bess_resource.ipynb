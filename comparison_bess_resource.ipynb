{
 "cells": [
  {
   "cell_type": "code",
   "execution_count": null,
   "metadata": {},
   "outputs": [],
   "source": [
    "from datetime import date\n",
    "from itertools import product\n",
    "\n",
    "import pandas as pd\n",
    "import plotly.express as px\n",
    "import plotly.graph_objects as go\n",
    "from sklearn.metrics import mean_absolute_percentage_error, mean_squared_error\n",
    "\n",
    "from app.model import DispatchConfig\n",
    "from run_dispatch import run_dispatch"
   ]
  },
  {
   "cell_type": "code",
   "execution_count": null,
   "metadata": {},
   "outputs": [],
   "source": [
    "# DATES = pd.date_range(\n",
    "#     start=\"2024-05-01\",\n",
    "#     end=\"2024-05-31\",\n",
    "#     inclusive=\"both\"\n",
    "# )\n",
    "DATES = [\n",
    "    pd.Timestamp(\"2024-01-01\"),\n",
    "    pd.Timestamp(\"2024-10-13\"),\n",
    "    pd.Timestamp(\"2024-04-28\"),\n",
    "    pd.Timestamp(\"2024-03-29\"),\n",
    "    pd.Timestamp(\"2024-01-07\"),\n",
    "    pd.Timestamp(\"2024-06-09\"),\n",
    "    pd.Timestamp(\"2024-09-30\"),\n",
    "]\n",
    "CONFIGS = [\n",
    "    \"preideal\",\n",
    "    # \"bess_preideal\",\n",
    "    \"bess_preideal_resource\",\n",
    "]\n",
    "\n",
    "BESS_VALUES = {\n",
    "    \"BESS_1\": {\n",
    "        \"MWh_nom\": 10000,\n",
    "        \"hours_to_deplete\": 2,\n",
    "        \"efficiency\": 0.9,\n",
    "        \"min_soc\": 0.05,\n",
    "        \"max_soc\": 0.98,\n",
    "        \"initial_soc\": 0.05,\n",
    "        \"charge_bid\": 0,\n",
    "        \"discharge_bid\": 0,\n",
    "    },\n",
    "}\n"
   ]
  },
  {
   "cell_type": "code",
   "execution_count": null,
   "metadata": {},
   "outputs": [],
   "source": [
    "\n",
    "output_unstacked = pd.DataFrame()\n",
    "for (date_, dispatch_type) in product(DATES,CONFIGS):\n",
    "    BESS = BESS_VALUES if \"bess\" in dispatch_type.lower() else None\n",
    "    mpo = run_dispatch(DispatchConfig(dispatch_type=dispatch_type), DISPATCH_DATE=date_.date(), show_figs=True, BESS=BESS)\n",
    "    # mpo[\"dispatch_type\"] = dispatch_typex\n",
    "    output_unstacked = pd.concat([output_unstacked, mpo])\n",
    "output = output_unstacked.stack().reset_index()\n",
    "output.columns = [\"datetime\", \"source\", \"MPO\"]\n",
    "output.drop_duplicates(inplace=True)"
   ]
  },
  {
   "cell_type": "code",
   "execution_count": null,
   "metadata": {},
   "outputs": [],
   "source": [
    "output"
   ]
  },
  {
   "cell_type": "code",
   "execution_count": null,
   "metadata": {},
   "outputs": [],
   "source": [
    "mapper = {\n",
    "    \"MPO preideal Modelo - DERs None\": \"MPO Modelo\",\n",
    "    \"MPO bess_preideal_resource Modelo - DERs None\": \"MPO SAEB recurso\",\n",
    "}\n",
    "\n",
    "output[\"source\"] = output[\"source\"].apply(lambda x: mapper.get(x,x))\n",
    "output_ = output[output[\"source\"].isin(list(mapper.values()))]"
   ]
  },
  {
   "cell_type": "code",
   "execution_count": null,
   "metadata": {},
   "outputs": [],
   "source": [
    "output"
   ]
  },
  {
   "cell_type": "code",
   "execution_count": null,
   "metadata": {},
   "outputs": [],
   "source": [
    "from plotly.subplots import make_subplots\n",
    "\n",
    "# Create subplots: 2 columns and 4 rows, with the last row spanning both columns\n",
    "fig = make_subplots(\n",
    "    rows=4, cols=2,\n",
    "    specs=[[{}, {}],\n",
    "           [{}, {}],\n",
    "           [{}, {}],\n",
    "           [{\"colspan\": 2}, None]],\n",
    "    subplot_titles=[str(date.date()) for date in DATES]\n",
    ")\n",
    "\n",
    "# Add traces to the subplots\n",
    "for i, (date, serie) in enumerate(output_.groupby(output_[\"datetime\"].dt.date)):\n",
    "    row = i // 2 + 1\n",
    "    col = i % 2 + 1\n",
    "    showlegend = True if i == 0 else False\n",
    "    for trace in px.line(serie, x=\"datetime\", y=\"MPO\", color=\"source\").data:\n",
    "        trace.showlegend = showlegend\n",
    "        fig.add_trace(trace, row=row, col=col)\n",
    "\n",
    "# Update layout\n",
    "fig.update_layout(\n",
    "    height=1200, width=800,\n",
    "    showlegend=True,\n",
    "    # xaxis=dict(showgrid=True, dtick=3_600_000,),\n",
    "\n",
    ")\n",
    "\n",
    "fig.show()"
   ]
  },
  {
   "cell_type": "code",
   "execution_count": null,
   "metadata": {},
   "outputs": [],
   "source": [
    "with pd.option_context(\"display.max_rows\", None):\n",
    "    display(output[output[\"datetime\"].dt.date == DATES[0].date()])"
   ]
  },
  {
   "cell_type": "code",
   "execution_count": null,
   "metadata": {},
   "outputs": [],
   "source": [
    "output_unstacked = output.pivot(index=\"datetime\", columns=\"source\", values=\"MPO\")"
   ]
  },
  {
   "cell_type": "code",
   "execution_count": null,
   "metadata": {},
   "outputs": [],
   "source": [
    "# Group by days and apply the mean_absolute_percentage_error function\n",
    "grouped = output_unstacked.groupby(output_unstacked.index.date).apply(\n",
    "    lambda x: mean_absolute_percentage_error(y_pred=x[\"MPO preideal Modelo - DERs None\"], y_true=x[\"MPO preideal XM\"])\n",
    ")\n",
    "\n",
    "# Convert the result to a DataFrame for better readability\n",
    "grouped_df = pd.DataFrame(grouped, columns=[\"MAPE %\"])\n",
    "grouped_df[\"MAPE %\"] = grouped_df[\"MAPE %\"] * 100\n",
    "grouped_df"
   ]
  },
  {
   "cell_type": "code",
   "execution_count": null,
   "metadata": {},
   "outputs": [],
   "source": [
    "output_unstacked.to_csv(\"differences_for_month_.csv\")"
   ]
  },
  {
   "cell_type": "code",
   "execution_count": null,
   "metadata": {},
   "outputs": [],
   "source": []
  },
  {
   "cell_type": "code",
   "execution_count": null,
   "metadata": {},
   "outputs": [],
   "source": [
    "fig = go.Figure()\n",
    "\n",
    "# Add line for \"MPO preideal Modelo\"\n",
    "fig.add_trace(go.Scatter(\n",
    "    x=output_unstacked.index,\n",
    "    y=output_unstacked['MPO preideal Modelo'],\n",
    "    mode='lines',\n",
    "    name='MPO preideal Modelo'\n",
    "))\n",
    "\n",
    "# Add line for \"MPO bess_preideal Modelo\"\n",
    "fig.add_trace(go.Scatter(\n",
    "    x=output_unstacked.index,\n",
    "    y=output_unstacked['MPO bess_preideal_resource Modelo'],\n",
    "    mode='lines',\n",
    "    name='MPO bess_preideal Modelo',\n",
    "    fill='tonexty',\n",
    "    line_color='green'\n",
    "))\n",
    "\n",
    "# Add area for positive differences\n",
    "# fig.add_trace(go.Scatter(\n",
    "#     x=output_unstacked.index,\n",
    "#     y=output_unstacked['Difference'].apply(lambda x: x if x > 0 else 0),\n",
    "#     fill='tozeroy',\n",
    "#     mode='none',\n",
    "#     fillcolor='rgba(0, 255, 0, 0.5)',  # Green color for positive differences\n",
    "#     name='Positive Difference',\n",
    "#     line_shape='hv',\n",
    "#     yaxis='y2'\n",
    "# ))\n",
    "\n",
    "# # Add area for negative differences\n",
    "# fig.add_trace(go.Scatter(\n",
    "#     x=output_unstacked.index,\n",
    "#     y=output_unstacked['Difference'].apply(lambda x: x if x < 0 else 0),\n",
    "#     fill='tozeroy',\n",
    "#     mode='none',\n",
    "#     fillcolor='rgba(255, 0, 0, 0.5)',  # Red color for negative differences\n",
    "#     name='Negative Difference',\n",
    "#     line_shape='hv',\n",
    "#     yaxis='y2'\n",
    "# ))\n",
    "\n",
    "fig.update_layout(\n",
    "    title='MPO preideal Modelo vs MPO bess_preideal Modelo',\n",
    "    xaxis_title='Datetime',\n",
    "    yaxis_title='MPO [COP/MWh]',\n",
    "    yaxis2=dict(\n",
    "        title='Difference [COP/MWh]',\n",
    "        overlaying='y',\n",
    "        side='right'\n",
    "    ),\n",
    "    legend_title='Legend'\n",
    ")\n",
    "\n",
    "fig.show()"
   ]
  },
  {
   "cell_type": "code",
   "execution_count": null,
   "metadata": {},
   "outputs": [],
   "source": [
    "output_unstacked.columns"
   ]
  },
  {
   "cell_type": "code",
   "execution_count": null,
   "metadata": {},
   "outputs": [],
   "source": []
  }
 ],
 "metadata": {
  "kernelspec": {
   "display_name": ".env",
   "language": "python",
   "name": "python3"
  },
  "language_info": {
   "codemirror_mode": {
    "name": "ipython",
    "version": 3
   },
   "file_extension": ".py",
   "mimetype": "text/x-python",
   "name": "python",
   "nbconvert_exporter": "python",
   "pygments_lexer": "ipython3",
   "version": "3.12.2"
  }
 },
 "nbformat": 4,
 "nbformat_minor": 2
}

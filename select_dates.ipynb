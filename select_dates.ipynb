{
 "cells": [
  {
   "cell_type": "code",
   "execution_count": 49,
   "metadata": {},
   "outputs": [],
   "source": [
    "import datetime\n",
    "import pandas as pd\n",
    "\n",
    "import holidays\n",
    "from sklearn.cluster import HDBSCAN, KMeans\n",
    "import pandas as pd\n",
    "\n",
    "co_hol = holidays.Colombia()\n",
    "\n",
    "Winter = [5, 6, 7, 8, 9, 10, 11]\n",
    "Summer = [1, 2, 3, 4, 12]"
   ]
  },
  {
   "cell_type": "code",
   "execution_count": 50,
   "metadata": {},
   "outputs": [
    {
     "data": {
      "text/html": [
       "<div>\n",
       "<style scoped>\n",
       "    .dataframe tbody tr th:only-of-type {\n",
       "        vertical-align: middle;\n",
       "    }\n",
       "\n",
       "    .dataframe tbody tr th {\n",
       "        vertical-align: top;\n",
       "    }\n",
       "\n",
       "    .dataframe thead th {\n",
       "        text-align: right;\n",
       "    }\n",
       "</style>\n",
       "<table border=\"1\" class=\"dataframe\">\n",
       "  <thead>\n",
       "    <tr style=\"text-align: right;\">\n",
       "      <th></th>\n",
       "      <th>Fecha</th>\n",
       "      <th>Recurso</th>\n",
       "      <th>Código Recurso</th>\n",
       "      <th>Tipo Generación</th>\n",
       "      <th>Combustible</th>\n",
       "      <th>Código Agente</th>\n",
       "      <th>Tipo Despacho</th>\n",
       "      <th>Es Menor</th>\n",
       "      <th>Clasificación</th>\n",
       "      <th>Version</th>\n",
       "      <th>hours</th>\n",
       "      <th>generacion</th>\n",
       "      <th>datetime</th>\n",
       "    </tr>\n",
       "  </thead>\n",
       "  <tbody>\n",
       "    <tr>\n",
       "      <th>0</th>\n",
       "      <td>2024-01-01</td>\n",
       "      <td>AGPE - ECOPETROL LA HORMIGA</td>\n",
       "      <td>2XXR</td>\n",
       "      <td>TERMICA</td>\n",
       "      <td>GAS</td>\n",
       "      <td>GECG</td>\n",
       "      <td>NO DESPACHADO CENTRALMENTE</td>\n",
       "      <td>NO</td>\n",
       "      <td>AUTOG PEQ. ESCALA</td>\n",
       "      <td>TX5</td>\n",
       "      <td>0</td>\n",
       "      <td>548.57</td>\n",
       "      <td>2024-01-01 00:00:00</td>\n",
       "    </tr>\n",
       "    <tr>\n",
       "      <th>1</th>\n",
       "      <td>2024-01-01</td>\n",
       "      <td>AGPE - ECOPETROL LA HORMIGA</td>\n",
       "      <td>2XXR</td>\n",
       "      <td>TERMICA</td>\n",
       "      <td>GAS</td>\n",
       "      <td>GECG</td>\n",
       "      <td>NO DESPACHADO CENTRALMENTE</td>\n",
       "      <td>NO</td>\n",
       "      <td>AUTOG PEQ. ESCALA</td>\n",
       "      <td>TX5</td>\n",
       "      <td>1</td>\n",
       "      <td>569.43</td>\n",
       "      <td>2024-01-01 01:00:00</td>\n",
       "    </tr>\n",
       "    <tr>\n",
       "      <th>2</th>\n",
       "      <td>2024-01-01</td>\n",
       "      <td>AGPE - ECOPETROL LA HORMIGA</td>\n",
       "      <td>2XXR</td>\n",
       "      <td>TERMICA</td>\n",
       "      <td>GAS</td>\n",
       "      <td>GECG</td>\n",
       "      <td>NO DESPACHADO CENTRALMENTE</td>\n",
       "      <td>NO</td>\n",
       "      <td>AUTOG PEQ. ESCALA</td>\n",
       "      <td>TX5</td>\n",
       "      <td>2</td>\n",
       "      <td>594.57</td>\n",
       "      <td>2024-01-01 02:00:00</td>\n",
       "    </tr>\n",
       "    <tr>\n",
       "      <th>3</th>\n",
       "      <td>2024-01-01</td>\n",
       "      <td>AGPE - ECOPETROL LA HORMIGA</td>\n",
       "      <td>2XXR</td>\n",
       "      <td>TERMICA</td>\n",
       "      <td>GAS</td>\n",
       "      <td>GECG</td>\n",
       "      <td>NO DESPACHADO CENTRALMENTE</td>\n",
       "      <td>NO</td>\n",
       "      <td>AUTOG PEQ. ESCALA</td>\n",
       "      <td>TX5</td>\n",
       "      <td>3</td>\n",
       "      <td>596.90</td>\n",
       "      <td>2024-01-01 03:00:00</td>\n",
       "    </tr>\n",
       "    <tr>\n",
       "      <th>4</th>\n",
       "      <td>2024-01-01</td>\n",
       "      <td>AGPE - ECOPETROL LA HORMIGA</td>\n",
       "      <td>2XXR</td>\n",
       "      <td>TERMICA</td>\n",
       "      <td>GAS</td>\n",
       "      <td>GECG</td>\n",
       "      <td>NO DESPACHADO CENTRALMENTE</td>\n",
       "      <td>NO</td>\n",
       "      <td>AUTOG PEQ. ESCALA</td>\n",
       "      <td>TX5</td>\n",
       "      <td>4</td>\n",
       "      <td>573.26</td>\n",
       "      <td>2024-01-01 04:00:00</td>\n",
       "    </tr>\n",
       "    <tr>\n",
       "      <th>...</th>\n",
       "      <td>...</td>\n",
       "      <td>...</td>\n",
       "      <td>...</td>\n",
       "      <td>...</td>\n",
       "      <td>...</td>\n",
       "      <td>...</td>\n",
       "      <td>...</td>\n",
       "      <td>...</td>\n",
       "      <td>...</td>\n",
       "      <td>...</td>\n",
       "      <td>...</td>\n",
       "      <td>...</td>\n",
       "      <td>...</td>\n",
       "    </tr>\n",
       "    <tr>\n",
       "      <th>2154955</th>\n",
       "      <td>2024-11-22</td>\n",
       "      <td>ZIPAEMG 5</td>\n",
       "      <td>ZPA5</td>\n",
       "      <td>TERMICA</td>\n",
       "      <td>CARBON</td>\n",
       "      <td>ENDG</td>\n",
       "      <td>DESPACHADO CENTRALMENTE</td>\n",
       "      <td>NO</td>\n",
       "      <td>NORMAL</td>\n",
       "      <td>TX1</td>\n",
       "      <td>19</td>\n",
       "      <td>51209.35</td>\n",
       "      <td>2024-11-22 19:00:00</td>\n",
       "    </tr>\n",
       "    <tr>\n",
       "      <th>2154956</th>\n",
       "      <td>2024-11-22</td>\n",
       "      <td>ZIPAEMG 5</td>\n",
       "      <td>ZPA5</td>\n",
       "      <td>TERMICA</td>\n",
       "      <td>CARBON</td>\n",
       "      <td>ENDG</td>\n",
       "      <td>DESPACHADO CENTRALMENTE</td>\n",
       "      <td>NO</td>\n",
       "      <td>NORMAL</td>\n",
       "      <td>TX1</td>\n",
       "      <td>20</td>\n",
       "      <td>51756.12</td>\n",
       "      <td>2024-11-22 20:00:00</td>\n",
       "    </tr>\n",
       "    <tr>\n",
       "      <th>2154957</th>\n",
       "      <td>2024-11-22</td>\n",
       "      <td>ZIPAEMG 5</td>\n",
       "      <td>ZPA5</td>\n",
       "      <td>TERMICA</td>\n",
       "      <td>CARBON</td>\n",
       "      <td>ENDG</td>\n",
       "      <td>DESPACHADO CENTRALMENTE</td>\n",
       "      <td>NO</td>\n",
       "      <td>NORMAL</td>\n",
       "      <td>TX1</td>\n",
       "      <td>21</td>\n",
       "      <td>51715.82</td>\n",
       "      <td>2024-11-22 21:00:00</td>\n",
       "    </tr>\n",
       "    <tr>\n",
       "      <th>2154958</th>\n",
       "      <td>2024-11-22</td>\n",
       "      <td>ZIPAEMG 5</td>\n",
       "      <td>ZPA5</td>\n",
       "      <td>TERMICA</td>\n",
       "      <td>CARBON</td>\n",
       "      <td>ENDG</td>\n",
       "      <td>DESPACHADO CENTRALMENTE</td>\n",
       "      <td>NO</td>\n",
       "      <td>NORMAL</td>\n",
       "      <td>TX1</td>\n",
       "      <td>22</td>\n",
       "      <td>51697.37</td>\n",
       "      <td>2024-11-22 22:00:00</td>\n",
       "    </tr>\n",
       "    <tr>\n",
       "      <th>2154959</th>\n",
       "      <td>2024-11-22</td>\n",
       "      <td>ZIPAEMG 5</td>\n",
       "      <td>ZPA5</td>\n",
       "      <td>TERMICA</td>\n",
       "      <td>CARBON</td>\n",
       "      <td>ENDG</td>\n",
       "      <td>DESPACHADO CENTRALMENTE</td>\n",
       "      <td>NO</td>\n",
       "      <td>NORMAL</td>\n",
       "      <td>TX1</td>\n",
       "      <td>23</td>\n",
       "      <td>51680.01</td>\n",
       "      <td>2024-11-22 23:00:00</td>\n",
       "    </tr>\n",
       "  </tbody>\n",
       "</table>\n",
       "<p>2154960 rows × 13 columns</p>\n",
       "</div>"
      ],
      "text/plain": [
       "             Fecha                      Recurso Código Recurso  \\\n",
       "0       2024-01-01  AGPE - ECOPETROL LA HORMIGA           2XXR   \n",
       "1       2024-01-01  AGPE - ECOPETROL LA HORMIGA           2XXR   \n",
       "2       2024-01-01  AGPE - ECOPETROL LA HORMIGA           2XXR   \n",
       "3       2024-01-01  AGPE - ECOPETROL LA HORMIGA           2XXR   \n",
       "4       2024-01-01  AGPE - ECOPETROL LA HORMIGA           2XXR   \n",
       "...            ...                          ...            ...   \n",
       "2154955 2024-11-22                    ZIPAEMG 5           ZPA5   \n",
       "2154956 2024-11-22                    ZIPAEMG 5           ZPA5   \n",
       "2154957 2024-11-22                    ZIPAEMG 5           ZPA5   \n",
       "2154958 2024-11-22                    ZIPAEMG 5           ZPA5   \n",
       "2154959 2024-11-22                    ZIPAEMG 5           ZPA5   \n",
       "\n",
       "        Tipo Generación Combustible Código Agente               Tipo Despacho  \\\n",
       "0               TERMICA         GAS          GECG  NO DESPACHADO CENTRALMENTE   \n",
       "1               TERMICA         GAS          GECG  NO DESPACHADO CENTRALMENTE   \n",
       "2               TERMICA         GAS          GECG  NO DESPACHADO CENTRALMENTE   \n",
       "3               TERMICA         GAS          GECG  NO DESPACHADO CENTRALMENTE   \n",
       "4               TERMICA         GAS          GECG  NO DESPACHADO CENTRALMENTE   \n",
       "...                 ...         ...           ...                         ...   \n",
       "2154955         TERMICA      CARBON          ENDG     DESPACHADO CENTRALMENTE   \n",
       "2154956         TERMICA      CARBON          ENDG     DESPACHADO CENTRALMENTE   \n",
       "2154957         TERMICA      CARBON          ENDG     DESPACHADO CENTRALMENTE   \n",
       "2154958         TERMICA      CARBON          ENDG     DESPACHADO CENTRALMENTE   \n",
       "2154959         TERMICA      CARBON          ENDG     DESPACHADO CENTRALMENTE   \n",
       "\n",
       "        Es Menor      Clasificación Version  hours  generacion  \\\n",
       "0             NO  AUTOG PEQ. ESCALA     TX5      0      548.57   \n",
       "1             NO  AUTOG PEQ. ESCALA     TX5      1      569.43   \n",
       "2             NO  AUTOG PEQ. ESCALA     TX5      2      594.57   \n",
       "3             NO  AUTOG PEQ. ESCALA     TX5      3      596.90   \n",
       "4             NO  AUTOG PEQ. ESCALA     TX5      4      573.26   \n",
       "...          ...                ...     ...    ...         ...   \n",
       "2154955       NO             NORMAL     TX1     19    51209.35   \n",
       "2154956       NO             NORMAL     TX1     20    51756.12   \n",
       "2154957       NO             NORMAL     TX1     21    51715.82   \n",
       "2154958       NO             NORMAL     TX1     22    51697.37   \n",
       "2154959       NO             NORMAL     TX1     23    51680.01   \n",
       "\n",
       "                   datetime  \n",
       "0       2024-01-01 00:00:00  \n",
       "1       2024-01-01 01:00:00  \n",
       "2       2024-01-01 02:00:00  \n",
       "3       2024-01-01 03:00:00  \n",
       "4       2024-01-01 04:00:00  \n",
       "...                     ...  \n",
       "2154955 2024-11-22 19:00:00  \n",
       "2154956 2024-11-22 20:00:00  \n",
       "2154957 2024-11-22 21:00:00  \n",
       "2154958 2024-11-22 22:00:00  \n",
       "2154959 2024-11-22 23:00:00  \n",
       "\n",
       "[2154960 rows x 13 columns]"
      ]
     },
     "execution_count": 50,
     "metadata": {},
     "output_type": "execute_result"
    }
   ],
   "source": [
    "df = pd.read_excel('data/Generacion_(kWh)_2024.xlsx', engine='openpyxl', parse_dates=[\"Fecha\"])\n",
    "df_ = df.set_index([\n",
    "    col for col in df.columns if col not in [str(h) for h in range(24)]\n",
    "])\n",
    "df_.columns = range(24)\n",
    "df_ = df_.stack().reset_index()\n",
    "df_.rename(columns={'level_10': \"hours\", 0: \"generacion\"}, inplace=True)\n",
    "df_[\"datetime\"] = pd.to_datetime(df_[\"Fecha\"]) + pd.to_timedelta(df_[\"hours\"], unit='h')\n",
    "df_ = df.set_index([\n",
    "    col for col in df.columns if col not in [str(h) for h in range(24)]\n",
    "])\n",
    "df_.columns = range(24)\n",
    "df_ = df_.stack().reset_index()\n",
    "df_.rename(columns={'level_10': \"hours\", 0: \"generacion\"}, inplace=True)\n",
    "df_[\"datetime\"] = pd.to_datetime(df_[\"Fecha\"]) + pd.to_timedelta(df_[\"hours\"], unit='h')\n",
    "df_"
   ]
  },
  {
   "cell_type": "code",
   "execution_count": 51,
   "metadata": {},
   "outputs": [],
   "source": [
    "\n",
    "df_agg = df_.groupby([\"Fecha\", \"Tipo Generación\"]).agg({\n",
    "    \"generacion\": \"sum\",\n",
    "}).reset_index()\n",
    "# }).reset_index()\n",
    "df_agg[\"generacion\"] = df_agg[\"generacion\"]*1E-6 \n",
    "df_agg = df_agg.pivot(index=\"Fecha\", columns=\"Tipo Generación\", values=\"generacion\")\n",
    "df_agg.columns.name=None\n",
    "df_agg[\"TOTAL_GEN\"] = df_agg.sum(axis=1)\n",
    "# Generación in GWh\n",
    "df_agg = df_agg.reset_index()\n",
    "\n",
    "df_agg[\"day_of_week\"] = df_agg[\"Fecha\"].dt.dayofweek\n",
    "# df_agg[\"week_of_year\"] = df_agg[\"Fecha\"].dt.isocalendar().week\n",
    "df_agg[\"winter\"] = df_agg[\"Fecha\"].dt.month.apply(lambda x:  1 if x in Winter else 0)\n",
    "# df_agg[\"is_holiday\"] = df_agg[\"Fecha\"].apply(lambda x: 1 if co_hol.get(x) else 0)\n",
    "df_agg.fillna(0, inplace=True)"
   ]
  },
  {
   "cell_type": "code",
   "execution_count": 52,
   "metadata": {},
   "outputs": [],
   "source": [
    "# ==== Add precio bolsa to cluster ===\n",
    "precio_bolsa = pd.read_excel('data/Precio_Bolsa_Nacional_($kwh)_2024.xlsx', engine='openpyxl', parse_dates=[\"Fecha\"])\n",
    "precio_bolsa_ = precio_bolsa.set_index([\"Fecha\"]).stack().reset_index()\n",
    "precio_bolsa_.columns = [\"Fecha\", \"hours\", \"precio_bolsa\"]\n",
    "precio_bolsa_agg = precio_bolsa_.groupby([\"Fecha\"]).agg({\"precio_bolsa\":[\"max\", \"mean\", \"min\"]}).reset_index()\n",
    "precio_bolsa_agg.columns = ['_'.join(col).strip() for col in precio_bolsa_agg.columns.values]\n",
    "precio_bolsa_agg.rename(columns={\"Fecha_\": \"Fecha\"}, inplace=True)"
   ]
  },
  {
   "cell_type": "code",
   "execution_count": 53,
   "metadata": {},
   "outputs": [
    {
     "data": {
      "text/html": [
       "<div>\n",
       "<style scoped>\n",
       "    .dataframe tbody tr th:only-of-type {\n",
       "        vertical-align: middle;\n",
       "    }\n",
       "\n",
       "    .dataframe tbody tr th {\n",
       "        vertical-align: top;\n",
       "    }\n",
       "\n",
       "    .dataframe thead th {\n",
       "        text-align: right;\n",
       "    }\n",
       "</style>\n",
       "<table border=\"1\" class=\"dataframe\">\n",
       "  <thead>\n",
       "    <tr style=\"text-align: right;\">\n",
       "      <th></th>\n",
       "      <th>Fecha</th>\n",
       "      <th>COGENERADOR</th>\n",
       "      <th>EOLICA</th>\n",
       "      <th>HIDRAULICA</th>\n",
       "      <th>SOLAR</th>\n",
       "      <th>TERMICA</th>\n",
       "      <th>TOTAL_GEN</th>\n",
       "      <th>day_of_week</th>\n",
       "      <th>winter</th>\n",
       "      <th>precio_bolsa_max</th>\n",
       "      <th>precio_bolsa_mean</th>\n",
       "      <th>precio_bolsa_min</th>\n",
       "    </tr>\n",
       "  </thead>\n",
       "  <tbody>\n",
       "    <tr>\n",
       "      <th>0</th>\n",
       "      <td>2024-01-01</td>\n",
       "      <td>0.357159</td>\n",
       "      <td>0.473795</td>\n",
       "      <td>143.842059</td>\n",
       "      <td>6.384629</td>\n",
       "      <td>25.095855</td>\n",
       "      <td>176.153496</td>\n",
       "      <td>0</td>\n",
       "      <td>0</td>\n",
       "      <td>301.23</td>\n",
       "      <td>222.175000</td>\n",
       "      <td>95.85</td>\n",
       "    </tr>\n",
       "    <tr>\n",
       "      <th>1</th>\n",
       "      <td>2024-01-02</td>\n",
       "      <td>0.562877</td>\n",
       "      <td>0.423688</td>\n",
       "      <td>162.277078</td>\n",
       "      <td>6.947628</td>\n",
       "      <td>36.476359</td>\n",
       "      <td>206.687629</td>\n",
       "      <td>1</td>\n",
       "      <td>0</td>\n",
       "      <td>449.32</td>\n",
       "      <td>383.636667</td>\n",
       "      <td>284.32</td>\n",
       "    </tr>\n",
       "    <tr>\n",
       "      <th>2</th>\n",
       "      <td>2024-01-03</td>\n",
       "      <td>1.179331</td>\n",
       "      <td>0.391955</td>\n",
       "      <td>165.103787</td>\n",
       "      <td>7.424881</td>\n",
       "      <td>40.746649</td>\n",
       "      <td>214.846603</td>\n",
       "      <td>2</td>\n",
       "      <td>0</td>\n",
       "      <td>514.49</td>\n",
       "      <td>462.115000</td>\n",
       "      <td>429.49</td>\n",
       "    </tr>\n",
       "    <tr>\n",
       "      <th>3</th>\n",
       "      <td>2024-01-04</td>\n",
       "      <td>1.437006</td>\n",
       "      <td>0.482436</td>\n",
       "      <td>160.142832</td>\n",
       "      <td>7.443663</td>\n",
       "      <td>49.891661</td>\n",
       "      <td>219.397599</td>\n",
       "      <td>3</td>\n",
       "      <td>0</td>\n",
       "      <td>602.95</td>\n",
       "      <td>557.655417</td>\n",
       "      <td>448.95</td>\n",
       "    </tr>\n",
       "    <tr>\n",
       "      <th>4</th>\n",
       "      <td>2024-01-05</td>\n",
       "      <td>1.818278</td>\n",
       "      <td>0.650878</td>\n",
       "      <td>159.304710</td>\n",
       "      <td>7.135847</td>\n",
       "      <td>52.357767</td>\n",
       "      <td>221.267481</td>\n",
       "      <td>4</td>\n",
       "      <td>0</td>\n",
       "      <td>650.50</td>\n",
       "      <td>623.372500</td>\n",
       "      <td>609.50</td>\n",
       "    </tr>\n",
       "    <tr>\n",
       "      <th>...</th>\n",
       "      <td>...</td>\n",
       "      <td>...</td>\n",
       "      <td>...</td>\n",
       "      <td>...</td>\n",
       "      <td>...</td>\n",
       "      <td>...</td>\n",
       "      <td>...</td>\n",
       "      <td>...</td>\n",
       "      <td>...</td>\n",
       "      <td>...</td>\n",
       "      <td>...</td>\n",
       "      <td>...</td>\n",
       "    </tr>\n",
       "    <tr>\n",
       "      <th>310</th>\n",
       "      <td>2024-11-06</td>\n",
       "      <td>2.037827</td>\n",
       "      <td>0.154240</td>\n",
       "      <td>135.540676</td>\n",
       "      <td>10.596309</td>\n",
       "      <td>81.655180</td>\n",
       "      <td>229.984233</td>\n",
       "      <td>2</td>\n",
       "      <td>1</td>\n",
       "      <td>2675.80</td>\n",
       "      <td>1870.212500</td>\n",
       "      <td>657.53</td>\n",
       "    </tr>\n",
       "    <tr>\n",
       "      <th>311</th>\n",
       "      <td>2024-11-07</td>\n",
       "      <td>2.163911</td>\n",
       "      <td>0.209965</td>\n",
       "      <td>122.445765</td>\n",
       "      <td>8.025633</td>\n",
       "      <td>96.734757</td>\n",
       "      <td>229.580032</td>\n",
       "      <td>3</td>\n",
       "      <td>1</td>\n",
       "      <td>2459.55</td>\n",
       "      <td>1894.958333</td>\n",
       "      <td>1450.04</td>\n",
       "    </tr>\n",
       "    <tr>\n",
       "      <th>312</th>\n",
       "      <td>2024-11-08</td>\n",
       "      <td>2.359247</td>\n",
       "      <td>0.034563</td>\n",
       "      <td>121.533616</td>\n",
       "      <td>6.633570</td>\n",
       "      <td>94.627672</td>\n",
       "      <td>225.188668</td>\n",
       "      <td>4</td>\n",
       "      <td>1</td>\n",
       "      <td>2128.30</td>\n",
       "      <td>1546.797500</td>\n",
       "      <td>1000.01</td>\n",
       "    </tr>\n",
       "    <tr>\n",
       "      <th>313</th>\n",
       "      <td>2024-11-09</td>\n",
       "      <td>2.734738</td>\n",
       "      <td>0.077343</td>\n",
       "      <td>115.051865</td>\n",
       "      <td>10.482164</td>\n",
       "      <td>84.456442</td>\n",
       "      <td>212.802552</td>\n",
       "      <td>5</td>\n",
       "      <td>1</td>\n",
       "      <td>1490.76</td>\n",
       "      <td>782.156667</td>\n",
       "      <td>700.76</td>\n",
       "    </tr>\n",
       "    <tr>\n",
       "      <th>314</th>\n",
       "      <td>2024-11-10</td>\n",
       "      <td>2.228287</td>\n",
       "      <td>0.052312</td>\n",
       "      <td>115.118120</td>\n",
       "      <td>10.122096</td>\n",
       "      <td>65.438203</td>\n",
       "      <td>192.959017</td>\n",
       "      <td>6</td>\n",
       "      <td>1</td>\n",
       "      <td>1751.91</td>\n",
       "      <td>824.784167</td>\n",
       "      <td>588.60</td>\n",
       "    </tr>\n",
       "  </tbody>\n",
       "</table>\n",
       "<p>315 rows × 12 columns</p>\n",
       "</div>"
      ],
      "text/plain": [
       "         Fecha  COGENERADOR    EOLICA  HIDRAULICA      SOLAR    TERMICA  \\\n",
       "0   2024-01-01     0.357159  0.473795  143.842059   6.384629  25.095855   \n",
       "1   2024-01-02     0.562877  0.423688  162.277078   6.947628  36.476359   \n",
       "2   2024-01-03     1.179331  0.391955  165.103787   7.424881  40.746649   \n",
       "3   2024-01-04     1.437006  0.482436  160.142832   7.443663  49.891661   \n",
       "4   2024-01-05     1.818278  0.650878  159.304710   7.135847  52.357767   \n",
       "..         ...          ...       ...         ...        ...        ...   \n",
       "310 2024-11-06     2.037827  0.154240  135.540676  10.596309  81.655180   \n",
       "311 2024-11-07     2.163911  0.209965  122.445765   8.025633  96.734757   \n",
       "312 2024-11-08     2.359247  0.034563  121.533616   6.633570  94.627672   \n",
       "313 2024-11-09     2.734738  0.077343  115.051865  10.482164  84.456442   \n",
       "314 2024-11-10     2.228287  0.052312  115.118120  10.122096  65.438203   \n",
       "\n",
       "      TOTAL_GEN  day_of_week  winter  precio_bolsa_max  precio_bolsa_mean  \\\n",
       "0    176.153496            0       0            301.23         222.175000   \n",
       "1    206.687629            1       0            449.32         383.636667   \n",
       "2    214.846603            2       0            514.49         462.115000   \n",
       "3    219.397599            3       0            602.95         557.655417   \n",
       "4    221.267481            4       0            650.50         623.372500   \n",
       "..          ...          ...     ...               ...                ...   \n",
       "310  229.984233            2       1           2675.80        1870.212500   \n",
       "311  229.580032            3       1           2459.55        1894.958333   \n",
       "312  225.188668            4       1           2128.30        1546.797500   \n",
       "313  212.802552            5       1           1490.76         782.156667   \n",
       "314  192.959017            6       1           1751.91         824.784167   \n",
       "\n",
       "     precio_bolsa_min  \n",
       "0               95.85  \n",
       "1              284.32  \n",
       "2              429.49  \n",
       "3              448.95  \n",
       "4              609.50  \n",
       "..                ...  \n",
       "310            657.53  \n",
       "311           1450.04  \n",
       "312           1000.01  \n",
       "313            700.76  \n",
       "314            588.60  \n",
       "\n",
       "[315 rows x 12 columns]"
      ]
     },
     "execution_count": 53,
     "metadata": {},
     "output_type": "execute_result"
    }
   ],
   "source": [
    "df_agg = df_agg.merge(precio_bolsa_agg, on=\"Fecha\", how=\"inner\")\n",
    "df_agg"
   ]
  },
  {
   "cell_type": "code",
   "execution_count": 54,
   "metadata": {},
   "outputs": [
    {
     "data": {
      "text/html": [
       "<div>\n",
       "<style scoped>\n",
       "    .dataframe tbody tr th:only-of-type {\n",
       "        vertical-align: middle;\n",
       "    }\n",
       "\n",
       "    .dataframe tbody tr th {\n",
       "        vertical-align: top;\n",
       "    }\n",
       "\n",
       "    .dataframe thead th {\n",
       "        text-align: right;\n",
       "    }\n",
       "</style>\n",
       "<table border=\"1\" class=\"dataframe\">\n",
       "  <thead>\n",
       "    <tr style=\"text-align: right;\">\n",
       "      <th></th>\n",
       "      <th>HIDRAULICA</th>\n",
       "      <th>TERMICA</th>\n",
       "      <th>precio_bolsa_max</th>\n",
       "      <th>precio_bolsa_mean</th>\n",
       "      <th>precio_bolsa_min</th>\n",
       "    </tr>\n",
       "  </thead>\n",
       "  <tbody>\n",
       "    <tr>\n",
       "      <th>0</th>\n",
       "      <td>143.842059</td>\n",
       "      <td>25.095855</td>\n",
       "      <td>301.23</td>\n",
       "      <td>222.175000</td>\n",
       "      <td>95.85</td>\n",
       "    </tr>\n",
       "    <tr>\n",
       "      <th>1</th>\n",
       "      <td>162.277078</td>\n",
       "      <td>36.476359</td>\n",
       "      <td>449.32</td>\n",
       "      <td>383.636667</td>\n",
       "      <td>284.32</td>\n",
       "    </tr>\n",
       "    <tr>\n",
       "      <th>2</th>\n",
       "      <td>165.103787</td>\n",
       "      <td>40.746649</td>\n",
       "      <td>514.49</td>\n",
       "      <td>462.115000</td>\n",
       "      <td>429.49</td>\n",
       "    </tr>\n",
       "    <tr>\n",
       "      <th>3</th>\n",
       "      <td>160.142832</td>\n",
       "      <td>49.891661</td>\n",
       "      <td>602.95</td>\n",
       "      <td>557.655417</td>\n",
       "      <td>448.95</td>\n",
       "    </tr>\n",
       "    <tr>\n",
       "      <th>4</th>\n",
       "      <td>159.304710</td>\n",
       "      <td>52.357767</td>\n",
       "      <td>650.50</td>\n",
       "      <td>623.372500</td>\n",
       "      <td>609.50</td>\n",
       "    </tr>\n",
       "    <tr>\n",
       "      <th>...</th>\n",
       "      <td>...</td>\n",
       "      <td>...</td>\n",
       "      <td>...</td>\n",
       "      <td>...</td>\n",
       "      <td>...</td>\n",
       "    </tr>\n",
       "    <tr>\n",
       "      <th>310</th>\n",
       "      <td>135.540676</td>\n",
       "      <td>81.655180</td>\n",
       "      <td>2675.80</td>\n",
       "      <td>1870.212500</td>\n",
       "      <td>657.53</td>\n",
       "    </tr>\n",
       "    <tr>\n",
       "      <th>311</th>\n",
       "      <td>122.445765</td>\n",
       "      <td>96.734757</td>\n",
       "      <td>2459.55</td>\n",
       "      <td>1894.958333</td>\n",
       "      <td>1450.04</td>\n",
       "    </tr>\n",
       "    <tr>\n",
       "      <th>312</th>\n",
       "      <td>121.533616</td>\n",
       "      <td>94.627672</td>\n",
       "      <td>2128.30</td>\n",
       "      <td>1546.797500</td>\n",
       "      <td>1000.01</td>\n",
       "    </tr>\n",
       "    <tr>\n",
       "      <th>313</th>\n",
       "      <td>115.051865</td>\n",
       "      <td>84.456442</td>\n",
       "      <td>1490.76</td>\n",
       "      <td>782.156667</td>\n",
       "      <td>700.76</td>\n",
       "    </tr>\n",
       "    <tr>\n",
       "      <th>314</th>\n",
       "      <td>115.118120</td>\n",
       "      <td>65.438203</td>\n",
       "      <td>1751.91</td>\n",
       "      <td>824.784167</td>\n",
       "      <td>588.60</td>\n",
       "    </tr>\n",
       "  </tbody>\n",
       "</table>\n",
       "<p>315 rows × 5 columns</p>\n",
       "</div>"
      ],
      "text/plain": [
       "     HIDRAULICA    TERMICA  precio_bolsa_max  precio_bolsa_mean  \\\n",
       "0    143.842059  25.095855            301.23         222.175000   \n",
       "1    162.277078  36.476359            449.32         383.636667   \n",
       "2    165.103787  40.746649            514.49         462.115000   \n",
       "3    160.142832  49.891661            602.95         557.655417   \n",
       "4    159.304710  52.357767            650.50         623.372500   \n",
       "..          ...        ...               ...                ...   \n",
       "310  135.540676  81.655180           2675.80        1870.212500   \n",
       "311  122.445765  96.734757           2459.55        1894.958333   \n",
       "312  121.533616  94.627672           2128.30        1546.797500   \n",
       "313  115.051865  84.456442           1490.76         782.156667   \n",
       "314  115.118120  65.438203           1751.91         824.784167   \n",
       "\n",
       "     precio_bolsa_min  \n",
       "0               95.85  \n",
       "1              284.32  \n",
       "2              429.49  \n",
       "3              448.95  \n",
       "4              609.50  \n",
       "..                ...  \n",
       "310            657.53  \n",
       "311           1450.04  \n",
       "312           1000.01  \n",
       "313            700.76  \n",
       "314            588.60  \n",
       "\n",
       "[315 rows x 5 columns]"
      ]
     },
     "execution_count": 54,
     "metadata": {},
     "output_type": "execute_result"
    }
   ],
   "source": [
    "excep_columns = [\"Fecha\", \"Tipo Generación\", \"TOTAL_GEN\", \"day_of_week\", \"winter\"]\n",
    "excep_columns = excep_columns + [\"COGENERADOR\", \"EOLICA\", \"SOLAR\"]\n",
    "\n",
    "df_agg[[col for col in df_agg.columns if col not in excep_columns]]"
   ]
  },
  {
   "cell_type": "code",
   "execution_count": 55,
   "metadata": {},
   "outputs": [
    {
     "name": "stdout",
     "output_type": "stream",
     "text": [
      "Distortion values:\n",
      "1 : 701610.9181252731\n",
      "2 : 238825.4393607677\n",
      "3 : 145344.10500384218\n",
      "4 : 111192.66231681856\n",
      "5 : 67158.45310462781\n",
      "6 : 59683.73751966297\n",
      "7 : 54301.70562194575\n",
      "8 : 40163.05018815653\n",
      "9 : 35272.283138347804\n",
      "10 : 32947.994484567076\n",
      "11 : 30540.26276430051\n",
      "12 : 26703.2401914327\n",
      "13 : 26095.95113626742\n",
      "14 : 24421.133013845316\n",
      "15 : 22185.952713736307\n",
      "16 : 20792.349591012262\n",
      "17 : 19937.163226238135\n",
      "18 : 18181.478430752675\n",
      "19 : 16947.006393900872\n"
     ]
    },
    {
     "data": {
      "image/png": "[encoded data removed]",
      "text/plain": [
       "<Figure size 640x480 with 1 Axes>"
      ]
     },
     "metadata": {},
     "output_type": "display_data"
    }
   ],
   "source": [
    "# Fit K-means for different values of k\n",
    "import matplotlib.pyplot as plt\n",
    "import numpy as np\n",
    "from scipy.spatial.distance import cdist\n",
    "distortions = []\n",
    "inertias = []\n",
    "mapping1 = {}\n",
    "mapping2 = {}\n",
    "\n",
    "K = range(1, 20)\n",
    "X = df_agg[[col for col in df_agg.columns if col not in excep_columns]].values\n",
    "X = X.astype(float)\n",
    "for k in K:\n",
    "    kmeanModel = KMeans(n_clusters=k, random_state=42).fit(X)\n",
    "    \n",
    "    # Calculate distortion as the average squared distance from points to their cluster centers\n",
    "    distortions.append(sum(np.min(cdist(X, kmeanModel.cluster_centers_, 'euclidean'), axis=1)**2) / X.shape[0])\n",
    "    \n",
    "    # Inertia is calculated directly by KMeans\n",
    "    inertias.append(kmeanModel.inertia_)\n",
    "    \n",
    "    # Store the mappings for easy access\n",
    "    mapping1[k] = distortions[-1]\n",
    "    mapping2[k] = inertias[-1]\n",
    "\n",
    "print(\"Distortion values:\")\n",
    "for key, val in mapping1.items():\n",
    "    print(f'{key} : {val}')\n",
    "# Plotting the graph of k versus Distortion\n",
    "plt.plot(K, distortions, 'bx-')\n",
    "plt.xlabel('Number of Clusters (k)')\n",
    "plt.ylabel('Distortion')\n",
    "plt.title('The Elbow Method using Distortion')\n",
    "plt.grid()\n",
    "plt.show()"
   ]
  },
  {
   "cell_type": "code",
   "execution_count": 56,
   "metadata": {},
   "outputs": [
    {
     "data": {
      "text/html": [
       "<style>#sk-container-id-2 {\n",
       "  /* Definition of color scheme common for light and dark mode */\n",
       "  --sklearn-color-text: black;\n",
       "  --sklearn-color-line: gray;\n",
       "  /* Definition of color scheme for unfitted estimators */\n",
       "  --sklearn-color-unfitted-level-0: #fff5e6;\n",
       "  --sklearn-color-unfitted-level-1: #f6e4d2;\n",
       "  --sklearn-color-unfitted-level-2: #ffe0b3;\n",
       "  --sklearn-color-unfitted-level-3: chocolate;\n",
       "  /* Definition of color scheme for fitted estimators */\n",
       "  --sklearn-color-fitted-level-0: #f0f8ff;\n",
       "  --sklearn-color-fitted-level-1: #d4ebff;\n",
       "  --sklearn-color-fitted-level-2: #b3dbfd;\n",
       "  --sklearn-color-fitted-level-3: cornflowerblue;\n",
       "\n",
       "  /* Specific color for light theme */\n",
       "  --sklearn-color-text-on-default-background: var(--sg-text-color, var(--theme-code-foreground, var(--jp-content-font-color1, black)));\n",
       "  --sklearn-color-background: var(--sg-background-color, var(--theme-background, var(--jp-layout-color0, white)));\n",
       "  --sklearn-color-border-box: var(--sg-text-color, var(--theme-code-foreground, var(--jp-content-font-color1, black)));\n",
       "  --sklearn-color-icon: #696969;\n",
       "\n",
       "  @media (prefers-color-scheme: dark) {\n",
       "    /* Redefinition of color scheme for dark theme */\n",
       "    --sklearn-color-text-on-default-background: var(--sg-text-color, var(--theme-code-foreground, var(--jp-content-font-color1, white)));\n",
       "    --sklearn-color-background: var(--sg-background-color, var(--theme-background, var(--jp-layout-color0, #111)));\n",
       "    --sklearn-color-border-box: var(--sg-text-color, var(--theme-code-foreground, var(--jp-content-font-color1, white)));\n",
       "    --sklearn-color-icon: #878787;\n",
       "  }\n",
       "}\n",
       "\n",
       "#sk-container-id-2 {\n",
       "  color: var(--sklearn-color-text);\n",
       "}\n",
       "\n",
       "#sk-container-id-2 pre {\n",
       "  padding: 0;\n",
       "}\n",
       "\n",
       "#sk-container-id-2 input.sk-hidden--visually {\n",
       "  border: 0;\n",
       "  clip: rect(1px 1px 1px 1px);\n",
       "  clip: rect(1px, 1px, 1px, 1px);\n",
       "  height: 1px;\n",
       "  margin: -1px;\n",
       "  overflow: hidden;\n",
       "  padding: 0;\n",
       "  position: absolute;\n",
       "  width: 1px;\n",
       "}\n",
       "\n",
       "#sk-container-id-2 div.sk-dashed-wrapped {\n",
       "  border: 1px dashed var(--sklearn-color-line);\n",
       "  margin: 0 0.4em 0.5em 0.4em;\n",
       "  box-sizing: border-box;\n",
       "  padding-bottom: 0.4em;\n",
       "  background-color: var(--sklearn-color-background);\n",
       "}\n",
       "\n",
       "#sk-container-id-2 div.sk-container {\n",
       "  /* jupyter's `normalize.less` sets `[hidden] { display: none; }`\n",
       "     but bootstrap.min.css set `[hidden] { display: none !important; }`\n",
       "     so we also need the `!important` here to be able to override the\n",
       "     default hidden behavior on the sphinx rendered scikit-learn.org.\n",
       "     See: https://github.com/scikit-learn/scikit-learn/issues/21755 */\n",
       "  display: inline-block !important;\n",
       "  position: relative;\n",
       "}\n",
       "\n",
       "#sk-container-id-2 div.sk-text-repr-fallback {\n",
       "  display: none;\n",
       "}\n",
       "\n",
       "div.sk-parallel-item,\n",
       "div.sk-serial,\n",
       "div.sk-item {\n",
       "  /* draw centered vertical line to link estimators */\n",
       "  background-image: linear-gradient(var(--sklearn-color-text-on-default-background), var(--sklearn-color-text-on-default-background));\n",
       "  background-size: 2px 100%;\n",
       "  background-repeat: no-repeat;\n",
       "  background-position: center center;\n",
       "}\n",
       "\n",
       "/* Parallel-specific style estimator block */\n",
       "\n",
       "#sk-container-id-2 div.sk-parallel-item::after {\n",
       "  content: \"\";\n",
       "  width: 100%;\n",
       "  border-bottom: 2px solid var(--sklearn-color-text-on-default-background);\n",
       "  flex-grow: 1;\n",
       "}\n",
       "\n",
       "#sk-container-id-2 div.sk-parallel {\n",
       "  display: flex;\n",
       "  align-items: stretch;\n",
       "  justify-content: center;\n",
       "  background-color: var(--sklearn-color-background);\n",
       "  position: relative;\n",
       "}\n",
       "\n",
       "#sk-container-id-2 div.sk-parallel-item {\n",
       "  display: flex;\n",
       "  flex-direction: column;\n",
       "}\n",
       "\n",
       "#sk-container-id-2 div.sk-parallel-item:first-child::after {\n",
       "  align-self: flex-end;\n",
       "  width: 50%;\n",
       "}\n",
       "\n",
       "#sk-container-id-2 div.sk-parallel-item:last-child::after {\n",
       "  align-self: flex-start;\n",
       "  width: 50%;\n",
       "}\n",
       "\n",
       "#sk-container-id-2 div.sk-parallel-item:only-child::after {\n",
       "  width: 0;\n",
       "}\n",
       "\n",
       "/* Serial-specific style estimator block */\n",
       "\n",
       "#sk-container-id-2 div.sk-serial {\n",
       "  display: flex;\n",
       "  flex-direction: column;\n",
       "  align-items: center;\n",
       "  background-color: var(--sklearn-color-background);\n",
       "  padding-right: 1em;\n",
       "  padding-left: 1em;\n",
       "}\n",
       "\n",
       "\n",
       "/* Toggleable style: style used for estimator/Pipeline/ColumnTransformer box that is\n",
       "clickable and can be expanded/collapsed.\n",
       "- Pipeline and ColumnTransformer use this feature and define the default style\n",
       "- Estimators will overwrite some part of the style using the `sk-estimator` class\n",
       "*/\n",
       "\n",
       "/* Pipeline and ColumnTransformer style (default) */\n",
       "\n",
       "#sk-container-id-2 div.sk-toggleable {\n",
       "  /* Default theme specific background. It is overwritten whether we have a\n",
       "  specific estimator or a Pipeline/ColumnTransformer */\n",
       "  background-color: var(--sklearn-color-background);\n",
       "}\n",
       "\n",
       "/* Toggleable label */\n",
       "#sk-container-id-2 label.sk-toggleable__label {\n",
       "  cursor: pointer;\n",
       "  display: block;\n",
       "  width: 100%;\n",
       "  margin-bottom: 0;\n",
       "  padding: 0.5em;\n",
       "  box-sizing: border-box;\n",
       "  text-align: center;\n",
       "}\n",
       "\n",
       "#sk-container-id-2 label.sk-toggleable__label-arrow:before {\n",
       "  /* Arrow on the left of the label */\n",
       "  content: \"▸\";\n",
       "  float: left;\n",
       "  margin-right: 0.25em;\n",
       "  color: var(--sklearn-color-icon);\n",
       "}\n",
       "\n",
       "#sk-container-id-2 label.sk-toggleable__label-arrow:hover:before {\n",
       "  color: var(--sklearn-color-text);\n",
       "}\n",
       "\n",
       "/* Toggleable content - dropdown */\n",
       "\n",
       "#sk-container-id-2 div.sk-toggleable__content {\n",
       "  max-height: 0;\n",
       "  max-width: 0;\n",
       "  overflow: hidden;\n",
       "  text-align: left;\n",
       "  /* unfitted */\n",
       "  background-color: var(--sklearn-color-unfitted-level-0);\n",
       "}\n",
       "\n",
       "#sk-container-id-2 div.sk-toggleable__content.fitted {\n",
       "  /* fitted */\n",
       "  background-color: var(--sklearn-color-fitted-level-0);\n",
       "}\n",
       "\n",
       "#sk-container-id-2 div.sk-toggleable__content pre {\n",
       "  margin: 0.2em;\n",
       "  border-radius: 0.25em;\n",
       "  color: var(--sklearn-color-text);\n",
       "  /* unfitted */\n",
       "  background-color: var(--sklearn-color-unfitted-level-0);\n",
       "}\n",
       "\n",
       "#sk-container-id-2 div.sk-toggleable__content.fitted pre {\n",
       "  /* unfitted */\n",
       "  background-color: var(--sklearn-color-fitted-level-0);\n",
       "}\n",
       "\n",
       "#sk-container-id-2 input.sk-toggleable__control:checked~div.sk-toggleable__content {\n",
       "  /* Expand drop-down */\n",
       "  max-height: 200px;\n",
       "  max-width: 100%;\n",
       "  overflow: auto;\n",
       "}\n",
       "\n",
       "#sk-container-id-2 input.sk-toggleable__control:checked~label.sk-toggleable__label-arrow:before {\n",
       "  content: \"▾\";\n",
       "}\n",
       "\n",
       "/* Pipeline/ColumnTransformer-specific style */\n",
       "\n",
       "#sk-container-id-2 div.sk-label input.sk-toggleable__control:checked~label.sk-toggleable__label {\n",
       "  color: var(--sklearn-color-text);\n",
       "  background-color: var(--sklearn-color-unfitted-level-2);\n",
       "}\n",
       "\n",
       "#sk-container-id-2 div.sk-label.fitted input.sk-toggleable__control:checked~label.sk-toggleable__label {\n",
       "  background-color: var(--sklearn-color-fitted-level-2);\n",
       "}\n",
       "\n",
       "/* Estimator-specific style */\n",
       "\n",
       "/* Colorize estimator box */\n",
       "#sk-container-id-2 div.sk-estimator input.sk-toggleable__control:checked~label.sk-toggleable__label {\n",
       "  /* unfitted */\n",
       "  background-color: var(--sklearn-color-unfitted-level-2);\n",
       "}\n",
       "\n",
       "#sk-container-id-2 div.sk-estimator.fitted input.sk-toggleable__control:checked~label.sk-toggleable__label {\n",
       "  /* fitted */\n",
       "  background-color: var(--sklearn-color-fitted-level-2);\n",
       "}\n",
       "\n",
       "#sk-container-id-2 div.sk-label label.sk-toggleable__label,\n",
       "#sk-container-id-2 div.sk-label label {\n",
       "  /* The background is the default theme color */\n",
       "  color: var(--sklearn-color-text-on-default-background);\n",
       "}\n",
       "\n",
       "/* On hover, darken the color of the background */\n",
       "#sk-container-id-2 div.sk-label:hover label.sk-toggleable__label {\n",
       "  color: var(--sklearn-color-text);\n",
       "  background-color: var(--sklearn-color-unfitted-level-2);\n",
       "}\n",
       "\n",
       "/* Label box, darken color on hover, fitted */\n",
       "#sk-container-id-2 div.sk-label.fitted:hover label.sk-toggleable__label.fitted {\n",
       "  color: var(--sklearn-color-text);\n",
       "  background-color: var(--sklearn-color-fitted-level-2);\n",
       "}\n",
       "\n",
       "/* Estimator label */\n",
       "\n",
       "#sk-container-id-2 div.sk-label label {\n",
       "  font-family: monospace;\n",
       "  font-weight: bold;\n",
       "  display: inline-block;\n",
       "  line-height: 1.2em;\n",
       "}\n",
       "\n",
       "#sk-container-id-2 div.sk-label-container {\n",
       "  text-align: center;\n",
       "}\n",
       "\n",
       "/* Estimator-specific */\n",
       "#sk-container-id-2 div.sk-estimator {\n",
       "  font-family: monospace;\n",
       "  border: 1px dotted var(--sklearn-color-border-box);\n",
       "  border-radius: 0.25em;\n",
       "  box-sizing: border-box;\n",
       "  margin-bottom: 0.5em;\n",
       "  /* unfitted */\n",
       "  background-color: var(--sklearn-color-unfitted-level-0);\n",
       "}\n",
       "\n",
       "#sk-container-id-2 div.sk-estimator.fitted {\n",
       "  /* fitted */\n",
       "  background-color: var(--sklearn-color-fitted-level-0);\n",
       "}\n",
       "\n",
       "/* on hover */\n",
       "#sk-container-id-2 div.sk-estimator:hover {\n",
       "  /* unfitted */\n",
       "  background-color: var(--sklearn-color-unfitted-level-2);\n",
       "}\n",
       "\n",
       "#sk-container-id-2 div.sk-estimator.fitted:hover {\n",
       "  /* fitted */\n",
       "  background-color: var(--sklearn-color-fitted-level-2);\n",
       "}\n",
       "\n",
       "/* Specification for estimator info (e.g. \"i\" and \"?\") */\n",
       "\n",
       "/* Common style for \"i\" and \"?\" */\n",
       "\n",
       ".sk-estimator-doc-link,\n",
       "a:link.sk-estimator-doc-link,\n",
       "a:visited.sk-estimator-doc-link {\n",
       "  float: right;\n",
       "  font-size: smaller;\n",
       "  line-height: 1em;\n",
       "  font-family: monospace;\n",
       "  background-color: var(--sklearn-color-background);\n",
       "  border-radius: 1em;\n",
       "  height: 1em;\n",
       "  width: 1em;\n",
       "  text-decoration: none !important;\n",
       "  margin-left: 1ex;\n",
       "  /* unfitted */\n",
       "  border: var(--sklearn-color-unfitted-level-1) 1pt solid;\n",
       "  color: var(--sklearn-color-unfitted-level-1);\n",
       "}\n",
       "\n",
       ".sk-estimator-doc-link.fitted,\n",
       "a:link.sk-estimator-doc-link.fitted,\n",
       "a:visited.sk-estimator-doc-link.fitted {\n",
       "  /* fitted */\n",
       "  border: var(--sklearn-color-fitted-level-1) 1pt solid;\n",
       "  color: var(--sklearn-color-fitted-level-1);\n",
       "}\n",
       "\n",
       "/* On hover */\n",
       "div.sk-estimator:hover .sk-estimator-doc-link:hover,\n",
       ".sk-estimator-doc-link:hover,\n",
       "div.sk-label-container:hover .sk-estimator-doc-link:hover,\n",
       ".sk-estimator-doc-link:hover {\n",
       "  /* unfitted */\n",
       "  background-color: var(--sklearn-color-unfitted-level-3);\n",
       "  color: var(--sklearn-color-background);\n",
       "  text-decoration: none;\n",
       "}\n",
       "\n",
       "div.sk-estimator.fitted:hover .sk-estimator-doc-link.fitted:hover,\n",
       ".sk-estimator-doc-link.fitted:hover,\n",
       "div.sk-label-container:hover .sk-estimator-doc-link.fitted:hover,\n",
       ".sk-estimator-doc-link.fitted:hover {\n",
       "  /* fitted */\n",
       "  background-color: var(--sklearn-color-fitted-level-3);\n",
       "  color: var(--sklearn-color-background);\n",
       "  text-decoration: none;\n",
       "}\n",
       "\n",
       "/* Span, style for the box shown on hovering the info icon */\n",
       ".sk-estimator-doc-link span {\n",
       "  display: none;\n",
       "  z-index: 9999;\n",
       "  position: relative;\n",
       "  font-weight: normal;\n",
       "  right: .2ex;\n",
       "  padding: .5ex;\n",
       "  margin: .5ex;\n",
       "  width: min-content;\n",
       "  min-width: 20ex;\n",
       "  max-width: 50ex;\n",
       "  color: var(--sklearn-color-text);\n",
       "  box-shadow: 2pt 2pt 4pt #999;\n",
       "  /* unfitted */\n",
       "  background: var(--sklearn-color-unfitted-level-0);\n",
       "  border: .5pt solid var(--sklearn-color-unfitted-level-3);\n",
       "}\n",
       "\n",
       ".sk-estimator-doc-link.fitted span {\n",
       "  /* fitted */\n",
       "  background: var(--sklearn-color-fitted-level-0);\n",
       "  border: var(--sklearn-color-fitted-level-3);\n",
       "}\n",
       "\n",
       ".sk-estimator-doc-link:hover span {\n",
       "  display: block;\n",
       "}\n",
       "\n",
       "/* \"?\"-specific style due to the `<a>` HTML tag */\n",
       "\n",
       "#sk-container-id-2 a.estimator_doc_link {\n",
       "  float: right;\n",
       "  font-size: 1rem;\n",
       "  line-height: 1em;\n",
       "  font-family: monospace;\n",
       "  background-color: var(--sklearn-color-background);\n",
       "  border-radius: 1rem;\n",
       "  height: 1rem;\n",
       "  width: 1rem;\n",
       "  text-decoration: none;\n",
       "  /* unfitted */\n",
       "  color: var(--sklearn-color-unfitted-level-1);\n",
       "  border: var(--sklearn-color-unfitted-level-1) 1pt solid;\n",
       "}\n",
       "\n",
       "#sk-container-id-2 a.estimator_doc_link.fitted {\n",
       "  /* fitted */\n",
       "  border: var(--sklearn-color-fitted-level-1) 1pt solid;\n",
       "  color: var(--sklearn-color-fitted-level-1);\n",
       "}\n",
       "\n",
       "/* On hover */\n",
       "#sk-container-id-2 a.estimator_doc_link:hover {\n",
       "  /* unfitted */\n",
       "  background-color: var(--sklearn-color-unfitted-level-3);\n",
       "  color: var(--sklearn-color-background);\n",
       "  text-decoration: none;\n",
       "}\n",
       "\n",
       "#sk-container-id-2 a.estimator_doc_link.fitted:hover {\n",
       "  /* fitted */\n",
       "  background-color: var(--sklearn-color-fitted-level-3);\n",
       "}\n",
       "</style><div id=\"sk-container-id-2\" class=\"sk-top-container\"><div class=\"sk-text-repr-fallback\"><pre>KMeans(n_clusters=7, random_state=2747364364)</pre><b>In a Jupyter environment, please rerun this cell to show the HTML representation or trust the notebook. <br />On GitHub, the HTML representation is unable to render, please try loading this page with nbviewer.org.</b></div><div class=\"sk-container\" hidden><div class=\"sk-item\"><div class=\"sk-estimator fitted sk-toggleable\"><input class=\"sk-toggleable__control sk-hidden--visually\" id=\"sk-estimator-id-2\" type=\"checkbox\" checked><label for=\"sk-estimator-id-2\" class=\"sk-toggleable__label fitted sk-toggleable__label-arrow fitted\">&nbsp;&nbsp;KMeans<a class=\"sk-estimator-doc-link fitted\" rel=\"noreferrer\" target=\"_blank\" href=\"https://scikit-learn.org/1.5/modules/generated/sklearn.cluster.KMeans.html\">?<span>Documentation for KMeans</span></a><span class=\"sk-estimator-doc-link fitted\">i<span>Fitted</span></span></label><div class=\"sk-toggleable__content fitted\"><pre>KMeans(n_clusters=7, random_state=2747364364)</pre></div> </div></div></div></div>"
      ],
      "text/plain": [
       "KMeans(n_clusters=7, random_state=2747364364)"
      ]
     },
     "execution_count": 56,
     "metadata": {},
     "output_type": "execute_result"
    }
   ],
   "source": [
    "# clusterer = HDBSCAN()\n",
    "clusterer = KMeans(n_clusters=7, random_state=2747364364)\n",
    "clusterer.fit(X=df_agg[[col for col in df_agg.columns if col not in excep_columns]])"
   ]
  },
  {
   "cell_type": "code",
   "execution_count": 57,
   "metadata": {},
   "outputs": [],
   "source": [
    "df_agg[\"cluster\"] = [f\"cluster_{cluster}\"for cluster in clusterer.labels_]\n",
    "df_agg[\"day_name\"] = df_agg[\"Fecha\"].dt.day_name()"
   ]
  },
  {
   "cell_type": "code",
   "execution_count": 58,
   "metadata": {},
   "outputs": [
    {
     "data": {
      "text/plain": [
       "7"
      ]
     },
     "execution_count": 58,
     "metadata": {},
     "output_type": "execute_result"
    }
   ],
   "source": [
    "df_agg.cluster.nunique()"
   ]
  },
  {
   "cell_type": "code",
   "execution_count": 59,
   "metadata": {},
   "outputs": [
    {
     "data": {
      "text/plain": [
       "{'Fecha': {'cluster_0': [Timestamp('2024-01-01 00:00:00'),\n",
       "   Timestamp('2024-01-02 00:00:00'),\n",
       "   Timestamp('2024-02-08 00:00:00'),\n",
       "   Timestamp('2024-02-28 00:00:00'),\n",
       "   Timestamp('2024-04-23 00:00:00'),\n",
       "   Timestamp('2024-04-24 00:00:00'),\n",
       "   Timestamp('2024-04-25 00:00:00'),\n",
       "   Timestamp('2024-04-26 00:00:00'),\n",
       "   Timestamp('2024-04-27 00:00:00'),\n",
       "   Timestamp('2024-04-28 00:00:00'),\n",
       "   Timestamp('2024-04-29 00:00:00'),\n",
       "   Timestamp('2024-04-30 00:00:00'),\n",
       "   Timestamp('2024-05-01 00:00:00'),\n",
       "   Timestamp('2024-05-02 00:00:00'),\n",
       "   Timestamp('2024-05-03 00:00:00'),\n",
       "   Timestamp('2024-05-04 00:00:00'),\n",
       "   Timestamp('2024-05-05 00:00:00'),\n",
       "   Timestamp('2024-05-06 00:00:00'),\n",
       "   Timestamp('2024-05-07 00:00:00'),\n",
       "   Timestamp('2024-05-08 00:00:00'),\n",
       "   Timestamp('2024-05-09 00:00:00'),\n",
       "   Timestamp('2024-05-10 00:00:00'),\n",
       "   Timestamp('2024-05-11 00:00:00'),\n",
       "   Timestamp('2024-05-12 00:00:00'),\n",
       "   Timestamp('2024-05-13 00:00:00'),\n",
       "   Timestamp('2024-05-14 00:00:00'),\n",
       "   Timestamp('2024-05-15 00:00:00'),\n",
       "   Timestamp('2024-05-16 00:00:00'),\n",
       "   Timestamp('2024-05-17 00:00:00'),\n",
       "   Timestamp('2024-05-18 00:00:00'),\n",
       "   Timestamp('2024-05-19 00:00:00'),\n",
       "   Timestamp('2024-05-20 00:00:00'),\n",
       "   Timestamp('2024-05-21 00:00:00'),\n",
       "   Timestamp('2024-05-22 00:00:00'),\n",
       "   Timestamp('2024-05-26 00:00:00'),\n",
       "   Timestamp('2024-05-30 00:00:00'),\n",
       "   Timestamp('2024-05-31 00:00:00'),\n",
       "   Timestamp('2024-06-01 00:00:00'),\n",
       "   Timestamp('2024-06-02 00:00:00'),\n",
       "   Timestamp('2024-06-03 00:00:00'),\n",
       "   Timestamp('2024-06-04 00:00:00'),\n",
       "   Timestamp('2024-06-06 00:00:00'),\n",
       "   Timestamp('2024-06-07 00:00:00'),\n",
       "   Timestamp('2024-06-08 00:00:00'),\n",
       "   Timestamp('2024-06-09 00:00:00'),\n",
       "   Timestamp('2024-06-10 00:00:00'),\n",
       "   Timestamp('2024-06-11 00:00:00'),\n",
       "   Timestamp('2024-06-12 00:00:00'),\n",
       "   Timestamp('2024-06-13 00:00:00'),\n",
       "   Timestamp('2024-06-14 00:00:00'),\n",
       "   Timestamp('2024-06-15 00:00:00'),\n",
       "   Timestamp('2024-06-16 00:00:00'),\n",
       "   Timestamp('2024-06-17 00:00:00'),\n",
       "   Timestamp('2024-06-18 00:00:00'),\n",
       "   Timestamp('2024-06-19 00:00:00'),\n",
       "   Timestamp('2024-06-20 00:00:00'),\n",
       "   Timestamp('2024-06-21 00:00:00'),\n",
       "   Timestamp('2024-06-22 00:00:00'),\n",
       "   Timestamp('2024-06-23 00:00:00'),\n",
       "   Timestamp('2024-06-24 00:00:00'),\n",
       "   Timestamp('2024-06-25 00:00:00'),\n",
       "   Timestamp('2024-06-26 00:00:00'),\n",
       "   Timestamp('2024-06-27 00:00:00'),\n",
       "   Timestamp('2024-06-28 00:00:00'),\n",
       "   Timestamp('2024-06-29 00:00:00'),\n",
       "   Timestamp('2024-06-30 00:00:00'),\n",
       "   Timestamp('2024-07-01 00:00:00'),\n",
       "   Timestamp('2024-07-02 00:00:00'),\n",
       "   Timestamp('2024-07-03 00:00:00'),\n",
       "   Timestamp('2024-07-04 00:00:00'),\n",
       "   Timestamp('2024-07-05 00:00:00'),\n",
       "   Timestamp('2024-07-06 00:00:00'),\n",
       "   Timestamp('2024-07-07 00:00:00'),\n",
       "   Timestamp('2024-07-08 00:00:00'),\n",
       "   Timestamp('2024-07-09 00:00:00'),\n",
       "   Timestamp('2024-07-10 00:00:00'),\n",
       "   Timestamp('2024-07-12 00:00:00'),\n",
       "   Timestamp('2024-07-13 00:00:00'),\n",
       "   Timestamp('2024-07-14 00:00:00'),\n",
       "   Timestamp('2024-07-15 00:00:00'),\n",
       "   Timestamp('2024-07-16 00:00:00'),\n",
       "   Timestamp('2024-07-17 00:00:00'),\n",
       "   Timestamp('2024-07-18 00:00:00'),\n",
       "   Timestamp('2024-07-19 00:00:00'),\n",
       "   Timestamp('2024-07-20 00:00:00'),\n",
       "   Timestamp('2024-07-21 00:00:00'),\n",
       "   Timestamp('2024-07-24 00:00:00'),\n",
       "   Timestamp('2024-07-25 00:00:00'),\n",
       "   Timestamp('2024-07-26 00:00:00'),\n",
       "   Timestamp('2024-07-27 00:00:00'),\n",
       "   Timestamp('2024-07-28 00:00:00'),\n",
       "   Timestamp('2024-07-29 00:00:00'),\n",
       "   Timestamp('2024-07-30 00:00:00'),\n",
       "   Timestamp('2024-07-31 00:00:00'),\n",
       "   Timestamp('2024-08-02 00:00:00'),\n",
       "   Timestamp('2024-08-11 00:00:00'),\n",
       "   Timestamp('2024-08-26 00:00:00')],\n",
       "  'cluster_1': [Timestamp('2024-10-02 00:00:00'),\n",
       "   Timestamp('2024-10-03 00:00:00'),\n",
       "   Timestamp('2024-10-04 00:00:00'),\n",
       "   Timestamp('2024-10-05 00:00:00'),\n",
       "   Timestamp('2024-10-06 00:00:00'),\n",
       "   Timestamp('2024-10-10 00:00:00'),\n",
       "   Timestamp('2024-10-11 00:00:00'),\n",
       "   Timestamp('2024-10-12 00:00:00'),\n",
       "   Timestamp('2024-10-13 00:00:00'),\n",
       "   Timestamp('2024-10-14 00:00:00'),\n",
       "   Timestamp('2024-10-17 00:00:00'),\n",
       "   Timestamp('2024-10-19 00:00:00'),\n",
       "   Timestamp('2024-10-21 00:00:00'),\n",
       "   Timestamp('2024-10-22 00:00:00'),\n",
       "   Timestamp('2024-10-23 00:00:00'),\n",
       "   Timestamp('2024-10-24 00:00:00'),\n",
       "   Timestamp('2024-10-26 00:00:00'),\n",
       "   Timestamp('2024-10-27 00:00:00'),\n",
       "   Timestamp('2024-11-05 00:00:00'),\n",
       "   Timestamp('2024-11-06 00:00:00'),\n",
       "   Timestamp('2024-11-08 00:00:00')],\n",
       "  'cluster_2': [Timestamp('2024-01-05 00:00:00'),\n",
       "   Timestamp('2024-01-06 00:00:00'),\n",
       "   Timestamp('2024-01-07 00:00:00'),\n",
       "   Timestamp('2024-01-08 00:00:00'),\n",
       "   Timestamp('2024-01-09 00:00:00'),\n",
       "   Timestamp('2024-01-10 00:00:00'),\n",
       "   Timestamp('2024-01-11 00:00:00'),\n",
       "   Timestamp('2024-01-12 00:00:00'),\n",
       "   Timestamp('2024-01-13 00:00:00'),\n",
       "   Timestamp('2024-01-16 00:00:00'),\n",
       "   Timestamp('2024-01-17 00:00:00'),\n",
       "   Timestamp('2024-01-30 00:00:00'),\n",
       "   Timestamp('2024-01-31 00:00:00'),\n",
       "   Timestamp('2024-02-01 00:00:00'),\n",
       "   Timestamp('2024-02-02 00:00:00'),\n",
       "   Timestamp('2024-02-03 00:00:00'),\n",
       "   Timestamp('2024-02-15 00:00:00'),\n",
       "   Timestamp('2024-03-19 00:00:00'),\n",
       "   Timestamp('2024-03-21 00:00:00'),\n",
       "   Timestamp('2024-03-22 00:00:00'),\n",
       "   Timestamp('2024-03-23 00:00:00'),\n",
       "   Timestamp('2024-03-24 00:00:00'),\n",
       "   Timestamp('2024-03-25 00:00:00'),\n",
       "   Timestamp('2024-03-26 00:00:00'),\n",
       "   Timestamp('2024-03-28 00:00:00'),\n",
       "   Timestamp('2024-03-29 00:00:00'),\n",
       "   Timestamp('2024-03-30 00:00:00'),\n",
       "   Timestamp('2024-03-31 00:00:00'),\n",
       "   Timestamp('2024-04-06 00:00:00'),\n",
       "   Timestamp('2024-04-07 00:00:00'),\n",
       "   Timestamp('2024-04-21 00:00:00'),\n",
       "   Timestamp('2024-08-12 00:00:00'),\n",
       "   Timestamp('2024-08-13 00:00:00'),\n",
       "   Timestamp('2024-08-14 00:00:00'),\n",
       "   Timestamp('2024-08-15 00:00:00'),\n",
       "   Timestamp('2024-08-16 00:00:00'),\n",
       "   Timestamp('2024-08-18 00:00:00'),\n",
       "   Timestamp('2024-08-19 00:00:00'),\n",
       "   Timestamp('2024-08-20 00:00:00'),\n",
       "   Timestamp('2024-08-21 00:00:00'),\n",
       "   Timestamp('2024-08-22 00:00:00'),\n",
       "   Timestamp('2024-08-23 00:00:00'),\n",
       "   Timestamp('2024-08-24 00:00:00'),\n",
       "   Timestamp('2024-09-02 00:00:00'),\n",
       "   Timestamp('2024-09-03 00:00:00'),\n",
       "   Timestamp('2024-09-04 00:00:00'),\n",
       "   Timestamp('2024-09-05 00:00:00'),\n",
       "   Timestamp('2024-09-06 00:00:00'),\n",
       "   Timestamp('2024-09-07 00:00:00'),\n",
       "   Timestamp('2024-09-09 00:00:00'),\n",
       "   Timestamp('2024-09-10 00:00:00'),\n",
       "   Timestamp('2024-09-11 00:00:00'),\n",
       "   Timestamp('2024-09-12 00:00:00'),\n",
       "   Timestamp('2024-09-13 00:00:00'),\n",
       "   Timestamp('2024-09-15 00:00:00')],\n",
       "  'cluster_3': [Timestamp('2024-09-30 00:00:00'),\n",
       "   Timestamp('2024-10-31 00:00:00'),\n",
       "   Timestamp('2024-11-01 00:00:00'),\n",
       "   Timestamp('2024-11-02 00:00:00'),\n",
       "   Timestamp('2024-11-03 00:00:00'),\n",
       "   Timestamp('2024-11-04 00:00:00')],\n",
       "  'cluster_4': [Timestamp('2024-03-27 00:00:00'),\n",
       "   Timestamp('2024-04-01 00:00:00'),\n",
       "   Timestamp('2024-04-02 00:00:00'),\n",
       "   Timestamp('2024-04-03 00:00:00'),\n",
       "   Timestamp('2024-04-04 00:00:00'),\n",
       "   Timestamp('2024-04-05 00:00:00'),\n",
       "   Timestamp('2024-04-08 00:00:00'),\n",
       "   Timestamp('2024-04-09 00:00:00'),\n",
       "   Timestamp('2024-04-10 00:00:00'),\n",
       "   Timestamp('2024-04-11 00:00:00'),\n",
       "   Timestamp('2024-04-12 00:00:00'),\n",
       "   Timestamp('2024-04-13 00:00:00'),\n",
       "   Timestamp('2024-04-14 00:00:00'),\n",
       "   Timestamp('2024-04-15 00:00:00'),\n",
       "   Timestamp('2024-04-16 00:00:00'),\n",
       "   Timestamp('2024-04-17 00:00:00'),\n",
       "   Timestamp('2024-04-18 00:00:00'),\n",
       "   Timestamp('2024-04-19 00:00:00'),\n",
       "   Timestamp('2024-04-20 00:00:00'),\n",
       "   Timestamp('2024-09-14 00:00:00'),\n",
       "   Timestamp('2024-09-16 00:00:00'),\n",
       "   Timestamp('2024-09-17 00:00:00'),\n",
       "   Timestamp('2024-09-18 00:00:00'),\n",
       "   Timestamp('2024-09-19 00:00:00'),\n",
       "   Timestamp('2024-09-20 00:00:00'),\n",
       "   Timestamp('2024-09-21 00:00:00'),\n",
       "   Timestamp('2024-09-22 00:00:00'),\n",
       "   Timestamp('2024-09-23 00:00:00'),\n",
       "   Timestamp('2024-09-24 00:00:00'),\n",
       "   Timestamp('2024-09-25 00:00:00'),\n",
       "   Timestamp('2024-09-26 00:00:00'),\n",
       "   Timestamp('2024-09-27 00:00:00'),\n",
       "   Timestamp('2024-09-28 00:00:00'),\n",
       "   Timestamp('2024-09-29 00:00:00'),\n",
       "   Timestamp('2024-10-01 00:00:00'),\n",
       "   Timestamp('2024-10-20 00:00:00'),\n",
       "   Timestamp('2024-11-09 00:00:00'),\n",
       "   Timestamp('2024-11-10 00:00:00')],\n",
       "  'cluster_5': [Timestamp('2024-01-03 00:00:00'),\n",
       "   Timestamp('2024-01-04 00:00:00'),\n",
       "   Timestamp('2024-01-14 00:00:00'),\n",
       "   Timestamp('2024-01-15 00:00:00'),\n",
       "   Timestamp('2024-01-18 00:00:00'),\n",
       "   Timestamp('2024-01-19 00:00:00'),\n",
       "   Timestamp('2024-01-20 00:00:00'),\n",
       "   Timestamp('2024-01-21 00:00:00'),\n",
       "   Timestamp('2024-01-22 00:00:00'),\n",
       "   Timestamp('2024-01-23 00:00:00'),\n",
       "   Timestamp('2024-01-24 00:00:00'),\n",
       "   Timestamp('2024-01-25 00:00:00'),\n",
       "   Timestamp('2024-01-26 00:00:00'),\n",
       "   Timestamp('2024-01-27 00:00:00'),\n",
       "   Timestamp('2024-01-28 00:00:00'),\n",
       "   Timestamp('2024-01-29 00:00:00'),\n",
       "   Timestamp('2024-02-04 00:00:00'),\n",
       "   Timestamp('2024-02-05 00:00:00'),\n",
       "   Timestamp('2024-02-06 00:00:00'),\n",
       "   Timestamp('2024-02-07 00:00:00'),\n",
       "   Timestamp('2024-02-09 00:00:00'),\n",
       "   Timestamp('2024-02-10 00:00:00'),\n",
       "   Timestamp('2024-02-11 00:00:00'),\n",
       "   Timestamp('2024-02-12 00:00:00'),\n",
       "   Timestamp('2024-02-13 00:00:00'),\n",
       "   Timestamp('2024-02-14 00:00:00'),\n",
       "   Timestamp('2024-02-16 00:00:00'),\n",
       "   Timestamp('2024-02-17 00:00:00'),\n",
       "   Timestamp('2024-02-18 00:00:00'),\n",
       "   Timestamp('2024-02-19 00:00:00'),\n",
       "   Timestamp('2024-02-20 00:00:00'),\n",
       "   Timestamp('2024-02-21 00:00:00'),\n",
       "   Timestamp('2024-02-22 00:00:00'),\n",
       "   Timestamp('2024-02-23 00:00:00'),\n",
       "   Timestamp('2024-02-24 00:00:00'),\n",
       "   Timestamp('2024-02-25 00:00:00'),\n",
       "   Timestamp('2024-02-26 00:00:00'),\n",
       "   Timestamp('2024-02-27 00:00:00'),\n",
       "   Timestamp('2024-02-29 00:00:00'),\n",
       "   Timestamp('2024-03-01 00:00:00'),\n",
       "   Timestamp('2024-03-02 00:00:00'),\n",
       "   Timestamp('2024-03-03 00:00:00'),\n",
       "   Timestamp('2024-03-04 00:00:00'),\n",
       "   Timestamp('2024-03-05 00:00:00'),\n",
       "   Timestamp('2024-03-06 00:00:00'),\n",
       "   Timestamp('2024-03-07 00:00:00'),\n",
       "   Timestamp('2024-03-08 00:00:00'),\n",
       "   Timestamp('2024-03-09 00:00:00'),\n",
       "   Timestamp('2024-03-10 00:00:00'),\n",
       "   Timestamp('2024-03-11 00:00:00'),\n",
       "   Timestamp('2024-03-12 00:00:00'),\n",
       "   Timestamp('2024-03-13 00:00:00'),\n",
       "   Timestamp('2024-03-14 00:00:00'),\n",
       "   Timestamp('2024-03-15 00:00:00'),\n",
       "   Timestamp('2024-03-16 00:00:00'),\n",
       "   Timestamp('2024-03-17 00:00:00'),\n",
       "   Timestamp('2024-03-18 00:00:00'),\n",
       "   Timestamp('2024-03-20 00:00:00'),\n",
       "   Timestamp('2024-04-22 00:00:00'),\n",
       "   Timestamp('2024-05-23 00:00:00'),\n",
       "   Timestamp('2024-05-24 00:00:00'),\n",
       "   Timestamp('2024-05-25 00:00:00'),\n",
       "   Timestamp('2024-05-27 00:00:00'),\n",
       "   Timestamp('2024-05-28 00:00:00'),\n",
       "   Timestamp('2024-05-29 00:00:00'),\n",
       "   Timestamp('2024-06-05 00:00:00'),\n",
       "   Timestamp('2024-07-11 00:00:00'),\n",
       "   Timestamp('2024-07-22 00:00:00'),\n",
       "   Timestamp('2024-07-23 00:00:00'),\n",
       "   Timestamp('2024-08-01 00:00:00'),\n",
       "   Timestamp('2024-08-03 00:00:00'),\n",
       "   Timestamp('2024-08-04 00:00:00'),\n",
       "   Timestamp('2024-08-05 00:00:00'),\n",
       "   Timestamp('2024-08-06 00:00:00'),\n",
       "   Timestamp('2024-08-07 00:00:00'),\n",
       "   Timestamp('2024-08-08 00:00:00'),\n",
       "   Timestamp('2024-08-09 00:00:00'),\n",
       "   Timestamp('2024-08-10 00:00:00'),\n",
       "   Timestamp('2024-08-17 00:00:00'),\n",
       "   Timestamp('2024-08-25 00:00:00'),\n",
       "   Timestamp('2024-08-27 00:00:00'),\n",
       "   Timestamp('2024-08-28 00:00:00'),\n",
       "   Timestamp('2024-08-29 00:00:00'),\n",
       "   Timestamp('2024-08-30 00:00:00'),\n",
       "   Timestamp('2024-08-31 00:00:00'),\n",
       "   Timestamp('2024-09-01 00:00:00'),\n",
       "   Timestamp('2024-09-08 00:00:00')],\n",
       "  'cluster_6': [Timestamp('2024-10-07 00:00:00'),\n",
       "   Timestamp('2024-10-08 00:00:00'),\n",
       "   Timestamp('2024-10-09 00:00:00'),\n",
       "   Timestamp('2024-10-15 00:00:00'),\n",
       "   Timestamp('2024-10-16 00:00:00'),\n",
       "   Timestamp('2024-10-18 00:00:00'),\n",
       "   Timestamp('2024-10-25 00:00:00'),\n",
       "   Timestamp('2024-10-28 00:00:00'),\n",
       "   Timestamp('2024-10-29 00:00:00'),\n",
       "   Timestamp('2024-10-30 00:00:00'),\n",
       "   Timestamp('2024-11-07 00:00:00')]}}"
      ]
     },
     "execution_count": 59,
     "metadata": {},
     "output_type": "execute_result"
    }
   ],
   "source": [
    "# with open(\"\")\n",
    "\n",
    "df_agg.groupby(\"cluster\").agg({\"Fecha\": lambda x : list(x)}).to_dict()"
   ]
  },
  {
   "cell_type": "code",
   "execution_count": 60,
   "metadata": {},
   "outputs": [
    {
     "data": {
      "text/plain": [
       "{'Fecha': {'cluster_0': 97,\n",
       "  'cluster_1': 21,\n",
       "  'cluster_2': 55,\n",
       "  'cluster_3': 6,\n",
       "  'cluster_4': 38,\n",
       "  'cluster_5': 87,\n",
       "  'cluster_6': 11}}"
      ]
     },
     "execution_count": 60,
     "metadata": {},
     "output_type": "execute_result"
    }
   ],
   "source": [
    "df_agg.groupby(\"cluster\").agg({\"Fecha\": \"count\"}).to_dict()"
   ]
  },
  {
   "cell_type": "code",
   "execution_count": 61,
   "metadata": {},
   "outputs": [],
   "source": [
    "import plotly.express as px\n",
    "import plotly.graph_objects as go"
   ]
  },
  {
   "cell_type": "code",
   "execution_count": null,
   "metadata": {},
   "outputs": [],
   "source": []
  },
  {
   "cell_type": "code",
   "execution_count": 62,
   "metadata": {},
   "outputs": [
    {
     "data": {
      "application/vnd.plotly.v1+json": {
       "config": {
        "plotlyServerURL": "https://plot.ly"
       },
       "data": [
        {
         "alignmentgroup": "True",
         "hovertemplate": "cluster=cluster_0<br>Fecha=%{x}<br>TOTAL_GEN=%{y}<extra></extra>",
         "legendgroup": "cluster_0",
         "marker": {
          "color": "rgb(228,26,28)",
          "pattern": {
           "shape": ""
          }
         },
         "name": "cluster_0",
         "offsetgroup": "cluster_0",
         "orientation": "v",
         "showlegend": true,
         "textposition": "auto",
         "type": "bar",
         "x": [
          "2024-01-01T00:00:00",
          "2024-01-02T00:00:00",
          "2024-02-08T00:00:00",
          "2024-02-28T00:00:00",
          "2024-04-23T00:00:00",
          "2024-04-24T00:00:00",
          "2024-04-25T00:00:00",
          "2024-04-26T00:00:00",
          "2024-04-27T00:00:00",
          "2024-04-28T00:00:00",
          "2024-04-29T00:00:00",
          "2024-04-30T00:00:00",
          "2024-05-01T00:00:00",
          "2024-05-02T00:00:00",
          "2024-05-03T00:00:00",
          "2024-05-04T00:00:00",
          "2024-05-05T00:00:00",
          "2024-05-06T00:00:00",
          "2024-05-07T00:00:00",
          "2024-05-08T00:00:00",
          "2024-05-09T00:00:00",
          "2024-05-10T00:00:00",
          "2024-05-11T00:00:00",
          "2024-05-12T00:00:00",
          "2024-05-13T00:00:00",
          "2024-05-14T00:00:00",
          "2024-05-15T00:00:00",
          "2024-05-16T00:00:00",
          "2024-05-17T00:00:00",
          "2024-05-18T00:00:00",
          "2024-05-19T00:00:00",
          "2024-05-20T00:00:00",
          "2024-05-21T00:00:00",
          "2024-05-22T00:00:00",
          "2024-05-26T00:00:00",
          "2024-05-30T00:00:00",
          "2024-05-31T00:00:00",
          "2024-06-01T00:00:00",
          "2024-06-02T00:00:00",
          "2024-06-03T00:00:00",
          "2024-06-04T00:00:00",
          "2024-06-06T00:00:00",
          "2024-06-07T00:00:00",
          "2024-06-08T00:00:00",
          "2024-06-09T00:00:00",
          "2024-06-10T00:00:00",
          "2024-06-11T00:00:00",
          "2024-06-12T00:00:00",
          "2024-06-13T00:00:00",
          "2024-06-14T00:00:00",
          "2024-06-15T00:00:00",
          "2024-06-16T00:00:00",
          "2024-06-17T00:00:00",
          "2024-06-18T00:00:00",
          "2024-06-19T00:00:00",
          "2024-06-20T00:00:00",
          "2024-06-21T00:00:00",
          "2024-06-22T00:00:00",
          "2024-06-23T00:00:00",
          "2024-06-24T00:00:00",
          "2024-06-25T00:00:00",
          "2024-06-26T00:00:00",
          "2024-06-27T00:00:00",
          "2024-06-28T00:00:00",
          "2024-06-29T00:00:00",
          "2024-06-30T00:00:00",
          "2024-07-01T00:00:00",
          "2024-07-02T00:00:00",
          "2024-07-03T00:00:00",
          "2024-07-04T00:00:00",
          "2024-07-05T00:00:00",
          "2024-07-06T00:00:00",
          "2024-07-07T00:00:00",
          "2024-07-08T00:00:00",
          "2024-07-09T00:00:00",
          "2024-07-10T00:00:00",
          "2024-07-12T00:00:00",
          "2024-07-13T00:00:00",
          "2024-07-14T00:00:00",
          "2024-07-15T00:00:00",
          "2024-07-16T00:00:00",
          "2024-07-17T00:00:00",
          "2024-07-18T00:00:00",
          "2024-07-19T00:00:00",
          "2024-07-20T00:00:00",
          "2024-07-21T00:00:00",
          "2024-07-24T00:00:00",
          "2024-07-25T00:00:00",
          "2024-07-26T00:00:00",
          "2024-07-27T00:00:00",
          "2024-07-28T00:00:00",
          "2024-07-29T00:00:00",
          "2024-07-30T00:00:00",
          "2024-07-31T00:00:00",
          "2024-08-02T00:00:00",
          "2024-08-11T00:00:00",
          "2024-08-26T00:00:00"
         ],
         "xaxis": "x",
         "y": [
          176.15349609,
          206.68762949,
          222.76889283999998,
          236.89449671999998,
          225.09492152999997,
          230.40257579,
          231.73086482999997,
          224.47978920999998,
          217.16553747999998,
          194.18878673,
          222.35454111,
          233.85816407000004,
          217.47009347,
          232.85749857999997,
          232.14583715999999,
          217.43927243,
          199.78094903000002,
          232.52979048999998,
          234.56904201999998,
          232.61527848999998,
          226.21927268999997,
          229.34591684999998,
          222.27286914999996,
          199.46668255999998,
          206.99311267,
          230.86461161,
          230.86166027000002,
          233.12289949,
          233.6026251,
          226.03708389000002,
          210.84175222,
          234.57576014999998,
          227.79660884,
          226.74407485,
          204.04385636,
          227.82615049999998,
          227.86535360999997,
          222.34305584999998,
          205.20933424999998,
          206.24119403,
          224.59566959999995,
          227.24073248,
          227.65237566000002,
          221.17141042999995,
          196.8029133,
          202.10417151000001,
          221.62679361999997,
          226.05719545,
          222.72340844000001,
          220.68461829999998,
          208.76278650999998,
          192.66625656999997,
          226.60732615999999,
          227.76057624999999,
          224.71719466000002,
          223.33554862,
          232.70566479999997,
          220.5183536,
          193.37584648,
          220.65989877999996,
          221.35614078,
          218.29517368,
          219.06602784,
          224.28420875999998,
          214.87916992999996,
          198.03327917,
          200.77963189,
          227.97766384000002,
          230.50362372,
          227.90552745999997,
          220.42533306999997,
          216.04592101000003,
          198.87187536,
          227.20482622,
          231.1140096,
          231.91799615,
          232.77961266,
          221.20624892,
          203.13122259,
          227.24002704,
          229.92317405,
          233.62095044,
          230.28231827,
          227.12467176,
          209.36747190999998,
          202.15832938,
          232.61691878000002,
          236.70477085999994,
          237.74796116,
          224.09481282999997,
          205.14943397,
          239.73410027999998,
          245.11038208999997,
          244.76233804999998,
          242.8994649,
          206.49406799,
          228.71556586000003
         ],
         "yaxis": "y"
        },
        {
         "alignmentgroup": "True",
         "hovertemplate": "cluster=cluster_5<br>Fecha=%{x}<br>TOTAL_GEN=%{y}<extra></extra>",
         "legendgroup": "cluster_5",
         "marker": {
          "color": "rgb(55,126,184)",
          "pattern": {
           "shape": ""
          }
         },
         "name": "cluster_5",
         "offsetgroup": "cluster_5",
         "orientation": "v",
         "showlegend": true,
         "textposition": "auto",
         "type": "bar",
         "x": [
          "2024-01-03T00:00:00",
          "2024-01-04T00:00:00",
          "2024-01-14T00:00:00",
          "2024-01-15T00:00:00",
          "2024-01-18T00:00:00",
          "2024-01-19T00:00:00",
          "2024-01-20T00:00:00",
          "2024-01-21T00:00:00",
          "2024-01-22T00:00:00",
          "2024-01-23T00:00:00",
          "2024-01-24T00:00:00",
          "2024-01-25T00:00:00",
          "2024-01-26T00:00:00",
          "2024-01-27T00:00:00",
          "2024-01-28T00:00:00",
          "2024-01-29T00:00:00",
          "2024-02-04T00:00:00",
          "2024-02-05T00:00:00",
          "2024-02-06T00:00:00",
          "2024-02-07T00:00:00",
          "2024-02-09T00:00:00",
          "2024-02-10T00:00:00",
          "2024-02-11T00:00:00",
          "2024-02-12T00:00:00",
          "2024-02-13T00:00:00",
          "2024-02-14T00:00:00",
          "2024-02-16T00:00:00",
          "2024-02-17T00:00:00",
          "2024-02-18T00:00:00",
          "2024-02-19T00:00:00",
          "2024-02-20T00:00:00",
          "2024-02-21T00:00:00",
          "2024-02-22T00:00:00",
          "2024-02-23T00:00:00",
          "2024-02-24T00:00:00",
          "2024-02-25T00:00:00",
          "2024-02-26T00:00:00",
          "2024-02-27T00:00:00",
          "2024-02-29T00:00:00",
          "2024-03-01T00:00:00",
          "2024-03-02T00:00:00",
          "2024-03-03T00:00:00",
          "2024-03-04T00:00:00",
          "2024-03-05T00:00:00",
          "2024-03-06T00:00:00",
          "2024-03-07T00:00:00",
          "2024-03-08T00:00:00",
          "2024-03-09T00:00:00",
          "2024-03-10T00:00:00",
          "2024-03-11T00:00:00",
          "2024-03-12T00:00:00",
          "2024-03-13T00:00:00",
          "2024-03-14T00:00:00",
          "2024-03-15T00:00:00",
          "2024-03-16T00:00:00",
          "2024-03-17T00:00:00",
          "2024-03-18T00:00:00",
          "2024-03-20T00:00:00",
          "2024-04-22T00:00:00",
          "2024-05-23T00:00:00",
          "2024-05-24T00:00:00",
          "2024-05-25T00:00:00",
          "2024-05-27T00:00:00",
          "2024-05-28T00:00:00",
          "2024-05-29T00:00:00",
          "2024-06-05T00:00:00",
          "2024-07-11T00:00:00",
          "2024-07-22T00:00:00",
          "2024-07-23T00:00:00",
          "2024-08-01T00:00:00",
          "2024-08-03T00:00:00",
          "2024-08-04T00:00:00",
          "2024-08-05T00:00:00",
          "2024-08-06T00:00:00",
          "2024-08-07T00:00:00",
          "2024-08-08T00:00:00",
          "2024-08-09T00:00:00",
          "2024-08-10T00:00:00",
          "2024-08-17T00:00:00",
          "2024-08-25T00:00:00",
          "2024-08-27T00:00:00",
          "2024-08-28T00:00:00",
          "2024-08-29T00:00:00",
          "2024-08-30T00:00:00",
          "2024-08-31T00:00:00",
          "2024-09-01T00:00:00",
          "2024-09-08T00:00:00"
         ],
         "xaxis": "x",
         "y": [
          214.84660330999998,
          219.397599,
          211.30603071999997,
          235.18849208,
          235.50437997999995,
          236.19123232,
          225.57288096999997,
          205.02085078999997,
          230.51911846999997,
          234.51229050999999,
          234.78910437999997,
          234.55163513999997,
          235.27164111999997,
          225.58438807,
          204.52091836999998,
          236.05334345,
          198.45342876,
          223.09870021999998,
          225.60238718,
          222.61415078,
          226.07320162999997,
          219.22461296999998,
          203.14430076,
          230.42101493,
          234.51664406999998,
          236.1305164,
          238.94392312999997,
          229.50474142999997,
          205.534504,
          232.35755939999999,
          235.32360939,
          230.46265185000001,
          228.59365468999997,
          230.44330664,
          222.22835861,
          202.11827585999998,
          227.79064353999996,
          233.50760057000002,
          238.83103537,
          236.38596754,
          226.73111034,
          203.61502615999999,
          236.18915303999998,
          240.67939422999996,
          243.49711126,
          244.04170477,
          246.64050252,
          233.39931608,
          213.16662379000002,
          241.18654644,
          245.23687594999998,
          246.38454716,
          247.40888434,
          247.08178648999998,
          236.95867061,
          214.42134070999998,
          243.55524032,
          243.02236489999996,
          220.38639371,
          229.36542229,
          235.77193701,
          223.70246558000002,
          224.61280327,
          230.53495571,
          228.38334835,
          226.08133707,
          233.50734333999998,
          229.48915347999997,
          231.84002696,
          241.32854905,
          234.2514253,
          214.52209026999998,
          239.11649315999995,
          237.29494695999998,
          218.87242596,
          240.85360047999998,
          240.71685076999998,
          226.22862224999997,
          229.10512193,
          211.07488415,
          237.88741251000002,
          247.05409778,
          249.78575363,
          247.34304707999996,
          234.35807555999997,
          210.34474394,
          214.96772787999998
         ],
         "yaxis": "y"
        },
        {
         "alignmentgroup": "True",
         "hovertemplate": "cluster=cluster_2<br>Fecha=%{x}<br>TOTAL_GEN=%{y}<extra></extra>",
         "legendgroup": "cluster_2",
         "marker": {
          "color": "rgb(77,175,74)",
          "pattern": {
           "shape": ""
          }
         },
         "name": "cluster_2",
         "offsetgroup": "cluster_2",
         "orientation": "v",
         "showlegend": true,
         "textposition": "auto",
         "type": "bar",
         "x": [
          "2024-01-05T00:00:00",
          "2024-01-06T00:00:00",
          "2024-01-07T00:00:00",
          "2024-01-08T00:00:00",
          "2024-01-09T00:00:00",
          "2024-01-10T00:00:00",
          "2024-01-11T00:00:00",
          "2024-01-12T00:00:00",
          "2024-01-13T00:00:00",
          "2024-01-16T00:00:00",
          "2024-01-17T00:00:00",
          "2024-01-30T00:00:00",
          "2024-01-31T00:00:00",
          "2024-02-01T00:00:00",
          "2024-02-02T00:00:00",
          "2024-02-03T00:00:00",
          "2024-02-15T00:00:00",
          "2024-03-19T00:00:00",
          "2024-03-21T00:00:00",
          "2024-03-22T00:00:00",
          "2024-03-23T00:00:00",
          "2024-03-24T00:00:00",
          "2024-03-25T00:00:00",
          "2024-03-26T00:00:00",
          "2024-03-28T00:00:00",
          "2024-03-29T00:00:00",
          "2024-03-30T00:00:00",
          "2024-03-31T00:00:00",
          "2024-04-06T00:00:00",
          "2024-04-07T00:00:00",
          "2024-04-21T00:00:00",
          "2024-08-12T00:00:00",
          "2024-08-13T00:00:00",
          "2024-08-14T00:00:00",
          "2024-08-15T00:00:00",
          "2024-08-16T00:00:00",
          "2024-08-18T00:00:00",
          "2024-08-19T00:00:00",
          "2024-08-20T00:00:00",
          "2024-08-21T00:00:00",
          "2024-08-22T00:00:00",
          "2024-08-23T00:00:00",
          "2024-08-24T00:00:00",
          "2024-09-02T00:00:00",
          "2024-09-03T00:00:00",
          "2024-09-04T00:00:00",
          "2024-09-05T00:00:00",
          "2024-09-06T00:00:00",
          "2024-09-07T00:00:00",
          "2024-09-09T00:00:00",
          "2024-09-10T00:00:00",
          "2024-09-11T00:00:00",
          "2024-09-12T00:00:00",
          "2024-09-13T00:00:00",
          "2024-09-15T00:00:00"
         ],
         "xaxis": "x",
         "y": [
          221.26748069999996,
          212.21834743,
          196.79519154,
          200.52539517999998,
          223.63196687999996,
          231.0187927,
          232.20228906,
          236.94556107,
          227.248156,
          238.24657695,
          235.33658243999997,
          241.14839391000004,
          238.61271871,
          236.71893496,
          228.77194195,
          216.69048557999997,
          237.605263,
          245.42505404999997,
          241.27019187000002,
          242.56777069999998,
          232.90565931,
          215.17311313,
          219.90623741999997,
          237.18880214,
          204.9561269,
          197.19647441,
          211.85623384,
          207.17346781,
          229.33430026,
          212.35218157999998,
          200.34355917,
          237.41938384,
          235.29635303999999,
          241.67891927999997,
          247.06992613,
          246.42450681000003,
          204.81862905,
          218.19754219,
          242.46014724,
          243.26206158000002,
          239.62831251999998,
          240.15374273,
          226.83128087999998,
          238.44408067999998,
          242.83331977000003,
          241.68546581,
          241.60732570000005,
          241.75941728,
          229.05195384,
          244.48909787,
          247.41747593,
          249.93225336999998,
          245.10130240999996,
          249.09342927999995,
          223.38808648
         ],
         "yaxis": "y"
        },
        {
         "alignmentgroup": "True",
         "hovertemplate": "cluster=cluster_4<br>Fecha=%{x}<br>TOTAL_GEN=%{y}<extra></extra>",
         "legendgroup": "cluster_4",
         "marker": {
          "color": "rgb(152,78,163)",
          "pattern": {
           "shape": ""
          }
         },
         "name": "cluster_4",
         "offsetgroup": "cluster_4",
         "orientation": "v",
         "showlegend": true,
         "textposition": "auto",
         "type": "bar",
         "x": [
          "2024-03-27T00:00:00",
          "2024-04-01T00:00:00",
          "2024-04-02T00:00:00",
          "2024-04-03T00:00:00",
          "2024-04-04T00:00:00",
          "2024-04-05T00:00:00",
          "2024-04-08T00:00:00",
          "2024-04-09T00:00:00",
          "2024-04-10T00:00:00",
          "2024-04-11T00:00:00",
          "2024-04-12T00:00:00",
          "2024-04-13T00:00:00",
          "2024-04-14T00:00:00",
          "2024-04-15T00:00:00",
          "2024-04-16T00:00:00",
          "2024-04-17T00:00:00",
          "2024-04-18T00:00:00",
          "2024-04-19T00:00:00",
          "2024-04-20T00:00:00",
          "2024-09-14T00:00:00",
          "2024-09-16T00:00:00",
          "2024-09-17T00:00:00",
          "2024-09-18T00:00:00",
          "2024-09-19T00:00:00",
          "2024-09-20T00:00:00",
          "2024-09-21T00:00:00",
          "2024-09-22T00:00:00",
          "2024-09-23T00:00:00",
          "2024-09-24T00:00:00",
          "2024-09-25T00:00:00",
          "2024-09-26T00:00:00",
          "2024-09-27T00:00:00",
          "2024-09-28T00:00:00",
          "2024-09-29T00:00:00",
          "2024-10-01T00:00:00",
          "2024-10-20T00:00:00",
          "2024-11-09T00:00:00",
          "2024-11-10T00:00:00"
         ],
         "xaxis": "x",
         "y": [
          225.87140782,
          232.06257867,
          229.75653122999998,
          231.36150203,
          230.65906364,
          236.99014523,
          235.82903499999998,
          235.50049997,
          239.74388955999999,
          243.39837718999996,
          241.97732985,
          229.37579391999998,
          208.20697478999998,
          235.53319802,
          239.39337052999997,
          238.89615848,
          236.64387317999999,
          232.03034805,
          221.75367586,
          242.62017078,
          247.72219962999998,
          237.90816680999995,
          249.09126025999998,
          250.16432869,
          242.20733493,
          233.88195033,
          209.49894207,
          237.45646464999996,
          246.63886242999996,
          245.32303270999995,
          239.14031595999995,
          241.63425691999998,
          231.00237857,
          205.94037694999997,
          233.48947884999998,
          203.80130276999998,
          212.80255150999994,
          192.95901723
         ],
         "yaxis": "y"
        },
        {
         "alignmentgroup": "True",
         "hovertemplate": "cluster=cluster_3<br>Fecha=%{x}<br>TOTAL_GEN=%{y}<extra></extra>",
         "legendgroup": "cluster_3",
         "marker": {
          "color": "rgb(255,127,0)",
          "pattern": {
           "shape": ""
          }
         },
         "name": "cluster_3",
         "offsetgroup": "cluster_3",
         "orientation": "v",
         "showlegend": true,
         "textposition": "auto",
         "type": "bar",
         "x": [
          "2024-09-30T00:00:00",
          "2024-10-31T00:00:00",
          "2024-11-01T00:00:00",
          "2024-11-02T00:00:00",
          "2024-11-03T00:00:00",
          "2024-11-04T00:00:00"
         ],
         "xaxis": "x",
         "y": [
          220.31643825999998,
          225.06006168,
          222.24634641,
          213.70190136000002,
          193.31212247000002,
          197.09107168999998
         ],
         "yaxis": "y"
        },
        {
         "alignmentgroup": "True",
         "hovertemplate": "cluster=cluster_1<br>Fecha=%{x}<br>TOTAL_GEN=%{y}<extra></extra>",
         "legendgroup": "cluster_1",
         "marker": {
          "color": "rgb(255,255,51)",
          "pattern": {
           "shape": ""
          }
         },
         "name": "cluster_1",
         "offsetgroup": "cluster_1",
         "orientation": "v",
         "showlegend": true,
         "textposition": "auto",
         "type": "bar",
         "x": [
          "2024-10-02T00:00:00",
          "2024-10-03T00:00:00",
          "2024-10-04T00:00:00",
          "2024-10-05T00:00:00",
          "2024-10-06T00:00:00",
          "2024-10-10T00:00:00",
          "2024-10-11T00:00:00",
          "2024-10-12T00:00:00",
          "2024-10-13T00:00:00",
          "2024-10-14T00:00:00",
          "2024-10-17T00:00:00",
          "2024-10-19T00:00:00",
          "2024-10-21T00:00:00",
          "2024-10-22T00:00:00",
          "2024-10-23T00:00:00",
          "2024-10-24T00:00:00",
          "2024-10-26T00:00:00",
          "2024-10-27T00:00:00",
          "2024-11-05T00:00:00",
          "2024-11-06T00:00:00",
          "2024-11-08T00:00:00"
         ],
         "xaxis": "x",
         "y": [
          231.92932645,
          233.32808336999997,
          234.6561919,
          221.37111188,
          201.16594521999997,
          228.45739586999997,
          229.52560362999998,
          221.60987933999996,
          201.56799959,
          205.53752364,
          235.74120632999998,
          227.59055754999997,
          226.97073698999998,
          230.04436527,
          231.75005915000003,
          235.51829415999998,
          230.95623586,
          211.65253414,
          225.12561333999997,
          229.98423283,
          225.18866795
         ],
         "yaxis": "y"
        },
        {
         "alignmentgroup": "True",
         "hovertemplate": "cluster=cluster_6<br>Fecha=%{x}<br>TOTAL_GEN=%{y}<extra></extra>",
         "legendgroup": "cluster_6",
         "marker": {
          "color": "rgb(166,86,40)",
          "pattern": {
           "shape": ""
          }
         },
         "name": "cluster_6",
         "offsetgroup": "cluster_6",
         "orientation": "v",
         "showlegend": true,
         "textposition": "auto",
         "type": "bar",
         "x": [
          "2024-10-07T00:00:00",
          "2024-10-08T00:00:00",
          "2024-10-09T00:00:00",
          "2024-10-15T00:00:00",
          "2024-10-16T00:00:00",
          "2024-10-18T00:00:00",
          "2024-10-25T00:00:00",
          "2024-10-28T00:00:00",
          "2024-10-29T00:00:00",
          "2024-10-30T00:00:00",
          "2024-11-07T00:00:00"
         ],
         "xaxis": "x",
         "y": [
          224.8681595,
          224.97454504999996,
          229.32818107,
          227.08057968999998,
          229.39184609,
          240.87838918,
          238.83797856,
          232.81584727,
          236.74378454,
          235.63822936,
          229.58003174
         ],
         "yaxis": "y"
        },
        {
         "line": {
          "color": "black",
          "width": 1
         },
         "mode": "lines",
         "name": "Termica",
         "type": "scatter",
         "x": [
          "2024-01-01T00:00:00",
          "2024-01-02T00:00:00",
          "2024-01-03T00:00:00",
          "2024-01-04T00:00:00",
          "2024-01-05T00:00:00",
          "2024-01-06T00:00:00",
          "2024-01-07T00:00:00",
          "2024-01-08T00:00:00",
          "2024-01-09T00:00:00",
          "2024-01-10T00:00:00",
          "2024-01-11T00:00:00",
          "2024-01-12T00:00:00",
          "2024-01-13T00:00:00",
          "2024-01-14T00:00:00",
          "2024-01-15T00:00:00",
          "2024-01-16T00:00:00",
          "2024-01-17T00:00:00",
          "2024-01-18T00:00:00",
          "2024-01-19T00:00:00",
          "2024-01-20T00:00:00",
          "2024-01-21T00:00:00",
          "2024-01-22T00:00:00",
          "2024-01-23T00:00:00",
          "2024-01-24T00:00:00",
          "2024-01-25T00:00:00",
          "2024-01-26T00:00:00",
          "2024-01-27T00:00:00",
          "2024-01-28T00:00:00",
          "2024-01-29T00:00:00",
          "2024-01-30T00:00:00",
          "2024-01-31T00:00:00",
          "2024-02-01T00:00:00",
          "2024-02-02T00:00:00",
          "2024-02-03T00:00:00",
          "2024-02-04T00:00:00",
          "2024-02-05T00:00:00",
          "2024-02-06T00:00:00",
          "2024-02-07T00:00:00",
          "2024-02-08T00:00:00",
          "2024-02-09T00:00:00",
          "2024-02-10T00:00:00",
          "2024-02-11T00:00:00",
          "2024-02-12T00:00:00",
          "2024-02-13T00:00:00",
          "2024-02-14T00:00:00",
          "2024-02-15T00:00:00",
          "2024-02-16T00:00:00",
          "2024-02-17T00:00:00",
          "2024-02-18T00:00:00",
          "2024-02-19T00:00:00",
          "2024-02-20T00:00:00",
          "2024-02-21T00:00:00",
          "2024-02-22T00:00:00",
          "2024-02-23T00:00:00",
          "2024-02-24T00:00:00",
          "2024-02-25T00:00:00",
          "2024-02-26T00:00:00",
          "2024-02-27T00:00:00",
          "2024-02-28T00:00:00",
          "2024-02-29T00:00:00",
          "2024-03-01T00:00:00",
          "2024-03-02T00:00:00",
          "2024-03-03T00:00:00",
          "2024-03-04T00:00:00",
          "2024-03-05T00:00:00",
          "2024-03-06T00:00:00",
          "2024-03-07T00:00:00",
          "2024-03-08T00:00:00",
          "2024-03-09T00:00:00",
          "2024-03-10T00:00:00",
          "2024-03-11T00:00:00",
          "2024-03-12T00:00:00",
          "2024-03-13T00:00:00",
          "2024-03-14T00:00:00",
          "2024-03-15T00:00:00",
          "2024-03-16T00:00:00",
          "2024-03-17T00:00:00",
          "2024-03-18T00:00:00",
          "2024-03-19T00:00:00",
          "2024-03-20T00:00:00",
          "2024-03-21T00:00:00",
          "2024-03-22T00:00:00",
          "2024-03-23T00:00:00",
          "2024-03-24T00:00:00",
          "2024-03-25T00:00:00",
          "2024-03-26T00:00:00",
          "2024-03-27T00:00:00",
          "2024-03-28T00:00:00",
          "2024-03-29T00:00:00",
          "2024-03-30T00:00:00",
          "2024-03-31T00:00:00",
          "2024-04-01T00:00:00",
          "2024-04-02T00:00:00",
          "2024-04-03T00:00:00",
          "2024-04-04T00:00:00",
          "2024-04-05T00:00:00",
          "2024-04-06T00:00:00",
          "2024-04-07T00:00:00",
          "2024-04-08T00:00:00",
          "2024-04-09T00:00:00",
          "2024-04-10T00:00:00",
          "2024-04-11T00:00:00",
          "2024-04-12T00:00:00",
          "2024-04-13T00:00:00",
          "2024-04-14T00:00:00",
          "2024-04-15T00:00:00",
          "2024-04-16T00:00:00",
          "2024-04-17T00:00:00",
          "2024-04-18T00:00:00",
          "2024-04-19T00:00:00",
          "2024-04-20T00:00:00",
          "2024-04-21T00:00:00",
          "2024-04-22T00:00:00",
          "2024-04-23T00:00:00",
          "2024-04-24T00:00:00",
          "2024-04-25T00:00:00",
          "2024-04-26T00:00:00",
          "2024-04-27T00:00:00",
          "2024-04-28T00:00:00",
          "2024-04-29T00:00:00",
          "2024-04-30T00:00:00",
          "2024-05-01T00:00:00",
          "2024-05-02T00:00:00",
          "2024-05-03T00:00:00",
          "2024-05-04T00:00:00",
          "2024-05-05T00:00:00",
          "2024-05-06T00:00:00",
          "2024-05-07T00:00:00",
          "2024-05-08T00:00:00",
          "2024-05-09T00:00:00",
          "2024-05-10T00:00:00",
          "2024-05-11T00:00:00",
          "2024-05-12T00:00:00",
          "2024-05-13T00:00:00",
          "2024-05-14T00:00:00",
          "2024-05-15T00:00:00",
          "2024-05-16T00:00:00",
          "2024-05-17T00:00:00",
          "2024-05-18T00:00:00",
          "2024-05-19T00:00:00",
          "2024-05-20T00:00:00",
          "2024-05-21T00:00:00",
          "2024-05-22T00:00:00",
          "2024-05-23T00:00:00",
          "2024-05-24T00:00:00",
          "2024-05-25T00:00:00",
          "2024-05-26T00:00:00",
          "2024-05-27T00:00:00",
          "2024-05-28T00:00:00",
          "2024-05-29T00:00:00",
          "2024-05-30T00:00:00",
          "2024-05-31T00:00:00",
          "2024-06-01T00:00:00",
          "2024-06-02T00:00:00",
          "2024-06-03T00:00:00",
          "2024-06-04T00:00:00",
          "2024-06-05T00:00:00",
          "2024-06-06T00:00:00",
          "2024-06-07T00:00:00",
          "2024-06-08T00:00:00",
          "2024-06-09T00:00:00",
          "2024-06-10T00:00:00",
          "2024-06-11T00:00:00",
          "2024-06-12T00:00:00",
          "2024-06-13T00:00:00",
          "2024-06-14T00:00:00",
          "2024-06-15T00:00:00",
          "2024-06-16T00:00:00",
          "2024-06-17T00:00:00",
          "2024-06-18T00:00:00",
          "2024-06-19T00:00:00",
          "2024-06-20T00:00:00",
          "2024-06-21T00:00:00",
          "2024-06-22T00:00:00",
          "2024-06-23T00:00:00",
          "2024-06-24T00:00:00",
          "2024-06-25T00:00:00",
          "2024-06-26T00:00:00",
          "2024-06-27T00:00:00",
          "2024-06-28T00:00:00",
          "2024-06-29T00:00:00",
          "2024-06-30T00:00:00",
          "2024-07-01T00:00:00",
          "2024-07-02T00:00:00",
          "2024-07-03T00:00:00",
          "2024-07-04T00:00:00",
          "2024-07-05T00:00:00",
          "2024-07-06T00:00:00",
          "2024-07-07T00:00:00",
          "2024-07-08T00:00:00",
          "2024-07-09T00:00:00",
          "2024-07-10T00:00:00",
          "2024-07-11T00:00:00",
          "2024-07-12T00:00:00",
          "2024-07-13T00:00:00",
          "2024-07-14T00:00:00",
          "2024-07-15T00:00:00",
          "2024-07-16T00:00:00",
          "2024-07-17T00:00:00",
          "2024-07-18T00:00:00",
          "2024-07-19T00:00:00",
          "2024-07-20T00:00:00",
          "2024-07-21T00:00:00",
          "2024-07-22T00:00:00",
          "2024-07-23T00:00:00",
          "2024-07-24T00:00:00",
          "2024-07-25T00:00:00",
          "2024-07-26T00:00:00",
          "2024-07-27T00:00:00",
          "2024-07-28T00:00:00",
          "2024-07-29T00:00:00",
          "2024-07-30T00:00:00",
          "2024-07-31T00:00:00",
          "2024-08-01T00:00:00",
          "2024-08-02T00:00:00",
          "2024-08-03T00:00:00",
          "2024-08-04T00:00:00",
          "2024-08-05T00:00:00",
          "2024-08-06T00:00:00",
          "2024-08-07T00:00:00",
          "2024-08-08T00:00:00",
          "2024-08-09T00:00:00",
          "2024-08-10T00:00:00",
          "2024-08-11T00:00:00",
          "2024-08-12T00:00:00",
          "2024-08-13T00:00:00",
          "2024-08-14T00:00:00",
          "2024-08-15T00:00:00",
          "2024-08-16T00:00:00",
          "2024-08-17T00:00:00",
          "2024-08-18T00:00:00",
          "2024-08-19T00:00:00",
          "2024-08-20T00:00:00",
          "2024-08-21T00:00:00",
          "2024-08-22T00:00:00",
          "2024-08-23T00:00:00",
          "2024-08-24T00:00:00",
          "2024-08-25T00:00:00",
          "2024-08-26T00:00:00",
          "2024-08-27T00:00:00",
          "2024-08-28T00:00:00",
          "2024-08-29T00:00:00",
          "2024-08-30T00:00:00",
          "2024-08-31T00:00:00",
          "2024-09-01T00:00:00",
          "2024-09-02T00:00:00",
          "2024-09-03T00:00:00",
          "2024-09-04T00:00:00",
          "2024-09-05T00:00:00",
          "2024-09-06T00:00:00",
          "2024-09-07T00:00:00",
          "2024-09-08T00:00:00",
          "2024-09-09T00:00:00",
          "2024-09-10T00:00:00",
          "2024-09-11T00:00:00",
          "2024-09-12T00:00:00",
          "2024-09-13T00:00:00",
          "2024-09-14T00:00:00",
          "2024-09-15T00:00:00",
          "2024-09-16T00:00:00",
          "2024-09-17T00:00:00",
          "2024-09-18T00:00:00",
          "2024-09-19T00:00:00",
          "2024-09-20T00:00:00",
          "2024-09-21T00:00:00",
          "2024-09-22T00:00:00",
          "2024-09-23T00:00:00",
          "2024-09-24T00:00:00",
          "2024-09-25T00:00:00",
          "2024-09-26T00:00:00",
          "2024-09-27T00:00:00",
          "2024-09-28T00:00:00",
          "2024-09-29T00:00:00",
          "2024-09-30T00:00:00",
          "2024-10-01T00:00:00",
          "2024-10-02T00:00:00",
          "2024-10-03T00:00:00",
          "2024-10-04T00:00:00",
          "2024-10-05T00:00:00",
          "2024-10-06T00:00:00",
          "2024-10-07T00:00:00",
          "2024-10-08T00:00:00",
          "2024-10-09T00:00:00",
          "2024-10-10T00:00:00",
          "2024-10-11T00:00:00",
          "2024-10-12T00:00:00",
          "2024-10-13T00:00:00",
          "2024-10-14T00:00:00",
          "2024-10-15T00:00:00",
          "2024-10-16T00:00:00",
          "2024-10-17T00:00:00",
          "2024-10-18T00:00:00",
          "2024-10-19T00:00:00",
          "2024-10-20T00:00:00",
          "2024-10-21T00:00:00",
          "2024-10-22T00:00:00",
          "2024-10-23T00:00:00",
          "2024-10-24T00:00:00",
          "2024-10-25T00:00:00",
          "2024-10-26T00:00:00",
          "2024-10-27T00:00:00",
          "2024-10-28T00:00:00",
          "2024-10-29T00:00:00",
          "2024-10-30T00:00:00",
          "2024-10-31T00:00:00",
          "2024-11-01T00:00:00",
          "2024-11-02T00:00:00",
          "2024-11-03T00:00:00",
          "2024-11-04T00:00:00",
          "2024-11-05T00:00:00",
          "2024-11-06T00:00:00",
          "2024-11-07T00:00:00",
          "2024-11-08T00:00:00",
          "2024-11-09T00:00:00",
          "2024-11-10T00:00:00"
         ],
         "y": [
          25.09585457,
          36.476359450000004,
          40.74664865999999,
          49.89166143,
          52.35776729999999,
          61.76867343999999,
          55.112122209999995,
          60.745905029999996,
          65.95076333,
          69.61700104,
          70.46479339,
          80.88851745,
          94.13314984,
          95.43920763999999,
          87.68048691,
          83.67157646999999,
          66.87218132,
          64.64048575999999,
          62.71825404,
          75.66053063999999,
          67.39949922,
          78.85218207999999,
          77.75869308,
          80.41958579,
          81.99317579999999,
          70.89703248999999,
          60.540043479999994,
          51.73844268,
          60.30724943,
          73.20496389,
          71.78143759,
          77.90220520999999,
          81.76015774999999,
          78.81878988,
          73.97333614,
          66.93695226,
          48.36979461999999,
          60.558462639999995,
          48.459010310000004,
          48.90361849,
          47.04722243,
          46.22181747,
          59.328383259999995,
          64.32052485999999,
          73.43819062,
          83.23958846,
          75.35912864,
          71.81113465,
          73.06414224,
          67.44192525,
          73.13954309,
          75.61264634,
          86.98924976,
          87.22192461,
          87.2156547,
          88.57589751,
          85.47860718,
          86.14024538,
          84.4175314,
          89.34633609999999,
          84.44114718,
          74.78590136,
          74.41515256,
          72.9712783,
          80.69498451,
          89.72697799,
          93.75150952999999,
          94.67840794,
          86.02673723999999,
          90.06528812,
          89.80461456,
          91.04183407,
          91.48235747,
          92.12965955,
          91.57526679,
          92.01335956999999,
          89.04784497,
          91.21604205,
          94.0729133,
          97.20753502,
          93.12659896,
          91.20148442,
          94.16336081,
          91.66915336,
          96.81540303,
          99.51994334999999,
          107.12587184,
          103.83186131,
          104.95597396,
          96.71158651,
          100.12407332,
          102.32929972,
          101.48114971999999,
          104.44172393000001,
          104.86081605999999,
          102.26450943,
          92.51546785,
          90.42579328,
          106.01751571999999,
          106.56050764,
          109.35602951999999,
          112.31966154999999,
          112.94991698999999,
          110.25316006999999,
          110.01795621999999,
          113.44354811,
          112.51439131,
          117.18332237999999,
          117.83420823,
          117.6753519,
          112.6531619,
          111.32006156,
          114.42266179,
          107.24412595999999,
          109.5757725,
          119.80518140999999,
          116.74781798999999,
          104.46212394999999,
          95.96895876,
          70.15977464,
          78.44730792,
          33.694482789999995,
          29.988200409999997,
          37.59574138,
          25.40825877,
          28.51075721,
          30.009764819999997,
          30.87201888,
          32.99255251,
          32.9813835,
          36.46109704999999,
          31.153125019999997,
          25.99051121,
          26.30799621,
          29.91650125,
          30.53937743,
          31.84878026,
          33.13640796,
          33.370710439999996,
          34.19554108,
          42.2061808,
          44.4059021,
          46.220985389999996,
          50.15215686,
          54.98146434,
          47.308537009999995,
          39.605766020000004,
          42.8184587,
          38.58574099,
          38.82965702,
          36.56785999,
          26.447887629999997,
          26.10658753,
          31.89353723,
          32.576665139999996,
          36.59965891,
          39.85577128,
          37.63601917,
          40.2743162,
          43.525188719999996,
          42.61486247,
          43.0834271,
          49.183871079999996,
          44.29767131,
          45.404842179999996,
          46.03545759,
          42.24264399,
          45.19750814,
          41.38996672,
          37.67158207999999,
          36.00761853,
          34.23973738,
          40.13647034,
          39.52386335,
          19.96891061,
          26.86101591,
          33.67817481,
          34.5244819,
          36.02408629,
          25.69309264,
          21.43108048,
          19.04267537,
          20.81834077,
          26.74946914,
          27.31624961,
          23.5582121,
          22.91584412,
          23.65583366,
          22.31009912,
          25.77430019,
          26.46277655,
          27.665376209999998,
          36.66253142,
          38.8725934,
          37.80054231,
          30.57793451,
          37.16558951,
          45.05203537,
          49.511333459999996,
          48.857587529999996,
          48.10530524,
          40.094427429999996,
          38.4929,
          45.902151950000004,
          45.1188932,
          40.364104579999996,
          47.99387602,
          42.83470856,
          40.867188399999996,
          29.69070854,
          44.265359929999995,
          49.48612077,
          48.80509624,
          40.9936197,
          40.15962334,
          40.32608688,
          40.91754724,
          45.159072079999994,
          41.77767649,
          32.59256373,
          36.43715915999999,
          38.33609979,
          37.67005957999999,
          33.16211721,
          38.34037139,
          42.07345353,
          48.42479065999999,
          52.01747634,
          51.100622709999996,
          41.28164054999999,
          51.46966914,
          64.2259364,
          72.32654136,
          73.25731209,
          79.3952347,
          82.99210306,
          80.536034,
          71.06246464,
          57.294852840000004,
          52.881789039999994,
          58.11917456,
          53.70242982,
          58.51787022,
          53.938051189999996,
          54.98411981,
          57.438278849999996,
          56.42235799,
          56.862234789999995,
          57.63816267,
          55.54014559,
          57.94078831,
          53.173871749999996,
          61.538096319999994,
          59.72635379,
          65.98599557,
          67.93175029999999,
          74.87090232999999,
          82.93584618,
          79.15313623,
          87.07775220999999,
          84.78017958,
          90.49553373999998,
          84.99084791,
          87.03294562,
          91.07008593,
          89.24727679,
          87.76832343999999,
          88.18038698,
          90.27968374999999,
          93.10885796999999,
          87.63934794,
          82.39759812,
          81.54519490999999,
          98.99718505999999,
          101.23216706,
          98.93195727,
          103.81978648999998,
          99.31423729000001,
          81.65784853,
          77.87874894,
          93.09336465999999,
          93.68099935,
          94.55815195,
          90.35394194999999,
          82.75391852999999,
          58.87380102,
          79.00336845999999,
          81.36330656,
          101.33018343,
          98.8286394,
          107.85462623999999,
          107.87494331999999,
          105.11610268999999,
          81.32974854,
          72.07386159999999,
          78.14421338,
          90.26618769,
          99.51516862,
          100.85271551,
          93.80510575,
          66.92713164,
          97.27660443,
          104.19087726000001,
          110.68438157,
          74.91623032999999,
          75.63467820999999,
          75.78188209,
          66.89031826,
          71.1144393,
          88.05415270999998,
          81.65517999,
          96.73475715000001,
          94.62767201,
          84.45644198999999,
          65.43820255
         ]
        },
        {
         "line": {
          "color": "#ed6f1c",
          "width": 1
         },
         "mode": "lines",
         "name": "hidro",
         "type": "scatter",
         "x": [
          "2024-01-01T00:00:00",
          "2024-01-02T00:00:00",
          "2024-01-03T00:00:00",
          "2024-01-04T00:00:00",
          "2024-01-05T00:00:00",
          "2024-01-06T00:00:00",
          "2024-01-07T00:00:00",
          "2024-01-08T00:00:00",
          "2024-01-09T00:00:00",
          "2024-01-10T00:00:00",
          "2024-01-11T00:00:00",
          "2024-01-12T00:00:00",
          "2024-01-13T00:00:00",
          "2024-01-14T00:00:00",
          "2024-01-15T00:00:00",
          "2024-01-16T00:00:00",
          "2024-01-17T00:00:00",
          "2024-01-18T00:00:00",
          "2024-01-19T00:00:00",
          "2024-01-20T00:00:00",
          "2024-01-21T00:00:00",
          "2024-01-22T00:00:00",
          "2024-01-23T00:00:00",
          "2024-01-24T00:00:00",
          "2024-01-25T00:00:00",
          "2024-01-26T00:00:00",
          "2024-01-27T00:00:00",
          "2024-01-28T00:00:00",
          "2024-01-29T00:00:00",
          "2024-01-30T00:00:00",
          "2024-01-31T00:00:00",
          "2024-02-01T00:00:00",
          "2024-02-02T00:00:00",
          "2024-02-03T00:00:00",
          "2024-02-04T00:00:00",
          "2024-02-05T00:00:00",
          "2024-02-06T00:00:00",
          "2024-02-07T00:00:00",
          "2024-02-08T00:00:00",
          "2024-02-09T00:00:00",
          "2024-02-10T00:00:00",
          "2024-02-11T00:00:00",
          "2024-02-12T00:00:00",
          "2024-02-13T00:00:00",
          "2024-02-14T00:00:00",
          "2024-02-15T00:00:00",
          "2024-02-16T00:00:00",
          "2024-02-17T00:00:00",
          "2024-02-18T00:00:00",
          "2024-02-19T00:00:00",
          "2024-02-20T00:00:00",
          "2024-02-21T00:00:00",
          "2024-02-22T00:00:00",
          "2024-02-23T00:00:00",
          "2024-02-24T00:00:00",
          "2024-02-25T00:00:00",
          "2024-02-26T00:00:00",
          "2024-02-27T00:00:00",
          "2024-02-28T00:00:00",
          "2024-02-29T00:00:00",
          "2024-03-01T00:00:00",
          "2024-03-02T00:00:00",
          "2024-03-03T00:00:00",
          "2024-03-04T00:00:00",
          "2024-03-05T00:00:00",
          "2024-03-06T00:00:00",
          "2024-03-07T00:00:00",
          "2024-03-08T00:00:00",
          "2024-03-09T00:00:00",
          "2024-03-10T00:00:00",
          "2024-03-11T00:00:00",
          "2024-03-12T00:00:00",
          "2024-03-13T00:00:00",
          "2024-03-14T00:00:00",
          "2024-03-15T00:00:00",
          "2024-03-16T00:00:00",
          "2024-03-17T00:00:00",
          "2024-03-18T00:00:00",
          "2024-03-19T00:00:00",
          "2024-03-20T00:00:00",
          "2024-03-21T00:00:00",
          "2024-03-22T00:00:00",
          "2024-03-23T00:00:00",
          "2024-03-24T00:00:00",
          "2024-03-25T00:00:00",
          "2024-03-26T00:00:00",
          "2024-03-27T00:00:00",
          "2024-03-28T00:00:00",
          "2024-03-29T00:00:00",
          "2024-03-30T00:00:00",
          "2024-03-31T00:00:00",
          "2024-04-01T00:00:00",
          "2024-04-02T00:00:00",
          "2024-04-03T00:00:00",
          "2024-04-04T00:00:00",
          "2024-04-05T00:00:00",
          "2024-04-06T00:00:00",
          "2024-04-07T00:00:00",
          "2024-04-08T00:00:00",
          "2024-04-09T00:00:00",
          "2024-04-10T00:00:00",
          "2024-04-11T00:00:00",
          "2024-04-12T00:00:00",
          "2024-04-13T00:00:00",
          "2024-04-14T00:00:00",
          "2024-04-15T00:00:00",
          "2024-04-16T00:00:00",
          "2024-04-17T00:00:00",
          "2024-04-18T00:00:00",
          "2024-04-19T00:00:00",
          "2024-04-20T00:00:00",
          "2024-04-21T00:00:00",
          "2024-04-22T00:00:00",
          "2024-04-23T00:00:00",
          "2024-04-24T00:00:00",
          "2024-04-25T00:00:00",
          "2024-04-26T00:00:00",
          "2024-04-27T00:00:00",
          "2024-04-28T00:00:00",
          "2024-04-29T00:00:00",
          "2024-04-30T00:00:00",
          "2024-05-01T00:00:00",
          "2024-05-02T00:00:00",
          "2024-05-03T00:00:00",
          "2024-05-04T00:00:00",
          "2024-05-05T00:00:00",
          "2024-05-06T00:00:00",
          "2024-05-07T00:00:00",
          "2024-05-08T00:00:00",
          "2024-05-09T00:00:00",
          "2024-05-10T00:00:00",
          "2024-05-11T00:00:00",
          "2024-05-12T00:00:00",
          "2024-05-13T00:00:00",
          "2024-05-14T00:00:00",
          "2024-05-15T00:00:00",
          "2024-05-16T00:00:00",
          "2024-05-17T00:00:00",
          "2024-05-18T00:00:00",
          "2024-05-19T00:00:00",
          "2024-05-20T00:00:00",
          "2024-05-21T00:00:00",
          "2024-05-22T00:00:00",
          "2024-05-23T00:00:00",
          "2024-05-24T00:00:00",
          "2024-05-25T00:00:00",
          "2024-05-26T00:00:00",
          "2024-05-27T00:00:00",
          "2024-05-28T00:00:00",
          "2024-05-29T00:00:00",
          "2024-05-30T00:00:00",
          "2024-05-31T00:00:00",
          "2024-06-01T00:00:00",
          "2024-06-02T00:00:00",
          "2024-06-03T00:00:00",
          "2024-06-04T00:00:00",
          "2024-06-05T00:00:00",
          "2024-06-06T00:00:00",
          "2024-06-07T00:00:00",
          "2024-06-08T00:00:00",
          "2024-06-09T00:00:00",
          "2024-06-10T00:00:00",
          "2024-06-11T00:00:00",
          "2024-06-12T00:00:00",
          "2024-06-13T00:00:00",
          "2024-06-14T00:00:00",
          "2024-06-15T00:00:00",
          "2024-06-16T00:00:00",
          "2024-06-17T00:00:00",
          "2024-06-18T00:00:00",
          "2024-06-19T00:00:00",
          "2024-06-20T00:00:00",
          "2024-06-21T00:00:00",
          "2024-06-22T00:00:00",
          "2024-06-23T00:00:00",
          "2024-06-24T00:00:00",
          "2024-06-25T00:00:00",
          "2024-06-26T00:00:00",
          "2024-06-27T00:00:00",
          "2024-06-28T00:00:00",
          "2024-06-29T00:00:00",
          "2024-06-30T00:00:00",
          "2024-07-01T00:00:00",
          "2024-07-02T00:00:00",
          "2024-07-03T00:00:00",
          "2024-07-04T00:00:00",
          "2024-07-05T00:00:00",
          "2024-07-06T00:00:00",
          "2024-07-07T00:00:00",
          "2024-07-08T00:00:00",
          "2024-07-09T00:00:00",
          "2024-07-10T00:00:00",
          "2024-07-11T00:00:00",
          "2024-07-12T00:00:00",
          "2024-07-13T00:00:00",
          "2024-07-14T00:00:00",
          "2024-07-15T00:00:00",
          "2024-07-16T00:00:00",
          "2024-07-17T00:00:00",
          "2024-07-18T00:00:00",
          "2024-07-19T00:00:00",
          "2024-07-20T00:00:00",
          "2024-07-21T00:00:00",
          "2024-07-22T00:00:00",
          "2024-07-23T00:00:00",
          "2024-07-24T00:00:00",
          "2024-07-25T00:00:00",
          "2024-07-26T00:00:00",
          "2024-07-27T00:00:00",
          "2024-07-28T00:00:00",
          "2024-07-29T00:00:00",
          "2024-07-30T00:00:00",
          "2024-07-31T00:00:00",
          "2024-08-01T00:00:00",
          "2024-08-02T00:00:00",
          "2024-08-03T00:00:00",
          "2024-08-04T00:00:00",
          "2024-08-05T00:00:00",
          "2024-08-06T00:00:00",
          "2024-08-07T00:00:00",
          "2024-08-08T00:00:00",
          "2024-08-09T00:00:00",
          "2024-08-10T00:00:00",
          "2024-08-11T00:00:00",
          "2024-08-12T00:00:00",
          "2024-08-13T00:00:00",
          "2024-08-14T00:00:00",
          "2024-08-15T00:00:00",
          "2024-08-16T00:00:00",
          "2024-08-17T00:00:00",
          "2024-08-18T00:00:00",
          "2024-08-19T00:00:00",
          "2024-08-20T00:00:00",
          "2024-08-21T00:00:00",
          "2024-08-22T00:00:00",
          "2024-08-23T00:00:00",
          "2024-08-24T00:00:00",
          "2024-08-25T00:00:00",
          "2024-08-26T00:00:00",
          "2024-08-27T00:00:00",
          "2024-08-28T00:00:00",
          "2024-08-29T00:00:00",
          "2024-08-30T00:00:00",
          "2024-08-31T00:00:00",
          "2024-09-01T00:00:00",
          "2024-09-02T00:00:00",
          "2024-09-03T00:00:00",
          "2024-09-04T00:00:00",
          "2024-09-05T00:00:00",
          "2024-09-06T00:00:00",
          "2024-09-07T00:00:00",
          "2024-09-08T00:00:00",
          "2024-09-09T00:00:00",
          "2024-09-10T00:00:00",
          "2024-09-11T00:00:00",
          "2024-09-12T00:00:00",
          "2024-09-13T00:00:00",
          "2024-09-14T00:00:00",
          "2024-09-15T00:00:00",
          "2024-09-16T00:00:00",
          "2024-09-17T00:00:00",
          "2024-09-18T00:00:00",
          "2024-09-19T00:00:00",
          "2024-09-20T00:00:00",
          "2024-09-21T00:00:00",
          "2024-09-22T00:00:00",
          "2024-09-23T00:00:00",
          "2024-09-24T00:00:00",
          "2024-09-25T00:00:00",
          "2024-09-26T00:00:00",
          "2024-09-27T00:00:00",
          "2024-09-28T00:00:00",
          "2024-09-29T00:00:00",
          "2024-09-30T00:00:00",
          "2024-10-01T00:00:00",
          "2024-10-02T00:00:00",
          "2024-10-03T00:00:00",
          "2024-10-04T00:00:00",
          "2024-10-05T00:00:00",
          "2024-10-06T00:00:00",
          "2024-10-07T00:00:00",
          "2024-10-08T00:00:00",
          "2024-10-09T00:00:00",
          "2024-10-10T00:00:00",
          "2024-10-11T00:00:00",
          "2024-10-12T00:00:00",
          "2024-10-13T00:00:00",
          "2024-10-14T00:00:00",
          "2024-10-15T00:00:00",
          "2024-10-16T00:00:00",
          "2024-10-17T00:00:00",
          "2024-10-18T00:00:00",
          "2024-10-19T00:00:00",
          "2024-10-20T00:00:00",
          "2024-10-21T00:00:00",
          "2024-10-22T00:00:00",
          "2024-10-23T00:00:00",
          "2024-10-24T00:00:00",
          "2024-10-25T00:00:00",
          "2024-10-26T00:00:00",
          "2024-10-27T00:00:00",
          "2024-10-28T00:00:00",
          "2024-10-29T00:00:00",
          "2024-10-30T00:00:00",
          "2024-10-31T00:00:00",
          "2024-11-01T00:00:00",
          "2024-11-02T00:00:00",
          "2024-11-03T00:00:00",
          "2024-11-04T00:00:00",
          "2024-11-05T00:00:00",
          "2024-11-06T00:00:00",
          "2024-11-07T00:00:00",
          "2024-11-08T00:00:00",
          "2024-11-09T00:00:00",
          "2024-11-10T00:00:00"
         ],
         "y": [
          143.84205863,
          162.27707759,
          165.10378735999998,
          160.14283227,
          159.30471028999997,
          139.84545189,
          130.69287935,
          128.70223170999998,
          146.40602847999997,
          150.37253758,
          150.84019006,
          145.46222588999998,
          122.72589795,
          104.61390782999999,
          135.51496759999998,
          142.69019332,
          157.69501499,
          159.39621549999998,
          162.58152814,
          139.01279681999998,
          126.68710031999998,
          139.92256584999998,
          145.12963756,
          142.65797826,
          141.14124732,
          153.13498113,
          153.60178872999998,
          141.56527337999998,
          165.2831654,
          158.57630499,
          157.53824747,
          150.1678322,
          139.74063877,
          128.34550406999998,
          115.75334018,
          149.0341494,
          169.08145284,
          155.24062754,
          167.00594822,
          166.36633774999999,
          160.2898076,
          144.39096684999998,
          158.9125149,
          158.18300563999998,
          151.80148061,
          142.86853486,
          153.07046599999998,
          146.80737938999997,
          121.17550801,
          154.57807649,
          151.72544108,
          145.78796424,
          131.83066742999998,
          131.56969698,
          123.02160415,
          101.81902885,
          131.57553706,
          135.72437563,
          141.10310582,
          137.69851598,
          139.84664196,
          139.17040315,
          116.89399963,
          151.18792222,
          147.81665131999998,
          141.76208828,
          139.08794136,
          140.8444691,
          137.03065956,
          110.90163615,
          140.37369777,
          142.69471091,
          142.26091079,
          143.43429247,
          143.4293728,
          132.0526693,
          113.18279041,
          140.71788496,
          141.59312050999998,
          135.59523206999998,
          138.09685994,
          138.93986854,
          127.66872701,
          112.47717651999999,
          112.19551598999999,
          126.19230281,
          108.43992290999999,
          88.02999741,
          78.96667416,
          103.08719588999999,
          95.08889404,
          117.22374898,
          117.81350957,
          117.14297009999999,
          117.44423569,
          123.19846331,
          124.24311252999999,
          108.74444945999998,
          117.60764545999999,
          116.36085693999999,
          116.60233174999999,
          117.71961926,
          114.77009978,
          104.74229420999998,
          84.71152486,
          108.76864236,
          114.05663392,
          111.70512895999998,
          108.65327323999999,
          104.72063525,
          96.88551756,
          78.21827676,
          96.98640345999999,
          105.83354673999999,
          107.98988793999999,
          101.00415306999999,
          99.41162542,
          101.76878767,
          88.51182812,
          141.56892762,
          143.25722899000002,
          171.99202271000001,
          193.62484819999997,
          185.22767444,
          185.43009525,
          161.17984327,
          192.042573,
          194.73799756,
          192.00947619999997,
          186.58610775999998,
          181.68519021999998,
          180.14245472999997,
          164.21265166999999,
          168.90199335,
          189.68306056999998,
          191.7058504,
          191.34275262999998,
          188.73489224,
          181.81203049,
          164.04345285,
          181.89950681,
          176.37616880000002,
          172.14834299999998,
          168.45560282,
          171.38419858,
          167.54289561000002,
          152.12310965,
          172.60940662,
          180.96810341,
          181.31716671,
          181.41723887,
          190.41882991,
          181.90455042,
          160.15599577999998,
          162.004097,
          178.47054563999998,
          176.08100221,
          181.76106811,
          176.93082555,
          166.99457991999998,
          142.74698209,
          146.58787246,
          161.82500688999997,
          170.06919431,
          165.05957071,
          163.55141993,
          158.79508138999998,
          137.82228555999998,
          171.76993908,
          178.46750885999998,
          178.74508322,
          177.85607459,
          181.21839319,
          169.28803136,
          161.96400858,
          182.38050231999998,
          176.37424733,
          173.71014384999998,
          172.38168524,
          187.19016585,
          182.43405313999997,
          167.43347056,
          167.96153611,
          191.67149594,
          191.64316765,
          193.51534041,
          192.32732047999997,
          180.56392427,
          163.79165211,
          189.79095977,
          192.52337756,
          191.82370093,
          185.73477572,
          181.67248427,
          169.60791978,
          158.07236688999998,
          175.53435430000002,
          170.21049793,
          171.6283433,
          169.36839817999999,
          167.94344175999998,
          157.99503678999997,
          151.75434302,
          171.42811153999997,
          174.66382352,
          178.77975852,
          176.47457644999997,
          183.59188852,
          170.98783644999997,
          162.17142134999997,
          179.70413634,
          182.64560246,
          181.80786186,
          187.10826158999998,
          188.50890063,
          181.21840222999998,
          160.55269613999997,
          182.05021065999998,
          184.71916875999997,
          174.62080038999997,
          192.0932896,
          190.45471408,
          177.26915553,
          159.3841434,
          185.68145796,
          182.16566691999998,
          182.10937719,
          180.91369086,
          180.90483696,
          174.91027681,
          139.2330505,
          139.77106,
          155.8694393,
          156.7323034,
          148.11605366999999,
          145.74307513,
          133.99813673999998,
          129.02739315,
          162.65231703,
          170.94064136,
          175.02061083,
          180.81944592,
          174.27876253999997,
          166.75374241,
          142.41942794,
          166.79279721999998,
          173.35577262,
          171.08557947,
          170.64181211000002,
          173.27447106,
          158.66775121,
          148.53981241,
          167.78743008,
          174.91604195,
          170.07385576,
          166.45442768,
          161.18768738999998,
          144.73775572,
          128.51316909,
          146.30061855,
          141.3632855,
          143.29371974,
          150.56280941999998,
          142.63337837,
          130.20755782999998,
          110.77341421999999,
          136.89764591999997,
          144.53484941,
          144.25272703,
          134.33724056999998,
          140.97815118999998,
          138.38728838,
          115.61646155,
          110.49770475,
          118.27346606,
          120.4979353,
          115.99381982999999,
          123.12174609,
          126.71509006,
          111.73319931999998,
          119.12889525,
          119.71596695999999,
          121.94975507999999,
          128.22672841,
          133.10242832999998,
          148.65677147999997,
          109.15237998,
          110.86257031,
          115.19446894,
          119.19598735999999,
          113.22896423,
          118.35600354,
          110.55148820999999,
          110.17439348999999,
          142.05106997,
          139.86144708,
          128.43723645,
          122.21264109999998,
          123.04637965,
          123.78279189,
          132.22937885,
          123.48698293,
          119.93287436,
          112.13400639,
          139.33007847,
          137.9105851,
          127.76643093,
          116.72220465,
          116.40423191,
          124.06460544,
          135.54067604,
          122.4457647,
          121.53361625,
          115.05186513999999,
          115.11812014
         ]
        }
       ],
       "layout": {
        "barmode": "relative",
        "legend": {
         "title": {
          "text": "cluster"
         },
         "tracegroupgap": 0
        },
        "margin": {
         "t": 60
        },
        "template": {
         "data": {
          "bar": [
           {
            "error_x": {
             "color": "#2a3f5f"
            },
            "error_y": {
             "color": "#2a3f5f"
            },
            "marker": {
             "line": {
              "color": "#E5ECF6",
              "width": 0.5
             },
             "pattern": {
              "fillmode": "overlay",
              "size": 10,
              "solidity": 0.2
             }
            },
            "type": "bar"
           }
          ],
          "barpolar": [
           {
            "marker": {
             "line": {
              "color": "#E5ECF6",
              "width": 0.5
             },
             "pattern": {
              "fillmode": "overlay",
              "size": 10,
              "solidity": 0.2
             }
            },
            "type": "barpolar"
           }
          ],
          "carpet": [
           {
            "aaxis": {
             "endlinecolor": "#2a3f5f",
             "gridcolor": "white",
             "linecolor": "white",
             "minorgridcolor": "white",
             "startlinecolor": "#2a3f5f"
            },
            "baxis": {
             "endlinecolor": "#2a3f5f",
             "gridcolor": "white",
             "linecolor": "white",
             "minorgridcolor": "white",
             "startlinecolor": "#2a3f5f"
            },
            "type": "carpet"
           }
          ],
          "choropleth": [
           {
            "colorbar": {
             "outlinewidth": 0,
             "ticks": ""
            },
            "type": "choropleth"
           }
          ],
          "contour": [
           {
            "colorbar": {
             "outlinewidth": 0,
             "ticks": ""
            },
            "colorscale": [
             [
              0,
              "#0d0887"
             ],
             [
              0.1111111111111111,
              "#46039f"
             ],
             [
              0.2222222222222222,
              "#7201a8"
             ],
             [
              0.3333333333333333,
              "#9c179e"
             ],
             [
              0.4444444444444444,
              "#bd3786"
             ],
             [
              0.5555555555555556,
              "#d8576b"
             ],
             [
              0.6666666666666666,
              "#ed7953"
             ],
             [
              0.7777777777777778,
              "#fb9f3a"
             ],
             [
              0.8888888888888888,
              "#fdca26"
             ],
             [
              1,
              "#f0f921"
             ]
            ],
            "type": "contour"
           }
          ],
          "contourcarpet": [
           {
            "colorbar": {
             "outlinewidth": 0,
             "ticks": ""
            },
            "type": "contourcarpet"
           }
          ],
          "heatmap": [
           {
            "colorbar": {
             "outlinewidth": 0,
             "ticks": ""
            },
            "colorscale": [
             [
              0,
              "#0d0887"
             ],
             [
              0.1111111111111111,
              "#46039f"
             ],
             [
              0.2222222222222222,
              "#7201a8"
             ],
             [
              0.3333333333333333,
              "#9c179e"
             ],
             [
              0.4444444444444444,
              "#bd3786"
             ],
             [
              0.5555555555555556,
              "#d8576b"
             ],
             [
              0.6666666666666666,
              "#ed7953"
             ],
             [
              0.7777777777777778,
              "#fb9f3a"
             ],
             [
              0.8888888888888888,
              "#fdca26"
             ],
             [
              1,
              "#f0f921"
             ]
            ],
            "type": "heatmap"
           }
          ],
          "heatmapgl": [
           {
            "colorbar": {
             "outlinewidth": 0,
             "ticks": ""
            },
            "colorscale": [
             [
              0,
              "#0d0887"
             ],
             [
              0.1111111111111111,
              "#46039f"
             ],
             [
              0.2222222222222222,
              "#7201a8"
             ],
             [
              0.3333333333333333,
              "#9c179e"
             ],
             [
              0.4444444444444444,
              "#bd3786"
             ],
             [
              0.5555555555555556,
              "#d8576b"
             ],
             [
              0.6666666666666666,
              "#ed7953"
             ],
             [
              0.7777777777777778,
              "#fb9f3a"
             ],
             [
              0.8888888888888888,
              "#fdca26"
             ],
             [
              1,
              "#f0f921"
             ]
            ],
            "type": "heatmapgl"
           }
          ],
          "histogram": [
           {
            "marker": {
             "pattern": {
              "fillmode": "overlay",
              "size": 10,
              "solidity": 0.2
             }
            },
            "type": "histogram"
           }
          ],
          "histogram2d": [
           {
            "colorbar": {
             "outlinewidth": 0,
             "ticks": ""
            },
            "colorscale": [
             [
              0,
              "#0d0887"
             ],
             [
              0.1111111111111111,
              "#46039f"
             ],
             [
              0.2222222222222222,
              "#7201a8"
             ],
             [
              0.3333333333333333,
              "#9c179e"
             ],
             [
              0.4444444444444444,
              "#bd3786"
             ],
             [
              0.5555555555555556,
              "#d8576b"
             ],
             [
              0.6666666666666666,
              "#ed7953"
             ],
             [
              0.7777777777777778,
              "#fb9f3a"
             ],
             [
              0.8888888888888888,
              "#fdca26"
             ],
             [
              1,
              "#f0f921"
             ]
            ],
            "type": "histogram2d"
           }
          ],
          "histogram2dcontour": [
           {
            "colorbar": {
             "outlinewidth": 0,
             "ticks": ""
            },
            "colorscale": [
             [
              0,
              "#0d0887"
             ],
             [
              0.1111111111111111,
              "#46039f"
             ],
             [
              0.2222222222222222,
              "#7201a8"
             ],
             [
              0.3333333333333333,
              "#9c179e"
             ],
             [
              0.4444444444444444,
              "#bd3786"
             ],
             [
              0.5555555555555556,
              "#d8576b"
             ],
             [
              0.6666666666666666,
              "#ed7953"
             ],
             [
              0.7777777777777778,
              "#fb9f3a"
             ],
             [
              0.8888888888888888,
              "#fdca26"
             ],
             [
              1,
              "#f0f921"
             ]
            ],
            "type": "histogram2dcontour"
           }
          ],
          "mesh3d": [
           {
            "colorbar": {
             "outlinewidth": 0,
             "ticks": ""
            },
            "type": "mesh3d"
           }
          ],
          "parcoords": [
           {
            "line": {
             "colorbar": {
              "outlinewidth": 0,
              "ticks": ""
             }
            },
            "type": "parcoords"
           }
          ],
          "pie": [
           {
            "automargin": true,
            "type": "pie"
           }
          ],
          "scatter": [
           {
            "fillpattern": {
             "fillmode": "overlay",
             "size": 10,
             "solidity": 0.2
            },
            "type": "scatter"
           }
          ],
          "scatter3d": [
           {
            "line": {
             "colorbar": {
              "outlinewidth": 0,
              "ticks": ""
             }
            },
            "marker": {
             "colorbar": {
              "outlinewidth": 0,
              "ticks": ""
             }
            },
            "type": "scatter3d"
           }
          ],
          "scattercarpet": [
           {
            "marker": {
             "colorbar": {
              "outlinewidth": 0,
              "ticks": ""
             }
            },
            "type": "scattercarpet"
           }
          ],
          "scattergeo": [
           {
            "marker": {
             "colorbar": {
              "outlinewidth": 0,
              "ticks": ""
             }
            },
            "type": "scattergeo"
           }
          ],
          "scattergl": [
           {
            "marker": {
             "colorbar": {
              "outlinewidth": 0,
              "ticks": ""
             }
            },
            "type": "scattergl"
           }
          ],
          "scattermapbox": [
           {
            "marker": {
             "colorbar": {
              "outlinewidth": 0,
              "ticks": ""
             }
            },
            "type": "scattermapbox"
           }
          ],
          "scatterpolar": [
           {
            "marker": {
             "colorbar": {
              "outlinewidth": 0,
              "ticks": ""
             }
            },
            "type": "scatterpolar"
           }
          ],
          "scatterpolargl": [
           {
            "marker": {
             "colorbar": {
              "outlinewidth": 0,
              "ticks": ""
             }
            },
            "type": "scatterpolargl"
           }
          ],
          "scatterternary": [
           {
            "marker": {
             "colorbar": {
              "outlinewidth": 0,
              "ticks": ""
             }
            },
            "type": "scatterternary"
           }
          ],
          "surface": [
           {
            "colorbar": {
             "outlinewidth": 0,
             "ticks": ""
            },
            "colorscale": [
             [
              0,
              "#0d0887"
             ],
             [
              0.1111111111111111,
              "#46039f"
             ],
             [
              0.2222222222222222,
              "#7201a8"
             ],
             [
              0.3333333333333333,
              "#9c179e"
             ],
             [
              0.4444444444444444,
              "#bd3786"
             ],
             [
              0.5555555555555556,
              "#d8576b"
             ],
             [
              0.6666666666666666,
              "#ed7953"
             ],
             [
              0.7777777777777778,
              "#fb9f3a"
             ],
             [
              0.8888888888888888,
              "#fdca26"
             ],
             [
              1,
              "#f0f921"
             ]
            ],
            "type": "surface"
           }
          ],
          "table": [
           {
            "cells": {
             "fill": {
              "color": "#EBF0F8"
             },
             "line": {
              "color": "white"
             }
            },
            "header": {
             "fill": {
              "color": "#C8D4E3"
             },
             "line": {
              "color": "white"
             }
            },
            "type": "table"
           }
          ]
         },
         "layout": {
          "annotationdefaults": {
           "arrowcolor": "#2a3f5f",
           "arrowhead": 0,
           "arrowwidth": 1
          },
          "autotypenumbers": "strict",
          "coloraxis": {
           "colorbar": {
            "outlinewidth": 0,
            "ticks": ""
           }
          },
          "colorscale": {
           "diverging": [
            [
             0,
             "#8e0152"
            ],
            [
             0.1,
             "#c51b7d"
            ],
            [
             0.2,
             "#de77ae"
            ],
            [
             0.3,
             "#f1b6da"
            ],
            [
             0.4,
             "#fde0ef"
            ],
            [
             0.5,
             "#f7f7f7"
            ],
            [
             0.6,
             "#e6f5d0"
            ],
            [
             0.7,
             "#b8e186"
            ],
            [
             0.8,
             "#7fbc41"
            ],
            [
             0.9,
             "#4d9221"
            ],
            [
             1,
             "#276419"
            ]
           ],
           "sequential": [
            [
             0,
             "#0d0887"
            ],
            [
             0.1111111111111111,
             "#46039f"
            ],
            [
             0.2222222222222222,
             "#7201a8"
            ],
            [
             0.3333333333333333,
             "#9c179e"
            ],
            [
             0.4444444444444444,
             "#bd3786"
            ],
            [
             0.5555555555555556,
             "#d8576b"
            ],
            [
             0.6666666666666666,
             "#ed7953"
            ],
            [
             0.7777777777777778,
             "#fb9f3a"
            ],
            [
             0.8888888888888888,
             "#fdca26"
            ],
            [
             1,
             "#f0f921"
            ]
           ],
           "sequentialminus": [
            [
             0,
             "#0d0887"
            ],
            [
             0.1111111111111111,
             "#46039f"
            ],
            [
             0.2222222222222222,
             "#7201a8"
            ],
            [
             0.3333333333333333,
             "#9c179e"
            ],
            [
             0.4444444444444444,
             "#bd3786"
            ],
            [
             0.5555555555555556,
             "#d8576b"
            ],
            [
             0.6666666666666666,
             "#ed7953"
            ],
            [
             0.7777777777777778,
             "#fb9f3a"
            ],
            [
             0.8888888888888888,
             "#fdca26"
            ],
            [
             1,
             "#f0f921"
            ]
           ]
          },
          "colorway": [
           "#636efa",
           "#EF553B",
           "#00cc96",
           "#ab63fa",
           "#FFA15A",
           "#19d3f3",
           "#FF6692",
           "#B6E880",
           "#FF97FF",
           "#FECB52"
          ],
          "font": {
           "color": "#2a3f5f"
          },
          "geo": {
           "bgcolor": "white",
           "lakecolor": "white",
           "landcolor": "#E5ECF6",
           "showlakes": true,
           "showland": true,
           "subunitcolor": "white"
          },
          "hoverlabel": {
           "align": "left"
          },
          "hovermode": "closest",
          "mapbox": {
           "style": "light"
          },
          "paper_bgcolor": "white",
          "plot_bgcolor": "#E5ECF6",
          "polar": {
           "angularaxis": {
            "gridcolor": "white",
            "linecolor": "white",
            "ticks": ""
           },
           "bgcolor": "#E5ECF6",
           "radialaxis": {
            "gridcolor": "white",
            "linecolor": "white",
            "ticks": ""
           }
          },
          "scene": {
           "xaxis": {
            "backgroundcolor": "#E5ECF6",
            "gridcolor": "white",
            "gridwidth": 2,
            "linecolor": "white",
            "showbackground": true,
            "ticks": "",
            "zerolinecolor": "white"
           },
           "yaxis": {
            "backgroundcolor": "#E5ECF6",
            "gridcolor": "white",
            "gridwidth": 2,
            "linecolor": "white",
            "showbackground": true,
            "ticks": "",
            "zerolinecolor": "white"
           },
           "zaxis": {
            "backgroundcolor": "#E5ECF6",
            "gridcolor": "white",
            "gridwidth": 2,
            "linecolor": "white",
            "showbackground": true,
            "ticks": "",
            "zerolinecolor": "white"
           }
          },
          "shapedefaults": {
           "line": {
            "color": "#2a3f5f"
           }
          },
          "ternary": {
           "aaxis": {
            "gridcolor": "white",
            "linecolor": "white",
            "ticks": ""
           },
           "baxis": {
            "gridcolor": "white",
            "linecolor": "white",
            "ticks": ""
           },
           "bgcolor": "#E5ECF6",
           "caxis": {
            "gridcolor": "white",
            "linecolor": "white",
            "ticks": ""
           }
          },
          "title": {
           "x": 0.05
          },
          "xaxis": {
           "automargin": true,
           "gridcolor": "white",
           "linecolor": "white",
           "ticks": "",
           "title": {
            "standoff": 15
           },
           "zerolinecolor": "white",
           "zerolinewidth": 2
          },
          "yaxis": {
           "automargin": true,
           "gridcolor": "white",
           "linecolor": "white",
           "ticks": "",
           "title": {
            "standoff": 15
           },
           "zerolinecolor": "white",
           "zerolinewidth": 2
          }
         }
        },
        "xaxis": {
         "anchor": "y",
         "domain": [
          0,
          1
         ],
         "title": {
          "text": "Fecha"
         }
        },
        "yaxis": {
         "anchor": "x",
         "domain": [
          0,
          1
         ],
         "title": {
          "text": "TOTAL_GEN"
         }
        }
       }
      }
     },
     "metadata": {},
     "output_type": "display_data"
    }
   ],
   "source": [
    "fig = px.bar(\n",
    "    data_frame=df_agg,\n",
    "    x=\"Fecha\",\n",
    "    y=\"TOTAL_GEN\",\n",
    "    color=\"cluster\",\n",
    "    color_discrete_sequence=px.colors.qualitative.Set1,\n",
    "    # hover_data=[\"week_of_year\", \"day_of_week\", \"is_holiday\", \"day_name\"],\n",
    ")\n",
    "fig.add_traces(\n",
    "    [\n",
    "        go.Scatter(\n",
    "            x=df_agg[\"Fecha\"],\n",
    "            y=df_agg[\"TERMICA\"],\n",
    "            mode='lines',\n",
    "            line=dict(color='black', width=1),\n",
    "            name=\"Termica\",\n",
    "        ),\n",
    "        go.Scatter(\n",
    "            x=df_agg[\"Fecha\"],\n",
    "            y=df_agg[\"HIDRAULICA\"],\n",
    "            mode='lines',\n",
    "            line=dict(color='#ed6f1c', width=1),\n",
    "            name=\"hidro\",\n",
    "        ),\n",
    "    ]\n",
    ")\n",
    "\n",
    "\n",
    "fig.show()"
   ]
  },
  {
   "cell_type": "code",
   "execution_count": 63,
   "metadata": {},
   "outputs": [
    {
     "data": {
      "text/html": [
       "<div>\n",
       "<style scoped>\n",
       "    .dataframe tbody tr th:only-of-type {\n",
       "        vertical-align: middle;\n",
       "    }\n",
       "\n",
       "    .dataframe tbody tr th {\n",
       "        vertical-align: top;\n",
       "    }\n",
       "\n",
       "    .dataframe thead th {\n",
       "        text-align: right;\n",
       "    }\n",
       "</style>\n",
       "<table border=\"1\" class=\"dataframe\">\n",
       "  <thead>\n",
       "    <tr style=\"text-align: right;\">\n",
       "      <th></th>\n",
       "      <th>Fecha</th>\n",
       "      <th>COGENERADOR</th>\n",
       "      <th>EOLICA</th>\n",
       "      <th>HIDRAULICA</th>\n",
       "      <th>SOLAR</th>\n",
       "      <th>TERMICA</th>\n",
       "      <th>TOTAL_GEN</th>\n",
       "      <th>day_of_week</th>\n",
       "      <th>winter</th>\n",
       "      <th>precio_bolsa_max</th>\n",
       "      <th>precio_bolsa_mean</th>\n",
       "      <th>precio_bolsa_min</th>\n",
       "      <th>cluster</th>\n",
       "      <th>day_name</th>\n",
       "    </tr>\n",
       "  </thead>\n",
       "  <tbody>\n",
       "    <tr>\n",
       "      <th>0</th>\n",
       "      <td>2024-01-01</td>\n",
       "      <td>0.357159</td>\n",
       "      <td>0.473795</td>\n",
       "      <td>143.842059</td>\n",
       "      <td>6.384629</td>\n",
       "      <td>25.095855</td>\n",
       "      <td>176.153496</td>\n",
       "      <td>0</td>\n",
       "      <td>0</td>\n",
       "      <td>301.23</td>\n",
       "      <td>222.175000</td>\n",
       "      <td>95.85</td>\n",
       "      <td>cluster_0</td>\n",
       "      <td>Monday</td>\n",
       "    </tr>\n",
       "    <tr>\n",
       "      <th>1</th>\n",
       "      <td>2024-01-02</td>\n",
       "      <td>0.562877</td>\n",
       "      <td>0.423688</td>\n",
       "      <td>162.277078</td>\n",
       "      <td>6.947628</td>\n",
       "      <td>36.476359</td>\n",
       "      <td>206.687629</td>\n",
       "      <td>1</td>\n",
       "      <td>0</td>\n",
       "      <td>449.32</td>\n",
       "      <td>383.636667</td>\n",
       "      <td>284.32</td>\n",
       "      <td>cluster_0</td>\n",
       "      <td>Tuesday</td>\n",
       "    </tr>\n",
       "    <tr>\n",
       "      <th>2</th>\n",
       "      <td>2024-01-03</td>\n",
       "      <td>1.179331</td>\n",
       "      <td>0.391955</td>\n",
       "      <td>165.103787</td>\n",
       "      <td>7.424881</td>\n",
       "      <td>40.746649</td>\n",
       "      <td>214.846603</td>\n",
       "      <td>2</td>\n",
       "      <td>0</td>\n",
       "      <td>514.49</td>\n",
       "      <td>462.115000</td>\n",
       "      <td>429.49</td>\n",
       "      <td>cluster_5</td>\n",
       "      <td>Wednesday</td>\n",
       "    </tr>\n",
       "    <tr>\n",
       "      <th>3</th>\n",
       "      <td>2024-01-04</td>\n",
       "      <td>1.437006</td>\n",
       "      <td>0.482436</td>\n",
       "      <td>160.142832</td>\n",
       "      <td>7.443663</td>\n",
       "      <td>49.891661</td>\n",
       "      <td>219.397599</td>\n",
       "      <td>3</td>\n",
       "      <td>0</td>\n",
       "      <td>602.95</td>\n",
       "      <td>557.655417</td>\n",
       "      <td>448.95</td>\n",
       "      <td>cluster_5</td>\n",
       "      <td>Thursday</td>\n",
       "    </tr>\n",
       "    <tr>\n",
       "      <th>4</th>\n",
       "      <td>2024-01-05</td>\n",
       "      <td>1.818278</td>\n",
       "      <td>0.650878</td>\n",
       "      <td>159.304710</td>\n",
       "      <td>7.135847</td>\n",
       "      <td>52.357767</td>\n",
       "      <td>221.267481</td>\n",
       "      <td>4</td>\n",
       "      <td>0</td>\n",
       "      <td>650.50</td>\n",
       "      <td>623.372500</td>\n",
       "      <td>609.50</td>\n",
       "      <td>cluster_2</td>\n",
       "      <td>Friday</td>\n",
       "    </tr>\n",
       "    <tr>\n",
       "      <th>...</th>\n",
       "      <td>...</td>\n",
       "      <td>...</td>\n",
       "      <td>...</td>\n",
       "      <td>...</td>\n",
       "      <td>...</td>\n",
       "      <td>...</td>\n",
       "      <td>...</td>\n",
       "      <td>...</td>\n",
       "      <td>...</td>\n",
       "      <td>...</td>\n",
       "      <td>...</td>\n",
       "      <td>...</td>\n",
       "      <td>...</td>\n",
       "      <td>...</td>\n",
       "    </tr>\n",
       "    <tr>\n",
       "      <th>310</th>\n",
       "      <td>2024-11-06</td>\n",
       "      <td>2.037827</td>\n",
       "      <td>0.154240</td>\n",
       "      <td>135.540676</td>\n",
       "      <td>10.596309</td>\n",
       "      <td>81.655180</td>\n",
       "      <td>229.984233</td>\n",
       "      <td>2</td>\n",
       "      <td>1</td>\n",
       "      <td>2675.80</td>\n",
       "      <td>1870.212500</td>\n",
       "      <td>657.53</td>\n",
       "      <td>cluster_1</td>\n",
       "      <td>Wednesday</td>\n",
       "    </tr>\n",
       "    <tr>\n",
       "      <th>311</th>\n",
       "      <td>2024-11-07</td>\n",
       "      <td>2.163911</td>\n",
       "      <td>0.209965</td>\n",
       "      <td>122.445765</td>\n",
       "      <td>8.025633</td>\n",
       "      <td>96.734757</td>\n",
       "      <td>229.580032</td>\n",
       "      <td>3</td>\n",
       "      <td>1</td>\n",
       "      <td>2459.55</td>\n",
       "      <td>1894.958333</td>\n",
       "      <td>1450.04</td>\n",
       "      <td>cluster_6</td>\n",
       "      <td>Thursday</td>\n",
       "    </tr>\n",
       "    <tr>\n",
       "      <th>312</th>\n",
       "      <td>2024-11-08</td>\n",
       "      <td>2.359247</td>\n",
       "      <td>0.034563</td>\n",
       "      <td>121.533616</td>\n",
       "      <td>6.633570</td>\n",
       "      <td>94.627672</td>\n",
       "      <td>225.188668</td>\n",
       "      <td>4</td>\n",
       "      <td>1</td>\n",
       "      <td>2128.30</td>\n",
       "      <td>1546.797500</td>\n",
       "      <td>1000.01</td>\n",
       "      <td>cluster_1</td>\n",
       "      <td>Friday</td>\n",
       "    </tr>\n",
       "    <tr>\n",
       "      <th>313</th>\n",
       "      <td>2024-11-09</td>\n",
       "      <td>2.734738</td>\n",
       "      <td>0.077343</td>\n",
       "      <td>115.051865</td>\n",
       "      <td>10.482164</td>\n",
       "      <td>84.456442</td>\n",
       "      <td>212.802552</td>\n",
       "      <td>5</td>\n",
       "      <td>1</td>\n",
       "      <td>1490.76</td>\n",
       "      <td>782.156667</td>\n",
       "      <td>700.76</td>\n",
       "      <td>cluster_4</td>\n",
       "      <td>Saturday</td>\n",
       "    </tr>\n",
       "    <tr>\n",
       "      <th>314</th>\n",
       "      <td>2024-11-10</td>\n",
       "      <td>2.228287</td>\n",
       "      <td>0.052312</td>\n",
       "      <td>115.118120</td>\n",
       "      <td>10.122096</td>\n",
       "      <td>65.438203</td>\n",
       "      <td>192.959017</td>\n",
       "      <td>6</td>\n",
       "      <td>1</td>\n",
       "      <td>1751.91</td>\n",
       "      <td>824.784167</td>\n",
       "      <td>588.60</td>\n",
       "      <td>cluster_4</td>\n",
       "      <td>Sunday</td>\n",
       "    </tr>\n",
       "  </tbody>\n",
       "</table>\n",
       "<p>315 rows × 14 columns</p>\n",
       "</div>"
      ],
      "text/plain": [
       "         Fecha  COGENERADOR    EOLICA  HIDRAULICA      SOLAR    TERMICA  \\\n",
       "0   2024-01-01     0.357159  0.473795  143.842059   6.384629  25.095855   \n",
       "1   2024-01-02     0.562877  0.423688  162.277078   6.947628  36.476359   \n",
       "2   2024-01-03     1.179331  0.391955  165.103787   7.424881  40.746649   \n",
       "3   2024-01-04     1.437006  0.482436  160.142832   7.443663  49.891661   \n",
       "4   2024-01-05     1.818278  0.650878  159.304710   7.135847  52.357767   \n",
       "..         ...          ...       ...         ...        ...        ...   \n",
       "310 2024-11-06     2.037827  0.154240  135.540676  10.596309  81.655180   \n",
       "311 2024-11-07     2.163911  0.209965  122.445765   8.025633  96.734757   \n",
       "312 2024-11-08     2.359247  0.034563  121.533616   6.633570  94.627672   \n",
       "313 2024-11-09     2.734738  0.077343  115.051865  10.482164  84.456442   \n",
       "314 2024-11-10     2.228287  0.052312  115.118120  10.122096  65.438203   \n",
       "\n",
       "      TOTAL_GEN  day_of_week  winter  precio_bolsa_max  precio_bolsa_mean  \\\n",
       "0    176.153496            0       0            301.23         222.175000   \n",
       "1    206.687629            1       0            449.32         383.636667   \n",
       "2    214.846603            2       0            514.49         462.115000   \n",
       "3    219.397599            3       0            602.95         557.655417   \n",
       "4    221.267481            4       0            650.50         623.372500   \n",
       "..          ...          ...     ...               ...                ...   \n",
       "310  229.984233            2       1           2675.80        1870.212500   \n",
       "311  229.580032            3       1           2459.55        1894.958333   \n",
       "312  225.188668            4       1           2128.30        1546.797500   \n",
       "313  212.802552            5       1           1490.76         782.156667   \n",
       "314  192.959017            6       1           1751.91         824.784167   \n",
       "\n",
       "     precio_bolsa_min    cluster   day_name  \n",
       "0               95.85  cluster_0     Monday  \n",
       "1              284.32  cluster_0    Tuesday  \n",
       "2              429.49  cluster_5  Wednesday  \n",
       "3              448.95  cluster_5   Thursday  \n",
       "4              609.50  cluster_2     Friday  \n",
       "..                ...        ...        ...  \n",
       "310            657.53  cluster_1  Wednesday  \n",
       "311           1450.04  cluster_6   Thursday  \n",
       "312           1000.01  cluster_1     Friday  \n",
       "313            700.76  cluster_4   Saturday  \n",
       "314            588.60  cluster_4     Sunday  \n",
       "\n",
       "[315 rows x 14 columns]"
      ]
     },
     "execution_count": 63,
     "metadata": {},
     "output_type": "execute_result"
    }
   ],
   "source": [
    "df_agg"
   ]
  },
  {
   "cell_type": "code",
   "execution_count": 68,
   "metadata": {},
   "outputs": [
    {
     "data": {
      "application/vnd.plotly.v1+json": {
       "config": {
        "plotlyServerURL": "https://plot.ly"
       },
       "data": [
        {
         "customdata": [
          [
           0,
           "Monday"
          ],
          [
           1,
           "Tuesday"
          ],
          [
           3,
           "Thursday"
          ],
          [
           2,
           "Wednesday"
          ],
          [
           1,
           "Tuesday"
          ],
          [
           2,
           "Wednesday"
          ],
          [
           3,
           "Thursday"
          ],
          [
           4,
           "Friday"
          ],
          [
           5,
           "Saturday"
          ],
          [
           6,
           "Sunday"
          ],
          [
           0,
           "Monday"
          ],
          [
           1,
           "Tuesday"
          ],
          [
           2,
           "Wednesday"
          ],
          [
           3,
           "Thursday"
          ],
          [
           4,
           "Friday"
          ],
          [
           5,
           "Saturday"
          ],
          [
           6,
           "Sunday"
          ],
          [
           0,
           "Monday"
          ],
          [
           1,
           "Tuesday"
          ],
          [
           2,
           "Wednesday"
          ],
          [
           3,
           "Thursday"
          ],
          [
           4,
           "Friday"
          ],
          [
           5,
           "Saturday"
          ],
          [
           6,
           "Sunday"
          ],
          [
           0,
           "Monday"
          ],
          [
           1,
           "Tuesday"
          ],
          [
           2,
           "Wednesday"
          ],
          [
           3,
           "Thursday"
          ],
          [
           4,
           "Friday"
          ],
          [
           5,
           "Saturday"
          ],
          [
           6,
           "Sunday"
          ],
          [
           0,
           "Monday"
          ],
          [
           1,
           "Tuesday"
          ],
          [
           2,
           "Wednesday"
          ],
          [
           6,
           "Sunday"
          ],
          [
           3,
           "Thursday"
          ],
          [
           4,
           "Friday"
          ],
          [
           5,
           "Saturday"
          ],
          [
           6,
           "Sunday"
          ],
          [
           0,
           "Monday"
          ],
          [
           1,
           "Tuesday"
          ],
          [
           3,
           "Thursday"
          ],
          [
           4,
           "Friday"
          ],
          [
           5,
           "Saturday"
          ],
          [
           6,
           "Sunday"
          ],
          [
           0,
           "Monday"
          ],
          [
           1,
           "Tuesday"
          ],
          [
           2,
           "Wednesday"
          ],
          [
           3,
           "Thursday"
          ],
          [
           4,
           "Friday"
          ],
          [
           5,
           "Saturday"
          ],
          [
           6,
           "Sunday"
          ],
          [
           0,
           "Monday"
          ],
          [
           1,
           "Tuesday"
          ],
          [
           2,
           "Wednesday"
          ],
          [
           3,
           "Thursday"
          ],
          [
           4,
           "Friday"
          ],
          [
           5,
           "Saturday"
          ],
          [
           6,
           "Sunday"
          ],
          [
           0,
           "Monday"
          ],
          [
           1,
           "Tuesday"
          ],
          [
           2,
           "Wednesday"
          ],
          [
           3,
           "Thursday"
          ],
          [
           4,
           "Friday"
          ],
          [
           5,
           "Saturday"
          ],
          [
           6,
           "Sunday"
          ],
          [
           0,
           "Monday"
          ],
          [
           1,
           "Tuesday"
          ],
          [
           2,
           "Wednesday"
          ],
          [
           3,
           "Thursday"
          ],
          [
           4,
           "Friday"
          ],
          [
           5,
           "Saturday"
          ],
          [
           6,
           "Sunday"
          ],
          [
           0,
           "Monday"
          ],
          [
           1,
           "Tuesday"
          ],
          [
           2,
           "Wednesday"
          ],
          [
           4,
           "Friday"
          ],
          [
           5,
           "Saturday"
          ],
          [
           6,
           "Sunday"
          ],
          [
           0,
           "Monday"
          ],
          [
           1,
           "Tuesday"
          ],
          [
           2,
           "Wednesday"
          ],
          [
           3,
           "Thursday"
          ],
          [
           4,
           "Friday"
          ],
          [
           5,
           "Saturday"
          ],
          [
           6,
           "Sunday"
          ],
          [
           2,
           "Wednesday"
          ],
          [
           3,
           "Thursday"
          ],
          [
           4,
           "Friday"
          ],
          [
           5,
           "Saturday"
          ],
          [
           6,
           "Sunday"
          ],
          [
           0,
           "Monday"
          ],
          [
           1,
           "Tuesday"
          ],
          [
           2,
           "Wednesday"
          ],
          [
           4,
           "Friday"
          ],
          [
           6,
           "Sunday"
          ],
          [
           0,
           "Monday"
          ]
         ],
         "hovertemplate": "cluster=cluster_0<br>TERMICA=%{x}<br>HIDRAULICA=%{y}<br>precio_bolsa_mean=%{marker.size}<br>day_of_week=%{customdata[0]}<br>day_name=%{customdata[1]}<extra></extra>",
         "legendgroup": "cluster_0",
         "marker": {
          "color": "#636EFA",
          "size": [
           222.17499999999998,
           383.6366666666667,
           427.6958333333334,
           473.30916666666667,
           441.67291666666665,
           197.45875,
           238.84333333333333,
           214.89791666666667,
           159.86416666666668,
           106.88708333333334,
           136.08666666666667,
           127.12166666666667,
           147.46833333333333,
           192.72833333333332,
           275.56166666666667,
           320.85499999999996,
           311.7708333333333,
           303.92625000000004,
           287.5104166666667,
           292.1004166666667,
           262.0316666666667,
           245.4283333333333,
           223.94083333333333,
           141.11083333333332,
           191.8425,
           222.7775,
           209.51666666666665,
           217.42666666666665,
           260.6975,
           257.50875,
           196.38333333333333,
           287.06,
           278.0783333333333,
           366.5120833333333,
           360.6541666666667,
           336.99625,
           213.5995833333333,
           233.2225,
           237.82583333333332,
           254.89333333333335,
           306.2433333333333,
           360.39000000000004,
           350.01,
           370.625,
           308.3620833333333,
           302.0266666666667,
           305.87583333333333,
           332.89,
           360.5,
           371.6233333333334,
           291.85125,
           274.58,
           252.13333333333333,
           243.44500000000002,
           311.31750000000005,
           315.7866666666667,
           218.59,
           260.645,
           191.2125,
           234.10666666666668,
           266.6816666666667,
           264.17375,
           279.18666666666667,
           214.82333333333335,
           198.63083333333336,
           115.0625,
           127.85333333333334,
           165.225,
           187.04333333333332,
           208.9825,
           202.34833333333333,
           156.4779166666667,
           134.82791666666665,
           193.2279166666667,
           245.4908333333333,
           211.76166666666666,
           296.55333333333334,
           269.6125,
           230.23000000000002,
           286.765,
           291.54333333333335,
           303.73,
           304.445,
           320.0883333333333,
           318.46083333333337,
           321.84999999999997,
           370.3833333333334,
           366.1683333333333,
           333.365,
           340.02833333333336,
           281.70666666666665,
           376.435,
           400.23,
           392.115,
           401.3220833333333,
           395.02833333333336,
           456.42625
          ],
          "sizemode": "area",
          "sizeref": 6.2467999999999995,
          "symbol": "circle"
         },
         "mode": "markers",
         "name": "cluster_0",
         "orientation": "v",
         "showlegend": true,
         "type": "scatter",
         "x": [
          25.09585457,
          36.476359450000004,
          48.459010310000004,
          84.4175314,
          107.24412595999999,
          109.5757725,
          119.80518140999999,
          116.74781798999999,
          104.46212394999999,
          95.96895876,
          70.15977464,
          78.44730792,
          33.694482789999995,
          29.988200409999997,
          37.59574138,
          25.40825877,
          28.51075721,
          30.009764819999997,
          30.87201888,
          32.99255251,
          32.9813835,
          36.46109704999999,
          31.153125019999997,
          25.99051121,
          26.30799621,
          29.91650125,
          30.53937743,
          31.84878026,
          33.13640796,
          33.370710439999996,
          34.19554108,
          42.2061808,
          44.4059021,
          46.220985389999996,
          39.605766020000004,
          36.56785999,
          26.447887629999997,
          26.10658753,
          31.89353723,
          32.576665139999996,
          36.59965891,
          37.63601917,
          40.2743162,
          43.525188719999996,
          42.61486247,
          43.0834271,
          49.183871079999996,
          44.29767131,
          45.404842179999996,
          46.03545759,
          42.24264399,
          45.19750814,
          41.38996672,
          37.67158207999999,
          36.00761853,
          34.23973738,
          40.13647034,
          39.52386335,
          19.96891061,
          26.86101591,
          33.67817481,
          34.5244819,
          36.02408629,
          25.69309264,
          21.43108048,
          19.04267537,
          20.81834077,
          26.74946914,
          27.31624961,
          23.5582121,
          22.91584412,
          23.65583366,
          22.31009912,
          25.77430019,
          26.46277655,
          27.665376209999998,
          38.8725934,
          37.80054231,
          30.57793451,
          37.16558951,
          45.05203537,
          49.511333459999996,
          48.857587529999996,
          48.10530524,
          40.094427429999996,
          38.4929,
          40.364104579999996,
          47.99387602,
          42.83470856,
          40.867188399999996,
          29.69070854,
          44.265359929999995,
          49.48612077,
          48.80509624,
          40.15962334,
          33.16211721,
          57.294852840000004
         ],
         "xaxis": "x",
         "y": [
          143.84205863,
          162.27707759,
          167.00594822,
          141.10310582,
          105.83354673999999,
          107.98988793999999,
          101.00415306999999,
          99.41162542,
          101.76878767,
          88.51182812,
          141.56892762,
          143.25722899000002,
          171.99202271000001,
          193.62484819999997,
          185.22767444,
          185.43009525,
          161.17984327,
          192.042573,
          194.73799756,
          192.00947619999997,
          186.58610775999998,
          181.68519021999998,
          180.14245472999997,
          164.21265166999999,
          168.90199335,
          189.68306056999998,
          191.7058504,
          191.34275262999998,
          188.73489224,
          181.81203049,
          164.04345285,
          181.89950681,
          176.37616880000002,
          172.14834299999998,
          152.12310965,
          181.41723887,
          190.41882991,
          181.90455042,
          160.15599577999998,
          162.004097,
          178.47054563999998,
          181.76106811,
          176.93082555,
          166.99457991999998,
          142.74698209,
          146.58787246,
          161.82500688999997,
          170.06919431,
          165.05957071,
          163.55141993,
          158.79508138999998,
          137.82228555999998,
          171.76993908,
          178.46750885999998,
          178.74508322,
          177.85607459,
          181.21839319,
          169.28803136,
          161.96400858,
          182.38050231999998,
          176.37424733,
          173.71014384999998,
          172.38168524,
          187.19016585,
          182.43405313999997,
          167.43347056,
          167.96153611,
          191.67149594,
          191.64316765,
          193.51534041,
          192.32732047999997,
          180.56392427,
          163.79165211,
          189.79095977,
          192.52337756,
          191.82370093,
          181.67248427,
          169.60791978,
          158.07236688999998,
          175.53435430000002,
          170.21049793,
          171.6283433,
          169.36839817999999,
          167.94344175999998,
          157.99503678999997,
          151.75434302,
          178.77975852,
          176.47457644999997,
          183.59188852,
          170.98783644999997,
          162.17142134999997,
          179.70413634,
          182.64560246,
          181.80786186,
          188.50890063,
          159.3841434,
          162.65231703
         ],
         "yaxis": "y"
        },
        {
         "customdata": [
          [
           2,
           "Wednesday"
          ],
          [
           3,
           "Thursday"
          ],
          [
           6,
           "Sunday"
          ],
          [
           0,
           "Monday"
          ],
          [
           3,
           "Thursday"
          ],
          [
           4,
           "Friday"
          ],
          [
           5,
           "Saturday"
          ],
          [
           6,
           "Sunday"
          ],
          [
           0,
           "Monday"
          ],
          [
           1,
           "Tuesday"
          ],
          [
           2,
           "Wednesday"
          ],
          [
           3,
           "Thursday"
          ],
          [
           4,
           "Friday"
          ],
          [
           5,
           "Saturday"
          ],
          [
           6,
           "Sunday"
          ],
          [
           0,
           "Monday"
          ],
          [
           6,
           "Sunday"
          ],
          [
           0,
           "Monday"
          ],
          [
           1,
           "Tuesday"
          ],
          [
           2,
           "Wednesday"
          ],
          [
           4,
           "Friday"
          ],
          [
           5,
           "Saturday"
          ],
          [
           6,
           "Sunday"
          ],
          [
           0,
           "Monday"
          ],
          [
           1,
           "Tuesday"
          ],
          [
           2,
           "Wednesday"
          ],
          [
           4,
           "Friday"
          ],
          [
           5,
           "Saturday"
          ],
          [
           6,
           "Sunday"
          ],
          [
           0,
           "Monday"
          ],
          [
           1,
           "Tuesday"
          ],
          [
           2,
           "Wednesday"
          ],
          [
           3,
           "Thursday"
          ],
          [
           4,
           "Friday"
          ],
          [
           5,
           "Saturday"
          ],
          [
           6,
           "Sunday"
          ],
          [
           0,
           "Monday"
          ],
          [
           1,
           "Tuesday"
          ],
          [
           3,
           "Thursday"
          ],
          [
           4,
           "Friday"
          ],
          [
           5,
           "Saturday"
          ],
          [
           6,
           "Sunday"
          ],
          [
           0,
           "Monday"
          ],
          [
           1,
           "Tuesday"
          ],
          [
           2,
           "Wednesday"
          ],
          [
           3,
           "Thursday"
          ],
          [
           4,
           "Friday"
          ],
          [
           5,
           "Saturday"
          ],
          [
           6,
           "Sunday"
          ],
          [
           0,
           "Monday"
          ],
          [
           1,
           "Tuesday"
          ],
          [
           2,
           "Wednesday"
          ],
          [
           3,
           "Thursday"
          ],
          [
           4,
           "Friday"
          ],
          [
           5,
           "Saturday"
          ],
          [
           6,
           "Sunday"
          ],
          [
           0,
           "Monday"
          ],
          [
           2,
           "Wednesday"
          ],
          [
           0,
           "Monday"
          ],
          [
           3,
           "Thursday"
          ],
          [
           4,
           "Friday"
          ],
          [
           5,
           "Saturday"
          ],
          [
           0,
           "Monday"
          ],
          [
           1,
           "Tuesday"
          ],
          [
           2,
           "Wednesday"
          ],
          [
           2,
           "Wednesday"
          ],
          [
           3,
           "Thursday"
          ],
          [
           0,
           "Monday"
          ],
          [
           1,
           "Tuesday"
          ],
          [
           3,
           "Thursday"
          ],
          [
           5,
           "Saturday"
          ],
          [
           6,
           "Sunday"
          ],
          [
           0,
           "Monday"
          ],
          [
           1,
           "Tuesday"
          ],
          [
           2,
           "Wednesday"
          ],
          [
           3,
           "Thursday"
          ],
          [
           4,
           "Friday"
          ],
          [
           5,
           "Saturday"
          ],
          [
           5,
           "Saturday"
          ],
          [
           6,
           "Sunday"
          ],
          [
           1,
           "Tuesday"
          ],
          [
           2,
           "Wednesday"
          ],
          [
           3,
           "Thursday"
          ],
          [
           4,
           "Friday"
          ],
          [
           5,
           "Saturday"
          ],
          [
           6,
           "Sunday"
          ],
          [
           6,
           "Sunday"
          ]
         ],
         "hovertemplate": "cluster=cluster_5<br>TERMICA=%{x}<br>HIDRAULICA=%{y}<br>precio_bolsa_mean=%{marker.size}<br>day_of_week=%{customdata[0]}<br>day_name=%{customdata[1]}<extra></extra>",
         "legendgroup": "cluster_5",
         "marker": {
          "color": "#EF553B",
          "size": [
           462.115,
           557.6554166666667,
           613.1616666666667,
           613.9508333333334,
           552.35,
           540.6741666666667,
           525.8874999999999,
           502.88416666666666,
           502.42833333333334,
           494.45250000000004,
           490.05375000000004,
           480.7079166666667,
           446.4666666666667,
           467.7395833333333,
           529.2766666666666,
           598.16625,
           619.6470833333333,
           624.5179166666667,
           555.5175,
           559.2420833333334,
           515.0879166666667,
           533.8758333333333,
           544.005,
           572.3316666666666,
           596.3566666666667,
           597.9333333333333,
           539.0516666666666,
           566.5533333333334,
           549.7583333333333,
           572.8370833333333,
           581.325,
           601.1474999999999,
           505.9983333333333,
           569.0733333333333,
           586.1066666666667,
           555.95,
           564.4166666666667,
           534.2470833333333,
           495.91499999999996,
           483.5620833333333,
           492.9058333333333,
           472.97791666666666,
           484.10833333333335,
           538.9716666666667,
           541.40125,
           561.42875,
           541.1579166666667,
           543.8295833333334,
           558.5733333333334,
           558.1645833333333,
           583.1320833333333,
           573.8941666666667,
           538.4383333333333,
           557.7491666666666,
           573.795,
           581.275,
           527.5554166666667,
           623.945,
           560.7754166666666,
           380.3,
           452.28833333333336,
           472.34666666666664,
           441.08500000000004,
           420.33666666666664,
           459.80875,
           394.90416666666664,
           331.89833333333337,
           401.2391666666667,
           458.52833333333336,
           434.1816666666667,
           476.42499999999995,
           460.325,
           526.5358333333334,
           486.7683333333334,
           454.31,
           551.3816666666667,
           553.0604166666666,
           546.3,
           570.5725,
           593.5116666666667,
           529.2416666666667,
           543.255,
           509.70000000000005,
           493.19,
           541.7591666666666,
           576.4608333333334,
           635.08125
          ],
          "sizemode": "area",
          "sizeref": 6.2467999999999995,
          "symbol": "circle"
         },
         "mode": "markers",
         "name": "cluster_5",
         "orientation": "v",
         "showlegend": true,
         "type": "scatter",
         "x": [
          40.74664865999999,
          49.89166143,
          95.43920763999999,
          87.68048691,
          64.64048575999999,
          62.71825404,
          75.66053063999999,
          67.39949922,
          78.85218207999999,
          77.75869308,
          80.41958579,
          81.99317579999999,
          70.89703248999999,
          60.540043479999994,
          51.73844268,
          60.30724943,
          73.97333614,
          66.93695226,
          48.36979461999999,
          60.558462639999995,
          48.90361849,
          47.04722243,
          46.22181747,
          59.328383259999995,
          64.32052485999999,
          73.43819062,
          75.35912864,
          71.81113465,
          73.06414224,
          67.44192525,
          73.13954309,
          75.61264634,
          86.98924976,
          87.22192461,
          87.2156547,
          88.57589751,
          85.47860718,
          86.14024538,
          89.34633609999999,
          84.44114718,
          74.78590136,
          74.41515256,
          72.9712783,
          80.69498451,
          89.72697799,
          93.75150952999999,
          94.67840794,
          86.02673723999999,
          90.06528812,
          89.80461456,
          91.04183407,
          91.48235747,
          92.12965955,
          91.57526679,
          92.01335956999999,
          89.04784497,
          91.21604205,
          97.20753502,
          114.42266179,
          50.15215686,
          54.98146434,
          47.308537009999995,
          42.8184587,
          38.58574099,
          38.82965702,
          39.85577128,
          36.66253142,
          45.902151950000004,
          45.1188932,
          40.9936197,
          40.32608688,
          40.91754724,
          45.159072079999994,
          41.77767649,
          32.59256373,
          36.43715915999999,
          38.33609979,
          37.67005957999999,
          41.28164054999999,
          71.06246464,
          52.881789039999994,
          58.11917456,
          53.70242982,
          58.51787022,
          53.938051189999996,
          54.98411981,
          53.173871749999996
         ],
         "xaxis": "x",
         "y": [
          165.10378735999998,
          160.14283227,
          104.61390782999999,
          135.51496759999998,
          159.39621549999998,
          162.58152814,
          139.01279681999998,
          126.68710031999998,
          139.92256584999998,
          145.12963756,
          142.65797826,
          141.14124732,
          153.13498113,
          153.60178872999998,
          141.56527337999998,
          165.2831654,
          115.75334018,
          149.0341494,
          169.08145284,
          155.24062754,
          166.36633774999999,
          160.2898076,
          144.39096684999998,
          158.9125149,
          158.18300563999998,
          151.80148061,
          153.07046599999998,
          146.80737938999997,
          121.17550801,
          154.57807649,
          151.72544108,
          145.78796424,
          131.83066742999998,
          131.56969698,
          123.02160415,
          101.81902885,
          131.57553706,
          135.72437563,
          137.69851598,
          139.84664196,
          139.17040315,
          116.89399963,
          151.18792222,
          147.81665131999998,
          141.76208828,
          139.08794136,
          140.8444691,
          137.03065956,
          110.90163615,
          140.37369777,
          142.69471091,
          142.26091079,
          143.43429247,
          143.4293728,
          132.0526693,
          113.18279041,
          140.71788496,
          135.59523206999998,
          96.98640345999999,
          168.45560282,
          171.38419858,
          167.54289561000002,
          172.60940662,
          180.96810341,
          181.31716671,
          176.08100221,
          185.73477572,
          171.42811153999997,
          174.66382352,
          187.10826158999998,
          181.21840222999998,
          160.55269613999997,
          182.05021065999998,
          184.71916875999997,
          174.62080038999997,
          192.0932896,
          190.45471408,
          177.26915553,
          174.91027681,
          129.02739315,
          170.94064136,
          175.02061083,
          180.81944592,
          174.27876253999997,
          166.75374241,
          142.41942794,
          148.53981241
         ],
         "yaxis": "y"
        },
        {
         "customdata": [
          [
           4,
           "Friday"
          ],
          [
           5,
           "Saturday"
          ],
          [
           6,
           "Sunday"
          ],
          [
           0,
           "Monday"
          ],
          [
           1,
           "Tuesday"
          ],
          [
           2,
           "Wednesday"
          ],
          [
           3,
           "Thursday"
          ],
          [
           4,
           "Friday"
          ],
          [
           5,
           "Saturday"
          ],
          [
           1,
           "Tuesday"
          ],
          [
           2,
           "Wednesday"
          ],
          [
           1,
           "Tuesday"
          ],
          [
           2,
           "Wednesday"
          ],
          [
           3,
           "Thursday"
          ],
          [
           4,
           "Friday"
          ],
          [
           5,
           "Saturday"
          ],
          [
           3,
           "Thursday"
          ],
          [
           1,
           "Tuesday"
          ],
          [
           3,
           "Thursday"
          ],
          [
           4,
           "Friday"
          ],
          [
           5,
           "Saturday"
          ],
          [
           6,
           "Sunday"
          ],
          [
           0,
           "Monday"
          ],
          [
           1,
           "Tuesday"
          ],
          [
           3,
           "Thursday"
          ],
          [
           4,
           "Friday"
          ],
          [
           5,
           "Saturday"
          ],
          [
           6,
           "Sunday"
          ],
          [
           5,
           "Saturday"
          ],
          [
           6,
           "Sunday"
          ],
          [
           6,
           "Sunday"
          ],
          [
           0,
           "Monday"
          ],
          [
           1,
           "Tuesday"
          ],
          [
           2,
           "Wednesday"
          ],
          [
           3,
           "Thursday"
          ],
          [
           4,
           "Friday"
          ],
          [
           6,
           "Sunday"
          ],
          [
           0,
           "Monday"
          ],
          [
           1,
           "Tuesday"
          ],
          [
           2,
           "Wednesday"
          ],
          [
           3,
           "Thursday"
          ],
          [
           4,
           "Friday"
          ],
          [
           5,
           "Saturday"
          ],
          [
           0,
           "Monday"
          ],
          [
           1,
           "Tuesday"
          ],
          [
           2,
           "Wednesday"
          ],
          [
           3,
           "Thursday"
          ],
          [
           4,
           "Friday"
          ],
          [
           5,
           "Saturday"
          ],
          [
           0,
           "Monday"
          ],
          [
           1,
           "Tuesday"
          ],
          [
           2,
           "Wednesday"
          ],
          [
           3,
           "Thursday"
          ],
          [
           4,
           "Friday"
          ],
          [
           6,
           "Sunday"
          ]
         ],
         "hovertemplate": "cluster=cluster_2<br>TERMICA=%{x}<br>HIDRAULICA=%{y}<br>precio_bolsa_mean=%{marker.size}<br>day_of_week=%{customdata[0]}<br>day_name=%{customdata[1]}<extra></extra>",
         "legendgroup": "cluster_2",
         "marker": {
          "color": "#00CC96",
          "size": [
           623.3725000000001,
           626.7445833333334,
           633.79375,
           636.3033333333333,
           690.5766666666667,
           664.4883333333333,
           686.1133333333333,
           665.3016666666666,
           646.1183333333333,
           609.1825,
           588.1770833333334,
           628.35,
           638.0745833333334,
           694.2066666666666,
           691.0966666666667,
           669.5595833333333,
           595.6916666666666,
           612.5733333333334,
           653.57875,
           707.2004166666667,
           715.1495833333333,
           651.7191666666666,
           735.7033333333334,
           834.3554166666668,
           851.3583333333332,
           812.3633333333332,
           754.9220833333334,
           711.7583333333333,
           656.1804166666667,
           633.4058333333334,
           604.64875,
           604.7133333333333,
           619.64875,
           672.57,
           644.65,
           611.1375,
           610.4479166666666,
           650.2375,
           763.1633333333333,
           756.4233333333333,
           785.4808333333334,
           702.2366666666667,
           645.9516666666667,
           639.4408333333333,
           635.4883333333333,
           648.7783333333333,
           672.3333333333334,
           695.3095833333333,
           710.0045833333334,
           672.8066666666666,
           762.2629166666667,
           786.7654166666666,
           818.5616666666666,
           810.4125,
           848.3279166666666
          ],
          "sizemode": "area",
          "sizeref": 6.2467999999999995,
          "symbol": "circle"
         },
         "mode": "markers",
         "name": "cluster_2",
         "orientation": "v",
         "showlegend": true,
         "type": "scatter",
         "x": [
          52.35776729999999,
          61.76867343999999,
          55.112122209999995,
          60.745905029999996,
          65.95076333,
          69.61700104,
          70.46479339,
          80.88851745,
          94.13314984,
          83.67157646999999,
          66.87218132,
          73.20496389,
          71.78143759,
          77.90220520999999,
          81.76015774999999,
          78.81878988,
          83.23958846,
          94.0729133,
          93.12659896,
          91.20148442,
          94.16336081,
          91.66915336,
          96.81540303,
          99.51994334999999,
          103.83186131,
          104.95597396,
          96.71158651,
          100.12407332,
          92.51546785,
          90.42579328,
          111.32006156,
          38.34037139,
          42.07345353,
          48.42479065999999,
          52.01747634,
          51.100622709999996,
          51.46966914,
          64.2259364,
          72.32654136,
          73.25731209,
          79.3952347,
          82.99210306,
          80.536034,
          57.438278849999996,
          56.42235799,
          56.862234789999995,
          57.63816267,
          55.54014559,
          57.94078831,
          61.538096319999994,
          59.72635379,
          65.98599557,
          67.93175029999999,
          74.87090232999999,
          79.15313623
         ],
         "xaxis": "x",
         "y": [
          159.30471028999997,
          139.84545189,
          130.69287935,
          128.70223170999998,
          146.40602847999997,
          150.37253758,
          150.84019006,
          145.46222588999998,
          122.72589795,
          142.69019332,
          157.69501499,
          158.57630499,
          157.53824747,
          150.1678322,
          139.74063877,
          128.34550406999998,
          142.86853486,
          141.59312050999998,
          138.09685994,
          138.93986854,
          127.66872701,
          112.47717651999999,
          112.19551598999999,
          126.19230281,
          88.02999741,
          78.96667416,
          103.08719588999999,
          95.08889404,
          124.24311252999999,
          108.74444945999998,
          78.21827676,
          185.68145796,
          182.16566691999998,
          182.10937719,
          180.91369086,
          180.90483696,
          139.2330505,
          139.77106,
          155.8694393,
          156.7323034,
          148.11605366999999,
          145.74307513,
          133.99813673999998,
          166.79279721999998,
          173.35577262,
          171.08557947,
          170.64181211000002,
          173.27447106,
          158.66775121,
          167.78743008,
          174.91604195,
          170.07385576,
          166.45442768,
          161.18768738999998,
          128.51316909
         ],
         "yaxis": "y"
        },
        {
         "customdata": [
          [
           2,
           "Wednesday"
          ],
          [
           0,
           "Monday"
          ],
          [
           1,
           "Tuesday"
          ],
          [
           2,
           "Wednesday"
          ],
          [
           3,
           "Thursday"
          ],
          [
           4,
           "Friday"
          ],
          [
           0,
           "Monday"
          ],
          [
           1,
           "Tuesday"
          ],
          [
           2,
           "Wednesday"
          ],
          [
           3,
           "Thursday"
          ],
          [
           4,
           "Friday"
          ],
          [
           5,
           "Saturday"
          ],
          [
           6,
           "Sunday"
          ],
          [
           0,
           "Monday"
          ],
          [
           1,
           "Tuesday"
          ],
          [
           2,
           "Wednesday"
          ],
          [
           3,
           "Thursday"
          ],
          [
           4,
           "Friday"
          ],
          [
           5,
           "Saturday"
          ],
          [
           5,
           "Saturday"
          ],
          [
           0,
           "Monday"
          ],
          [
           1,
           "Tuesday"
          ],
          [
           2,
           "Wednesday"
          ],
          [
           3,
           "Thursday"
          ],
          [
           4,
           "Friday"
          ],
          [
           5,
           "Saturday"
          ],
          [
           6,
           "Sunday"
          ],
          [
           0,
           "Monday"
          ],
          [
           1,
           "Tuesday"
          ],
          [
           2,
           "Wednesday"
          ],
          [
           3,
           "Thursday"
          ],
          [
           4,
           "Friday"
          ],
          [
           5,
           "Saturday"
          ],
          [
           6,
           "Sunday"
          ],
          [
           1,
           "Tuesday"
          ],
          [
           6,
           "Sunday"
          ],
          [
           5,
           "Saturday"
          ],
          [
           6,
           "Sunday"
          ]
         ],
         "hovertemplate": "cluster=cluster_4<br>TERMICA=%{x}<br>HIDRAULICA=%{y}<br>precio_bolsa_mean=%{marker.size}<br>day_of_week=%{customdata[0]}<br>day_name=%{customdata[1]}<extra></extra>",
         "legendgroup": "cluster_4",
         "marker": {
          "color": "#AB63FA",
          "size": [
           921.645,
           854.6116666666667,
           1031.77125,
           1234.7412499999998,
           1082.2666666666667,
           973.8154166666667,
           907.2420833333332,
           993.1750000000001,
           950.4966666666668,
           1031.0983333333334,
           1036.5266666666666,
           1018.5925000000001,
           1035.14625,
           1078.9779166666667,
           1096.8041666666666,
           1043.3108333333332,
           1038.4683333333332,
           996.99625,
           977.8079166666666,
           862.2816666666668,
           911.6266666666667,
           921.0341666666667,
           924.9549999999999,
           925.5891666666666,
           933.1616666666667,
           933.9391666666667,
           933.0500000000001,
           933.9604166666667,
           934.24625,
           923.875,
           921.0812500000001,
           911.3279166666666,
           912.7933333333334,
           912.3329166666667,
           1065.5400000000002,
           1052.9133333333334,
           782.1566666666666,
           824.7841666666667
          ],
          "sizemode": "area",
          "sizeref": 6.2467999999999995,
          "symbol": "circle"
         },
         "mode": "markers",
         "name": "cluster_4",
         "orientation": "v",
         "showlegend": true,
         "type": "scatter",
         "x": [
          107.12587184,
          102.32929972,
          101.48114971999999,
          104.44172393000001,
          104.86081605999999,
          102.26450943,
          106.01751571999999,
          106.56050764,
          109.35602951999999,
          112.31966154999999,
          112.94991698999999,
          110.25316006999999,
          110.01795621999999,
          113.44354811,
          112.51439131,
          117.18332237999999,
          117.83420823,
          117.6753519,
          112.6531619,
          82.93584618,
          87.07775220999999,
          84.78017958,
          90.49553373999998,
          84.99084791,
          87.03294562,
          91.07008593,
          89.24727679,
          87.76832343999999,
          88.18038698,
          90.27968374999999,
          93.10885796999999,
          87.63934794,
          82.39759812,
          81.54519490999999,
          101.23216706,
          81.32974854,
          84.45644198999999,
          65.43820255
         ],
         "xaxis": "x",
         "y": [
          108.43992290999999,
          117.22374898,
          117.81350957,
          117.14297009999999,
          117.44423569,
          123.19846331,
          117.60764545999999,
          116.36085693999999,
          116.60233174999999,
          117.71961926,
          114.77009978,
          104.74229420999998,
          84.71152486,
          108.76864236,
          114.05663392,
          111.70512895999998,
          108.65327323999999,
          104.72063525,
          96.88551756,
          144.73775572,
          146.30061855,
          141.3632855,
          143.29371974,
          150.56280941999998,
          142.63337837,
          130.20755782999998,
          110.77341421999999,
          136.89764591999997,
          144.53484941,
          144.25272703,
          134.33724056999998,
          140.97815118999998,
          138.38728838,
          115.61646155,
          118.27346606,
          110.17439348999999,
          115.05186513999999,
          115.11812014
         ],
         "yaxis": "y"
        },
        {
         "customdata": [
          [
           0,
           "Monday"
          ],
          [
           3,
           "Thursday"
          ],
          [
           4,
           "Friday"
          ],
          [
           5,
           "Saturday"
          ],
          [
           6,
           "Sunday"
          ],
          [
           0,
           "Monday"
          ]
         ],
         "hovertemplate": "cluster=cluster_3<br>TERMICA=%{x}<br>HIDRAULICA=%{y}<br>precio_bolsa_mean=%{marker.size}<br>day_of_week=%{customdata[0]}<br>day_name=%{customdata[1]}<extra></extra>",
         "legendgroup": "cluster_3",
         "marker": {
          "color": "#FFA15A",
          "size": [
           2498.72,
           2457.08,
           2459.5087500000004,
           2452.0712500000004,
           2459.57,
           2366.252916666667
          ],
          "sizemode": "area",
          "sizeref": 6.2467999999999995,
          "symbol": "circle"
         },
         "mode": "markers",
         "name": "cluster_3",
         "orientation": "v",
         "showlegend": true,
         "type": "scatter",
         "x": [
          98.99718505999999,
          74.91623032999999,
          75.63467820999999,
          75.78188209,
          66.89031826,
          71.1144393
         ],
         "xaxis": "x",
         "y": [
          110.49770475,
          139.33007847,
          137.9105851,
          127.76643093,
          116.72220465,
          116.40423191
         ],
         "yaxis": "y"
        },
        {
         "customdata": [
          [
           2,
           "Wednesday"
          ],
          [
           3,
           "Thursday"
          ],
          [
           4,
           "Friday"
          ],
          [
           5,
           "Saturday"
          ],
          [
           6,
           "Sunday"
          ],
          [
           3,
           "Thursday"
          ],
          [
           4,
           "Friday"
          ],
          [
           5,
           "Saturday"
          ],
          [
           6,
           "Sunday"
          ],
          [
           0,
           "Monday"
          ],
          [
           3,
           "Thursday"
          ],
          [
           5,
           "Saturday"
          ],
          [
           0,
           "Monday"
          ],
          [
           1,
           "Tuesday"
          ],
          [
           2,
           "Wednesday"
          ],
          [
           3,
           "Thursday"
          ],
          [
           5,
           "Saturday"
          ],
          [
           6,
           "Sunday"
          ],
          [
           1,
           "Tuesday"
          ],
          [
           2,
           "Wednesday"
          ],
          [
           4,
           "Friday"
          ]
         ],
         "hovertemplate": "cluster=cluster_1<br>TERMICA=%{x}<br>HIDRAULICA=%{y}<br>precio_bolsa_mean=%{marker.size}<br>day_of_week=%{customdata[0]}<br>day_name=%{customdata[1]}<extra></extra>",
         "legendgroup": "cluster_1",
         "marker": {
          "color": "#19D3F3",
          "size": [
           1144.7220833333333,
           1513.5666666666666,
           1373.3316666666667,
           1370.1720833333331,
           1147.5854166666666,
           1256.6783333333333,
           1329.1804166666668,
           1007.98875,
           1271.77375,
           1596.7008333333333,
           1656.55,
           2259.4529166666666,
           1216.2670833333334,
           1644.7279166666667,
           1685.6779166666668,
           1460.4645833333334,
           1699.5625,
           1083.28875,
           1581.6308333333334,
           1870.2124999999999,
           1546.7975
          ],
          "sizemode": "area",
          "sizeref": 6.2467999999999995,
          "symbol": "circle"
         },
         "mode": "markers",
         "name": "cluster_1",
         "orientation": "v",
         "showlegend": true,
         "type": "scatter",
         "x": [
          98.93195727,
          103.81978648999998,
          99.31423729000001,
          81.65784853,
          77.87874894,
          90.35394194999999,
          82.75391852999999,
          58.87380102,
          79.00336845999999,
          81.36330656,
          107.85462623999999,
          105.11610268999999,
          72.07386159999999,
          78.14421338,
          90.26618769,
          99.51516862,
          93.80510575,
          66.92713164,
          88.05415270999998,
          81.65517999,
          94.62767201
         ],
         "xaxis": "x",
         "y": [
          120.4979353,
          115.99381982999999,
          123.12174609,
          126.71509006,
          111.73319931999998,
          128.22672841,
          133.10242832999998,
          148.65677147999997,
          109.15237998,
          110.86257031,
          113.22896423,
          110.55148820999999,
          142.05106997,
          139.86144708,
          128.43723645,
          122.21264109999998,
          123.78279189,
          132.22937885,
          124.06460544,
          135.54067604,
          121.53361625
         ],
         "yaxis": "y"
        },
        {
         "customdata": [
          [
           0,
           "Monday"
          ],
          [
           1,
           "Tuesday"
          ],
          [
           2,
           "Wednesday"
          ],
          [
           1,
           "Tuesday"
          ],
          [
           2,
           "Wednesday"
          ],
          [
           4,
           "Friday"
          ],
          [
           4,
           "Friday"
          ],
          [
           0,
           "Monday"
          ],
          [
           1,
           "Tuesday"
          ],
          [
           2,
           "Wednesday"
          ],
          [
           3,
           "Thursday"
          ]
         ],
         "hovertemplate": "cluster=cluster_6<br>TERMICA=%{x}<br>HIDRAULICA=%{y}<br>precio_bolsa_mean=%{marker.size}<br>day_of_week=%{customdata[0]}<br>day_name=%{customdata[1]}<extra></extra>",
         "legendgroup": "cluster_6",
         "marker": {
          "color": "#FF6692",
          "size": [
           1597.77375,
           1422.8241666666665,
           1531.045,
           1740.1345833333332,
           1689.9325,
           1880.3591666666664,
           2003.3400000000001,
           1827.4983333333332,
           1751.32,
           1701.0283333333334,
           1894.9583333333333
          ],
          "sizemode": "area",
          "sizeref": 6.2467999999999995,
          "symbol": "circle"
         },
         "mode": "markers",
         "name": "cluster_6",
         "orientation": "v",
         "showlegend": true,
         "type": "scatter",
         "x": [
          93.09336465999999,
          93.68099935,
          94.55815195,
          101.33018343,
          98.8286394,
          107.87494331999999,
          100.85271551,
          97.27660443,
          104.19087726000001,
          110.68438157,
          96.73475715000001
         ],
         "xaxis": "x",
         "y": [
          119.12889525,
          119.71596695999999,
          121.94975507999999,
          115.19446894,
          119.19598735999999,
          118.35600354,
          123.04637965,
          123.48698293,
          119.93287436,
          112.13400639,
          122.4457647
         ],
         "yaxis": "y"
        }
       ],
       "layout": {
        "legend": {
         "itemsizing": "constant",
         "title": {
          "text": "cluster"
         },
         "tracegroupgap": 0
        },
        "margin": {
         "t": 60
        },
        "template": {
         "data": {
          "bar": [
           {
            "error_x": {
             "color": "#2a3f5f"
            },
            "error_y": {
             "color": "#2a3f5f"
            },
            "marker": {
             "line": {
              "color": "#E5ECF6",
              "width": 0.5
             },
             "pattern": {
              "fillmode": "overlay",
              "size": 10,
              "solidity": 0.2
             }
            },
            "type": "bar"
           }
          ],
          "barpolar": [
           {
            "marker": {
             "line": {
              "color": "#E5ECF6",
              "width": 0.5
             },
             "pattern": {
              "fillmode": "overlay",
              "size": 10,
              "solidity": 0.2
             }
            },
            "type": "barpolar"
           }
          ],
          "carpet": [
           {
            "aaxis": {
             "endlinecolor": "#2a3f5f",
             "gridcolor": "white",
             "linecolor": "white",
             "minorgridcolor": "white",
             "startlinecolor": "#2a3f5f"
            },
            "baxis": {
             "endlinecolor": "#2a3f5f",
             "gridcolor": "white",
             "linecolor": "white",
             "minorgridcolor": "white",
             "startlinecolor": "#2a3f5f"
            },
            "type": "carpet"
           }
          ],
          "choropleth": [
           {
            "colorbar": {
             "outlinewidth": 0,
             "ticks": ""
            },
            "type": "choropleth"
           }
          ],
          "contour": [
           {
            "colorbar": {
             "outlinewidth": 0,
             "ticks": ""
            },
            "colorscale": [
             [
              0,
              "#0d0887"
             ],
             [
              0.1111111111111111,
              "#46039f"
             ],
             [
              0.2222222222222222,
              "#7201a8"
             ],
             [
              0.3333333333333333,
              "#9c179e"
             ],
             [
              0.4444444444444444,
              "#bd3786"
             ],
             [
              0.5555555555555556,
              "#d8576b"
             ],
             [
              0.6666666666666666,
              "#ed7953"
             ],
             [
              0.7777777777777778,
              "#fb9f3a"
             ],
             [
              0.8888888888888888,
              "#fdca26"
             ],
             [
              1,
              "#f0f921"
             ]
            ],
            "type": "contour"
           }
          ],
          "contourcarpet": [
           {
            "colorbar": {
             "outlinewidth": 0,
             "ticks": ""
            },
            "type": "contourcarpet"
           }
          ],
          "heatmap": [
           {
            "colorbar": {
             "outlinewidth": 0,
             "ticks": ""
            },
            "colorscale": [
             [
              0,
              "#0d0887"
             ],
             [
              0.1111111111111111,
              "#46039f"
             ],
             [
              0.2222222222222222,
              "#7201a8"
             ],
             [
              0.3333333333333333,
              "#9c179e"
             ],
             [
              0.4444444444444444,
              "#bd3786"
             ],
             [
              0.5555555555555556,
              "#d8576b"
             ],
             [
              0.6666666666666666,
              "#ed7953"
             ],
             [
              0.7777777777777778,
              "#fb9f3a"
             ],
             [
              0.8888888888888888,
              "#fdca26"
             ],
             [
              1,
              "#f0f921"
             ]
            ],
            "type": "heatmap"
           }
          ],
          "heatmapgl": [
           {
            "colorbar": {
             "outlinewidth": 0,
             "ticks": ""
            },
            "colorscale": [
             [
              0,
              "#0d0887"
             ],
             [
              0.1111111111111111,
              "#46039f"
             ],
             [
              0.2222222222222222,
              "#7201a8"
             ],
             [
              0.3333333333333333,
              "#9c179e"
             ],
             [
              0.4444444444444444,
              "#bd3786"
             ],
             [
              0.5555555555555556,
              "#d8576b"
             ],
             [
              0.6666666666666666,
              "#ed7953"
             ],
             [
              0.7777777777777778,
              "#fb9f3a"
             ],
             [
              0.8888888888888888,
              "#fdca26"
             ],
             [
              1,
              "#f0f921"
             ]
            ],
            "type": "heatmapgl"
           }
          ],
          "histogram": [
           {
            "marker": {
             "pattern": {
              "fillmode": "overlay",
              "size": 10,
              "solidity": 0.2
             }
            },
            "type": "histogram"
           }
          ],
          "histogram2d": [
           {
            "colorbar": {
             "outlinewidth": 0,
             "ticks": ""
            },
            "colorscale": [
             [
              0,
              "#0d0887"
             ],
             [
              0.1111111111111111,
              "#46039f"
             ],
             [
              0.2222222222222222,
              "#7201a8"
             ],
             [
              0.3333333333333333,
              "#9c179e"
             ],
             [
              0.4444444444444444,
              "#bd3786"
             ],
             [
              0.5555555555555556,
              "#d8576b"
             ],
             [
              0.6666666666666666,
              "#ed7953"
             ],
             [
              0.7777777777777778,
              "#fb9f3a"
             ],
             [
              0.8888888888888888,
              "#fdca26"
             ],
             [
              1,
              "#f0f921"
             ]
            ],
            "type": "histogram2d"
           }
          ],
          "histogram2dcontour": [
           {
            "colorbar": {
             "outlinewidth": 0,
             "ticks": ""
            },
            "colorscale": [
             [
              0,
              "#0d0887"
             ],
             [
              0.1111111111111111,
              "#46039f"
             ],
             [
              0.2222222222222222,
              "#7201a8"
             ],
             [
              0.3333333333333333,
              "#9c179e"
             ],
             [
              0.4444444444444444,
              "#bd3786"
             ],
             [
              0.5555555555555556,
              "#d8576b"
             ],
             [
              0.6666666666666666,
              "#ed7953"
             ],
             [
              0.7777777777777778,
              "#fb9f3a"
             ],
             [
              0.8888888888888888,
              "#fdca26"
             ],
             [
              1,
              "#f0f921"
             ]
            ],
            "type": "histogram2dcontour"
           }
          ],
          "mesh3d": [
           {
            "colorbar": {
             "outlinewidth": 0,
             "ticks": ""
            },
            "type": "mesh3d"
           }
          ],
          "parcoords": [
           {
            "line": {
             "colorbar": {
              "outlinewidth": 0,
              "ticks": ""
             }
            },
            "type": "parcoords"
           }
          ],
          "pie": [
           {
            "automargin": true,
            "type": "pie"
           }
          ],
          "scatter": [
           {
            "fillpattern": {
             "fillmode": "overlay",
             "size": 10,
             "solidity": 0.2
            },
            "type": "scatter"
           }
          ],
          "scatter3d": [
           {
            "line": {
             "colorbar": {
              "outlinewidth": 0,
              "ticks": ""
             }
            },
            "marker": {
             "colorbar": {
              "outlinewidth": 0,
              "ticks": ""
             }
            },
            "type": "scatter3d"
           }
          ],
          "scattercarpet": [
           {
            "marker": {
             "colorbar": {
              "outlinewidth": 0,
              "ticks": ""
             }
            },
            "type": "scattercarpet"
           }
          ],
          "scattergeo": [
           {
            "marker": {
             "colorbar": {
              "outlinewidth": 0,
              "ticks": ""
             }
            },
            "type": "scattergeo"
           }
          ],
          "scattergl": [
           {
            "marker": {
             "colorbar": {
              "outlinewidth": 0,
              "ticks": ""
             }
            },
            "type": "scattergl"
           }
          ],
          "scattermapbox": [
           {
            "marker": {
             "colorbar": {
              "outlinewidth": 0,
              "ticks": ""
             }
            },
            "type": "scattermapbox"
           }
          ],
          "scatterpolar": [
           {
            "marker": {
             "colorbar": {
              "outlinewidth": 0,
              "ticks": ""
             }
            },
            "type": "scatterpolar"
           }
          ],
          "scatterpolargl": [
           {
            "marker": {
             "colorbar": {
              "outlinewidth": 0,
              "ticks": ""
             }
            },
            "type": "scatterpolargl"
           }
          ],
          "scatterternary": [
           {
            "marker": {
             "colorbar": {
              "outlinewidth": 0,
              "ticks": ""
             }
            },
            "type": "scatterternary"
           }
          ],
          "surface": [
           {
            "colorbar": {
             "outlinewidth": 0,
             "ticks": ""
            },
            "colorscale": [
             [
              0,
              "#0d0887"
             ],
             [
              0.1111111111111111,
              "#46039f"
             ],
             [
              0.2222222222222222,
              "#7201a8"
             ],
             [
              0.3333333333333333,
              "#9c179e"
             ],
             [
              0.4444444444444444,
              "#bd3786"
             ],
             [
              0.5555555555555556,
              "#d8576b"
             ],
             [
              0.6666666666666666,
              "#ed7953"
             ],
             [
              0.7777777777777778,
              "#fb9f3a"
             ],
             [
              0.8888888888888888,
              "#fdca26"
             ],
             [
              1,
              "#f0f921"
             ]
            ],
            "type": "surface"
           }
          ],
          "table": [
           {
            "cells": {
             "fill": {
              "color": "#EBF0F8"
             },
             "line": {
              "color": "white"
             }
            },
            "header": {
             "fill": {
              "color": "#C8D4E3"
             },
             "line": {
              "color": "white"
             }
            },
            "type": "table"
           }
          ]
         },
         "layout": {
          "annotationdefaults": {
           "arrowcolor": "#2a3f5f",
           "arrowhead": 0,
           "arrowwidth": 1
          },
          "autotypenumbers": "strict",
          "coloraxis": {
           "colorbar": {
            "outlinewidth": 0,
            "ticks": ""
           }
          },
          "colorscale": {
           "diverging": [
            [
             0,
             "#8e0152"
            ],
            [
             0.1,
             "#c51b7d"
            ],
            [
             0.2,
             "#de77ae"
            ],
            [
             0.3,
             "#f1b6da"
            ],
            [
             0.4,
             "#fde0ef"
            ],
            [
             0.5,
             "#f7f7f7"
            ],
            [
             0.6,
             "#e6f5d0"
            ],
            [
             0.7,
             "#b8e186"
            ],
            [
             0.8,
             "#7fbc41"
            ],
            [
             0.9,
             "#4d9221"
            ],
            [
             1,
             "#276419"
            ]
           ],
           "sequential": [
            [
             0,
             "#0d0887"
            ],
            [
             0.1111111111111111,
             "#46039f"
            ],
            [
             0.2222222222222222,
             "#7201a8"
            ],
            [
             0.3333333333333333,
             "#9c179e"
            ],
            [
             0.4444444444444444,
             "#bd3786"
            ],
            [
             0.5555555555555556,
             "#d8576b"
            ],
            [
             0.6666666666666666,
             "#ed7953"
            ],
            [
             0.7777777777777778,
             "#fb9f3a"
            ],
            [
             0.8888888888888888,
             "#fdca26"
            ],
            [
             1,
             "#f0f921"
            ]
           ],
           "sequentialminus": [
            [
             0,
             "#0d0887"
            ],
            [
             0.1111111111111111,
             "#46039f"
            ],
            [
             0.2222222222222222,
             "#7201a8"
            ],
            [
             0.3333333333333333,
             "#9c179e"
            ],
            [
             0.4444444444444444,
             "#bd3786"
            ],
            [
             0.5555555555555556,
             "#d8576b"
            ],
            [
             0.6666666666666666,
             "#ed7953"
            ],
            [
             0.7777777777777778,
             "#fb9f3a"
            ],
            [
             0.8888888888888888,
             "#fdca26"
            ],
            [
             1,
             "#f0f921"
            ]
           ]
          },
          "colorway": [
           "#636efa",
           "#EF553B",
           "#00cc96",
           "#ab63fa",
           "#FFA15A",
           "#19d3f3",
           "#FF6692",
           "#B6E880",
           "#FF97FF",
           "#FECB52"
          ],
          "font": {
           "color": "#2a3f5f"
          },
          "geo": {
           "bgcolor": "white",
           "lakecolor": "white",
           "landcolor": "#E5ECF6",
           "showlakes": true,
           "showland": true,
           "subunitcolor": "white"
          },
          "hoverlabel": {
           "align": "left"
          },
          "hovermode": "closest",
          "mapbox": {
           "style": "light"
          },
          "paper_bgcolor": "white",
          "plot_bgcolor": "#E5ECF6",
          "polar": {
           "angularaxis": {
            "gridcolor": "white",
            "linecolor": "white",
            "ticks": ""
           },
           "bgcolor": "#E5ECF6",
           "radialaxis": {
            "gridcolor": "white",
            "linecolor": "white",
            "ticks": ""
           }
          },
          "scene": {
           "xaxis": {
            "backgroundcolor": "#E5ECF6",
            "gridcolor": "white",
            "gridwidth": 2,
            "linecolor": "white",
            "showbackground": true,
            "ticks": "",
            "zerolinecolor": "white"
           },
           "yaxis": {
            "backgroundcolor": "#E5ECF6",
            "gridcolor": "white",
            "gridwidth": 2,
            "linecolor": "white",
            "showbackground": true,
            "ticks": "",
            "zerolinecolor": "white"
           },
           "zaxis": {
            "backgroundcolor": "#E5ECF6",
            "gridcolor": "white",
            "gridwidth": 2,
            "linecolor": "white",
            "showbackground": true,
            "ticks": "",
            "zerolinecolor": "white"
           }
          },
          "shapedefaults": {
           "line": {
            "color": "#2a3f5f"
           }
          },
          "ternary": {
           "aaxis": {
            "gridcolor": "white",
            "linecolor": "white",
            "ticks": ""
           },
           "baxis": {
            "gridcolor": "white",
            "linecolor": "white",
            "ticks": ""
           },
           "bgcolor": "#E5ECF6",
           "caxis": {
            "gridcolor": "white",
            "linecolor": "white",
            "ticks": ""
           }
          },
          "title": {
           "x": 0.05
          },
          "xaxis": {
           "automargin": true,
           "gridcolor": "white",
           "linecolor": "white",
           "ticks": "",
           "title": {
            "standoff": 15
           },
           "zerolinecolor": "white",
           "zerolinewidth": 2
          },
          "yaxis": {
           "automargin": true,
           "gridcolor": "white",
           "linecolor": "white",
           "ticks": "",
           "title": {
            "standoff": 15
           },
           "zerolinecolor": "white",
           "zerolinewidth": 2
          }
         }
        },
        "xaxis": {
         "anchor": "y",
         "domain": [
          0,
          1
         ],
         "title": {
          "text": "TERMICA"
         }
        },
        "yaxis": {
         "anchor": "x",
         "domain": [
          0,
          1
         ],
         "title": {
          "text": "HIDRAULICA"
         }
        }
       }
      }
     },
     "metadata": {},
     "output_type": "display_data"
    }
   ],
   "source": [
    "fig = px.scatter(\n",
    "    data_frame=df_agg,\n",
    "    y=\"HIDRAULICA\",\n",
    "    x=\"TERMICA\",\n",
    "    color=\"cluster\",\n",
    "    size=\"precio_bolsa_mean\",\n",
    "    color_discrete_sequence=px.colors.qualitative.Plotly,\n",
    "    hover_data=[\"day_of_week\", \"day_name\"],\n",
    ")\n",
    "fig.show()"
   ]
  },
  {
   "cell_type": "code",
   "execution_count": 72,
   "metadata": {},
   "outputs": [
    {
     "data": {
      "text/html": [
       "<div>\n",
       "<style scoped>\n",
       "    .dataframe tbody tr th:only-of-type {\n",
       "        vertical-align: middle;\n",
       "    }\n",
       "\n",
       "    .dataframe tbody tr th {\n",
       "        vertical-align: top;\n",
       "    }\n",
       "\n",
       "    .dataframe thead th {\n",
       "        text-align: right;\n",
       "    }\n",
       "</style>\n",
       "<table border=\"1\" class=\"dataframe\">\n",
       "  <thead>\n",
       "    <tr style=\"text-align: right;\">\n",
       "      <th></th>\n",
       "      <th>cluster</th>\n",
       "      <th>Fecha</th>\n",
       "      <th>TOTAL_ERROR</th>\n",
       "    </tr>\n",
       "  </thead>\n",
       "  <tbody>\n",
       "    <tr>\n",
       "      <th>173</th>\n",
       "      <td>cluster_0</td>\n",
       "      <td>2024-06-22</td>\n",
       "      <td>3.631186</td>\n",
       "    </tr>\n",
       "    <tr>\n",
       "      <th>309</th>\n",
       "      <td>cluster_1</td>\n",
       "      <td>2024-11-05</td>\n",
       "      <td>1.261795</td>\n",
       "    </tr>\n",
       "    <tr>\n",
       "      <th>234</th>\n",
       "      <td>cluster_2</td>\n",
       "      <td>2024-08-22</td>\n",
       "      <td>42.100919</td>\n",
       "    </tr>\n",
       "    <tr>\n",
       "      <th>306</th>\n",
       "      <td>cluster_3</td>\n",
       "      <td>2024-11-02</td>\n",
       "      <td>11.042631</td>\n",
       "    </tr>\n",
       "    <tr>\n",
       "      <th>95</th>\n",
       "      <td>cluster_4</td>\n",
       "      <td>2024-04-05</td>\n",
       "      <td>19.651607</td>\n",
       "    </tr>\n",
       "    <tr>\n",
       "      <th>35</th>\n",
       "      <td>cluster_5</td>\n",
       "      <td>2024-02-05</td>\n",
       "      <td>5.461683</td>\n",
       "    </tr>\n",
       "    <tr>\n",
       "      <th>289</th>\n",
       "      <td>cluster_6</td>\n",
       "      <td>2024-10-16</td>\n",
       "      <td>1.285516</td>\n",
       "    </tr>\n",
       "  </tbody>\n",
       "</table>\n",
       "</div>"
      ],
      "text/plain": [
       "       cluster      Fecha  TOTAL_ERROR\n",
       "173  cluster_0 2024-06-22     3.631186\n",
       "309  cluster_1 2024-11-05     1.261795\n",
       "234  cluster_2 2024-08-22    42.100919\n",
       "306  cluster_3 2024-11-02    11.042631\n",
       "95   cluster_4 2024-04-05    19.651607\n",
       "35   cluster_5 2024-02-05     5.461683\n",
       "289  cluster_6 2024-10-16     1.285516"
      ]
     },
     "execution_count": 72,
     "metadata": {},
     "output_type": "execute_result"
    }
   ],
   "source": [
    "centers = pd.DataFrame(\n",
    "    data=clusterer.cluster_centers_,\n",
    "    columns=[col for col in df_agg.columns if col not in excep_columns + [\"cluster\", \"day_name\"]],\n",
    "    index=range(clusterer.n_clusters)\n",
    ")\n",
    "centers\n",
    "df_agg[\"HIDRO_ERROR\"] = df_agg.apply(\n",
    "    lambda x: (x[\"HIDRAULICA\"] - centers.loc[int(x[\"cluster\"].split(\"_\")[1]), \"HIDRAULICA\"])**2, axis=1\n",
    ")\n",
    "df_agg[\"TERMICA_ERROR\"] = df_agg.apply(\n",
    "    lambda x: (x[\"TERMICA\"] - centers.loc[int(x[\"cluster\"].split(\"_\")[1]), \"TERMICA\"])**2, axis=1\n",
    ")\n",
    "df_agg[\"TOTAL_ERROR\"] = df_agg[\"HIDRO_ERROR\"] + df_agg[\"TERMICA_ERROR\"]\n",
    "min_error_dates = df_agg.loc[df_agg.groupby(\"cluster\")[\"TOTAL_ERROR\"].idxmin(), [\"cluster\", \"Fecha\", \"TOTAL_ERROR\"]]\n",
    "min_error_dates"
   ]
  },
  {
   "cell_type": "code",
   "execution_count": null,
   "metadata": {},
   "outputs": [],
   "source": []
  }
 ],
 "metadata": {
  "kernelspec": {
   "display_name": ".env",
   "language": "python",
   "name": "python3"
  },
  "language_info": {
   "codemirror_mode": {
    "name": "ipython",
    "version": 3
   },
   "file_extension": ".py",
   "mimetype": "text/x-python",
   "name": "python",
   "nbconvert_exporter": "python",
   "pygments_lexer": "ipython3",
   "version": "3.12.2"
  }
 },
 "nbformat": 4,
 "nbformat_minor": 2
}

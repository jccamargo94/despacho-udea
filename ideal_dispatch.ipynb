{
 "cells": [
  {
   "cell_type": "code",
   "execution_count": 1,
   "metadata": {},
   "outputs": [],
   "source": [
    "from copy import deepcopy\n",
    "from datetime import date, datetime\n",
    "import re\n",
    "\n",
    "import pandas as pd\n",
    "import numpy as np\n",
    "import pyomo.environ as pyo\n",
    "from thefuzz import process, fuzz\n",
    "\n",
    "\n",
    "\n",
    "from app.model import UnitCommitmentModel, DispatchOptions, DispatchConfig"
   ]
  },
  {
   "cell_type": "code",
   "execution_count": 2,
   "metadata": {},
   "outputs": [],
   "source": [
    "config = DispatchConfig(\n",
    "    dispatch_type=\"ideal\"\n",
    ")\n",
    "# DISPATCH_DATE = date(2024,6,9)\n",
    "DISPATCH_DATE = date(2024,8,10)\n",
    "\n",
    "price_pattern = r\"P(\\d+)\"\n",
    "dispo_pattern = r\"DISCONF(\\d+)\""
   ]
  },
  {
   "cell_type": "markdown",
   "metadata": {},
   "source": [
    "# 1. Load data"
   ]
  },
  {
   "cell_type": "markdown",
   "metadata": {},
   "source": [
    "## 1.1 Load initial data"
   ]
  },
  {
   "cell_type": "code",
   "execution_count": 3,
   "metadata": {},
   "outputs": [],
   "source": [
    "# dispo = pd.read_csv('data/DispoCome_resource.csv', parse_dates=[\"datetime\"], engine=\"pyarrow\")\n",
    "dispo = pd.read_csv('data/dispo_declarada.csv', parse_dates=[\"datetime\"], engine=\"pyarrow\")\n",
    "ofertas = pd.read_csv('data/ofertas.csv', parse_dates=[\"Date\"], engine=\"pyarrow\")\n",
    "demanda = pd.read_csv('data/demaCome.csv', parse_dates=[\"datetime\"], engine=\"pyarrow\")\n",
    "agc_asignado = pd.read_csv('data/agc_asignado.csv', parse_dates=[\"datetime\"], engine=\"pyarrow\")\n",
    "parametros_plantas = pd.read_csv(\"data/parametros_plantas.csv\")\n",
    "\n",
    "# Precio bolsa\n",
    "precio_bolsa = pd.read_csv('data/precio_bolsa/precio_bolsa_2024.csv', parse_dates=[\"datetime\"], engine=\"pyarrow\")"
   ]
  },
  {
   "cell_type": "code",
   "execution_count": null,
   "metadata": {},
   "outputs": [],
   "source": [
    "output = []\n",
    "MO = []\n",
    "CC = {}\n",
    "cc_price = {}\n",
    "cc_dispo = {}\n",
    "prices = {}\n",
    "with open(f\"data/OFEI{DISPATCH_DATE.month:0>2}{DISPATCH_DATE.day:0>2}.txt\", \"r\") as file:\n",
    "    for line in file.readlines():\n",
    "        line = line.strip()\n",
    "        if \"PAP\" in line:\n",
    "            output.append(line)\n",
    "        if \"MO\" in line:\n",
    "            mo_line = line.split(\",\")\n",
    "            if len(mo_line) > 2 and \"MO\" in mo_line[1]:\n",
    "                MO.append(mo_line)\n",
    "        if (conf:=re.findall(price_pattern, line)) and \"CC\" in line:\n",
    "            fline = line.split(\",\")\n",
    "            cc_price[f\"{fline[0].strip()}_{conf[0]}\"] = float(fline[2])\n",
    "            if CC.get(fline[0].strip()):\n",
    "                CC[fline[0].strip()].append(f\"{fline[0].strip()}_{conf[0]}\")\n",
    "            else:\n",
    "                CC[fline[0].strip()] = [f\"{fline[0].strip()}_{conf[0]}\"]\n",
    "        # Disponibilidad CC\n",
    "        if (conf:=re.findall(dispo_pattern, line)) and \"CC\" in line:\n",
    "            fline = line.split(\",\")\n",
    "            cc_dispo[f\"{fline[0].strip()}_{conf[0]}\"] = [int(disp) for disp in fline[2:]]\n",
    "\n",
    "        # Extract prices\n",
    "        if \"P\" in line:\n",
    "            pri = line.split(\",\")\n",
    "            if len(pri) == 3 and \" P\" in pri[1] and not \"u\" in pri[1].lower() and not \"a\" in pri[1].lower():\n",
    "                prices[pri[0]] = float(pri[2])*1E-3\n",
    "\n",
    "            \n",
    "            \n",
    "precio_arranque = pd.DataFrame(\n",
    "    [\n",
    "        line.split(\",\")\n",
    "        for line in output\n",
    "        if not \"usd\" in line.lower()\n",
    "    ],\n",
    "    columns=[\"resource\", \"type\", \"price\"]\n",
    ")\n",
    "precio_arranque[\"price\"] = precio_arranque[\"price\"].astype(float)\n",
    "\n",
    "# Minimo operativo\n",
    "minimo_operativo = pd.DataFrame(\n",
    "    MO,\n",
    "    columns=[\"resource\", \"type\", ] + list(range(24))\n",
    ")\n",
    "minimo_operativo = minimo_operativo.set_index([\"resource\", \"type\"]).stack().reset_index()\n",
    "minimo_operativo.columns = [\"resource\", \"type\", \"hour\", \"minimo_operativo\"]\n",
    "minimo_operativo[\"datetime\"] = pd.to_datetime(DISPATCH_DATE) + pd.to_timedelta(minimo_operativo[\"hour\"], unit=\"h\")\n",
    "minimo_operativo[\"minimo_operativo\"] = minimo_operativo[\"minimo_operativo\"].astype(float)\n",
    "minimo_operativo"
   ]
  },
  {
   "cell_type": "markdown",
   "metadata": {},
   "source": [
    "## 1.2 Filter data by date"
   ]
  },
  {
   "cell_type": "code",
   "execution_count": 5,
   "metadata": {},
   "outputs": [],
   "source": [
    "dispo = dispo[\n",
    "    (dispo.datetime.dt.date == DISPATCH_DATE) &\n",
    "    (dispo[\"resource_name\"].notnull())\n",
    "]\n",
    "dispo = dispo.drop_duplicates(subset=[\"resource_name\", \"datetime\"])\n",
    "ofertas = ofertas[ofertas.Date.dt.date == DISPATCH_DATE]\n",
    "agc_asignado = agc_asignado[agc_asignado[\"datetime\"].dt.date == DISPATCH_DATE]\n",
    "demanda = demanda[demanda[\"datetime\"].dt.date == DISPATCH_DATE]\n",
    "precio_bolsa = precio_bolsa[precio_bolsa[\"datetime\"].dt.date == DISPATCH_DATE]\n"
   ]
  },
  {
   "cell_type": "markdown",
   "metadata": {},
   "source": [
    "## 1.3. Extract prices from OFEI"
   ]
  },
  {
   "cell_type": "markdown",
   "metadata": {},
   "source": [
    "### 1.3.1. Map names"
   ]
  },
  {
   "cell_type": "code",
   "execution_count": 6,
   "metadata": {},
   "outputs": [],
   "source": [
    "price_bid_map = {\n",
    "    gen: process.extractOne(\n",
    "        query=gen.lower(),\n",
    "        choices=dispo[\"resource_name\"].unique(),\n",
    "        scorer=fuzz.token_sort_ratio,\n",
    "        processor=lambda x: x.lower().replace(\" \", \"\"),\n",
    "        score_cutoff=70,\n",
    "    )[0]\n",
    "    for gen in prices.keys()\n",
    "}\n",
    "prices = {\n",
    "    price_bid_map[gen]: price\n",
    "    for gen, price in prices.items()\n",
    "}"
   ]
  },
  {
   "cell_type": "markdown",
   "metadata": {},
   "source": [
    "### 1.3.2. Transform bids"
   ]
  },
  {
   "cell_type": "code",
   "execution_count": null,
   "metadata": {},
   "outputs": [],
   "source": [
    "ofertas[\"Value\"] = ofertas.apply(lambda x: prices.get(x[\"resource_name\"],float(x[\"Value\"])), axis=1)\n",
    "ofertas"
   ]
  },
  {
   "cell_type": "code",
   "execution_count": 8,
   "metadata": {},
   "outputs": [],
   "source": [
    "# ofertas.loc[ofertas[\"resource_name\"].str.contains(\"TEBSA\"),\"Value\"] = 500.000\n",
    "# ofertas[ofertas[\"resource_name\"].str.contains(\"TEBSA\")]"
   ]
  },
  {
   "cell_type": "code",
   "execution_count": 9,
   "metadata": {},
   "outputs": [],
   "source": [
    "# import numpy as np\n",
    "# dispo.loc[dispo[\"resource_name\"].str.contains(\"VALLE\"),\"dispo\"] = np.array([239,  1,  1,  1,  1,  1,  1,  1,  1,  1,  239,  239,  239,  239,  239,  239,  239,  239,  239,  239,  239,  239,  239,  239])*1E3\n",
    "# ofertas.loc[ofertas[\"resource_name\"].str.contains(\"VALLE\"),\"Value\"] = 500.000"
   ]
  },
  {
   "cell_type": "code",
   "execution_count": 10,
   "metadata": {},
   "outputs": [],
   "source": [
    "# ofertas.loc[ofertas[\"resource_name\"].str.contains(\"TEBSA\"),\"Value\"] = 1514.537"
   ]
  },
  {
   "cell_type": "code",
   "execution_count": 11,
   "metadata": {},
   "outputs": [],
   "source": [
    "# ofertas.head()"
   ]
  },
  {
   "cell_type": "markdown",
   "metadata": {},
   "source": [
    "## 1.4. Get Initial conditions"
   ]
  },
  {
   "cell_type": "code",
   "execution_count": 12,
   "metadata": {},
   "outputs": [],
   "source": [
    "# Load Initial condition by plant and Units\n",
    "with open(f\"data/condicion_inicial/{DISPATCH_DATE}/dCondIniP{DISPATCH_DATE.month:0>2}{DISPATCH_DATE.day:0>2}.txt\", \"r\") as file:\n",
    "    data = file.readlines()\n",
    "    data = [line.strip().split(\",\") for line in data]\n",
    "    headers = data.pop(0)\n",
    "condicion_inicial_planta = pd.DataFrame(data, columns=headers)\n",
    "\n",
    "with open(f\"data/condicion_inicial/{DISPATCH_DATE}/dCondIniU{DISPATCH_DATE.month:0>2}{DISPATCH_DATE.day:0>2}.txt\", \"r\") as file:\n",
    "    data = file.readlines()\n",
    "    data = [line.strip().split(\",\") for line in data]\n",
    "    headers = data.pop(0)\n",
    "\n",
    "# Transform dataframe\n",
    "condicion_inicial_unidad = pd.DataFrame(data, columns=headers)\n",
    "# Generate name mappes\n",
    "condicion_inicial_map = {\n",
    "    gen: process.extractOne(\n",
    "        query=gen.lower(),\n",
    "        choices=dispo[\"resource_name\"].unique(),\n",
    "        scorer=fuzz.token_sort_ratio,\n",
    "        processor=lambda x: x.lower().replace(\" \", \"\"),\n",
    "        # score_cutoff=70,\n",
    "    )[0]\n",
    "    for gen in condicion_inicial_planta.Recurso.unique()\n",
    "}\n",
    "# FIX some maps\n",
    "condicion_inicial_map.update({\n",
    "    \"FLORES IV\":\"FLORES 4 CC\",\n",
    "    \"TSIERRA\": \"TERMOSIERRA CC\",\n",
    "    \"GUAJIR21\": \"GUAJIRA 2\"\n",
    "})\n",
    "condicion_inicial_planta[\"Recurso\"] = condicion_inicial_planta[\"Recurso\"].apply(lambda x: condicion_inicial_map.get(x, x))"
   ]
  },
  {
   "cell_type": "markdown",
   "metadata": {},
   "source": [
    "## 1.5 Generating new resources for CC plants"
   ]
  },
  {
   "cell_type": "markdown",
   "metadata": {},
   "source": [
    "### 1.5.1. New CC resources"
   ]
  },
  {
   "cell_type": "code",
   "execution_count": 13,
   "metadata": {},
   "outputs": [],
   "source": [
    "# DROP previous CC\n",
    "CC_MAP = {\n",
    "    gen: process.extractOne(\n",
    "        query=gen.lower(),\n",
    "        choices=dispo[\"resource_name\"].unique(),\n",
    "        scorer=fuzz.partial_token_sort_ratio,\n",
    "        processor=lambda x: x.lower().replace(\" \", \"\"),\n",
    "        score_cutoff=70,\n",
    "    )[0]\n",
    "    for gen in CC.keys()\n",
    "}\n",
    "CC_MAP\n",
    "\n",
    "dispo = dispo[~dispo[\"resource_name\"].isin(list(CC_MAP.values()))]\n",
    "ofertas = ofertas[~ofertas[\"resource_name\"].isin(list(CC_MAP.values()))]"
   ]
  },
  {
   "cell_type": "code",
   "execution_count": 14,
   "metadata": {},
   "outputs": [],
   "source": [
    "# INCLUDING CC RESOURCE in DISPO and OFERTAS\n",
    "new_cc_resources = pd.DataFrame(cc_dispo).stack().reset_index()\n",
    "new_cc_resources.columns = [\"hours\", \"resource_name\", \"dispo\"]\n",
    "new_cc_resources[\"dispo\"] = new_cc_resources[\"dispo\"]*1e3\n",
    "new_cc_resources[\"hours\"] = new_cc_resources[\"hours\"].astype(int)\n",
    "new_cc_resources[\"datetime\"] = pd.to_datetime(DISPATCH_DATE) + pd.to_timedelta(new_cc_resources[\"hours\"], unit=\"h\")\n",
    "new_cc_resources[\"gen_type\"] = \"TERMICA\"\n",
    "new_cc_resources[\"dispatched\"] = \"DESPACHADO CENTRALMENTE\"\n",
    "new_cc_resources[\"company_activity\"] = \"GENERACIÓN\"\n",
    "new_cc_resources.pop(\"hours\")\n",
    "\n",
    "\n",
    "# OFERTAS\n",
    "\n",
    "new_cc_bid = pd.DataFrame(cc_price, index=[1]).stack().reset_index(drop=False)\n",
    "new_cc_bid.columns = [\"index_\", \"resource_name\", \"Value\"]\n",
    "new_cc_bid[\"Value\"] = new_cc_bid[\"Value\"].apply(lambda x: x*1E-3)\n",
    "# new_cc_bid[\"datetime\"] = pd.to_datetime(DISPATCH_DATE) + pd.to_timedelta(new_cc_bid[\"hours\"], unit=\"h\")\n",
    "new_cc_bid[\"resource_gen_type\"] = \"TERMICA\"\n",
    "new_cc_bid[\"Date\"] = DISPATCH_DATE\n",
    "# new_cc_bid[\"dispatched\"] = \"DESPACHADO CENTRALMENTE\"\n",
    "# new_cc_bid[\"company_activity\"] = \"GENERACIÓN\"\n",
    "_ = new_cc_bid.pop(\"index_\")\n",
    "\n"
   ]
  },
  {
   "cell_type": "code",
   "execution_count": 15,
   "metadata": {},
   "outputs": [],
   "source": [
    "dispo = pd.concat([dispo, new_cc_resources], axis=0)\n",
    "ofertas = pd.concat([ofertas, new_cc_bid], axis=0)"
   ]
  },
  {
   "cell_type": "markdown",
   "metadata": {},
   "source": [
    "### 1.5.2 Adding units for each CC resource"
   ]
  },
  {
   "cell_type": "code",
   "execution_count": 16,
   "metadata": {},
   "outputs": [],
   "source": [
    "CC_MAP_inv = {\n",
    "    v: k\n",
    "    for k, v in CC_MAP.items()\n",
    "}"
   ]
  },
  {
   "cell_type": "code",
   "execution_count": null,
   "metadata": {},
   "outputs": [],
   "source": [
    "dcondIniPlant = condicion_inicial_planta[condicion_inicial_planta.Recurso.isin(CC_MAP.values())]\n",
    "dcondIniPlant.loc[:,\"Recurso\"] = dcondIniPlant[\"Recurso\"].apply(lambda x: CC_MAP_inv.get(x, x))\n",
    "dcondIniPlant.loc[:,\"dispatched_conf\"] = dcondIniPlant.loc[:,\"Conf_Pini-1\"].apply(lambda x: int(re.findall(r\"\\d+\", x)[0]))\n",
    "# dcondIniPlant = dcondIniPlant[dcondIniPlant[\"dispatched_conf\"]>0]\n",
    "dcondIniPlant\n"
   ]
  },
  {
   "cell_type": "code",
   "execution_count": 18,
   "metadata": {},
   "outputs": [],
   "source": [
    "initial_condition_df = pd.DataFrame()\n",
    "for plant, cc_plants in deepcopy(CC).items():\n",
    "    filtered_init_condition = dcondIniPlant.query(\"Recurso == @plant\").reset_index()\n",
    "    dispatched_conf = filtered_init_condition.loc[0,\"dispatched_conf\"]\n",
    "    if filtered_init_condition.loc[0,\"dispatched_conf\"] != 0:\n",
    "        filtered_init_condition.loc[0,\"Recurso\"] = f\"{plant}_{dispatched_conf}\"\n",
    "        dispatched_config = f\"{plant}_{dispatched_conf}\"\n",
    "        cc_plants.pop(cc_plants.index(dispatched_config))\n",
    "    to_concat = [\n",
    "        filtered_init_condition \n",
    "        for _ in cc_plants\n",
    "    ]\n",
    "    if to_concat:\n",
    "        filtered_init_condition_ = pd.concat(to_concat)\n",
    "        filtered_init_condition_[\"Recurso\"] = cc_plants\n",
    "        filtered_init_condition_[\"Gpini-1\"] = 0\n",
    "        filtered_init_condition = pd.concat([filtered_init_condition, filtered_init_condition_], ignore_index=True)\n",
    "        filtered_init_condition = filtered_init_condition[~filtered_init_condition[\"Recurso\"].isin([plant])]\n",
    "    initial_condition_df = pd.concat([initial_condition_df, filtered_init_condition], ignore_index=True)\n",
    "\n",
    "\n",
    "condicion_inicial_planta_termicas = condicion_inicial_planta[\n",
    "    ~(condicion_inicial_planta[\"Tipo\"] == \"H\") &\n",
    "    ~(condicion_inicial_planta[\"Recurso\"].isin(CC_MAP.values()))\n",
    "]\n",
    "initial_condition_df = pd.concat([initial_condition_df, condicion_inicial_planta_termicas], ignore_index=True)\n",
    "initial_condition_df = initial_condition_df.astype({\n",
    "    \"T_CONF_Pini-1\": int,\n",
    "    \"Gpini-1\": float\n",
    "})\n",
    "    "
   ]
  },
  {
   "cell_type": "markdown",
   "metadata": {},
   "source": [
    "## 1.6. Generating initial set to model"
   ]
  },
  {
   "cell_type": "code",
   "execution_count": 19,
   "metadata": {},
   "outputs": [],
   "source": [
    "major_generators = ofertas.resource_name.unique()\n",
    "generators = dispo.resource_name.unique()\n",
    "timestamps = demanda[\"datetime\"].to_dict().values()\n",
    "# fuel_generators = dispo.query('resource_name in @major_generators and gen_type==\"TERMICA\"').resource_name.unique()\n",
    "fuel_generators = dispo[\n",
    "    (dispo[\"resource_name\"].isin(major_generators)) &\n",
    "    (dispo[\"gen_type\"] == \"TERMICA\")\n",
    "].resource_name.unique()\n",
    "\n",
    "\n",
    "# Thermal gen\n",
    "gen_on = initial_condition_df[initial_condition_df[\"Gpini-1\"]!=0][\"Recurso\"].unique()\n",
    "gen_off = list(set(fuel_generators) - set(gen_on))"
   ]
  },
  {
   "cell_type": "markdown",
   "metadata": {},
   "source": [
    "## 1.2. Get startup/shutdown costs"
   ]
  },
  {
   "cell_type": "code",
   "execution_count": null,
   "metadata": {},
   "outputs": [],
   "source": [
    "MO_map = {\n",
    "    gen: results[0]\n",
    "    for gen in minimo_operativo.resource.unique()\n",
    "    if (results := process.extractOne(\n",
    "        query=gen.lower(),\n",
    "        choices=generators,\n",
    "        # choices=major_generators.tolist(),\n",
    "        scorer=fuzz.token_sort_ratio,\n",
    "        processor=lambda x: x.lower().replace(\" \", \"\"),\n",
    "        score_cutoff=70,\n",
    "    ))\n",
    "}\n",
    "minimo_operativo[\"resource\"] = minimo_operativo[\"resource\"].apply(lambda x: MO_map.get(x, x))\n",
    "minimo_operativo"
   ]
  },
  {
   "cell_type": "code",
   "execution_count": 21,
   "metadata": {},
   "outputs": [],
   "source": [
    "generators_pap_map = {\n",
    "    gen: process.extractOne(\n",
    "        query=gen.lower(),\n",
    "        choices=precio_arranque.resource.unique(),\n",
    "        scorer=fuzz.partial_token_sort_ratio,\n",
    "        processor=lambda x: x.lower().replace(\" \", \"\"),\n",
    "        score_cutoff=70,\n",
    "    )[0]\n",
    "    for gen in fuel_generators\n",
    "}\n",
    "\n",
    "cold_start = {}\n",
    "for gen in fuel_generators:\n",
    "    gen_name_mapped = generators_pap_map[gen]\n",
    "    gen_pap=precio_arranque[\n",
    "        (precio_arranque[\"resource\"] == gen_name_mapped) &\n",
    "        (precio_arranque.type.str.contains(\"F\"))\n",
    "    ][\"price\"].values[0]\n",
    "    cold_start[gen] = float(gen_pap)\n",
    "  \n"
   ]
  },
  {
   "cell_type": "code",
   "execution_count": 22,
   "metadata": {},
   "outputs": [],
   "source": [
    "# Valores en MWh\n",
    "Pmax = dispo.query(\"resource_name in @generators\").set_index([\"resource_name\",\"datetime\"]).sort_index()[\"dispo\"]*1E-3\n",
    "Pmin = minimo_operativo.set_index([\"resource\", \"datetime\"]).sort_index()[\"minimo_operativo\"]\n",
    "beta = ofertas.query(\"resource_name in @generators\").set_index([\"resource_name\"]).sort_index()[\"Value\"]*1E3\n",
    "agc_indexed = agc_asignado.set_index([\"recurso\", \"datetime\"])[\"agc\"]*1E-3\n",
    "\n",
    "# Pmax.loc[agc_indexed.index] = Pmax.loc[agc_indexed.index] -  agc_indexed"
   ]
  },
  {
   "cell_type": "code",
   "execution_count": 23,
   "metadata": {},
   "outputs": [],
   "source": [
    "demand_pronos =pd.read_csv(f\"data/preideal_dispatch_{DISPATCH_DATE}.txt\", header=None)\n",
    "demand_pronos = demand_pronos.iloc[:, 1:].sum().values"
   ]
  },
  {
   "cell_type": "code",
   "execution_count": 24,
   "metadata": {},
   "outputs": [],
   "source": [
    "demand_pronos = dict(zip(demanda[\"datetime\"], demand_pronos))"
   ]
  },
  {
   "cell_type": "code",
   "execution_count": 25,
   "metadata": {},
   "outputs": [],
   "source": [
    "Ton = initial_condition_df.set_index([\"Recurso\"]).query(\"Recurso in @gen_on\")[\"T_CONF_Pini-1\"]"
   ]
  },
  {
   "cell_type": "code",
   "execution_count": 26,
   "metadata": {},
   "outputs": [],
   "source": [
    "z_on_t0_minus_1 = {\n",
    "    gen : 1\n",
    "    for gen in initial_condition_df[initial_condition_df[\"Gpini-1\"]>0][\"Recurso\"].unique()\n",
    "}\n"
   ]
  },
  {
   "cell_type": "markdown",
   "metadata": {},
   "source": [
    "### 1.7 Fix fuel-fire generators to check"
   ]
  },
  {
   "cell_type": "code",
   "execution_count": 27,
   "metadata": {},
   "outputs": [],
   "source": [
    "fixed_fuel_fire = pd.read_csv(f\"data/preideal_dispatch_{DISPATCH_DATE}.txt\", header=None)\n",
    "fixed_fuel_fire.columns = [\"generator\"] + list(range(24))\n",
    "fixed_fuel_fire = fixed_fuel_fire.set_index(\"generator\").stack().reset_index()\n",
    "fixed_fuel_fire.columns = [\"generator\", \"hour\", \"gen\"]\n",
    "fixed_fuel_fire[\"datetime\"] = pd.to_datetime(DISPATCH_DATE) + pd.to_timedelta(fixed_fuel_fire[\"hour\"], unit=\"h\")\n",
    "\n",
    "# Fix generation\n",
    "fixed_fuel_fired_map = {}\n",
    "for gen in fixed_fuel_fire.generator.unique():\n",
    "    if not (\n",
    "        str(gen).startswith(\"AG_\") or\n",
    "        str(gen).startswith(\"M\") or\n",
    "        str(gen).startswith(\"GD\") or\n",
    "        str(gen).startswith(\"AR\")\n",
    "    ):\n",
    "        choice = process.extractOne(\n",
    "            query=gen.lower(),\n",
    "            choices=generators,\n",
    "            scorer=fuzz.partial_token_sort_ratio,\n",
    "            processor=lambda x: x.lower().replace(\" \", \"\"),\n",
    "            # score_cutoff=60,\n",
    "        )[0]\n",
    "        if choice in fuel_generators:\n",
    "            fixed_fuel_fired_map[gen] = choice\n",
    "        else:\n",
    "            ...\n",
    "            # print(f\"{gen} select {choice} but is not a fuel generator\")\n",
    "            \n",
    "        "
   ]
  },
  {
   "cell_type": "code",
   "execution_count": 28,
   "metadata": {},
   "outputs": [],
   "source": [
    "fix_fuel_fired_gen_ = {\n",
    "    \"PAIPA1\": \"PAIPA 1\",\n",
    "    \"PAIPA2\": \"PAIPA 2\",\n",
    "    # \"PAIPA3\": \"PAIPA 3\",\n",
    "}"
   ]
  },
  {
   "cell_type": "markdown",
   "metadata": {},
   "source": []
  },
  {
   "cell_type": "code",
   "execution_count": null,
   "metadata": {},
   "outputs": [],
   "source": [
    "fix_fuel_fired_gen_"
   ]
  },
  {
   "cell_type": "code",
   "execution_count": null,
   "metadata": {},
   "outputs": [],
   "source": []
  },
  {
   "cell_type": "code",
   "execution_count": 30,
   "metadata": {},
   "outputs": [],
   "source": [
    "set_data = {\n",
    "    \"G\": fuel_generators,\n",
    "    \"T\": timestamps,\n",
    "    \"I\": generators,\n",
    "    \"combined_cycle\": list(CC.keys()),\n",
    "    \"excluded_resource\": CC,\n",
    "    \"gen_on\": gen_on,\n",
    "    \"gen_off\": gen_off,\n",
    "}\n",
    "\n",
    "param_data = {\n",
    "    # \"Pmax\" : Pmax,\n",
    "    \"Pmax\" : Pmax.apply(lambda x: np.round(x,0)),\n",
    "    \"Pmin\" : Pmin,\n",
    "    \"beta\" : beta,\n",
    "    \"cold_start\" : cold_start,\n",
    "    \"demand\" : demand_pronos,\n",
    "    \"Ton\": Ton,\n",
    "    # \"TMG\": {},\n",
    "    \"z_on_t0_minus_1\":z_on_t0_minus_1,\n",
    "    \"TMG\": parametros_plantas.set_index(\"generador\")[\"TMG\"].astype(int)\n",
    "    # \"demand\" : demanda.set_index(\"datetime\")[\"dema\"],\n",
    "}\n"
   ]
  },
  {
   "cell_type": "code",
   "execution_count": 31,
   "metadata": {},
   "outputs": [],
   "source": [
    "model = UnitCommitmentModel(config=config)\n",
    "model.create_model(set_data=set_data, param_data=param_data)\n",
    "\n",
    "\n",
    "\n",
    "\n",
    "\n",
    "\n",
    "# results = model.solve(solver=\"cplex\", executable=\"solver/cplex\")\n",
    "\n",
    "# model._model.z.fix()\n",
    "\n",
    "# results = model.solve(solver=\"cplex\", executable=\"solver/cplex\")"
   ]
  },
  {
   "cell_type": "code",
   "execution_count": 32,
   "metadata": {},
   "outputs": [],
   "source": [
    "# # ===== WARNING FIXING VARIABLES =====\n",
    "# for gen, model_gen_name in fix_fuel_fired_gen_.items():\n",
    "#     # Filter data\n",
    "#     serie = fixed_fuel_fire[fixed_fuel_fire[\"generator\"]==gen]\n",
    "#     serie[\"generator\"] = model_gen_name\n",
    "#     for k,v in serie.set_index([\"generator\", \"datetime\"])[\"gen\"].to_dict().items():\n",
    "#         model._model.pout[k].fix(v)\n",
    "    "
   ]
  },
  {
   "cell_type": "code",
   "execution_count": 33,
   "metadata": {},
   "outputs": [],
   "source": [
    "results = model.solve(solver=\"cbc\")"
   ]
  },
  {
   "cell_type": "code",
   "execution_count": null,
   "metadata": {},
   "outputs": [],
   "source": [
    "expr = model._model.objective.expr()\n",
    "print(f\"F.obj: {expr:,.2f}\")"
   ]
  },
  {
   "cell_type": "code",
   "execution_count": 35,
   "metadata": {},
   "outputs": [],
   "source": [
    "mpo_xm = pd.read_csv(f\"data/preideal_price_{DISPATCH_DATE}.txt\", header=None)\n",
    "mpo_xm = mpo_xm.iloc[0,1:].values"
   ]
  },
  {
   "cell_type": "code",
   "execution_count": null,
   "metadata": {},
   "outputs": [],
   "source": [
    "mpo_xm"
   ]
  },
  {
   "cell_type": "code",
   "execution_count": null,
   "metadata": {},
   "outputs": [],
   "source": [
    "MPO = {\n",
    "    ke.index(): pyo.value(dual_)\n",
    "    for ke, dual_ in model._model.dual.items()\n",
    "    if \"power_balance\" in ke.name\n",
    "}\n",
    "MPO"
   ]
  },
  {
   "cell_type": "code",
   "execution_count": 49,
   "metadata": {},
   "outputs": [],
   "source": [
    "precio_bolsa[\"precio_bolsa\"] = precio_bolsa[\"precio_bolsa\"]*1E3"
   ]
  },
  {
   "cell_type": "code",
   "execution_count": null,
   "metadata": {},
   "outputs": [],
   "source": [
    "import matplotlib.pyplot as plt\n",
    "fig, ax = plt.subplots(1, 1)\n",
    "pd.DataFrame(data=MPO, index=[\"MPO\"]).T.plot(kind=\"line\",ax=ax)\n",
    "pd.DataFrame(data=mpo_xm, index=timestamps, columns=[\"MPO_XM\"]).plot(kind=\"line\", ax=ax, linestyle='--')\n",
    "\n",
    "precio_bolsa.plot(kind=\"line\", x=\"datetime\", y=\"precio_bolsa\", ax=ax, linestyle='-.')\n",
    "# pd.DataFrame(data=mpo_xm, index=timestamps, columns=[\"MPO_XM\"]).plot(kind=\"line\", ax=ax, linestyle='--')"
   ]
  },
  {
   "cell_type": "code",
   "execution_count": null,
   "metadata": {},
   "outputs": [],
   "source": [
    "for k,v in model._model.pout[\"ALBAN\",:].expanded_items():\n",
    "    print(k, v.value) "
   ]
  },
  {
   "cell_type": "code",
   "execution_count": null,
   "metadata": {},
   "outputs": [],
   "source": [
    "for k,v in model._model.Pmax[\"ALBAN\",:].expanded_items():\n",
    "    print(k, v) "
   ]
  },
  {
   "cell_type": "code",
   "execution_count": null,
   "metadata": {},
   "outputs": [],
   "source": [
    "model._model.G.display()"
   ]
  },
  {
   "cell_type": "code",
   "execution_count": null,
   "metadata": {},
   "outputs": [],
   "source": [
    "model._model.pout.display()"
   ]
  },
  {
   "cell_type": "code",
   "execution_count": null,
   "metadata": {},
   "outputs": [],
   "source": []
  },
  {
   "cell_type": "code",
   "execution_count": null,
   "metadata": {},
   "outputs": [],
   "source": [
    "model._model.Pmin.display()"
   ]
  },
  {
   "cell_type": "code",
   "execution_count": null,
   "metadata": {},
   "outputs": [],
   "source": []
  }
 ],
 "metadata": {
  "kernelspec": {
   "display_name": ".env",
   "language": "python",
   "name": "python3"
  },
  "language_info": {
   "codemirror_mode": {
    "name": "ipython",
    "version": 3
   },
   "file_extension": ".py",
   "mimetype": "text/x-python",
   "name": "python",
   "nbconvert_exporter": "python",
   "pygments_lexer": "ipython3",
   "version": "3.11.9"
  }
 },
 "nbformat": 4,
 "nbformat_minor": 2
}

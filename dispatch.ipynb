{
 "cells": [
  {
   "cell_type": "code",
   "execution_count": null,
   "metadata": {},
   "outputs": [],
   "source": [
    "from datetime import date\n",
    "from itertools import product\n",
    "\n",
    "import pandas as pd\n",
    "import plotly.express as px\n",
    "import plotly.graph_objects as go\n",
    "\n",
    "from app.model import DispatchConfig\n",
    "from run_dispatch import run_dispatch"
   ]
  },
  {
   "cell_type": "code",
   "execution_count": null,
   "metadata": {},
   "outputs": [],
   "source": [
    "DATES = pd.date_range(\n",
    "    start=\"2024-06-15\",\n",
    "    end=\"2024-06-16\",\n",
    "    # end=\"2024-03-30\",\n",
    "    inclusive=\"both\"\n",
    ")\n",
    "CONFIGS = [\n",
    "    \"preideal\",\n",
    "    \"bess_preideal\"\n",
    "]\n",
    "\n",
    "BESS_VALUES = {\n",
    "    \"BESS_1\": {\n",
    "        \"MWh_nom\": 2000,\n",
    "        \"hours_to_deplete\": 2,\n",
    "        \"efficiency\": 0.9,\n",
    "        \"min_soc\": 0.05,\n",
    "        \"max_soc\": 0.98,\n",
    "        \"initial_soc\": 0.05,\n",
    "        \"charge_bid\": 1E6,\n",
    "        \"discharge_bid\": 0,\n",
    "    },\n",
    "}\n"
   ]
  },
  {
   "cell_type": "code",
   "execution_count": null,
   "metadata": {},
   "outputs": [],
   "source": [
    "\n",
    "output = pd.DataFrame()\n",
    "for (date_, dispatch_type) in product(DATES,CONFIGS):\n",
    "    BESS = BESS_VALUES if \"bess\" in dispatch_type.lower() else None\n",
    "    mpo = run_dispatch(DispatchConfig(dispatch_type=dispatch_type), DISPATCH_DATE=date_.date(), show_figs=True, BESS=BESS)\n",
    "    # mpo[\"dispatch_type\"] = dispatch_typex\n",
    "    output = pd.concat([output, mpo])\n",
    "output = output.stack().reset_index()\n",
    "output.columns = [\"datetime\", \"source\", \"MPO\"]"
   ]
  },
  {
   "cell_type": "code",
   "execution_count": null,
   "metadata": {},
   "outputs": [],
   "source": [
    "fig = px.line(output, x=\"datetime\", y=\"MPO\", color=\"source\", title=\"MPO\")\n",
    "fig.update_layout(\n",
    "    xaxis_title=\"Hora\",\n",
    "    yaxis_title=\"Precio [COP/MWh]\",\n",
    "    # width=800,\n",
    "    # height=600,\n",
    "    # xaxis=dict(\n",
    "    #     dtick=3_600_000,\n",
    "    # ),\n",
    ")\n",
    "fig.show()"
   ]
  },
  {
   "cell_type": "code",
   "execution_count": null,
   "metadata": {},
   "outputs": [],
   "source": []
  }
 ],
 "metadata": {
  "kernelspec": {
   "display_name": ".env",
   "language": "python",
   "name": "python3"
  },
  "language_info": {
   "codemirror_mode": {
    "name": "ipython",
    "version": 3
   },
   "file_extension": ".py",
   "mimetype": "text/x-python",
   "name": "python",
   "nbconvert_exporter": "python",
   "pygments_lexer": "ipython3",
   "version": "3.11.9"
  }
 },
 "nbformat": 4,
 "nbformat_minor": 2
}

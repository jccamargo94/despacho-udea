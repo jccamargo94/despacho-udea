{
 "cells": [
  {
   "cell_type": "code",
   "execution_count": null,
   "metadata": {},
   "outputs": [],
   "source": [
    "from datetime import date\n",
    "from itertools import product\n",
    "\n",
    "import cloudpickle\n",
    "import pandas as pd\n",
    "import plotly.express as px\n",
    "import plotly.graph_objects as go\n",
    "from sklearn.metrics import mean_absolute_percentage_error, mean_squared_error\n",
    "\n",
    "from app.model import DispatchConfig\n",
    "from run_dispatch import run_dispatch"
   ]
  },
  {
   "cell_type": "code",
   "execution_count": null,
   "metadata": {},
   "outputs": [],
   "source": [
    "DATES = pd.date_range(\n",
    "    start=\"2024-01-01\",\n",
    "    end=\"2024-10-15\",\n",
    "    inclusive=\"both\"\n",
    ")\n",
    "# DATES = [\n",
    "#     pd.Timestamp(\"2024-03-08\"),\n",
    "# ]\n",
    "# DATES = [\n",
    "    # pd.Timestamp(\"2024-05-30\"), #Cluster 1\n",
    "    # pd.Timestamp(\"2024-10-07\"), #Cluster 2\n",
    "    # pd.Timestamp(\"2024-04-06\"), #Cluster 3\n",
    "    # pd.Timestamp(\"2024-04-26\"), #Cluster 4\n",
    "    # pd.Timestamp(\"2024-04-29\"), #Cluster 5\n",
    "    # pd.Timestamp(\"2024-05-26\"), #Cluster 6\n",
    "    # pd.Timestamp(\"2024-09-30\"), #Cluster 7\n",
    "    # pd.Timestamp(\"2024-02-03\"), #Cluster 8\n",
    "# ]\n",
    "CONFIGS = [\n",
    "    \"preideal\",\n",
    "    # \"bess_preideal\",\n",
    "    \"bess_preideal_resource\",\n",
    "]\n",
    "\n",
    "BESS_VALUES = {\n",
    "    \"BESS_1\": {\n",
    "        \"MWh_nom\": 2000,\n",
    "        \"hours_to_deplete\": 2,\n",
    "        \"efficiency\": 0.9,\n",
    "        \"min_soc\": 0.05,\n",
    "        \"max_soc\": 0.98,\n",
    "        \"initial_soc\": 0.05,\n",
    "        \"charge_bid\": 0,\n",
    "        \"discharge_bid\": 0,\n",
    "    },\n",
    "}\n",
    "\n",
    "\n",
    "DERS_YEARS = [None]\n"
   ]
  },
  {
   "cell_type": "code",
   "execution_count": null,
   "metadata": {},
   "outputs": [],
   "source": [
    "output_unstacked = pd.DataFrame()\n",
    "# models = []\n",
    "# dispatches_type = []\n",
    "dates_ = []\n",
    "# DERS_data = []\n",
    "# DERS_names = []\n",
    "obj_bess, obj_no_bess = {}, {}\n",
    "for (date_, dispatch_type, DERS) in product(DATES,CONFIGS, DERS_YEARS):\n",
    "    try:\n",
    "        BESS = BESS_VALUES if \"bess\" in dispatch_type.lower() else None\n",
    "        mpo, model,  pmax_new_resources, expansion_sources = run_dispatch(DispatchConfig(dispatch_type=dispatch_type), DISPATCH_DATE=date_.date(), show_figs=False, BESS=BESS, DERS=DERS)\n",
    "        print(f\"Objective function for {dispatch_type} case: {model._model.objective.expr():,.2f}\")\n",
    "        # dispatches_type.append(dispatch_type)\n",
    "        with open(f\"data/models/{date_.date()}_{dispatch_type}_2000MWh_1000MW.pkl\", \"wb\") as f:\n",
    "            cloudpickle.dump(model, f)\n",
    "        # models.append(model)\n",
    "        dates_.append(date_)\n",
    "        if \"bess\" in dispatch_type.lower():\n",
    "            obj_bess[date_] = model._model.objective.expr()\n",
    "        if \"bess\" not in dispatch_type.lower():\n",
    "            obj_no_bess[date_] = model._model.objective.expr()\n",
    "        # DERS_data.append(pmax_new_resources)\n",
    "        # DERS_names.append(expansion_sources)\n",
    "        # mpo[\"dispatch_type\"] = dispatch_typex\n",
    "        output_unstacked = pd.concat([output_unstacked, mpo])\n",
    "    except Exception as e:\n",
    "        print(f\"Error in {date_} - {dispatch_type}: {e}\")\n",
    "        continue\n",
    "output = output_unstacked.stack().reset_index()\n",
    "output.columns = [\"datetime\", \"source\", \"MPO\"]\n",
    "output.drop_duplicates(inplace=True)"
   ]
  },
  {
   "cell_type": "code",
   "execution_count": null,
   "metadata": {},
   "outputs": [],
   "source": [
    "welfare = {}\n",
    "for date_ in DATES:\n",
    "    print(f\"Obj with bess: {-obj_bess[date_]:,.2f}\")\n",
    "    print(f\"Obj with No bess : {obj_no_bess[date_]:,.2f}\")\n",
    "    welfare[date_] = obj_no_bess[date_] - abs(obj_bess[date_])\n",
    "    \n",
    "\n"
   ]
  },
  {
   "cell_type": "code",
   "execution_count": null,
   "metadata": {},
   "outputs": [],
   "source": [
    "print(f\"{sum(welfare.values())*1E-6:,.2f} [MCOP]\")\n",
    "print(f\"{sum(welfare.values())*1E-6/4500:,.2f} [MUSD]\")"
   ]
  },
  {
   "cell_type": "markdown",
   "metadata": {},
   "source": []
  }
 ],
 "metadata": {
  "kernelspec": {
   "display_name": ".env",
   "language": "python",
   "name": "python3"
  },
  "language_info": {
   "codemirror_mode": {
    "name": "ipython",
    "version": 3
   },
   "file_extension": ".py",
   "mimetype": "text/x-python",
   "name": "python",
   "nbconvert_exporter": "python",
   "pygments_lexer": "ipython3",
   "version": "3.12.2"
  }
 },
 "nbformat": 4,
 "nbformat_minor": 2
}

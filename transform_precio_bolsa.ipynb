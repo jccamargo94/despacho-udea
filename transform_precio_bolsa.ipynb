{
 "cells": [
  {
   "cell_type": "code",
   "execution_count": 15,
   "metadata": {},
   "outputs": [],
   "source": [
    "import pandas as pd\n",
    "import plotly.express as px"
   ]
  },
  {
   "cell_type": "code",
   "execution_count": 16,
   "metadata": {},
   "outputs": [],
   "source": [
    "df = pd.read_excel(\"data/precio_bolsa/Precio_Bolsa_Nacional_($kwh)_2024.xlsx\")\n",
    "df = df.set_index(\"Fecha\")\n",
    "df = df.stack().reset_index()\n",
    "df.columns = [\"fecha\", \"hora\", \"precio_bolsa\"]\n",
    "df[\"hora\"] = df[\"hora\"].str.replace(\"H\", \"\").astype(int)\n",
    "df[\"datetime\"] = pd.to_datetime(df[\"fecha\"]) + pd.to_timedelta(df[\"hora\"], unit=\"h\")\n",
    "df.to_csv(\"data/precio_bolsa/precio_bolsa_2024.csv\", index=False, sep=\",\")"
   ]
  },
  {
   "cell_type": "code",
   "execution_count": null,
   "metadata": {},
   "outputs": [],
   "source": [
    "fig = px.line(\n",
    "    df,\n",
    "    x=\"datetime\",\n",
    "    y=\"precio_bolsa\",\n",
    "    title=\"Precio de la bolsa eléctrica colombiana 2024\",\n",
    ")\n",
    "fig.show()"
   ]
  },
  {
   "cell_type": "code",
   "execution_count": null,
   "metadata": {},
   "outputs": [],
   "source": []
  }
 ],
 "metadata": {
  "kernelspec": {
   "display_name": ".env",
   "language": "python",
   "name": "python3"
  },
  "language_info": {
   "codemirror_mode": {
    "name": "ipython",
    "version": 3
   },
   "file_extension": ".py",
   "mimetype": "text/x-python",
   "name": "python",
   "nbconvert_exporter": "python",
   "pygments_lexer": "ipython3",
   "version": "3.11.9"
  }
 },
 "nbformat": 4,
 "nbformat_minor": 2
}

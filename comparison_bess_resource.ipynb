{
 "cells": [
  {
   "cell_type": "code",
   "execution_count": 1,
   "metadata": {},
   "outputs": [],
   "source": [
    "from datetime import date\n",
    "from itertools import product\n",
    "\n",
    "import pandas as pd\n",
    "import plotly.express as px\n",
    "import plotly.graph_objects as go\n",
    "from sklearn.metrics import mean_absolute_percentage_error, mean_squared_error\n",
    "\n",
    "from app.model import DispatchConfig\n",
    "from run_dispatch import run_dispatch"
   ]
  },
  {
   "cell_type": "code",
   "execution_count": 2,
   "metadata": {},
   "outputs": [],
   "source": [
    "DATES = pd.date_range(\n",
    "    start=\"2024-03-01\",\n",
    "    end=\"2024-03-31\",\n",
    "    inclusive=\"both\"\n",
    ")\n",
    "# DATES = [\n",
    "#     pd.Timestamp(\"2024-03-08\"),\n",
    "# ]\n",
    "# DATES = [\n",
    "    # pd.Timestamp(\"2024-05-30\"), #Cluster 1\n",
    "    # pd.Timestamp(\"2024-10-07\"), #Cluster 2\n",
    "    # pd.Timestamp(\"2024-04-06\"), #Cluster 3\n",
    "    # pd.Timestamp(\"2024-04-26\"), #Cluster 4\n",
    "    # pd.Timestamp(\"2024-04-29\"), #Cluster 5\n",
    "    # pd.Timestamp(\"2024-05-26\"), #Cluster 6\n",
    "    # pd.Timestamp(\"2024-09-30\"), #Cluster 7\n",
    "    # pd.Timestamp(\"2024-02-03\"), #Cluster 8\n",
    "# ]\n",
    "CONFIGS = [\n",
    "    \"preideal\",\n",
    "    # \"bess_preideal\",\n",
    "    \"bess_preideal_resource\",\n",
    "]\n",
    "\n",
    "BESS_VALUES = {\n",
    "    \"BESS_1\": {\n",
    "        \"MWh_nom\": 10000,\n",
    "        \"hours_to_deplete\": 2,\n",
    "        \"efficiency\": 0.9,\n",
    "        \"min_soc\": 0.05,\n",
    "        \"max_soc\": 0.98,\n",
    "        \"initial_soc\": 0.05,\n",
    "        \"charge_bid\": 0,\n",
    "        \"discharge_bid\": 0,\n",
    "    },\n",
    "}\n",
    "\n",
    "\n",
    "DERS_YEARS = [None]\n"
   ]
  },
  {
   "cell_type": "code",
   "execution_count": 3,
   "metadata": {},
   "outputs": [
    {
     "name": "stdout",
     "output_type": "stream",
     "text": [
      "... files already downloaded. Skipping download\n"
     ]
    },
    {
     "name": "stderr",
     "output_type": "stream",
     "text": [
      "/home/user/projects/udea/DNP/DEVELOP/info/colombia/despacho/run_dispatch.py:318: SettingWithCopyWarning: \n",
      "A value is trying to be set on a copy of a slice from a DataFrame.\n",
      "Try using .loc[row_indexer,col_indexer] = value instead\n",
      "\n",
      "See the caveats in the documentation: https://pandas.pydata.org/pandas-docs/stable/user_guide/indexing.html#returning-a-view-versus-a-copy\n",
      "  dcondIniPlant.loc[:, \"dispatched_conf\"] = dcondIniPlant.loc[:, \"Conf_Pini-1\"].apply(\n"
     ]
    },
    {
     "name": "stdout",
     "output_type": "stream",
     "text": [
      "F.obj: 40,975,422,312.00\n",
      "Objective function for preideal case: 40,975,422,312.00\n",
      "... files already downloaded. Skipping download\n"
     ]
    },
    {
     "name": "stderr",
     "output_type": "stream",
     "text": [
      "/home/user/projects/udea/DNP/DEVELOP/info/colombia/despacho/run_dispatch.py:318: SettingWithCopyWarning: \n",
      "A value is trying to be set on a copy of a slice from a DataFrame.\n",
      "Try using .loc[row_indexer,col_indexer] = value instead\n",
      "\n",
      "See the caveats in the documentation: https://pandas.pydata.org/pandas-docs/stable/user_guide/indexing.html#returning-a-view-versus-a-copy\n",
      "  dcondIniPlant.loc[:, \"dispatched_conf\"] = dcondIniPlant.loc[:, \"Conf_Pini-1\"].apply(\n"
     ]
    },
    {
     "name": "stdout",
     "output_type": "stream",
     "text": [
      "F.obj: -40,975,422,312.00\n",
      "Objective function for bess_preideal_resource case: -40,975,422,312.00\n",
      "... files already downloaded. Skipping download\n"
     ]
    },
    {
     "name": "stderr",
     "output_type": "stream",
     "text": [
      "/home/user/projects/udea/DNP/DEVELOP/info/colombia/despacho/run_dispatch.py:318: SettingWithCopyWarning: \n",
      "A value is trying to be set on a copy of a slice from a DataFrame.\n",
      "Try using .loc[row_indexer,col_indexer] = value instead\n",
      "\n",
      "See the caveats in the documentation: https://pandas.pydata.org/pandas-docs/stable/user_guide/indexing.html#returning-a-view-versus-a-copy\n",
      "  dcondIniPlant.loc[:, \"dispatched_conf\"] = dcondIniPlant.loc[:, \"Conf_Pini-1\"].apply(\n"
     ]
    },
    {
     "name": "stdout",
     "output_type": "stream",
     "text": [
      "F.obj: 49,314,474,210.00\n",
      "Objective function for preideal case: 49,314,474,210.00\n",
      "... files already downloaded. Skipping download\n"
     ]
    },
    {
     "name": "stderr",
     "output_type": "stream",
     "text": [
      "/home/user/projects/udea/DNP/DEVELOP/info/colombia/despacho/run_dispatch.py:318: SettingWithCopyWarning: \n",
      "A value is trying to be set on a copy of a slice from a DataFrame.\n",
      "Try using .loc[row_indexer,col_indexer] = value instead\n",
      "\n",
      "See the caveats in the documentation: https://pandas.pydata.org/pandas-docs/stable/user_guide/indexing.html#returning-a-view-versus-a-copy\n",
      "  dcondIniPlant.loc[:, \"dispatched_conf\"] = dcondIniPlant.loc[:, \"Conf_Pini-1\"].apply(\n"
     ]
    },
    {
     "name": "stdout",
     "output_type": "stream",
     "text": [
      "F.obj: -49,314,474,210.00\n",
      "Objective function for bess_preideal_resource case: -49,314,474,210.00\n",
      "... files already downloaded. Skipping download\n"
     ]
    },
    {
     "name": "stderr",
     "output_type": "stream",
     "text": [
      "/home/user/projects/udea/DNP/DEVELOP/info/colombia/despacho/run_dispatch.py:318: SettingWithCopyWarning: \n",
      "A value is trying to be set on a copy of a slice from a DataFrame.\n",
      "Try using .loc[row_indexer,col_indexer] = value instead\n",
      "\n",
      "See the caveats in the documentation: https://pandas.pydata.org/pandas-docs/stable/user_guide/indexing.html#returning-a-view-versus-a-copy\n",
      "  dcondIniPlant.loc[:, \"dispatched_conf\"] = dcondIniPlant.loc[:, \"Conf_Pini-1\"].apply(\n"
     ]
    },
    {
     "name": "stdout",
     "output_type": "stream",
     "text": [
      "F.obj: 43,299,698,760.00\n",
      "Objective function for preideal case: 43,299,698,760.00\n",
      "... files already downloaded. Skipping download\n"
     ]
    },
    {
     "name": "stderr",
     "output_type": "stream",
     "text": [
      "/home/user/projects/udea/DNP/DEVELOP/info/colombia/despacho/run_dispatch.py:318: SettingWithCopyWarning: \n",
      "A value is trying to be set on a copy of a slice from a DataFrame.\n",
      "Try using .loc[row_indexer,col_indexer] = value instead\n",
      "\n",
      "See the caveats in the documentation: https://pandas.pydata.org/pandas-docs/stable/user_guide/indexing.html#returning-a-view-versus-a-copy\n",
      "  dcondIniPlant.loc[:, \"dispatched_conf\"] = dcondIniPlant.loc[:, \"Conf_Pini-1\"].apply(\n"
     ]
    },
    {
     "name": "stdout",
     "output_type": "stream",
     "text": [
      "F.obj: -43,299,698,760.00\n",
      "Objective function for bess_preideal_resource case: -43,299,698,760.00\n",
      "... files already downloaded. Skipping download\n"
     ]
    },
    {
     "name": "stderr",
     "output_type": "stream",
     "text": [
      "/home/user/projects/udea/DNP/DEVELOP/info/colombia/despacho/run_dispatch.py:318: SettingWithCopyWarning: \n",
      "A value is trying to be set on a copy of a slice from a DataFrame.\n",
      "Try using .loc[row_indexer,col_indexer] = value instead\n",
      "\n",
      "See the caveats in the documentation: https://pandas.pydata.org/pandas-docs/stable/user_guide/indexing.html#returning-a-view-versus-a-copy\n",
      "  dcondIniPlant.loc[:, \"dispatched_conf\"] = dcondIniPlant.loc[:, \"Conf_Pini-1\"].apply(\n"
     ]
    },
    {
     "name": "stdout",
     "output_type": "stream",
     "text": [
      "F.obj: 45,022,423,347.80\n",
      "Objective function for preideal case: 45,022,423,347.80\n",
      "... files already downloaded. Skipping download\n"
     ]
    },
    {
     "name": "stderr",
     "output_type": "stream",
     "text": [
      "/home/user/projects/udea/DNP/DEVELOP/info/colombia/despacho/run_dispatch.py:318: SettingWithCopyWarning: \n",
      "A value is trying to be set on a copy of a slice from a DataFrame.\n",
      "Try using .loc[row_indexer,col_indexer] = value instead\n",
      "\n",
      "See the caveats in the documentation: https://pandas.pydata.org/pandas-docs/stable/user_guide/indexing.html#returning-a-view-versus-a-copy\n",
      "  dcondIniPlant.loc[:, \"dispatched_conf\"] = dcondIniPlant.loc[:, \"Conf_Pini-1\"].apply(\n"
     ]
    },
    {
     "name": "stdout",
     "output_type": "stream",
     "text": [
      "F.obj: -44,984,880,227.00\n",
      "Objective function for bess_preideal_resource case: -44,984,880,227.00\n",
      "... files already downloaded. Skipping download\n"
     ]
    },
    {
     "name": "stderr",
     "output_type": "stream",
     "text": [
      "/home/user/projects/udea/DNP/DEVELOP/info/colombia/despacho/run_dispatch.py:318: SettingWithCopyWarning: \n",
      "A value is trying to be set on a copy of a slice from a DataFrame.\n",
      "Try using .loc[row_indexer,col_indexer] = value instead\n",
      "\n",
      "See the caveats in the documentation: https://pandas.pydata.org/pandas-docs/stable/user_guide/indexing.html#returning-a-view-versus-a-copy\n",
      "  dcondIniPlant.loc[:, \"dispatched_conf\"] = dcondIniPlant.loc[:, \"Conf_Pini-1\"].apply(\n"
     ]
    },
    {
     "name": "stdout",
     "output_type": "stream",
     "text": [
      "F.obj: 51,883,078,117.00\n",
      "Objective function for preideal case: 51,883,078,117.00\n",
      "... files already downloaded. Skipping download\n"
     ]
    },
    {
     "name": "stderr",
     "output_type": "stream",
     "text": [
      "/home/user/projects/udea/DNP/DEVELOP/info/colombia/despacho/run_dispatch.py:318: SettingWithCopyWarning: \n",
      "A value is trying to be set on a copy of a slice from a DataFrame.\n",
      "Try using .loc[row_indexer,col_indexer] = value instead\n",
      "\n",
      "See the caveats in the documentation: https://pandas.pydata.org/pandas-docs/stable/user_guide/indexing.html#returning-a-view-versus-a-copy\n",
      "  dcondIniPlant.loc[:, \"dispatched_conf\"] = dcondIniPlant.loc[:, \"Conf_Pini-1\"].apply(\n"
     ]
    },
    {
     "name": "stdout",
     "output_type": "stream",
     "text": [
      "F.obj: -51,883,078,117.00\n",
      "Objective function for bess_preideal_resource case: -51,883,078,117.00\n",
      "... files already downloaded. Skipping download\n"
     ]
    },
    {
     "name": "stderr",
     "output_type": "stream",
     "text": [
      "/home/user/projects/udea/DNP/DEVELOP/info/colombia/despacho/run_dispatch.py:318: SettingWithCopyWarning: \n",
      "A value is trying to be set on a copy of a slice from a DataFrame.\n",
      "Try using .loc[row_indexer,col_indexer] = value instead\n",
      "\n",
      "See the caveats in the documentation: https://pandas.pydata.org/pandas-docs/stable/user_guide/indexing.html#returning-a-view-versus-a-copy\n",
      "  dcondIniPlant.loc[:, \"dispatched_conf\"] = dcondIniPlant.loc[:, \"Conf_Pini-1\"].apply(\n"
     ]
    },
    {
     "name": "stdout",
     "output_type": "stream",
     "text": [
      "F.obj: 52,878,416,874.00\n",
      "Objective function for preideal case: 52,878,416,874.00\n",
      "... files already downloaded. Skipping download\n"
     ]
    },
    {
     "name": "stderr",
     "output_type": "stream",
     "text": [
      "/home/user/projects/udea/DNP/DEVELOP/info/colombia/despacho/run_dispatch.py:318: SettingWithCopyWarning: \n",
      "A value is trying to be set on a copy of a slice from a DataFrame.\n",
      "Try using .loc[row_indexer,col_indexer] = value instead\n",
      "\n",
      "See the caveats in the documentation: https://pandas.pydata.org/pandas-docs/stable/user_guide/indexing.html#returning-a-view-versus-a-copy\n",
      "  dcondIniPlant.loc[:, \"dispatched_conf\"] = dcondIniPlant.loc[:, \"Conf_Pini-1\"].apply(\n"
     ]
    },
    {
     "name": "stdout",
     "output_type": "stream",
     "text": [
      "F.obj: -52,878,416,874.00\n",
      "Objective function for bess_preideal_resource case: -52,878,416,874.00\n",
      "... files already downloaded. Skipping download\n"
     ]
    },
    {
     "name": "stderr",
     "output_type": "stream",
     "text": [
      "/home/user/projects/udea/DNP/DEVELOP/info/colombia/despacho/run_dispatch.py:318: SettingWithCopyWarning: \n",
      "A value is trying to be set on a copy of a slice from a DataFrame.\n",
      "Try using .loc[row_indexer,col_indexer] = value instead\n",
      "\n",
      "See the caveats in the documentation: https://pandas.pydata.org/pandas-docs/stable/user_guide/indexing.html#returning-a-view-versus-a-copy\n",
      "  dcondIniPlant.loc[:, \"dispatched_conf\"] = dcondIniPlant.loc[:, \"Conf_Pini-1\"].apply(\n"
     ]
    },
    {
     "name": "stdout",
     "output_type": "stream",
     "text": [
      "F.obj: 61,261,273,047.00\n",
      "Objective function for preideal case: 61,261,273,047.00\n",
      "... files already downloaded. Skipping download\n"
     ]
    },
    {
     "name": "stderr",
     "output_type": "stream",
     "text": [
      "/home/user/projects/udea/DNP/DEVELOP/info/colombia/despacho/run_dispatch.py:318: SettingWithCopyWarning: \n",
      "A value is trying to be set on a copy of a slice from a DataFrame.\n",
      "Try using .loc[row_indexer,col_indexer] = value instead\n",
      "\n",
      "See the caveats in the documentation: https://pandas.pydata.org/pandas-docs/stable/user_guide/indexing.html#returning-a-view-versus-a-copy\n",
      "  dcondIniPlant.loc[:, \"dispatched_conf\"] = dcondIniPlant.loc[:, \"Conf_Pini-1\"].apply(\n"
     ]
    },
    {
     "name": "stdout",
     "output_type": "stream",
     "text": [
      "F.obj: -61,261,273,047.00\n",
      "Objective function for bess_preideal_resource case: -61,261,273,047.00\n",
      "... files already downloaded. Skipping download\n"
     ]
    },
    {
     "name": "stderr",
     "output_type": "stream",
     "text": [
      "/home/user/projects/udea/DNP/DEVELOP/info/colombia/despacho/run_dispatch.py:318: SettingWithCopyWarning: \n",
      "A value is trying to be set on a copy of a slice from a DataFrame.\n",
      "Try using .loc[row_indexer,col_indexer] = value instead\n",
      "\n",
      "See the caveats in the documentation: https://pandas.pydata.org/pandas-docs/stable/user_guide/indexing.html#returning-a-view-versus-a-copy\n",
      "  dcondIniPlant.loc[:, \"dispatched_conf\"] = dcondIniPlant.loc[:, \"Conf_Pini-1\"].apply(\n"
     ]
    },
    {
     "name": "stdout",
     "output_type": "stream",
     "text": [
      "F.obj: 48,713,038,762.00\n",
      "Objective function for preideal case: 48,713,038,762.00\n",
      "... files already downloaded. Skipping download\n"
     ]
    },
    {
     "name": "stderr",
     "output_type": "stream",
     "text": [
      "/home/user/projects/udea/DNP/DEVELOP/info/colombia/despacho/run_dispatch.py:318: SettingWithCopyWarning: \n",
      "A value is trying to be set on a copy of a slice from a DataFrame.\n",
      "Try using .loc[row_indexer,col_indexer] = value instead\n",
      "\n",
      "See the caveats in the documentation: https://pandas.pydata.org/pandas-docs/stable/user_guide/indexing.html#returning-a-view-versus-a-copy\n",
      "  dcondIniPlant.loc[:, \"dispatched_conf\"] = dcondIniPlant.loc[:, \"Conf_Pini-1\"].apply(\n"
     ]
    },
    {
     "name": "stdout",
     "output_type": "stream",
     "text": [
      "F.obj: -48,713,038,762.00\n",
      "Objective function for bess_preideal_resource case: -48,713,038,762.00\n",
      "... files already downloaded. Skipping download\n"
     ]
    },
    {
     "name": "stderr",
     "output_type": "stream",
     "text": [
      "/home/user/projects/udea/DNP/DEVELOP/info/colombia/despacho/run_dispatch.py:318: SettingWithCopyWarning: \n",
      "A value is trying to be set on a copy of a slice from a DataFrame.\n",
      "Try using .loc[row_indexer,col_indexer] = value instead\n",
      "\n",
      "See the caveats in the documentation: https://pandas.pydata.org/pandas-docs/stable/user_guide/indexing.html#returning-a-view-versus-a-copy\n",
      "  dcondIniPlant.loc[:, \"dispatched_conf\"] = dcondIniPlant.loc[:, \"Conf_Pini-1\"].apply(\n"
     ]
    },
    {
     "name": "stdout",
     "output_type": "stream",
     "text": [
      "F.obj: 41,878,589,100.00\n",
      "Objective function for preideal case: 41,878,589,100.00\n",
      "... files already downloaded. Skipping download\n"
     ]
    },
    {
     "name": "stderr",
     "output_type": "stream",
     "text": [
      "/home/user/projects/udea/DNP/DEVELOP/info/colombia/despacho/run_dispatch.py:318: SettingWithCopyWarning: \n",
      "A value is trying to be set on a copy of a slice from a DataFrame.\n",
      "Try using .loc[row_indexer,col_indexer] = value instead\n",
      "\n",
      "See the caveats in the documentation: https://pandas.pydata.org/pandas-docs/stable/user_guide/indexing.html#returning-a-view-versus-a-copy\n",
      "  dcondIniPlant.loc[:, \"dispatched_conf\"] = dcondIniPlant.loc[:, \"Conf_Pini-1\"].apply(\n"
     ]
    },
    {
     "name": "stdout",
     "output_type": "stream",
     "text": [
      "F.obj: -41,878,589,100.00\n",
      "Objective function for bess_preideal_resource case: -41,878,589,100.00\n",
      "... files already downloaded. Skipping download\n"
     ]
    },
    {
     "name": "stderr",
     "output_type": "stream",
     "text": [
      "/home/user/projects/udea/DNP/DEVELOP/info/colombia/despacho/run_dispatch.py:318: SettingWithCopyWarning: \n",
      "A value is trying to be set on a copy of a slice from a DataFrame.\n",
      "Try using .loc[row_indexer,col_indexer] = value instead\n",
      "\n",
      "See the caveats in the documentation: https://pandas.pydata.org/pandas-docs/stable/user_guide/indexing.html#returning-a-view-versus-a-copy\n",
      "  dcondIniPlant.loc[:, \"dispatched_conf\"] = dcondIniPlant.loc[:, \"Conf_Pini-1\"].apply(\n"
     ]
    },
    {
     "name": "stdout",
     "output_type": "stream",
     "text": [
      "F.obj: 47,793,992,687.00\n",
      "Objective function for preideal case: 47,793,992,687.00\n",
      "... files already downloaded. Skipping download\n"
     ]
    },
    {
     "name": "stderr",
     "output_type": "stream",
     "text": [
      "/home/user/projects/udea/DNP/DEVELOP/info/colombia/despacho/run_dispatch.py:318: SettingWithCopyWarning: \n",
      "A value is trying to be set on a copy of a slice from a DataFrame.\n",
      "Try using .loc[row_indexer,col_indexer] = value instead\n",
      "\n",
      "See the caveats in the documentation: https://pandas.pydata.org/pandas-docs/stable/user_guide/indexing.html#returning-a-view-versus-a-copy\n",
      "  dcondIniPlant.loc[:, \"dispatched_conf\"] = dcondIniPlant.loc[:, \"Conf_Pini-1\"].apply(\n"
     ]
    },
    {
     "name": "stdout",
     "output_type": "stream",
     "text": [
      "F.obj: -47,793,992,687.00\n",
      "Objective function for bess_preideal_resource case: -47,793,992,687.00\n",
      "... files already downloaded. Skipping download\n"
     ]
    },
    {
     "name": "stderr",
     "output_type": "stream",
     "text": [
      "/home/user/projects/udea/DNP/DEVELOP/info/colombia/despacho/run_dispatch.py:318: SettingWithCopyWarning: \n",
      "A value is trying to be set on a copy of a slice from a DataFrame.\n",
      "Try using .loc[row_indexer,col_indexer] = value instead\n",
      "\n",
      "See the caveats in the documentation: https://pandas.pydata.org/pandas-docs/stable/user_guide/indexing.html#returning-a-view-versus-a-copy\n",
      "  dcondIniPlant.loc[:, \"dispatched_conf\"] = dcondIniPlant.loc[:, \"Conf_Pini-1\"].apply(\n"
     ]
    },
    {
     "name": "stdout",
     "output_type": "stream",
     "text": [
      "F.obj: 58,868,403,278.00\n",
      "Objective function for preideal case: 58,868,403,278.00\n",
      "... files already downloaded. Skipping download\n"
     ]
    },
    {
     "name": "stderr",
     "output_type": "stream",
     "text": [
      "/home/user/projects/udea/DNP/DEVELOP/info/colombia/despacho/run_dispatch.py:318: SettingWithCopyWarning: \n",
      "A value is trying to be set on a copy of a slice from a DataFrame.\n",
      "Try using .loc[row_indexer,col_indexer] = value instead\n",
      "\n",
      "See the caveats in the documentation: https://pandas.pydata.org/pandas-docs/stable/user_guide/indexing.html#returning-a-view-versus-a-copy\n",
      "  dcondIniPlant.loc[:, \"dispatched_conf\"] = dcondIniPlant.loc[:, \"Conf_Pini-1\"].apply(\n"
     ]
    },
    {
     "name": "stdout",
     "output_type": "stream",
     "text": [
      "F.obj: -58,868,403,278.00\n",
      "Objective function for bess_preideal_resource case: -58,868,403,278.00\n",
      "... files already downloaded. Skipping download\n"
     ]
    },
    {
     "name": "stderr",
     "output_type": "stream",
     "text": [
      "/home/user/projects/udea/DNP/DEVELOP/info/colombia/despacho/run_dispatch.py:318: SettingWithCopyWarning: \n",
      "A value is trying to be set on a copy of a slice from a DataFrame.\n",
      "Try using .loc[row_indexer,col_indexer] = value instead\n",
      "\n",
      "See the caveats in the documentation: https://pandas.pydata.org/pandas-docs/stable/user_guide/indexing.html#returning-a-view-versus-a-copy\n",
      "  dcondIniPlant.loc[:, \"dispatched_conf\"] = dcondIniPlant.loc[:, \"Conf_Pini-1\"].apply(\n"
     ]
    },
    {
     "name": "stdout",
     "output_type": "stream",
     "text": [
      "F.obj: 56,955,097,903.00\n",
      "Objective function for preideal case: 56,955,097,903.00\n",
      "... files already downloaded. Skipping download\n"
     ]
    },
    {
     "name": "stderr",
     "output_type": "stream",
     "text": [
      "/home/user/projects/udea/DNP/DEVELOP/info/colombia/despacho/run_dispatch.py:318: SettingWithCopyWarning: \n",
      "A value is trying to be set on a copy of a slice from a DataFrame.\n",
      "Try using .loc[row_indexer,col_indexer] = value instead\n",
      "\n",
      "See the caveats in the documentation: https://pandas.pydata.org/pandas-docs/stable/user_guide/indexing.html#returning-a-view-versus-a-copy\n",
      "  dcondIniPlant.loc[:, \"dispatched_conf\"] = dcondIniPlant.loc[:, \"Conf_Pini-1\"].apply(\n"
     ]
    },
    {
     "name": "stdout",
     "output_type": "stream",
     "text": [
      "F.obj: -56,955,097,903.00\n",
      "Objective function for bess_preideal_resource case: -56,955,097,903.00\n",
      "... files already downloaded. Skipping download\n"
     ]
    },
    {
     "name": "stderr",
     "output_type": "stream",
     "text": [
      "/home/user/projects/udea/DNP/DEVELOP/info/colombia/despacho/run_dispatch.py:318: SettingWithCopyWarning: \n",
      "A value is trying to be set on a copy of a slice from a DataFrame.\n",
      "Try using .loc[row_indexer,col_indexer] = value instead\n",
      "\n",
      "See the caveats in the documentation: https://pandas.pydata.org/pandas-docs/stable/user_guide/indexing.html#returning-a-view-versus-a-copy\n",
      "  dcondIniPlant.loc[:, \"dispatched_conf\"] = dcondIniPlant.loc[:, \"Conf_Pini-1\"].apply(\n"
     ]
    },
    {
     "name": "stdout",
     "output_type": "stream",
     "text": [
      "F.obj: 56,987,938,460.00\n",
      "Objective function for preideal case: 56,987,938,460.00\n",
      "... files already downloaded. Skipping download\n"
     ]
    },
    {
     "name": "stderr",
     "output_type": "stream",
     "text": [
      "/home/user/projects/udea/DNP/DEVELOP/info/colombia/despacho/run_dispatch.py:318: SettingWithCopyWarning: \n",
      "A value is trying to be set on a copy of a slice from a DataFrame.\n",
      "Try using .loc[row_indexer,col_indexer] = value instead\n",
      "\n",
      "See the caveats in the documentation: https://pandas.pydata.org/pandas-docs/stable/user_guide/indexing.html#returning-a-view-versus-a-copy\n",
      "  dcondIniPlant.loc[:, \"dispatched_conf\"] = dcondIniPlant.loc[:, \"Conf_Pini-1\"].apply(\n"
     ]
    },
    {
     "name": "stdout",
     "output_type": "stream",
     "text": [
      "F.obj: -56,987,938,460.00\n",
      "Objective function for bess_preideal_resource case: -56,987,938,460.00\n",
      "... files already downloaded. Skipping download\n"
     ]
    },
    {
     "name": "stderr",
     "output_type": "stream",
     "text": [
      "/home/user/projects/udea/DNP/DEVELOP/info/colombia/despacho/run_dispatch.py:318: SettingWithCopyWarning: \n",
      "A value is trying to be set on a copy of a slice from a DataFrame.\n",
      "Try using .loc[row_indexer,col_indexer] = value instead\n",
      "\n",
      "See the caveats in the documentation: https://pandas.pydata.org/pandas-docs/stable/user_guide/indexing.html#returning-a-view-versus-a-copy\n",
      "  dcondIniPlant.loc[:, \"dispatched_conf\"] = dcondIniPlant.loc[:, \"Conf_Pini-1\"].apply(\n"
     ]
    },
    {
     "name": "stdout",
     "output_type": "stream",
     "text": [
      "F.obj: 56,263,528,906.00\n",
      "Objective function for preideal case: 56,263,528,906.00\n",
      "... files already downloaded. Skipping download\n"
     ]
    },
    {
     "name": "stderr",
     "output_type": "stream",
     "text": [
      "/home/user/projects/udea/DNP/DEVELOP/info/colombia/despacho/run_dispatch.py:318: SettingWithCopyWarning: \n",
      "A value is trying to be set on a copy of a slice from a DataFrame.\n",
      "Try using .loc[row_indexer,col_indexer] = value instead\n",
      "\n",
      "See the caveats in the documentation: https://pandas.pydata.org/pandas-docs/stable/user_guide/indexing.html#returning-a-view-versus-a-copy\n",
      "  dcondIniPlant.loc[:, \"dispatched_conf\"] = dcondIniPlant.loc[:, \"Conf_Pini-1\"].apply(\n"
     ]
    },
    {
     "name": "stdout",
     "output_type": "stream",
     "text": [
      "F.obj: -56,263,528,906.00\n",
      "Objective function for bess_preideal_resource case: -56,263,528,906.00\n",
      "... files already downloaded. Skipping download\n"
     ]
    },
    {
     "name": "stderr",
     "output_type": "stream",
     "text": [
      "/home/user/projects/udea/DNP/DEVELOP/info/colombia/despacho/run_dispatch.py:318: SettingWithCopyWarning: \n",
      "A value is trying to be set on a copy of a slice from a DataFrame.\n",
      "Try using .loc[row_indexer,col_indexer] = value instead\n",
      "\n",
      "See the caveats in the documentation: https://pandas.pydata.org/pandas-docs/stable/user_guide/indexing.html#returning-a-view-versus-a-copy\n",
      "  dcondIniPlant.loc[:, \"dispatched_conf\"] = dcondIniPlant.loc[:, \"Conf_Pini-1\"].apply(\n"
     ]
    },
    {
     "name": "stdout",
     "output_type": "stream",
     "text": [
      "F.obj: 52,635,371,063.55\n",
      "Objective function for preideal case: 52,635,371,063.55\n",
      "... files already downloaded. Skipping download\n"
     ]
    },
    {
     "name": "stderr",
     "output_type": "stream",
     "text": [
      "/home/user/projects/udea/DNP/DEVELOP/info/colombia/despacho/run_dispatch.py:318: SettingWithCopyWarning: \n",
      "A value is trying to be set on a copy of a slice from a DataFrame.\n",
      "Try using .loc[row_indexer,col_indexer] = value instead\n",
      "\n",
      "See the caveats in the documentation: https://pandas.pydata.org/pandas-docs/stable/user_guide/indexing.html#returning-a-view-versus-a-copy\n",
      "  dcondIniPlant.loc[:, \"dispatched_conf\"] = dcondIniPlant.loc[:, \"Conf_Pini-1\"].apply(\n"
     ]
    },
    {
     "name": "stdout",
     "output_type": "stream",
     "text": [
      "F.obj: -52,635,371,063.55\n",
      "Objective function for bess_preideal_resource case: -52,635,371,063.55\n",
      "... files already downloaded. Skipping download\n"
     ]
    },
    {
     "name": "stderr",
     "output_type": "stream",
     "text": [
      "/home/user/projects/udea/DNP/DEVELOP/info/colombia/despacho/run_dispatch.py:318: SettingWithCopyWarning: \n",
      "A value is trying to be set on a copy of a slice from a DataFrame.\n",
      "Try using .loc[row_indexer,col_indexer] = value instead\n",
      "\n",
      "See the caveats in the documentation: https://pandas.pydata.org/pandas-docs/stable/user_guide/indexing.html#returning-a-view-versus-a-copy\n",
      "  dcondIniPlant.loc[:, \"dispatched_conf\"] = dcondIniPlant.loc[:, \"Conf_Pini-1\"].apply(\n"
     ]
    },
    {
     "name": "stdout",
     "output_type": "stream",
     "text": [
      "F.obj: 55,105,375,685.00\n",
      "Objective function for preideal case: 55,105,375,685.00\n",
      "... files already downloaded. Skipping download\n"
     ]
    },
    {
     "name": "stderr",
     "output_type": "stream",
     "text": [
      "/home/user/projects/udea/DNP/DEVELOP/info/colombia/despacho/run_dispatch.py:318: SettingWithCopyWarning: \n",
      "A value is trying to be set on a copy of a slice from a DataFrame.\n",
      "Try using .loc[row_indexer,col_indexer] = value instead\n",
      "\n",
      "See the caveats in the documentation: https://pandas.pydata.org/pandas-docs/stable/user_guide/indexing.html#returning-a-view-versus-a-copy\n",
      "  dcondIniPlant.loc[:, \"dispatched_conf\"] = dcondIniPlant.loc[:, \"Conf_Pini-1\"].apply(\n"
     ]
    },
    {
     "name": "stdout",
     "output_type": "stream",
     "text": [
      "F.obj: -55,105,375,685.00\n",
      "Objective function for bess_preideal_resource case: -55,105,375,685.00\n",
      "... files already downloaded. Skipping download\n"
     ]
    },
    {
     "name": "stderr",
     "output_type": "stream",
     "text": [
      "/home/user/projects/udea/DNP/DEVELOP/info/colombia/despacho/run_dispatch.py:318: SettingWithCopyWarning: \n",
      "A value is trying to be set on a copy of a slice from a DataFrame.\n",
      "Try using .loc[row_indexer,col_indexer] = value instead\n",
      "\n",
      "See the caveats in the documentation: https://pandas.pydata.org/pandas-docs/stable/user_guide/indexing.html#returning-a-view-versus-a-copy\n",
      "  dcondIniPlant.loc[:, \"dispatched_conf\"] = dcondIniPlant.loc[:, \"Conf_Pini-1\"].apply(\n"
     ]
    },
    {
     "name": "stdout",
     "output_type": "stream",
     "text": [
      "F.obj: 46,668,626,998.60\n",
      "Objective function for preideal case: 46,668,626,998.60\n",
      "... files already downloaded. Skipping download\n"
     ]
    },
    {
     "name": "stderr",
     "output_type": "stream",
     "text": [
      "/home/user/projects/udea/DNP/DEVELOP/info/colombia/despacho/run_dispatch.py:318: SettingWithCopyWarning: \n",
      "A value is trying to be set on a copy of a slice from a DataFrame.\n",
      "Try using .loc[row_indexer,col_indexer] = value instead\n",
      "\n",
      "See the caveats in the documentation: https://pandas.pydata.org/pandas-docs/stable/user_guide/indexing.html#returning-a-view-versus-a-copy\n",
      "  dcondIniPlant.loc[:, \"dispatched_conf\"] = dcondIniPlant.loc[:, \"Conf_Pini-1\"].apply(\n"
     ]
    },
    {
     "name": "stdout",
     "output_type": "stream",
     "text": [
      "F.obj: -46,638,494,976.60\n",
      "Objective function for bess_preideal_resource case: -46,638,494,976.60\n",
      "... files already downloaded. Skipping download\n"
     ]
    },
    {
     "name": "stderr",
     "output_type": "stream",
     "text": [
      "/home/user/projects/udea/DNP/DEVELOP/info/colombia/despacho/run_dispatch.py:318: SettingWithCopyWarning: \n",
      "A value is trying to be set on a copy of a slice from a DataFrame.\n",
      "Try using .loc[row_indexer,col_indexer] = value instead\n",
      "\n",
      "See the caveats in the documentation: https://pandas.pydata.org/pandas-docs/stable/user_guide/indexing.html#returning-a-view-versus-a-copy\n",
      "  dcondIniPlant.loc[:, \"dispatched_conf\"] = dcondIniPlant.loc[:, \"Conf_Pini-1\"].apply(\n"
     ]
    },
    {
     "name": "stdout",
     "output_type": "stream",
     "text": [
      "F.obj: 45,939,221,676.30\n",
      "Objective function for preideal case: 45,939,221,676.30\n",
      "... files already downloaded. Skipping download\n"
     ]
    },
    {
     "name": "stderr",
     "output_type": "stream",
     "text": [
      "/home/user/projects/udea/DNP/DEVELOP/info/colombia/despacho/run_dispatch.py:318: SettingWithCopyWarning: \n",
      "A value is trying to be set on a copy of a slice from a DataFrame.\n",
      "Try using .loc[row_indexer,col_indexer] = value instead\n",
      "\n",
      "See the caveats in the documentation: https://pandas.pydata.org/pandas-docs/stable/user_guide/indexing.html#returning-a-view-versus-a-copy\n",
      "  dcondIniPlant.loc[:, \"dispatched_conf\"] = dcondIniPlant.loc[:, \"Conf_Pini-1\"].apply(\n"
     ]
    },
    {
     "name": "stdout",
     "output_type": "stream",
     "text": [
      "F.obj: -45,837,067,073.77\n",
      "Objective function for bess_preideal_resource case: -45,837,067,073.77\n",
      "... files already downloaded. Skipping download\n"
     ]
    },
    {
     "name": "stderr",
     "output_type": "stream",
     "text": [
      "/home/user/projects/udea/DNP/DEVELOP/info/colombia/despacho/run_dispatch.py:318: SettingWithCopyWarning: \n",
      "A value is trying to be set on a copy of a slice from a DataFrame.\n",
      "Try using .loc[row_indexer,col_indexer] = value instead\n",
      "\n",
      "See the caveats in the documentation: https://pandas.pydata.org/pandas-docs/stable/user_guide/indexing.html#returning-a-view-versus-a-copy\n",
      "  dcondIniPlant.loc[:, \"dispatched_conf\"] = dcondIniPlant.loc[:, \"Conf_Pini-1\"].apply(\n"
     ]
    },
    {
     "name": "stdout",
     "output_type": "stream",
     "text": [
      "F.obj: 59,666,667,466.00\n",
      "Objective function for preideal case: 59,666,667,466.00\n",
      "... files already downloaded. Skipping download\n"
     ]
    },
    {
     "name": "stderr",
     "output_type": "stream",
     "text": [
      "/home/user/projects/udea/DNP/DEVELOP/info/colombia/despacho/run_dispatch.py:318: SettingWithCopyWarning: \n",
      "A value is trying to be set on a copy of a slice from a DataFrame.\n",
      "Try using .loc[row_indexer,col_indexer] = value instead\n",
      "\n",
      "See the caveats in the documentation: https://pandas.pydata.org/pandas-docs/stable/user_guide/indexing.html#returning-a-view-versus-a-copy\n",
      "  dcondIniPlant.loc[:, \"dispatched_conf\"] = dcondIniPlant.loc[:, \"Conf_Pini-1\"].apply(\n"
     ]
    },
    {
     "name": "stdout",
     "output_type": "stream",
     "text": [
      "F.obj: -59,664,670,431.00\n",
      "Objective function for bess_preideal_resource case: -59,664,670,431.00\n",
      "... files already downloaded. Skipping download\n"
     ]
    },
    {
     "name": "stderr",
     "output_type": "stream",
     "text": [
      "/home/user/projects/udea/DNP/DEVELOP/info/colombia/despacho/run_dispatch.py:318: SettingWithCopyWarning: \n",
      "A value is trying to be set on a copy of a slice from a DataFrame.\n",
      "Try using .loc[row_indexer,col_indexer] = value instead\n",
      "\n",
      "See the caveats in the documentation: https://pandas.pydata.org/pandas-docs/stable/user_guide/indexing.html#returning-a-view-versus-a-copy\n",
      "  dcondIniPlant.loc[:, \"dispatched_conf\"] = dcondIniPlant.loc[:, \"Conf_Pini-1\"].apply(\n"
     ]
    },
    {
     "name": "stdout",
     "output_type": "stream",
     "text": [
      "F.obj: 62,337,826,677.00\n",
      "Objective function for preideal case: 62,337,826,677.00\n",
      "... files already downloaded. Skipping download\n"
     ]
    },
    {
     "name": "stderr",
     "output_type": "stream",
     "text": [
      "/home/user/projects/udea/DNP/DEVELOP/info/colombia/despacho/run_dispatch.py:318: SettingWithCopyWarning: \n",
      "A value is trying to be set on a copy of a slice from a DataFrame.\n",
      "Try using .loc[row_indexer,col_indexer] = value instead\n",
      "\n",
      "See the caveats in the documentation: https://pandas.pydata.org/pandas-docs/stable/user_guide/indexing.html#returning-a-view-versus-a-copy\n",
      "  dcondIniPlant.loc[:, \"dispatched_conf\"] = dcondIniPlant.loc[:, \"Conf_Pini-1\"].apply(\n"
     ]
    },
    {
     "name": "stdout",
     "output_type": "stream",
     "text": [
      "F.obj: -62,337,826,677.00\n",
      "Objective function for bess_preideal_resource case: -62,337,826,677.00\n",
      "... files already downloaded. Skipping download\n"
     ]
    },
    {
     "name": "stderr",
     "output_type": "stream",
     "text": [
      "/home/user/projects/udea/DNP/DEVELOP/info/colombia/despacho/run_dispatch.py:318: SettingWithCopyWarning: \n",
      "A value is trying to be set on a copy of a slice from a DataFrame.\n",
      "Try using .loc[row_indexer,col_indexer] = value instead\n",
      "\n",
      "See the caveats in the documentation: https://pandas.pydata.org/pandas-docs/stable/user_guide/indexing.html#returning-a-view-versus-a-copy\n",
      "  dcondIniPlant.loc[:, \"dispatched_conf\"] = dcondIniPlant.loc[:, \"Conf_Pini-1\"].apply(\n"
     ]
    },
    {
     "name": "stdout",
     "output_type": "stream",
     "text": [
      "F.obj: 69,634,645,611.00\n",
      "Objective function for preideal case: 69,634,645,611.00\n",
      "... files already downloaded. Skipping download\n"
     ]
    },
    {
     "name": "stderr",
     "output_type": "stream",
     "text": [
      "/home/user/projects/udea/DNP/DEVELOP/info/colombia/despacho/run_dispatch.py:318: SettingWithCopyWarning: \n",
      "A value is trying to be set on a copy of a slice from a DataFrame.\n",
      "Try using .loc[row_indexer,col_indexer] = value instead\n",
      "\n",
      "See the caveats in the documentation: https://pandas.pydata.org/pandas-docs/stable/user_guide/indexing.html#returning-a-view-versus-a-copy\n",
      "  dcondIniPlant.loc[:, \"dispatched_conf\"] = dcondIniPlant.loc[:, \"Conf_Pini-1\"].apply(\n"
     ]
    },
    {
     "name": "stdout",
     "output_type": "stream",
     "text": [
      "F.obj: -69,634,645,611.00\n",
      "Objective function for bess_preideal_resource case: -69,634,645,611.00\n",
      "... files already downloaded. Skipping download\n"
     ]
    },
    {
     "name": "stderr",
     "output_type": "stream",
     "text": [
      "/home/user/projects/udea/DNP/DEVELOP/info/colombia/despacho/run_dispatch.py:318: SettingWithCopyWarning: \n",
      "A value is trying to be set on a copy of a slice from a DataFrame.\n",
      "Try using .loc[row_indexer,col_indexer] = value instead\n",
      "\n",
      "See the caveats in the documentation: https://pandas.pydata.org/pandas-docs/stable/user_guide/indexing.html#returning-a-view-versus-a-copy\n",
      "  dcondIniPlant.loc[:, \"dispatched_conf\"] = dcondIniPlant.loc[:, \"Conf_Pini-1\"].apply(\n"
     ]
    },
    {
     "name": "stdout",
     "output_type": "stream",
     "text": [
      "F.obj: 64,323,000,977.25\n",
      "Objective function for preideal case: 64,323,000,977.25\n",
      "... files already downloaded. Skipping download\n"
     ]
    },
    {
     "name": "stderr",
     "output_type": "stream",
     "text": [
      "/home/user/projects/udea/DNP/DEVELOP/info/colombia/despacho/run_dispatch.py:318: SettingWithCopyWarning: \n",
      "A value is trying to be set on a copy of a slice from a DataFrame.\n",
      "Try using .loc[row_indexer,col_indexer] = value instead\n",
      "\n",
      "See the caveats in the documentation: https://pandas.pydata.org/pandas-docs/stable/user_guide/indexing.html#returning-a-view-versus-a-copy\n",
      "  dcondIniPlant.loc[:, \"dispatched_conf\"] = dcondIniPlant.loc[:, \"Conf_Pini-1\"].apply(\n"
     ]
    },
    {
     "name": "stdout",
     "output_type": "stream",
     "text": [
      "F.obj: -64,323,000,977.25\n",
      "Objective function for bess_preideal_resource case: -64,323,000,977.25\n",
      "... files already downloaded. Skipping download\n"
     ]
    },
    {
     "name": "stderr",
     "output_type": "stream",
     "text": [
      "/home/user/projects/udea/DNP/DEVELOP/info/colombia/despacho/run_dispatch.py:318: SettingWithCopyWarning: \n",
      "A value is trying to be set on a copy of a slice from a DataFrame.\n",
      "Try using .loc[row_indexer,col_indexer] = value instead\n",
      "\n",
      "See the caveats in the documentation: https://pandas.pydata.org/pandas-docs/stable/user_guide/indexing.html#returning-a-view-versus-a-copy\n",
      "  dcondIniPlant.loc[:, \"dispatched_conf\"] = dcondIniPlant.loc[:, \"Conf_Pini-1\"].apply(\n"
     ]
    },
    {
     "name": "stdout",
     "output_type": "stream",
     "text": [
      "F.obj: 56,675,763,573.20\n",
      "Objective function for preideal case: 56,675,763,573.20\n",
      "... files already downloaded. Skipping download\n"
     ]
    },
    {
     "name": "stderr",
     "output_type": "stream",
     "text": [
      "/home/user/projects/udea/DNP/DEVELOP/info/colombia/despacho/run_dispatch.py:318: SettingWithCopyWarning: \n",
      "A value is trying to be set on a copy of a slice from a DataFrame.\n",
      "Try using .loc[row_indexer,col_indexer] = value instead\n",
      "\n",
      "See the caveats in the documentation: https://pandas.pydata.org/pandas-docs/stable/user_guide/indexing.html#returning-a-view-versus-a-copy\n",
      "  dcondIniPlant.loc[:, \"dispatched_conf\"] = dcondIniPlant.loc[:, \"Conf_Pini-1\"].apply(\n"
     ]
    },
    {
     "name": "stdout",
     "output_type": "stream",
     "text": [
      "F.obj: -56,560,762,610.64\n",
      "Objective function for bess_preideal_resource case: -56,560,762,610.64\n",
      "... files already downloaded. Skipping download\n"
     ]
    },
    {
     "name": "stderr",
     "output_type": "stream",
     "text": [
      "/home/user/projects/udea/DNP/DEVELOP/info/colombia/despacho/run_dispatch.py:318: SettingWithCopyWarning: \n",
      "A value is trying to be set on a copy of a slice from a DataFrame.\n",
      "Try using .loc[row_indexer,col_indexer] = value instead\n",
      "\n",
      "See the caveats in the documentation: https://pandas.pydata.org/pandas-docs/stable/user_guide/indexing.html#returning-a-view-versus-a-copy\n",
      "  dcondIniPlant.loc[:, \"dispatched_conf\"] = dcondIniPlant.loc[:, \"Conf_Pini-1\"].apply(\n"
     ]
    },
    {
     "name": "stdout",
     "output_type": "stream",
     "text": [
      "F.obj: 46,196,701,729.60\n",
      "Objective function for preideal case: 46,196,701,729.60\n",
      "... files already downloaded. Skipping download\n"
     ]
    },
    {
     "name": "stderr",
     "output_type": "stream",
     "text": [
      "/home/user/projects/udea/DNP/DEVELOP/info/colombia/despacho/run_dispatch.py:318: SettingWithCopyWarning: \n",
      "A value is trying to be set on a copy of a slice from a DataFrame.\n",
      "Try using .loc[row_indexer,col_indexer] = value instead\n",
      "\n",
      "See the caveats in the documentation: https://pandas.pydata.org/pandas-docs/stable/user_guide/indexing.html#returning-a-view-versus-a-copy\n",
      "  dcondIniPlant.loc[:, \"dispatched_conf\"] = dcondIniPlant.loc[:, \"Conf_Pini-1\"].apply(\n"
     ]
    },
    {
     "name": "stdout",
     "output_type": "stream",
     "text": [
      "F.obj: -45,981,485,252.97\n",
      "Objective function for bess_preideal_resource case: -45,981,485,252.97\n",
      "... files already downloaded. Skipping download\n"
     ]
    },
    {
     "name": "stderr",
     "output_type": "stream",
     "text": [
      "/home/user/projects/udea/DNP/DEVELOP/info/colombia/despacho/run_dispatch.py:318: SettingWithCopyWarning: \n",
      "A value is trying to be set on a copy of a slice from a DataFrame.\n",
      "Try using .loc[row_indexer,col_indexer] = value instead\n",
      "\n",
      "See the caveats in the documentation: https://pandas.pydata.org/pandas-docs/stable/user_guide/indexing.html#returning-a-view-versus-a-copy\n",
      "  dcondIniPlant.loc[:, \"dispatched_conf\"] = dcondIniPlant.loc[:, \"Conf_Pini-1\"].apply(\n"
     ]
    },
    {
     "name": "stdout",
     "output_type": "stream",
     "text": [
      "F.obj: 53,113,311,081.40\n",
      "Objective function for preideal case: 53,113,311,081.40\n",
      "... files already downloaded. Skipping download\n"
     ]
    },
    {
     "name": "stderr",
     "output_type": "stream",
     "text": [
      "/home/user/projects/udea/DNP/DEVELOP/info/colombia/despacho/run_dispatch.py:318: SettingWithCopyWarning: \n",
      "A value is trying to be set on a copy of a slice from a DataFrame.\n",
      "Try using .loc[row_indexer,col_indexer] = value instead\n",
      "\n",
      "See the caveats in the documentation: https://pandas.pydata.org/pandas-docs/stable/user_guide/indexing.html#returning-a-view-versus-a-copy\n",
      "  dcondIniPlant.loc[:, \"dispatched_conf\"] = dcondIniPlant.loc[:, \"Conf_Pini-1\"].apply(\n"
     ]
    },
    {
     "name": "stdout",
     "output_type": "stream",
     "text": [
      "F.obj: -52,831,556,157.00\n",
      "Objective function for bess_preideal_resource case: -52,831,556,157.00\n",
      "... files already downloaded. Skipping download\n"
     ]
    },
    {
     "name": "stderr",
     "output_type": "stream",
     "text": [
      "/home/user/projects/udea/DNP/DEVELOP/info/colombia/despacho/run_dispatch.py:318: SettingWithCopyWarning: \n",
      "A value is trying to be set on a copy of a slice from a DataFrame.\n",
      "Try using .loc[row_indexer,col_indexer] = value instead\n",
      "\n",
      "See the caveats in the documentation: https://pandas.pydata.org/pandas-docs/stable/user_guide/indexing.html#returning-a-view-versus-a-copy\n",
      "  dcondIniPlant.loc[:, \"dispatched_conf\"] = dcondIniPlant.loc[:, \"Conf_Pini-1\"].apply(\n"
     ]
    },
    {
     "name": "stdout",
     "output_type": "stream",
     "text": [
      "F.obj: 67,613,526,979.00\n",
      "Objective function for preideal case: 67,613,526,979.00\n",
      "... files already downloaded. Skipping download\n"
     ]
    },
    {
     "name": "stderr",
     "output_type": "stream",
     "text": [
      "/home/user/projects/udea/DNP/DEVELOP/info/colombia/despacho/run_dispatch.py:318: SettingWithCopyWarning: \n",
      "A value is trying to be set on a copy of a slice from a DataFrame.\n",
      "Try using .loc[row_indexer,col_indexer] = value instead\n",
      "\n",
      "See the caveats in the documentation: https://pandas.pydata.org/pandas-docs/stable/user_guide/indexing.html#returning-a-view-versus-a-copy\n",
      "  dcondIniPlant.loc[:, \"dispatched_conf\"] = dcondIniPlant.loc[:, \"Conf_Pini-1\"].apply(\n"
     ]
    },
    {
     "name": "stdout",
     "output_type": "stream",
     "text": [
      "F.obj: -67,613,146,729.35\n",
      "Objective function for bess_preideal_resource case: -67,613,146,729.35\n",
      "... files already downloaded. Skipping download\n"
     ]
    },
    {
     "name": "stderr",
     "output_type": "stream",
     "text": [
      "/home/user/projects/udea/DNP/DEVELOP/info/colombia/despacho/run_dispatch.py:318: SettingWithCopyWarning: \n",
      "A value is trying to be set on a copy of a slice from a DataFrame.\n",
      "Try using .loc[row_indexer,col_indexer] = value instead\n",
      "\n",
      "See the caveats in the documentation: https://pandas.pydata.org/pandas-docs/stable/user_guide/indexing.html#returning-a-view-versus-a-copy\n",
      "  dcondIniPlant.loc[:, \"dispatched_conf\"] = dcondIniPlant.loc[:, \"Conf_Pini-1\"].apply(\n"
     ]
    },
    {
     "name": "stdout",
     "output_type": "stream",
     "text": [
      "F.obj: 74,233,557,874.00\n",
      "Objective function for preideal case: 74,233,557,874.00\n",
      "... files already downloaded. Skipping download\n"
     ]
    },
    {
     "name": "stderr",
     "output_type": "stream",
     "text": [
      "/home/user/projects/udea/DNP/DEVELOP/info/colombia/despacho/run_dispatch.py:318: SettingWithCopyWarning: \n",
      "A value is trying to be set on a copy of a slice from a DataFrame.\n",
      "Try using .loc[row_indexer,col_indexer] = value instead\n",
      "\n",
      "See the caveats in the documentation: https://pandas.pydata.org/pandas-docs/stable/user_guide/indexing.html#returning-a-view-versus-a-copy\n",
      "  dcondIniPlant.loc[:, \"dispatched_conf\"] = dcondIniPlant.loc[:, \"Conf_Pini-1\"].apply(\n"
     ]
    },
    {
     "name": "stdout",
     "output_type": "stream",
     "text": [
      "F.obj: -74,233,557,874.00\n",
      "Objective function for bess_preideal_resource case: -74,233,557,874.00\n",
      "... files already downloaded. Skipping download\n"
     ]
    },
    {
     "name": "stderr",
     "output_type": "stream",
     "text": [
      "/home/user/projects/udea/DNP/DEVELOP/info/colombia/despacho/run_dispatch.py:318: SettingWithCopyWarning: \n",
      "A value is trying to be set on a copy of a slice from a DataFrame.\n",
      "Try using .loc[row_indexer,col_indexer] = value instead\n",
      "\n",
      "See the caveats in the documentation: https://pandas.pydata.org/pandas-docs/stable/user_guide/indexing.html#returning-a-view-versus-a-copy\n",
      "  dcondIniPlant.loc[:, \"dispatched_conf\"] = dcondIniPlant.loc[:, \"Conf_Pini-1\"].apply(\n"
     ]
    },
    {
     "name": "stdout",
     "output_type": "stream",
     "text": [
      "F.obj: 73,599,518,130.80\n",
      "Objective function for preideal case: 73,599,518,130.80\n",
      "... files already downloaded. Skipping download\n"
     ]
    },
    {
     "name": "stderr",
     "output_type": "stream",
     "text": [
      "/home/user/projects/udea/DNP/DEVELOP/info/colombia/despacho/run_dispatch.py:318: SettingWithCopyWarning: \n",
      "A value is trying to be set on a copy of a slice from a DataFrame.\n",
      "Try using .loc[row_indexer,col_indexer] = value instead\n",
      "\n",
      "See the caveats in the documentation: https://pandas.pydata.org/pandas-docs/stable/user_guide/indexing.html#returning-a-view-versus-a-copy\n",
      "  dcondIniPlant.loc[:, \"dispatched_conf\"] = dcondIniPlant.loc[:, \"Conf_Pini-1\"].apply(\n"
     ]
    },
    {
     "name": "stdout",
     "output_type": "stream",
     "text": [
      "F.obj: -73,445,629,934.00\n",
      "Objective function for bess_preideal_resource case: -73,445,629,934.00\n",
      "... files already downloaded. Skipping download\n"
     ]
    },
    {
     "name": "stderr",
     "output_type": "stream",
     "text": [
      "/home/user/projects/udea/DNP/DEVELOP/info/colombia/despacho/run_dispatch.py:318: SettingWithCopyWarning: \n",
      "A value is trying to be set on a copy of a slice from a DataFrame.\n",
      "Try using .loc[row_indexer,col_indexer] = value instead\n",
      "\n",
      "See the caveats in the documentation: https://pandas.pydata.org/pandas-docs/stable/user_guide/indexing.html#returning-a-view-versus-a-copy\n",
      "  dcondIniPlant.loc[:, \"dispatched_conf\"] = dcondIniPlant.loc[:, \"Conf_Pini-1\"].apply(\n"
     ]
    },
    {
     "name": "stdout",
     "output_type": "stream",
     "text": [
      "F.obj: 63,046,641,726.95\n",
      "Objective function for preideal case: 63,046,641,726.95\n",
      "... files already downloaded. Skipping download\n"
     ]
    },
    {
     "name": "stderr",
     "output_type": "stream",
     "text": [
      "/home/user/projects/udea/DNP/DEVELOP/info/colombia/despacho/run_dispatch.py:318: SettingWithCopyWarning: \n",
      "A value is trying to be set on a copy of a slice from a DataFrame.\n",
      "Try using .loc[row_indexer,col_indexer] = value instead\n",
      "\n",
      "See the caveats in the documentation: https://pandas.pydata.org/pandas-docs/stable/user_guide/indexing.html#returning-a-view-versus-a-copy\n",
      "  dcondIniPlant.loc[:, \"dispatched_conf\"] = dcondIniPlant.loc[:, \"Conf_Pini-1\"].apply(\n"
     ]
    },
    {
     "name": "stdout",
     "output_type": "stream",
     "text": [
      "F.obj: -63,023,401,327.24\n",
      "Objective function for bess_preideal_resource case: -63,023,401,327.24\n",
      "... files already downloaded. Skipping download\n"
     ]
    },
    {
     "name": "stderr",
     "output_type": "stream",
     "text": [
      "/home/user/projects/udea/DNP/DEVELOP/info/colombia/despacho/run_dispatch.py:318: SettingWithCopyWarning: \n",
      "A value is trying to be set on a copy of a slice from a DataFrame.\n",
      "Try using .loc[row_indexer,col_indexer] = value instead\n",
      "\n",
      "See the caveats in the documentation: https://pandas.pydata.org/pandas-docs/stable/user_guide/indexing.html#returning-a-view-versus-a-copy\n",
      "  dcondIniPlant.loc[:, \"dispatched_conf\"] = dcondIniPlant.loc[:, \"Conf_Pini-1\"].apply(\n"
     ]
    },
    {
     "name": "stdout",
     "output_type": "stream",
     "text": [
      "F.obj: 53,059,091,126.40\n",
      "Objective function for preideal case: 53,059,091,126.40\n",
      "... files already downloaded. Skipping download\n"
     ]
    },
    {
     "name": "stderr",
     "output_type": "stream",
     "text": [
      "/home/user/projects/udea/DNP/DEVELOP/info/colombia/despacho/run_dispatch.py:318: SettingWithCopyWarning: \n",
      "A value is trying to be set on a copy of a slice from a DataFrame.\n",
      "Try using .loc[row_indexer,col_indexer] = value instead\n",
      "\n",
      "See the caveats in the documentation: https://pandas.pydata.org/pandas-docs/stable/user_guide/indexing.html#returning-a-view-versus-a-copy\n",
      "  dcondIniPlant.loc[:, \"dispatched_conf\"] = dcondIniPlant.loc[:, \"Conf_Pini-1\"].apply(\n"
     ]
    },
    {
     "name": "stdout",
     "output_type": "stream",
     "text": [
      "F.obj: -52,970,788,157.65\n",
      "Objective function for bess_preideal_resource case: -52,970,788,157.65\n",
      "... files already downloaded. Skipping download\n"
     ]
    },
    {
     "name": "stderr",
     "output_type": "stream",
     "text": [
      "/home/user/projects/udea/DNP/DEVELOP/info/colombia/despacho/run_dispatch.py:318: SettingWithCopyWarning: \n",
      "A value is trying to be set on a copy of a slice from a DataFrame.\n",
      "Try using .loc[row_indexer,col_indexer] = value instead\n",
      "\n",
      "See the caveats in the documentation: https://pandas.pydata.org/pandas-docs/stable/user_guide/indexing.html#returning-a-view-versus-a-copy\n",
      "  dcondIniPlant.loc[:, \"dispatched_conf\"] = dcondIniPlant.loc[:, \"Conf_Pini-1\"].apply(\n"
     ]
    },
    {
     "name": "stdout",
     "output_type": "stream",
     "text": [
      "F.obj: 58,799,659,757.60\n",
      "Objective function for preideal case: 58,799,659,757.60\n",
      "... files already downloaded. Skipping download\n"
     ]
    },
    {
     "name": "stderr",
     "output_type": "stream",
     "text": [
      "/home/user/projects/udea/DNP/DEVELOP/info/colombia/despacho/run_dispatch.py:318: SettingWithCopyWarning: \n",
      "A value is trying to be set on a copy of a slice from a DataFrame.\n",
      "Try using .loc[row_indexer,col_indexer] = value instead\n",
      "\n",
      "See the caveats in the documentation: https://pandas.pydata.org/pandas-docs/stable/user_guide/indexing.html#returning-a-view-versus-a-copy\n",
      "  dcondIniPlant.loc[:, \"dispatched_conf\"] = dcondIniPlant.loc[:, \"Conf_Pini-1\"].apply(\n"
     ]
    },
    {
     "name": "stdout",
     "output_type": "stream",
     "text": [
      "F.obj: -58,786,114,061.60\n",
      "Objective function for bess_preideal_resource case: -58,786,114,061.60\n"
     ]
    }
   ],
   "source": [
    "output_unstacked = pd.DataFrame()\n",
    "models = []\n",
    "dispatches_type = []\n",
    "dates_ = []\n",
    "DERS_data = []\n",
    "DERS_names = []\n",
    "for (date_, dispatch_type, DERS) in product(DATES,CONFIGS, DERS_YEARS):\n",
    "    try:\n",
    "        BESS = BESS_VALUES if \"bess\" in dispatch_type.lower() else None\n",
    "        mpo, model,  pmax_new_resources, expansion_sources = run_dispatch(DispatchConfig(dispatch_type=dispatch_type), DISPATCH_DATE=date_.date(), show_figs=False, BESS=BESS, DERS=DERS)\n",
    "        print(f\"Objective function for {dispatch_type} case: {model._model.objective.expr():,.2f}\")\n",
    "        dispatches_type.append(dispatch_type)\n",
    "        models.append(model)\n",
    "        dates_.append(date_)\n",
    "        DERS_data.append(pmax_new_resources)\n",
    "        DERS_names.append(expansion_sources)\n",
    "        # mpo[\"dispatch_type\"] = dispatch_typex\n",
    "        output_unstacked = pd.concat([output_unstacked, mpo])\n",
    "    except Exception as e:\n",
    "        print(f\"Error in {date_} - {dispatch_type}: {e}\")\n",
    "        continue\n",
    "output = output_unstacked.stack().reset_index()\n",
    "output.columns = [\"datetime\", \"source\", \"MPO\"]\n",
    "output.drop_duplicates(inplace=True)"
   ]
  },
  {
   "cell_type": "markdown",
   "metadata": {},
   "source": []
  },
  {
   "cell_type": "code",
   "execution_count": 4,
   "metadata": {},
   "outputs": [],
   "source": [
    "import pyomo.environ as pyo"
   ]
  },
  {
   "cell_type": "code",
   "execution_count": 5,
   "metadata": {},
   "outputs": [],
   "source": [
    "# fig = go.Figure()\n",
    "# line_type = [t for _ in range(7) for t in [\"dot\",\"dot\",\"solid\",\"solid\",] ]\n",
    "# for i,(model,dispatch_type, ders_data) in enumerate(zip(models, dispatches_type, DERS_data)):\n",
    "#     if i % 4 == 0:\n",
    "#         fig = go.Figure()\n",
    "#     if demand := dict(model._model.demand.items()):\n",
    "#         demand_df = pd.DataFrame(demand.values(), index=demand.keys(), columns=[\"demanda\"])\n",
    "#     # get BESS charge and discharge\n",
    "#     bess_charge_df = pd.DataFrame(index=model._model.T,)\n",
    "#     bess_charge_df[\"charge\"] = 0\n",
    "#     bess_charge_df[\"discharge\"] = 0\n",
    "#     if \"bess\" in dispatch_type.lower():\n",
    "#         bess_charge = dict(model._model.bess_charge.items())\n",
    "#         bess_charge = {k: pyo.value(v) for k, v in bess_charge.items()}\n",
    "#         bess_charge_df = pd.DataFrame.from_dict(bess_charge, orient=\"index\", columns=[\"charge\"])\n",
    "#         bess_charge_df.index = pd.Index(data=model._model.T, name=\"datetime\")\n",
    "#         bess_charge_df[\"discharge\"] = [pyo.value(val) for val in model._model.bess_discharge.values()]\n",
    "#         bess_charge_df\n",
    "#     # Add\n",
    "#     if not ders_data.empty:\n",
    "#         ders_data = ders_data.groupby([\"datetime\"]).agg({\"dispo\": \"sum\"})\n",
    "#         demand_df = demand_df.merge(ders_data, how=\"left\", left_index=True, right_index=True)\n",
    "#     demand_df = demand_df.merge(bess_charge_df, how=\"left\", left_index=True, right_index=True)\n",
    "#     if len(demand_df.columns) > 3:\n",
    "#         demand_df[\"demanda\"] = demand_df[\"demanda\"] - demand_df[\"dispo\"]\n",
    "#     demand_df[\"demanda\"] = demand_df[\"demanda\"] - demand_df[\"discharge\"]\n",
    "#     demand_df[\"demanda\"] = demand_df[\"demanda\"] + demand_df[\"charge\"]\n",
    "#     b = \"SAEB\" if \"bess\" in dispatch_type.lower() else \"\"\n",
    "#     d = \"DERs\" if not ders_data.empty else \"\"\n",
    "\n",
    "#     name = f\"Demanda {'con' if b or d else ''} {b} {'y' if b and d else ''} {d}\"\n",
    "#     fig.add_traces([\n",
    "#         go.Scatter(\n",
    "#             x=demand_df.index,\n",
    "#             y=demand_df[\"demanda\"],\n",
    "#             mode=\"lines\",\n",
    "#             name=name,\n",
    "#             line=dict(dash=line_type[i]),\n",
    "#         )\n",
    "#     ])\n",
    "#     fig.update_layout(\n",
    "#         {\n",
    "#             \"xaxis_title\": \"Hora\",\n",
    "#             \"yaxis_title\": \"Demanda (MW)\",\n",
    "#             \"width\": 800\n",
    "#         }\n",
    "#     )\n",
    "#     if i in [3, 7, 11, 15, 19, 23, 27, 31]:\n",
    "#         fig.show()"
   ]
  },
  {
   "cell_type": "code",
   "execution_count": 6,
   "metadata": {},
   "outputs": [],
   "source": [
    "# fig = go.Figure()\n",
    "\n",
    "# for model, dispatch_type, ders_data in zip(models, dispatches_type, DERS_data):\n",
    "#     if demand := dict(model._model.demand.items()):\n",
    "#         demand_df = pd.DataFrame(demand.values(), index=demand.keys(), columns=[\"demanda\"])\n",
    "#     # get BESS charge and discharge\n",
    "#     bess_charge_df = pd.DataFrame(index=model._model.T,)\n",
    "#     bess_charge_df[\"charge\"] = 0\n",
    "#     bess_charge_df[\"discharge\"] = 0\n",
    "#     if \"bess\" in dispatch_type.lower():\n",
    "#         bess_charge = dict(model._model.bess_charge.items())\n",
    "#         bess_charge = {k: pyo.value(v) for k, v in bess_charge.items()}\n",
    "#         bess_charge_df = pd.DataFrame.from_dict(bess_charge, orient=\"index\", columns=[\"charge\"])\n",
    "#         bess_charge_df.index = pd.Index(data=model._model.T, name=\"datetime\")\n",
    "#         bess_charge_df[\"discharge\"] = [pyo.value(val) for val in model._model.bess_discharge.values()]\n",
    "#         bess_charge_df\n",
    "#     # Add\n",
    "#     if not ders_data.empty:\n",
    "#         ders_data = ders_data.groupby([\"datetime\"]).agg({\"dispo\": \"sum\"})\n",
    "#         demand_df = demand_df.merge(ders_data, how=\"left\", left_index=True, right_index=True)\n",
    "#     demand_df = demand_df.merge(bess_charge_df, how=\"left\", left_index=True, right_index=True)\n",
    "#     if len(demand_df.columns) > 3:\n",
    "#         demand_df[\"demanda\"] = demand_df[\"demanda\"] - demand_df[\"dispo\"]\n",
    "#     demand_df[\"demanda\"] = demand_df[\"demanda\"] - demand_df[\"discharge\"]\n",
    "#     demand_df[\"demanda\"] = demand_df[\"demanda\"] + demand_df[\"charge\"]\n",
    "#     b = \"BESS\" if \"bess\" in dispatch_type.lower() else \"\"\n",
    "#     d = \"with DERs\" if not ders_data.empty else \"\"\n",
    "\n",
    "#     name = f\"Demanda {b} {d} {date_.date()}\"\n",
    "#     fig.add_trace(go.Scatter(\n",
    "#         x=demand_df.index,\n",
    "#         y=demand_df[\"demanda\"],\n",
    "#         mode=\"lines\",\n",
    "#         name=name,\n",
    "#         fill='tozeroy',\n",
    "#         line=dict(color='rgba(0, 100, 80, 1)'),\n",
    "#         fillcolor='rgba(0, 100, 80, 0.2)'  # RGBA color with alpha channel\n",
    "#     ))\n",
    "\n",
    "# fig.update_layout(\n",
    "#     title=\"Area Chart of Demand\",\n",
    "#     xaxis_title=\"Datetime\",\n",
    "#     yaxis_title=\"Demand\",\n",
    "#     showlegend=True\n",
    "# )\n",
    "\n",
    "# fig.show()"
   ]
  },
  {
   "cell_type": "code",
   "execution_count": 7,
   "metadata": {},
   "outputs": [],
   "source": [
    "mapper = {\n",
    "    \"MPO preideal XM\": \"MPO preideal XM\",\n",
    "    \"MPO preideal Modelo - DERs None\": \"MPO preideal Modelo\",\n",
    "    \"MPO bess_preideal_resource Modelo - DERs None\": \"MPO bess_preideal_resource Modelo\",\n",
    "    # \"MPO bess_preideal Modelo - DERs None\": \"MPO Modelo SAEB\"\n",
    "}\n",
    "\n",
    "output[\"source\"] = output[\"source\"].apply(lambda x: mapper.get(x,x))\n",
    "output_ = output[output[\"source\"].isin(list(mapper.values()))]"
   ]
  },
  {
   "cell_type": "code",
   "execution_count": 8,
   "metadata": {},
   "outputs": [],
   "source": [
    "# from plotly.subplots import make_subplots\n",
    "\n",
    "# # Create subplots: 2 columns and 4 rows, with the last row spanning both columns\n",
    "# fig = make_subplots(\n",
    "#     rows=4, cols=2,\n",
    "#     specs=[[{}, {}],\n",
    "#            [{}, {}],\n",
    "#            [{}, {}],\n",
    "#            [{\"colspan\": 2}, None]],\n",
    "#     subplot_titles=[str(dat_) for dat_ in output_.groupby(output_[\"datetime\"].dt.date).groups.keys()]\n",
    "# )\n",
    "\n",
    "# # Add traces to the subplots\n",
    "# for i, (date, serie) in enumerate(output_.groupby(output_[\"datetime\"].dt.date)):\n",
    "#     row = i // 2 + 1\n",
    "#     col = i % 2 + 1\n",
    "#     showlegend = True if i == 0 else False\n",
    "#     for trace in px.line(serie, x=\"datetime\", y=\"MPO\", color=\"source\", title=str(date)).data:\n",
    "#         trace.showlegend = showlegend\n",
    "#         fig.add_trace(trace, row=row, col=col)\n",
    "\n",
    "# # Update layout\n",
    "# fig.update_layout(\n",
    "#     height=1200, width=800,\n",
    "#     showlegend=True,\n",
    "#     # xaxis=dict(showgrid=True, dtick=3_600_000,),\n",
    "\n",
    "# )\n",
    "# fig.write_html(\"output.html\")\n",
    "# fig.show()"
   ]
  },
  {
   "cell_type": "code",
   "execution_count": 9,
   "metadata": {},
   "outputs": [
    {
     "data": {
      "text/html": [
       "<div>\n",
       "<style scoped>\n",
       "    .dataframe tbody tr th:only-of-type {\n",
       "        vertical-align: middle;\n",
       "    }\n",
       "\n",
       "    .dataframe tbody tr th {\n",
       "        vertical-align: top;\n",
       "    }\n",
       "\n",
       "    .dataframe thead th {\n",
       "        text-align: right;\n",
       "    }\n",
       "</style>\n",
       "<table border=\"1\" class=\"dataframe\">\n",
       "  <thead>\n",
       "    <tr style=\"text-align: right;\">\n",
       "      <th>source</th>\n",
       "      <th>MPO bess_preideal_resource Modelo</th>\n",
       "      <th>MPO preideal Modelo</th>\n",
       "      <th>MPO preideal XM</th>\n",
       "      <th>MPO preideal_resource XM</th>\n",
       "    </tr>\n",
       "    <tr>\n",
       "      <th>datetime</th>\n",
       "      <th></th>\n",
       "      <th></th>\n",
       "      <th></th>\n",
       "      <th></th>\n",
       "    </tr>\n",
       "  </thead>\n",
       "  <tbody>\n",
       "    <tr>\n",
       "      <th>2024-03-01 00:00:00</th>\n",
       "      <td>476558.0</td>\n",
       "      <td>476558.0</td>\n",
       "      <td>476632</td>\n",
       "      <td>476632</td>\n",
       "    </tr>\n",
       "    <tr>\n",
       "      <th>2024-03-01 01:00:00</th>\n",
       "      <td>470129.0</td>\n",
       "      <td>470129.0</td>\n",
       "      <td>470203</td>\n",
       "      <td>470203</td>\n",
       "    </tr>\n",
       "    <tr>\n",
       "      <th>2024-03-01 02:00:00</th>\n",
       "      <td>470129.0</td>\n",
       "      <td>470129.0</td>\n",
       "      <td>470203</td>\n",
       "      <td>470203</td>\n",
       "    </tr>\n",
       "    <tr>\n",
       "      <th>2024-03-01 03:00:00</th>\n",
       "      <td>470129.0</td>\n",
       "      <td>470129.0</td>\n",
       "      <td>470203</td>\n",
       "      <td>470203</td>\n",
       "    </tr>\n",
       "    <tr>\n",
       "      <th>2024-03-01 04:00:00</th>\n",
       "      <td>470129.0</td>\n",
       "      <td>470129.0</td>\n",
       "      <td>470203</td>\n",
       "      <td>470203</td>\n",
       "    </tr>\n",
       "    <tr>\n",
       "      <th>...</th>\n",
       "      <td>...</td>\n",
       "      <td>...</td>\n",
       "      <td>...</td>\n",
       "      <td>...</td>\n",
       "    </tr>\n",
       "    <tr>\n",
       "      <th>2024-03-31 19:00:00</th>\n",
       "      <td>752000.0</td>\n",
       "      <td>752000.0</td>\n",
       "      <td>752000</td>\n",
       "      <td>752000</td>\n",
       "    </tr>\n",
       "    <tr>\n",
       "      <th>2024-03-31 20:00:00</th>\n",
       "      <td>752000.0</td>\n",
       "      <td>752000.0</td>\n",
       "      <td>752000</td>\n",
       "      <td>752000</td>\n",
       "    </tr>\n",
       "    <tr>\n",
       "      <th>2024-03-31 21:00:00</th>\n",
       "      <td>750123.0</td>\n",
       "      <td>750123.0</td>\n",
       "      <td>750123</td>\n",
       "      <td>750123</td>\n",
       "    </tr>\n",
       "    <tr>\n",
       "      <th>2024-03-31 22:00:00</th>\n",
       "      <td>700000.0</td>\n",
       "      <td>700000.0</td>\n",
       "      <td>700000</td>\n",
       "      <td>700000</td>\n",
       "    </tr>\n",
       "    <tr>\n",
       "      <th>2024-03-31 23:00:00</th>\n",
       "      <td>699000.0</td>\n",
       "      <td>699000.0</td>\n",
       "      <td>699000</td>\n",
       "      <td>699000</td>\n",
       "    </tr>\n",
       "  </tbody>\n",
       "</table>\n",
       "<p>744 rows × 4 columns</p>\n",
       "</div>"
      ],
      "text/plain": [
       "source              MPO bess_preideal_resource Modelo MPO preideal Modelo  \\\n",
       "datetime                                                                    \n",
       "2024-03-01 00:00:00                          476558.0            476558.0   \n",
       "2024-03-01 01:00:00                          470129.0            470129.0   \n",
       "2024-03-01 02:00:00                          470129.0            470129.0   \n",
       "2024-03-01 03:00:00                          470129.0            470129.0   \n",
       "2024-03-01 04:00:00                          470129.0            470129.0   \n",
       "...                                               ...                 ...   \n",
       "2024-03-31 19:00:00                          752000.0            752000.0   \n",
       "2024-03-31 20:00:00                          752000.0            752000.0   \n",
       "2024-03-31 21:00:00                          750123.0            750123.0   \n",
       "2024-03-31 22:00:00                          700000.0            700000.0   \n",
       "2024-03-31 23:00:00                          699000.0            699000.0   \n",
       "\n",
       "source              MPO preideal XM MPO preideal_resource XM  \n",
       "datetime                                                      \n",
       "2024-03-01 00:00:00          476632                   476632  \n",
       "2024-03-01 01:00:00          470203                   470203  \n",
       "2024-03-01 02:00:00          470203                   470203  \n",
       "2024-03-01 03:00:00          470203                   470203  \n",
       "2024-03-01 04:00:00          470203                   470203  \n",
       "...                             ...                      ...  \n",
       "2024-03-31 19:00:00          752000                   752000  \n",
       "2024-03-31 20:00:00          752000                   752000  \n",
       "2024-03-31 21:00:00          750123                   750123  \n",
       "2024-03-31 22:00:00          700000                   700000  \n",
       "2024-03-31 23:00:00          699000                   699000  \n",
       "\n",
       "[744 rows x 4 columns]"
      ]
     },
     "execution_count": 9,
     "metadata": {},
     "output_type": "execute_result"
    }
   ],
   "source": [
    "output_unstacked = output.pivot(index=\"datetime\", columns=\"source\", values=\"MPO\")\n",
    "output_unstacked"
   ]
  },
  {
   "cell_type": "code",
   "execution_count": 10,
   "metadata": {},
   "outputs": [
    {
     "data": {
      "text/html": [
       "<div>\n",
       "<style scoped>\n",
       "    .dataframe tbody tr th:only-of-type {\n",
       "        vertical-align: middle;\n",
       "    }\n",
       "\n",
       "    .dataframe tbody tr th {\n",
       "        vertical-align: top;\n",
       "    }\n",
       "\n",
       "    .dataframe thead th {\n",
       "        text-align: right;\n",
       "    }\n",
       "</style>\n",
       "<table border=\"1\" class=\"dataframe\">\n",
       "  <thead>\n",
       "    <tr style=\"text-align: right;\">\n",
       "      <th></th>\n",
       "      <th>MAPE %</th>\n",
       "    </tr>\n",
       "  </thead>\n",
       "  <tbody>\n",
       "    <tr>\n",
       "      <th>2024-03-01</th>\n",
       "      <td>1.856132</td>\n",
       "    </tr>\n",
       "    <tr>\n",
       "      <th>2024-03-02</th>\n",
       "      <td>1.696383</td>\n",
       "    </tr>\n",
       "    <tr>\n",
       "      <th>2024-03-03</th>\n",
       "      <td>0.865984</td>\n",
       "    </tr>\n",
       "    <tr>\n",
       "      <th>2024-03-04</th>\n",
       "      <td>1.357132</td>\n",
       "    </tr>\n",
       "    <tr>\n",
       "      <th>2024-03-05</th>\n",
       "      <td>0.678621</td>\n",
       "    </tr>\n",
       "    <tr>\n",
       "      <th>2024-03-06</th>\n",
       "      <td>2.547542</td>\n",
       "    </tr>\n",
       "    <tr>\n",
       "      <th>2024-03-07</th>\n",
       "      <td>0.000000</td>\n",
       "    </tr>\n",
       "    <tr>\n",
       "      <th>2024-03-08</th>\n",
       "      <td>0.000000</td>\n",
       "    </tr>\n",
       "    <tr>\n",
       "      <th>2024-03-09</th>\n",
       "      <td>3.134021</td>\n",
       "    </tr>\n",
       "    <tr>\n",
       "      <th>2024-03-10</th>\n",
       "      <td>0.664861</td>\n",
       "    </tr>\n",
       "    <tr>\n",
       "      <th>2024-03-11</th>\n",
       "      <td>0.681569</td>\n",
       "    </tr>\n",
       "    <tr>\n",
       "      <th>2024-03-12</th>\n",
       "      <td>0.635951</td>\n",
       "    </tr>\n",
       "    <tr>\n",
       "      <th>2024-03-13</th>\n",
       "      <td>0.000000</td>\n",
       "    </tr>\n",
       "    <tr>\n",
       "      <th>2024-03-14</th>\n",
       "      <td>0.000000</td>\n",
       "    </tr>\n",
       "    <tr>\n",
       "      <th>2024-03-15</th>\n",
       "      <td>0.026152</td>\n",
       "    </tr>\n",
       "    <tr>\n",
       "      <th>2024-03-16</th>\n",
       "      <td>0.103373</td>\n",
       "    </tr>\n",
       "    <tr>\n",
       "      <th>2024-03-17</th>\n",
       "      <td>0.129408</td>\n",
       "    </tr>\n",
       "    <tr>\n",
       "      <th>2024-03-18</th>\n",
       "      <td>0.267823</td>\n",
       "    </tr>\n",
       "    <tr>\n",
       "      <th>2024-03-19</th>\n",
       "      <td>0.574674</td>\n",
       "    </tr>\n",
       "    <tr>\n",
       "      <th>2024-03-20</th>\n",
       "      <td>0.000000</td>\n",
       "    </tr>\n",
       "    <tr>\n",
       "      <th>2024-03-21</th>\n",
       "      <td>0.006219</td>\n",
       "    </tr>\n",
       "    <tr>\n",
       "      <th>2024-03-22</th>\n",
       "      <td>0.058582</td>\n",
       "    </tr>\n",
       "    <tr>\n",
       "      <th>2024-03-23</th>\n",
       "      <td>0.011249</td>\n",
       "    </tr>\n",
       "    <tr>\n",
       "      <th>2024-03-24</th>\n",
       "      <td>0.000000</td>\n",
       "    </tr>\n",
       "    <tr>\n",
       "      <th>2024-03-25</th>\n",
       "      <td>0.195350</td>\n",
       "    </tr>\n",
       "    <tr>\n",
       "      <th>2024-03-26</th>\n",
       "      <td>0.481637</td>\n",
       "    </tr>\n",
       "    <tr>\n",
       "      <th>2024-03-27</th>\n",
       "      <td>0.165161</td>\n",
       "    </tr>\n",
       "    <tr>\n",
       "      <th>2024-03-28</th>\n",
       "      <td>0.335319</td>\n",
       "    </tr>\n",
       "    <tr>\n",
       "      <th>2024-03-29</th>\n",
       "      <td>0.589098</td>\n",
       "    </tr>\n",
       "    <tr>\n",
       "      <th>2024-03-30</th>\n",
       "      <td>0.592384</td>\n",
       "    </tr>\n",
       "    <tr>\n",
       "      <th>2024-03-31</th>\n",
       "      <td>0.259597</td>\n",
       "    </tr>\n",
       "  </tbody>\n",
       "</table>\n",
       "</div>"
      ],
      "text/plain": [
       "              MAPE %\n",
       "2024-03-01  1.856132\n",
       "2024-03-02  1.696383\n",
       "2024-03-03  0.865984\n",
       "2024-03-04  1.357132\n",
       "2024-03-05  0.678621\n",
       "2024-03-06  2.547542\n",
       "2024-03-07  0.000000\n",
       "2024-03-08  0.000000\n",
       "2024-03-09  3.134021\n",
       "2024-03-10  0.664861\n",
       "2024-03-11  0.681569\n",
       "2024-03-12  0.635951\n",
       "2024-03-13  0.000000\n",
       "2024-03-14  0.000000\n",
       "2024-03-15  0.026152\n",
       "2024-03-16  0.103373\n",
       "2024-03-17  0.129408\n",
       "2024-03-18  0.267823\n",
       "2024-03-19  0.574674\n",
       "2024-03-20  0.000000\n",
       "2024-03-21  0.006219\n",
       "2024-03-22  0.058582\n",
       "2024-03-23  0.011249\n",
       "2024-03-24  0.000000\n",
       "2024-03-25  0.195350\n",
       "2024-03-26  0.481637\n",
       "2024-03-27  0.165161\n",
       "2024-03-28  0.335319\n",
       "2024-03-29  0.589098\n",
       "2024-03-30  0.592384\n",
       "2024-03-31  0.259597"
      ]
     },
     "execution_count": 10,
     "metadata": {},
     "output_type": "execute_result"
    }
   ],
   "source": [
    "# Group by days and apply the mean_absolute_percentage_error function\n",
    "grouped = output_unstacked.groupby(output_unstacked.index.date).apply(\n",
    "    lambda x: mean_absolute_percentage_error(y_pred=x[\"MPO preideal Modelo\"], y_true=x[\"MPO preideal XM\"])\n",
    ")\n",
    "\n",
    "# Convert the result to a DataFrame for better readability\n",
    "grouped_df = pd.DataFrame(grouped, columns=[\"MAPE %\"])\n",
    "grouped_df[\"MAPE %\"] = grouped_df[\"MAPE %\"] * 100\n",
    "grouped_df"
   ]
  },
  {
   "cell_type": "code",
   "execution_count": 11,
   "metadata": {},
   "outputs": [],
   "source": [
    "output_unstacked.to_csv(f\"differences_for_month_{date_.month}.csv\")"
   ]
  },
  {
   "cell_type": "code",
   "execution_count": null,
   "metadata": {},
   "outputs": [],
   "source": []
  },
  {
   "cell_type": "code",
   "execution_count": null,
   "metadata": {},
   "outputs": [],
   "source": []
  }
 ],
 "metadata": {
  "kernelspec": {
   "display_name": ".env",
   "language": "python",
   "name": "python3"
  },
  "language_info": {
   "codemirror_mode": {
    "name": "ipython",
    "version": 3
   },
   "file_extension": ".py",
   "mimetype": "text/x-python",
   "name": "python",
   "nbconvert_exporter": "python",
   "pygments_lexer": "ipython3",
   "version": "3.12.2"
  }
 },
 "nbformat": 4,
 "nbformat_minor": 2
}

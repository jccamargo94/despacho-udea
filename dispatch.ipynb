{
 "cells": [
  {
   "cell_type": "code",
   "execution_count": 1,
   "metadata": {},
   "outputs": [],
   "source": [
    "from datetime import date\n",
    "from itertools import product\n",
    "\n",
    "import pandas as pd\n",
    "import plotly.express as px\n",
    "import plotly.graph_objects as go\n",
    "from sklearn.metrics import mean_absolute_percentage_error, mean_squared_error\n",
    "\n",
    "from app.model import DispatchConfig\n",
    "from run_dispatch import run_dispatch"
   ]
  },
  {
   "cell_type": "code",
   "execution_count": 2,
   "metadata": {},
   "outputs": [],
   "source": [
    "# DATES = pd.date_range(\n",
    "    # start=\"2024-02-24\",\n",
    "    # end=\"2024-02-24\",\n",
    "    # end=\"2024-06-30\",\n",
    "    # inclusive=\"both\"\n",
    "# )\n",
    "DATES = [\n",
    "    pd.Timestamp(\"2024-02-24\"),\n",
    "    pd.Timestamp(\"2024-03-27\"),\n",
    "    pd.Timestamp(\"2024-02-05\"),\n",
    "    pd.Timestamp(\"2024-08-11\"),\n",
    "    pd.Timestamp(\"2024-04-23\"),\n",
    "    pd.Timestamp(\"2024-08-27\"),\n",
    "    pd.Timestamp(\"2024-03-05\"),\n",
    "]\n",
    "CONFIGS = [\n",
    "    \"preideal\",\n",
    "    # \"bess_preideal\",\n",
    "    \"bess_preideal_resource\",\n",
    "]\n",
    "\n",
    "BESS_VALUES = {\n",
    "    \"BESS_1\": {\n",
    "        \"MWh_nom\": 2000,\n",
    "        \"hours_to_deplete\": 2,\n",
    "        \"efficiency\": 0.9,\n",
    "        \"min_soc\": 0.05,\n",
    "        \"max_soc\": 0.98,\n",
    "        \"initial_soc\": 0.05,\n",
    "        \"charge_bid\": 420000,\n",
    "        \"discharge_bid\": 550000,\n",
    "    },\n",
    "}\n"
   ]
  },
  {
   "cell_type": "code",
   "execution_count": 3,
   "metadata": {},
   "outputs": [
    {
     "name": "stdout",
     "output_type": "stream",
     "text": [
      "... files already downloaded. Skipping download\n"
     ]
    },
    {
     "name": "stderr",
     "output_type": "stream",
     "text": [
      "/home/user/projects/udea/DNP/DEVELOP/info/colombia/despacho/run_dispatch.py:318: SettingWithCopyWarning: \n",
      "A value is trying to be set on a copy of a slice from a DataFrame.\n",
      "Try using .loc[row_indexer,col_indexer] = value instead\n",
      "\n",
      "See the caveats in the documentation: https://pandas.pydata.org/pandas-docs/stable/user_guide/indexing.html#returning-a-view-versus-a-copy\n",
      "  dcondIniPlant.loc[:, \"dispatched_conf\"] = dcondIniPlant.loc[:, \"Conf_Pini-1\"].apply(\n"
     ]
    },
    {
     "name": "stdout",
     "output_type": "stream",
     "text": [
      "F.obj: 55,202,339,922.20\n",
      "f.o.55,202,339,922.20\n",
      "... files already downloaded. Skipping download\n"
     ]
    },
    {
     "name": "stderr",
     "output_type": "stream",
     "text": [
      "/home/user/projects/udea/DNP/DEVELOP/info/colombia/despacho/run_dispatch.py:318: SettingWithCopyWarning: \n",
      "A value is trying to be set on a copy of a slice from a DataFrame.\n",
      "Try using .loc[row_indexer,col_indexer] = value instead\n",
      "\n",
      "See the caveats in the documentation: https://pandas.pydata.org/pandas-docs/stable/user_guide/indexing.html#returning-a-view-versus-a-copy\n",
      "  dcondIniPlant.loc[:, \"dispatched_conf\"] = dcondIniPlant.loc[:, \"Conf_Pini-1\"].apply(\n"
     ]
    },
    {
     "name": "stdout",
     "output_type": "stream",
     "text": [
      "F.obj: -55,202,339,922.20\n",
      "f.o.55,202,339,922.20\n",
      "... files already downloaded. Skipping download\n"
     ]
    },
    {
     "name": "stderr",
     "output_type": "stream",
     "text": [
      "/home/user/projects/udea/DNP/DEVELOP/info/colombia/despacho/run_dispatch.py:318: SettingWithCopyWarning: \n",
      "A value is trying to be set on a copy of a slice from a DataFrame.\n",
      "Try using .loc[row_indexer,col_indexer] = value instead\n",
      "\n",
      "See the caveats in the documentation: https://pandas.pydata.org/pandas-docs/stable/user_guide/indexing.html#returning-a-view-versus-a-copy\n",
      "  dcondIniPlant.loc[:, \"dispatched_conf\"] = dcondIniPlant.loc[:, \"Conf_Pini-1\"].apply(\n"
     ]
    },
    {
     "name": "stdout",
     "output_type": "stream",
     "text": [
      "F.obj: 74,233,557,874.00\n",
      "f.o.74,233,557,874.00\n",
      "... files already downloaded. Skipping download\n"
     ]
    },
    {
     "name": "stderr",
     "output_type": "stream",
     "text": [
      "/home/user/projects/udea/DNP/DEVELOP/info/colombia/despacho/run_dispatch.py:318: SettingWithCopyWarning: \n",
      "A value is trying to be set on a copy of a slice from a DataFrame.\n",
      "Try using .loc[row_indexer,col_indexer] = value instead\n",
      "\n",
      "See the caveats in the documentation: https://pandas.pydata.org/pandas-docs/stable/user_guide/indexing.html#returning-a-view-versus-a-copy\n",
      "  dcondIniPlant.loc[:, \"dispatched_conf\"] = dcondIniPlant.loc[:, \"Conf_Pini-1\"].apply(\n"
     ]
    },
    {
     "name": "stdout",
     "output_type": "stream",
     "text": [
      "F.obj: -74,233,557,874.00\n",
      "f.o.74,233,557,874.00\n",
      "... files already downloaded. Skipping download\n"
     ]
    },
    {
     "name": "stderr",
     "output_type": "stream",
     "text": [
      "/home/user/projects/udea/DNP/DEVELOP/info/colombia/despacho/run_dispatch.py:318: SettingWithCopyWarning: \n",
      "A value is trying to be set on a copy of a slice from a DataFrame.\n",
      "Try using .loc[row_indexer,col_indexer] = value instead\n",
      "\n",
      "See the caveats in the documentation: https://pandas.pydata.org/pandas-docs/stable/user_guide/indexing.html#returning-a-view-versus-a-copy\n",
      "  dcondIniPlant.loc[:, \"dispatched_conf\"] = dcondIniPlant.loc[:, \"Conf_Pini-1\"].apply(\n"
     ]
    },
    {
     "name": "stdout",
     "output_type": "stream",
     "text": [
      "F.obj: 55,321,806,332.00\n",
      "f.o.55,321,806,332.00\n",
      "... files already downloaded. Skipping download\n"
     ]
    },
    {
     "name": "stderr",
     "output_type": "stream",
     "text": [
      "/home/user/projects/udea/DNP/DEVELOP/info/colombia/despacho/run_dispatch.py:318: SettingWithCopyWarning: \n",
      "A value is trying to be set on a copy of a slice from a DataFrame.\n",
      "Try using .loc[row_indexer,col_indexer] = value instead\n",
      "\n",
      "See the caveats in the documentation: https://pandas.pydata.org/pandas-docs/stable/user_guide/indexing.html#returning-a-view-versus-a-copy\n",
      "  dcondIniPlant.loc[:, \"dispatched_conf\"] = dcondIniPlant.loc[:, \"Conf_Pini-1\"].apply(\n"
     ]
    },
    {
     "name": "stdout",
     "output_type": "stream",
     "text": [
      "F.obj: -55,320,608,168.00\n",
      "f.o.55,320,608,168.00\n",
      "... files already downloaded. Skipping download\n"
     ]
    },
    {
     "name": "stderr",
     "output_type": "stream",
     "text": [
      "/home/user/projects/udea/DNP/DEVELOP/info/colombia/despacho/run_dispatch.py:318: SettingWithCopyWarning: \n",
      "A value is trying to be set on a copy of a slice from a DataFrame.\n",
      "Try using .loc[row_indexer,col_indexer] = value instead\n",
      "\n",
      "See the caveats in the documentation: https://pandas.pydata.org/pandas-docs/stable/user_guide/indexing.html#returning-a-view-versus-a-copy\n",
      "  dcondIniPlant.loc[:, \"dispatched_conf\"] = dcondIniPlant.loc[:, \"Conf_Pini-1\"].apply(\n"
     ]
    },
    {
     "name": "stdout",
     "output_type": "stream",
     "text": [
      "F.obj: 23,394,547,192.00\n",
      "f.o.23,394,547,192.00\n",
      "... files already downloaded. Skipping download\n"
     ]
    },
    {
     "name": "stderr",
     "output_type": "stream",
     "text": [
      "/home/user/projects/udea/DNP/DEVELOP/info/colombia/despacho/run_dispatch.py:318: SettingWithCopyWarning: \n",
      "A value is trying to be set on a copy of a slice from a DataFrame.\n",
      "Try using .loc[row_indexer,col_indexer] = value instead\n",
      "\n",
      "See the caveats in the documentation: https://pandas.pydata.org/pandas-docs/stable/user_guide/indexing.html#returning-a-view-versus-a-copy\n",
      "  dcondIniPlant.loc[:, \"dispatched_conf\"] = dcondIniPlant.loc[:, \"Conf_Pini-1\"].apply(\n"
     ]
    },
    {
     "name": "stdout",
     "output_type": "stream",
     "text": [
      "F.obj: -22,835,975,702.47\n",
      "f.o.22,835,975,702.47\n",
      "... files already downloaded. Skipping download\n"
     ]
    },
    {
     "name": "stderr",
     "output_type": "stream",
     "text": [
      "/home/user/projects/udea/DNP/DEVELOP/info/colombia/despacho/run_dispatch.py:318: SettingWithCopyWarning: \n",
      "A value is trying to be set on a copy of a slice from a DataFrame.\n",
      "Try using .loc[row_indexer,col_indexer] = value instead\n",
      "\n",
      "See the caveats in the documentation: https://pandas.pydata.org/pandas-docs/stable/user_guide/indexing.html#returning-a-view-versus-a-copy\n",
      "  dcondIniPlant.loc[:, \"dispatched_conf\"] = dcondIniPlant.loc[:, \"Conf_Pini-1\"].apply(\n"
     ]
    },
    {
     "name": "stdout",
     "output_type": "stream",
     "text": [
      "F.obj: 37,232,801,481.00\n",
      "f.o.37,232,801,481.00\n",
      "... files already downloaded. Skipping download\n"
     ]
    },
    {
     "name": "stderr",
     "output_type": "stream",
     "text": [
      "/home/user/projects/udea/DNP/DEVELOP/info/colombia/despacho/run_dispatch.py:318: SettingWithCopyWarning: \n",
      "A value is trying to be set on a copy of a slice from a DataFrame.\n",
      "Try using .loc[row_indexer,col_indexer] = value instead\n",
      "\n",
      "See the caveats in the documentation: https://pandas.pydata.org/pandas-docs/stable/user_guide/indexing.html#returning-a-view-versus-a-copy\n",
      "  dcondIniPlant.loc[:, \"dispatched_conf\"] = dcondIniPlant.loc[:, \"Conf_Pini-1\"].apply(\n"
     ]
    },
    {
     "name": "stdout",
     "output_type": "stream",
     "text": [
      "F.obj: -37,136,603,410.99\n",
      "f.o.37,136,603,410.99\n",
      "... files already downloaded. Skipping download\n"
     ]
    },
    {
     "name": "stderr",
     "output_type": "stream",
     "text": [
      "/home/user/projects/udea/DNP/DEVELOP/info/colombia/despacho/run_dispatch.py:318: SettingWithCopyWarning: \n",
      "A value is trying to be set on a copy of a slice from a DataFrame.\n",
      "Try using .loc[row_indexer,col_indexer] = value instead\n",
      "\n",
      "See the caveats in the documentation: https://pandas.pydata.org/pandas-docs/stable/user_guide/indexing.html#returning-a-view-versus-a-copy\n",
      "  dcondIniPlant.loc[:, \"dispatched_conf\"] = dcondIniPlant.loc[:, \"Conf_Pini-1\"].apply(\n"
     ]
    },
    {
     "name": "stdout",
     "output_type": "stream",
     "text": [
      "F.obj: 42,823,207,497.00\n",
      "f.o.42,823,207,497.00\n",
      "... files already downloaded. Skipping download\n"
     ]
    },
    {
     "name": "stderr",
     "output_type": "stream",
     "text": [
      "/home/user/projects/udea/DNP/DEVELOP/info/colombia/despacho/run_dispatch.py:318: SettingWithCopyWarning: \n",
      "A value is trying to be set on a copy of a slice from a DataFrame.\n",
      "Try using .loc[row_indexer,col_indexer] = value instead\n",
      "\n",
      "See the caveats in the documentation: https://pandas.pydata.org/pandas-docs/stable/user_guide/indexing.html#returning-a-view-versus-a-copy\n",
      "  dcondIniPlant.loc[:, \"dispatched_conf\"] = dcondIniPlant.loc[:, \"Conf_Pini-1\"].apply(\n"
     ]
    },
    {
     "name": "stdout",
     "output_type": "stream",
     "text": [
      "F.obj: -42,811,568,305.70\n",
      "f.o.42,811,568,305.70\n",
      "... files already downloaded. Skipping download\n"
     ]
    },
    {
     "name": "stderr",
     "output_type": "stream",
     "text": [
      "/home/user/projects/udea/DNP/DEVELOP/info/colombia/despacho/run_dispatch.py:318: SettingWithCopyWarning: \n",
      "A value is trying to be set on a copy of a slice from a DataFrame.\n",
      "Try using .loc[row_indexer,col_indexer] = value instead\n",
      "\n",
      "See the caveats in the documentation: https://pandas.pydata.org/pandas-docs/stable/user_guide/indexing.html#returning-a-view-versus-a-copy\n",
      "  dcondIniPlant.loc[:, \"dispatched_conf\"] = dcondIniPlant.loc[:, \"Conf_Pini-1\"].apply(\n"
     ]
    },
    {
     "name": "stdout",
     "output_type": "stream",
     "text": [
      "F.obj: 51,883,078,117.00\n",
      "f.o.51,883,078,117.00\n",
      "... files already downloaded. Skipping download\n"
     ]
    },
    {
     "name": "stderr",
     "output_type": "stream",
     "text": [
      "/home/user/projects/udea/DNP/DEVELOP/info/colombia/despacho/run_dispatch.py:318: SettingWithCopyWarning: \n",
      "A value is trying to be set on a copy of a slice from a DataFrame.\n",
      "Try using .loc[row_indexer,col_indexer] = value instead\n",
      "\n",
      "See the caveats in the documentation: https://pandas.pydata.org/pandas-docs/stable/user_guide/indexing.html#returning-a-view-versus-a-copy\n",
      "  dcondIniPlant.loc[:, \"dispatched_conf\"] = dcondIniPlant.loc[:, \"Conf_Pini-1\"].apply(\n"
     ]
    },
    {
     "name": "stdout",
     "output_type": "stream",
     "text": [
      "F.obj: -51,883,078,117.00\n",
      "f.o.51,883,078,117.00\n"
     ]
    }
   ],
   "source": [
    "\n",
    "output_unstacked = pd.DataFrame()\n",
    "for (date_, dispatch_type) in product(DATES,CONFIGS):\n",
    "    BESS = BESS_VALUES if \"bess\" in dispatch_type.lower() else None\n",
    "    mpo = run_dispatch(DispatchConfig(dispatch_type=dispatch_type), DISPATCH_DATE=date_.date(), show_figs=False, BESS=BESS)\n",
    "    # mpo[\"dispatch_type\"] = dispatch_typex\n",
    "    output_unstacked = pd.concat([output_unstacked, mpo])\n",
    "output = output_unstacked.stack().reset_index()\n",
    "output.columns = [\"datetime\", \"source\", \"MPO\"]\n",
    "output.drop_duplicates(inplace=True)"
   ]
  },
  {
   "cell_type": "code",
   "execution_count": 10,
   "metadata": {},
   "outputs": [
    {
     "data": {
      "application/vnd.plotly.v1+json": {
       "config": {
        "plotlyServerURL": "https://plot.ly"
       },
       "data": [
        {
         "hovertemplate": "source=MPO preideal Modelo<br>datetime=%{x}<br>MPO=%{y}<extra></extra>",
         "legendgroup": "MPO preideal Modelo",
         "line": {
          "color": "#636efa",
          "dash": "solid"
         },
         "marker": {
          "symbol": "circle"
         },
         "mode": "lines",
         "name": "MPO preideal Modelo",
         "orientation": "v",
         "showlegend": true,
         "type": "scatter",
         "x": [
          "2024-02-24T00:00:00",
          "2024-02-24T01:00:00",
          "2024-02-24T02:00:00",
          "2024-02-24T03:00:00",
          "2024-02-24T04:00:00",
          "2024-02-24T05:00:00",
          "2024-02-24T06:00:00",
          "2024-02-24T07:00:00",
          "2024-02-24T08:00:00",
          "2024-02-24T09:00:00",
          "2024-02-24T10:00:00",
          "2024-02-24T11:00:00",
          "2024-02-24T12:00:00",
          "2024-02-24T13:00:00",
          "2024-02-24T14:00:00",
          "2024-02-24T15:00:00",
          "2024-02-24T16:00:00",
          "2024-02-24T17:00:00",
          "2024-02-24T18:00:00",
          "2024-02-24T19:00:00",
          "2024-02-24T20:00:00",
          "2024-02-24T21:00:00",
          "2024-02-24T22:00:00",
          "2024-02-24T23:00:00",
          "2024-03-27T00:00:00",
          "2024-03-27T01:00:00",
          "2024-03-27T02:00:00",
          "2024-03-27T03:00:00",
          "2024-03-27T04:00:00",
          "2024-03-27T05:00:00",
          "2024-03-27T06:00:00",
          "2024-03-27T07:00:00",
          "2024-03-27T08:00:00",
          "2024-03-27T09:00:00",
          "2024-03-27T10:00:00",
          "2024-03-27T11:00:00",
          "2024-03-27T12:00:00",
          "2024-03-27T13:00:00",
          "2024-03-27T14:00:00",
          "2024-03-27T15:00:00",
          "2024-03-27T16:00:00",
          "2024-03-27T17:00:00",
          "2024-03-27T18:00:00",
          "2024-03-27T19:00:00",
          "2024-03-27T20:00:00",
          "2024-03-27T21:00:00",
          "2024-03-27T22:00:00",
          "2024-03-27T23:00:00",
          "2024-02-05T00:00:00",
          "2024-02-05T01:00:00",
          "2024-02-05T02:00:00",
          "2024-02-05T03:00:00",
          "2024-02-05T04:00:00",
          "2024-02-05T05:00:00",
          "2024-02-05T06:00:00",
          "2024-02-05T07:00:00",
          "2024-02-05T08:00:00",
          "2024-02-05T09:00:00",
          "2024-02-05T10:00:00",
          "2024-02-05T11:00:00",
          "2024-02-05T12:00:00",
          "2024-02-05T13:00:00",
          "2024-02-05T14:00:00",
          "2024-02-05T15:00:00",
          "2024-02-05T16:00:00",
          "2024-02-05T17:00:00",
          "2024-02-05T18:00:00",
          "2024-02-05T19:00:00",
          "2024-02-05T20:00:00",
          "2024-02-05T21:00:00",
          "2024-02-05T22:00:00",
          "2024-02-05T23:00:00",
          "2024-08-11T00:00:00",
          "2024-08-11T01:00:00",
          "2024-08-11T02:00:00",
          "2024-08-11T03:00:00",
          "2024-08-11T04:00:00",
          "2024-08-11T05:00:00",
          "2024-08-11T06:00:00",
          "2024-08-11T07:00:00",
          "2024-08-11T08:00:00",
          "2024-08-11T09:00:00",
          "2024-08-11T10:00:00",
          "2024-08-11T11:00:00",
          "2024-08-11T12:00:00",
          "2024-08-11T13:00:00",
          "2024-08-11T14:00:00",
          "2024-08-11T15:00:00",
          "2024-08-11T16:00:00",
          "2024-08-11T17:00:00",
          "2024-08-11T18:00:00",
          "2024-08-11T19:00:00",
          "2024-08-11T20:00:00",
          "2024-08-11T21:00:00",
          "2024-08-11T22:00:00",
          "2024-08-11T23:00:00",
          "2024-04-23T00:00:00",
          "2024-04-23T01:00:00",
          "2024-04-23T02:00:00",
          "2024-04-23T03:00:00",
          "2024-04-23T04:00:00",
          "2024-04-23T05:00:00",
          "2024-04-23T06:00:00",
          "2024-04-23T07:00:00",
          "2024-04-23T08:00:00",
          "2024-04-23T09:00:00",
          "2024-04-23T10:00:00",
          "2024-04-23T11:00:00",
          "2024-04-23T12:00:00",
          "2024-04-23T13:00:00",
          "2024-04-23T14:00:00",
          "2024-04-23T15:00:00",
          "2024-04-23T16:00:00",
          "2024-04-23T17:00:00",
          "2024-04-23T18:00:00",
          "2024-04-23T19:00:00",
          "2024-04-23T20:00:00",
          "2024-04-23T21:00:00",
          "2024-04-23T22:00:00",
          "2024-04-23T23:00:00",
          "2024-08-27T00:00:00",
          "2024-08-27T01:00:00",
          "2024-08-27T02:00:00",
          "2024-08-27T03:00:00",
          "2024-08-27T04:00:00",
          "2024-08-27T05:00:00",
          "2024-08-27T06:00:00",
          "2024-08-27T07:00:00",
          "2024-08-27T08:00:00",
          "2024-08-27T09:00:00",
          "2024-08-27T10:00:00",
          "2024-08-27T11:00:00",
          "2024-08-27T12:00:00",
          "2024-08-27T13:00:00",
          "2024-08-27T14:00:00",
          "2024-08-27T15:00:00",
          "2024-08-27T16:00:00",
          "2024-08-27T17:00:00",
          "2024-08-27T18:00:00",
          "2024-08-27T19:00:00",
          "2024-08-27T20:00:00",
          "2024-08-27T21:00:00",
          "2024-08-27T22:00:00",
          "2024-08-27T23:00:00",
          "2024-03-05T00:00:00",
          "2024-03-05T01:00:00",
          "2024-03-05T02:00:00",
          "2024-03-05T03:00:00",
          "2024-03-05T04:00:00",
          "2024-03-05T05:00:00",
          "2024-03-05T06:00:00",
          "2024-03-05T07:00:00",
          "2024-03-05T08:00:00",
          "2024-03-05T09:00:00",
          "2024-03-05T10:00:00",
          "2024-03-05T11:00:00",
          "2024-03-05T12:00:00",
          "2024-03-05T13:00:00",
          "2024-03-05T14:00:00",
          "2024-03-05T15:00:00",
          "2024-03-05T16:00:00",
          "2024-03-05T17:00:00",
          "2024-03-05T18:00:00",
          "2024-03-05T19:00:00",
          "2024-03-05T20:00:00",
          "2024-03-05T21:00:00",
          "2024-03-05T22:00:00",
          "2024-03-05T23:00:00"
         ],
         "xaxis": "x",
         "y": [
          580000,
          555000,
          555000,
          540000,
          540000,
          555000,
          555000,
          555000,
          555000,
          555000,
          580000,
          580000,
          580000,
          580000,
          580000,
          580000,
          590000,
          590000,
          605000,
          605000,
          605000,
          590000,
          590000,
          580000,
          990000,
          982718,
          860000,
          860000,
          860000,
          860000,
          860000,
          860000,
          860000,
          860000,
          860000,
          860000,
          860000,
          860000,
          982718,
          990000,
          990000,
          990000,
          1010000,
          1010000,
          1010000,
          990000,
          860000,
          860000,
          611993,
          611993,
          545331,
          545331,
          611993,
          611993,
          611993,
          611993,
          634000,
          634000,
          639000,
          639000,
          639000,
          639000,
          639000,
          639000,
          639000,
          640500,
          686000,
          686000,
          686000,
          640500,
          639000,
          634000,
          530000,
          530000,
          435518,
          413457,
          377000,
          255110,
          217597,
          95000,
          94142,
          95000,
          170000,
          217597,
          239980,
          255110,
          315000,
          413457,
          530000,
          550000,
          571000,
          571000,
          571000,
          550000,
          550000,
          550000,
          473380,
          400700,
          400700,
          400700,
          400700,
          472089,
          472089,
          472089,
          473380,
          473380,
          473380,
          479286,
          479286,
          496316,
          496316,
          496316,
          525000,
          496316,
          600000,
          600000,
          600000,
          496316,
          496316,
          473380,
          550000,
          510000,
          510000,
          435587,
          510000,
          510000,
          510000,
          510000,
          510000,
          550000,
          550000,
          550000,
          550000,
          550000,
          550000,
          550000,
          579900,
          594057,
          635000,
          635000,
          635000,
          630000,
          594057,
          550000,
          513720,
          500000,
          500000,
          481000,
          500000,
          513720,
          513720,
          513720,
          513720,
          513720,
          513720,
          540000,
          513720,
          540000,
          540000,
          545000,
          540000,
          540000,
          564678,
          564678,
          564678,
          540000,
          520990,
          513720
         ],
         "yaxis": "y"
        },
        {
         "hovertemplate": "source=MPO preideal XM<br>datetime=%{x}<br>MPO=%{y}<extra></extra>",
         "legendgroup": "MPO preideal XM",
         "line": {
          "color": "#EF553B",
          "dash": "solid"
         },
         "marker": {
          "symbol": "circle"
         },
         "mode": "lines",
         "name": "MPO preideal XM",
         "orientation": "v",
         "showlegend": true,
         "type": "scatter",
         "x": [
          "2024-02-24T00:00:00",
          "2024-02-24T01:00:00",
          "2024-02-24T02:00:00",
          "2024-02-24T03:00:00",
          "2024-02-24T04:00:00",
          "2024-02-24T05:00:00",
          "2024-02-24T06:00:00",
          "2024-02-24T07:00:00",
          "2024-02-24T08:00:00",
          "2024-02-24T09:00:00",
          "2024-02-24T10:00:00",
          "2024-02-24T11:00:00",
          "2024-02-24T12:00:00",
          "2024-02-24T13:00:00",
          "2024-02-24T14:00:00",
          "2024-02-24T15:00:00",
          "2024-02-24T16:00:00",
          "2024-02-24T17:00:00",
          "2024-02-24T18:00:00",
          "2024-02-24T19:00:00",
          "2024-02-24T20:00:00",
          "2024-02-24T21:00:00",
          "2024-02-24T22:00:00",
          "2024-02-24T23:00:00",
          "2024-03-27T00:00:00",
          "2024-03-27T01:00:00",
          "2024-03-27T02:00:00",
          "2024-03-27T03:00:00",
          "2024-03-27T04:00:00",
          "2024-03-27T05:00:00",
          "2024-03-27T06:00:00",
          "2024-03-27T07:00:00",
          "2024-03-27T08:00:00",
          "2024-03-27T09:00:00",
          "2024-03-27T10:00:00",
          "2024-03-27T11:00:00",
          "2024-03-27T12:00:00",
          "2024-03-27T13:00:00",
          "2024-03-27T14:00:00",
          "2024-03-27T15:00:00",
          "2024-03-27T16:00:00",
          "2024-03-27T17:00:00",
          "2024-03-27T18:00:00",
          "2024-03-27T19:00:00",
          "2024-03-27T20:00:00",
          "2024-03-27T21:00:00",
          "2024-03-27T22:00:00",
          "2024-03-27T23:00:00",
          "2024-02-05T00:00:00",
          "2024-02-05T01:00:00",
          "2024-02-05T02:00:00",
          "2024-02-05T03:00:00",
          "2024-02-05T04:00:00",
          "2024-02-05T05:00:00",
          "2024-02-05T06:00:00",
          "2024-02-05T07:00:00",
          "2024-02-05T08:00:00",
          "2024-02-05T09:00:00",
          "2024-02-05T10:00:00",
          "2024-02-05T11:00:00",
          "2024-02-05T12:00:00",
          "2024-02-05T13:00:00",
          "2024-02-05T14:00:00",
          "2024-02-05T15:00:00",
          "2024-02-05T16:00:00",
          "2024-02-05T17:00:00",
          "2024-02-05T18:00:00",
          "2024-02-05T19:00:00",
          "2024-02-05T20:00:00",
          "2024-02-05T21:00:00",
          "2024-02-05T22:00:00",
          "2024-02-05T23:00:00",
          "2024-08-11T00:00:00",
          "2024-08-11T01:00:00",
          "2024-08-11T02:00:00",
          "2024-08-11T03:00:00",
          "2024-08-11T04:00:00",
          "2024-08-11T05:00:00",
          "2024-08-11T06:00:00",
          "2024-08-11T07:00:00",
          "2024-08-11T08:00:00",
          "2024-08-11T09:00:00",
          "2024-08-11T10:00:00",
          "2024-08-11T11:00:00",
          "2024-08-11T12:00:00",
          "2024-08-11T13:00:00",
          "2024-08-11T14:00:00",
          "2024-08-11T15:00:00",
          "2024-08-11T16:00:00",
          "2024-08-11T17:00:00",
          "2024-08-11T18:00:00",
          "2024-08-11T19:00:00",
          "2024-08-11T20:00:00",
          "2024-08-11T21:00:00",
          "2024-08-11T22:00:00",
          "2024-08-11T23:00:00",
          "2024-04-23T00:00:00",
          "2024-04-23T01:00:00",
          "2024-04-23T02:00:00",
          "2024-04-23T03:00:00",
          "2024-04-23T04:00:00",
          "2024-04-23T05:00:00",
          "2024-04-23T06:00:00",
          "2024-04-23T07:00:00",
          "2024-04-23T08:00:00",
          "2024-04-23T09:00:00",
          "2024-04-23T10:00:00",
          "2024-04-23T11:00:00",
          "2024-04-23T12:00:00",
          "2024-04-23T13:00:00",
          "2024-04-23T14:00:00",
          "2024-04-23T15:00:00",
          "2024-04-23T16:00:00",
          "2024-04-23T17:00:00",
          "2024-04-23T18:00:00",
          "2024-04-23T19:00:00",
          "2024-04-23T20:00:00",
          "2024-04-23T21:00:00",
          "2024-04-23T22:00:00",
          "2024-04-23T23:00:00",
          "2024-08-27T00:00:00",
          "2024-08-27T01:00:00",
          "2024-08-27T02:00:00",
          "2024-08-27T03:00:00",
          "2024-08-27T04:00:00",
          "2024-08-27T05:00:00",
          "2024-08-27T06:00:00",
          "2024-08-27T07:00:00",
          "2024-08-27T08:00:00",
          "2024-08-27T09:00:00",
          "2024-08-27T10:00:00",
          "2024-08-27T11:00:00",
          "2024-08-27T12:00:00",
          "2024-08-27T13:00:00",
          "2024-08-27T14:00:00",
          "2024-08-27T15:00:00",
          "2024-08-27T16:00:00",
          "2024-08-27T17:00:00",
          "2024-08-27T18:00:00",
          "2024-08-27T19:00:00",
          "2024-08-27T20:00:00",
          "2024-08-27T21:00:00",
          "2024-08-27T22:00:00",
          "2024-08-27T23:00:00",
          "2024-03-05T00:00:00",
          "2024-03-05T01:00:00",
          "2024-03-05T02:00:00",
          "2024-03-05T03:00:00",
          "2024-03-05T04:00:00",
          "2024-03-05T05:00:00",
          "2024-03-05T06:00:00",
          "2024-03-05T07:00:00",
          "2024-03-05T08:00:00",
          "2024-03-05T09:00:00",
          "2024-03-05T10:00:00",
          "2024-03-05T11:00:00",
          "2024-03-05T12:00:00",
          "2024-03-05T13:00:00",
          "2024-03-05T14:00:00",
          "2024-03-05T15:00:00",
          "2024-03-05T16:00:00",
          "2024-03-05T17:00:00",
          "2024-03-05T18:00:00",
          "2024-03-05T19:00:00",
          "2024-03-05T20:00:00",
          "2024-03-05T21:00:00",
          "2024-03-05T22:00:00",
          "2024-03-05T23:00:00"
         ],
         "xaxis": "x",
         "y": [
          580000,
          555000,
          555000,
          540000,
          540000,
          555000,
          555000,
          555000,
          555000,
          555000,
          580000,
          580000,
          580000,
          580000,
          580000,
          580000,
          590000,
          590000,
          605000,
          605000,
          605000,
          590000,
          590000,
          580000,
          990000,
          990000,
          860000,
          860000,
          860000,
          860000,
          860000,
          860000,
          860000,
          860000,
          860000,
          860000,
          860000,
          860000,
          990000,
          990000,
          995000,
          995000,
          1015000,
          1015000,
          1010000,
          995000,
          860000,
          860000,
          604219,
          604219,
          545331,
          524590,
          545331,
          604219,
          604219,
          604219,
          634000,
          634000,
          639000,
          639000,
          639000,
          639000,
          639000,
          639000,
          640500,
          640500,
          686000,
          686000,
          686000,
          640500,
          639000,
          634000,
          530000,
          530000,
          435518,
          413457,
          377000,
          255110,
          217597,
          95000,
          94142,
          95000,
          170000,
          217597,
          239980,
          255110,
          315000,
          413457,
          530000,
          550000,
          571000,
          571000,
          571000,
          550000,
          550000,
          550000,
          473563,
          400883,
          400883,
          400883,
          400883,
          472272,
          472272,
          472272,
          473563,
          473563,
          473563,
          479469,
          479469,
          496499,
          496499,
          496499,
          600183,
          496499,
          600183,
          700183,
          600183,
          496499,
          496499,
          473563,
          550000,
          510000,
          510000,
          435587,
          510000,
          510000,
          510000,
          510000,
          510000,
          510000,
          550000,
          550000,
          550000,
          550000,
          550000,
          550000,
          550000,
          579900,
          635000,
          635000,
          635000,
          635000,
          630000,
          550000,
          514125,
          500405,
          500405,
          481405,
          500405,
          514125,
          514125,
          514125,
          514125,
          514125,
          514125,
          540405,
          514125,
          540405,
          540405,
          545405,
          545405,
          545405,
          565083,
          615405,
          565083,
          545405,
          540405,
          514125
         ],
         "yaxis": "y"
        },
        {
         "hovertemplate": "source=MPO bess_preideal_resource Modelo<br>datetime=%{x}<br>MPO=%{y}<extra></extra>",
         "legendgroup": "MPO bess_preideal_resource Modelo",
         "line": {
          "color": "#00cc96",
          "dash": "solid"
         },
         "marker": {
          "symbol": "circle"
         },
         "mode": "lines",
         "name": "MPO bess_preideal_resource Modelo",
         "orientation": "v",
         "showlegend": true,
         "type": "scatter",
         "x": [
          "2024-02-24T00:00:00",
          "2024-02-24T01:00:00",
          "2024-02-24T02:00:00",
          "2024-02-24T03:00:00",
          "2024-02-24T04:00:00",
          "2024-02-24T05:00:00",
          "2024-02-24T06:00:00",
          "2024-02-24T07:00:00",
          "2024-02-24T08:00:00",
          "2024-02-24T09:00:00",
          "2024-02-24T10:00:00",
          "2024-02-24T11:00:00",
          "2024-02-24T12:00:00",
          "2024-02-24T13:00:00",
          "2024-02-24T14:00:00",
          "2024-02-24T15:00:00",
          "2024-02-24T16:00:00",
          "2024-02-24T17:00:00",
          "2024-02-24T18:00:00",
          "2024-02-24T19:00:00",
          "2024-02-24T20:00:00",
          "2024-02-24T21:00:00",
          "2024-02-24T22:00:00",
          "2024-02-24T23:00:00",
          "2024-03-27T00:00:00",
          "2024-03-27T01:00:00",
          "2024-03-27T02:00:00",
          "2024-03-27T03:00:00",
          "2024-03-27T04:00:00",
          "2024-03-27T05:00:00",
          "2024-03-27T06:00:00",
          "2024-03-27T07:00:00",
          "2024-03-27T08:00:00",
          "2024-03-27T09:00:00",
          "2024-03-27T10:00:00",
          "2024-03-27T11:00:00",
          "2024-03-27T12:00:00",
          "2024-03-27T13:00:00",
          "2024-03-27T14:00:00",
          "2024-03-27T15:00:00",
          "2024-03-27T16:00:00",
          "2024-03-27T17:00:00",
          "2024-03-27T18:00:00",
          "2024-03-27T19:00:00",
          "2024-03-27T20:00:00",
          "2024-03-27T21:00:00",
          "2024-03-27T22:00:00",
          "2024-03-27T23:00:00",
          "2024-02-05T00:00:00",
          "2024-02-05T01:00:00",
          "2024-02-05T02:00:00",
          "2024-02-05T03:00:00",
          "2024-02-05T04:00:00",
          "2024-02-05T05:00:00",
          "2024-02-05T06:00:00",
          "2024-02-05T07:00:00",
          "2024-02-05T08:00:00",
          "2024-02-05T09:00:00",
          "2024-02-05T10:00:00",
          "2024-02-05T11:00:00",
          "2024-02-05T12:00:00",
          "2024-02-05T13:00:00",
          "2024-02-05T14:00:00",
          "2024-02-05T15:00:00",
          "2024-02-05T16:00:00",
          "2024-02-05T17:00:00",
          "2024-02-05T18:00:00",
          "2024-02-05T19:00:00",
          "2024-02-05T20:00:00",
          "2024-02-05T21:00:00",
          "2024-02-05T22:00:00",
          "2024-02-05T23:00:00",
          "2024-08-11T00:00:00",
          "2024-08-11T01:00:00",
          "2024-08-11T02:00:00",
          "2024-08-11T03:00:00",
          "2024-08-11T04:00:00",
          "2024-08-11T05:00:00",
          "2024-08-11T06:00:00",
          "2024-08-11T07:00:00",
          "2024-08-11T08:00:00",
          "2024-08-11T09:00:00",
          "2024-08-11T10:00:00",
          "2024-08-11T11:00:00",
          "2024-08-11T12:00:00",
          "2024-08-11T13:00:00",
          "2024-08-11T14:00:00",
          "2024-08-11T15:00:00",
          "2024-08-11T16:00:00",
          "2024-08-11T17:00:00",
          "2024-08-11T18:00:00",
          "2024-08-11T19:00:00",
          "2024-08-11T20:00:00",
          "2024-08-11T21:00:00",
          "2024-08-11T22:00:00",
          "2024-08-11T23:00:00",
          "2024-04-23T00:00:00",
          "2024-04-23T01:00:00",
          "2024-04-23T02:00:00",
          "2024-04-23T03:00:00",
          "2024-04-23T04:00:00",
          "2024-04-23T05:00:00",
          "2024-04-23T06:00:00",
          "2024-04-23T07:00:00",
          "2024-04-23T08:00:00",
          "2024-04-23T09:00:00",
          "2024-04-23T10:00:00",
          "2024-04-23T11:00:00",
          "2024-04-23T12:00:00",
          "2024-04-23T13:00:00",
          "2024-04-23T14:00:00",
          "2024-04-23T15:00:00",
          "2024-04-23T16:00:00",
          "2024-04-23T17:00:00",
          "2024-04-23T18:00:00",
          "2024-04-23T19:00:00",
          "2024-04-23T20:00:00",
          "2024-04-23T21:00:00",
          "2024-04-23T22:00:00",
          "2024-04-23T23:00:00",
          "2024-08-27T00:00:00",
          "2024-08-27T01:00:00",
          "2024-08-27T02:00:00",
          "2024-08-27T03:00:00",
          "2024-08-27T04:00:00",
          "2024-08-27T05:00:00",
          "2024-08-27T06:00:00",
          "2024-08-27T07:00:00",
          "2024-08-27T08:00:00",
          "2024-08-27T09:00:00",
          "2024-08-27T10:00:00",
          "2024-08-27T11:00:00",
          "2024-08-27T12:00:00",
          "2024-08-27T13:00:00",
          "2024-08-27T14:00:00",
          "2024-08-27T15:00:00",
          "2024-08-27T16:00:00",
          "2024-08-27T17:00:00",
          "2024-08-27T18:00:00",
          "2024-08-27T19:00:00",
          "2024-08-27T20:00:00",
          "2024-08-27T21:00:00",
          "2024-08-27T22:00:00",
          "2024-08-27T23:00:00",
          "2024-03-05T00:00:00",
          "2024-03-05T01:00:00",
          "2024-03-05T02:00:00",
          "2024-03-05T03:00:00",
          "2024-03-05T04:00:00",
          "2024-03-05T05:00:00",
          "2024-03-05T06:00:00",
          "2024-03-05T07:00:00",
          "2024-03-05T08:00:00",
          "2024-03-05T09:00:00",
          "2024-03-05T10:00:00",
          "2024-03-05T11:00:00",
          "2024-03-05T12:00:00",
          "2024-03-05T13:00:00",
          "2024-03-05T14:00:00",
          "2024-03-05T15:00:00",
          "2024-03-05T16:00:00",
          "2024-03-05T17:00:00",
          "2024-03-05T18:00:00",
          "2024-03-05T19:00:00",
          "2024-03-05T20:00:00",
          "2024-03-05T21:00:00",
          "2024-03-05T22:00:00",
          "2024-03-05T23:00:00"
         ],
         "xaxis": "x",
         "y": [
          580000,
          555000,
          555000,
          540000,
          540000,
          555000,
          555000,
          555000,
          555000,
          555000,
          580000,
          580000,
          580000,
          580000,
          580000,
          580000,
          590000,
          590000,
          605000,
          605000,
          605000,
          590000,
          590000,
          580000,
          990000,
          982718,
          860000,
          860000,
          860000,
          860000,
          860000,
          860000,
          860000,
          860000,
          860000,
          860000,
          860000,
          860000,
          982718,
          990000,
          990000,
          990000,
          1010000,
          1010000,
          1010000,
          990000,
          860000,
          860000,
          611993,
          611993,
          555660,
          555660,
          611993,
          611993,
          611993,
          611993,
          634000,
          634000,
          639000,
          639000,
          639000,
          639000,
          639000,
          639000,
          639000,
          640500,
          686000,
          686000,
          686000,
          640500,
          639000,
          634000,
          530000,
          530000,
          435518,
          413457,
          377000,
          255110,
          239980,
          239980,
          239980,
          239980,
          239980,
          239980,
          239980,
          255110,
          315000,
          413457,
          530000,
          550000,
          550000,
          550000,
          550000,
          550000,
          550000,
          550000,
          473380,
          473380,
          473380,
          473380,
          473380,
          473380,
          473380,
          473380,
          473380,
          473380,
          473380,
          479286,
          479286,
          496316,
          496316,
          496316,
          525000,
          496316,
          584419.75,
          584419.75,
          584419.75,
          496316,
          496316,
          473380,
          550000,
          510000,
          510000,
          510000,
          510000,
          510000,
          510000,
          510000,
          510000,
          550000,
          550000,
          550000,
          550000,
          550000,
          550000,
          550000,
          579900,
          594057,
          630000,
          630000,
          630000,
          630000,
          594057,
          550000,
          513720,
          500000,
          500000,
          481000,
          500000,
          513720,
          513720,
          513720,
          513720,
          513720,
          513720,
          540000,
          513720,
          540000,
          540000,
          545000,
          540000,
          540000,
          564678,
          564678,
          564678,
          540000,
          520990,
          513720
         ],
         "yaxis": "y"
        },
        {
         "hovertemplate": "source=MPO preideal_resource XM<br>datetime=%{x}<br>MPO=%{y}<extra></extra>",
         "legendgroup": "MPO preideal_resource XM",
         "line": {
          "color": "#ab63fa",
          "dash": "solid"
         },
         "marker": {
          "symbol": "circle"
         },
         "mode": "lines",
         "name": "MPO preideal_resource XM",
         "orientation": "v",
         "showlegend": true,
         "type": "scatter",
         "x": [
          "2024-02-24T00:00:00",
          "2024-02-24T01:00:00",
          "2024-02-24T02:00:00",
          "2024-02-24T03:00:00",
          "2024-02-24T04:00:00",
          "2024-02-24T05:00:00",
          "2024-02-24T06:00:00",
          "2024-02-24T07:00:00",
          "2024-02-24T08:00:00",
          "2024-02-24T09:00:00",
          "2024-02-24T10:00:00",
          "2024-02-24T11:00:00",
          "2024-02-24T12:00:00",
          "2024-02-24T13:00:00",
          "2024-02-24T14:00:00",
          "2024-02-24T15:00:00",
          "2024-02-24T16:00:00",
          "2024-02-24T17:00:00",
          "2024-02-24T18:00:00",
          "2024-02-24T19:00:00",
          "2024-02-24T20:00:00",
          "2024-02-24T21:00:00",
          "2024-02-24T22:00:00",
          "2024-02-24T23:00:00",
          "2024-03-27T00:00:00",
          "2024-03-27T01:00:00",
          "2024-03-27T02:00:00",
          "2024-03-27T03:00:00",
          "2024-03-27T04:00:00",
          "2024-03-27T05:00:00",
          "2024-03-27T06:00:00",
          "2024-03-27T07:00:00",
          "2024-03-27T08:00:00",
          "2024-03-27T09:00:00",
          "2024-03-27T10:00:00",
          "2024-03-27T11:00:00",
          "2024-03-27T12:00:00",
          "2024-03-27T13:00:00",
          "2024-03-27T14:00:00",
          "2024-03-27T15:00:00",
          "2024-03-27T16:00:00",
          "2024-03-27T17:00:00",
          "2024-03-27T18:00:00",
          "2024-03-27T19:00:00",
          "2024-03-27T20:00:00",
          "2024-03-27T21:00:00",
          "2024-03-27T22:00:00",
          "2024-03-27T23:00:00",
          "2024-02-05T00:00:00",
          "2024-02-05T01:00:00",
          "2024-02-05T02:00:00",
          "2024-02-05T03:00:00",
          "2024-02-05T04:00:00",
          "2024-02-05T05:00:00",
          "2024-02-05T06:00:00",
          "2024-02-05T07:00:00",
          "2024-02-05T08:00:00",
          "2024-02-05T09:00:00",
          "2024-02-05T10:00:00",
          "2024-02-05T11:00:00",
          "2024-02-05T12:00:00",
          "2024-02-05T13:00:00",
          "2024-02-05T14:00:00",
          "2024-02-05T15:00:00",
          "2024-02-05T16:00:00",
          "2024-02-05T17:00:00",
          "2024-02-05T18:00:00",
          "2024-02-05T19:00:00",
          "2024-02-05T20:00:00",
          "2024-02-05T21:00:00",
          "2024-02-05T22:00:00",
          "2024-02-05T23:00:00",
          "2024-08-11T00:00:00",
          "2024-08-11T01:00:00",
          "2024-08-11T02:00:00",
          "2024-08-11T03:00:00",
          "2024-08-11T04:00:00",
          "2024-08-11T05:00:00",
          "2024-08-11T06:00:00",
          "2024-08-11T07:00:00",
          "2024-08-11T08:00:00",
          "2024-08-11T09:00:00",
          "2024-08-11T10:00:00",
          "2024-08-11T11:00:00",
          "2024-08-11T12:00:00",
          "2024-08-11T13:00:00",
          "2024-08-11T14:00:00",
          "2024-08-11T15:00:00",
          "2024-08-11T16:00:00",
          "2024-08-11T17:00:00",
          "2024-08-11T18:00:00",
          "2024-08-11T19:00:00",
          "2024-08-11T20:00:00",
          "2024-08-11T21:00:00",
          "2024-08-11T22:00:00",
          "2024-08-11T23:00:00",
          "2024-04-23T00:00:00",
          "2024-04-23T01:00:00",
          "2024-04-23T02:00:00",
          "2024-04-23T03:00:00",
          "2024-04-23T04:00:00",
          "2024-04-23T05:00:00",
          "2024-04-23T06:00:00",
          "2024-04-23T07:00:00",
          "2024-04-23T08:00:00",
          "2024-04-23T09:00:00",
          "2024-04-23T10:00:00",
          "2024-04-23T11:00:00",
          "2024-04-23T12:00:00",
          "2024-04-23T13:00:00",
          "2024-04-23T14:00:00",
          "2024-04-23T15:00:00",
          "2024-04-23T16:00:00",
          "2024-04-23T17:00:00",
          "2024-04-23T18:00:00",
          "2024-04-23T19:00:00",
          "2024-04-23T20:00:00",
          "2024-04-23T21:00:00",
          "2024-04-23T22:00:00",
          "2024-04-23T23:00:00",
          "2024-08-27T00:00:00",
          "2024-08-27T01:00:00",
          "2024-08-27T02:00:00",
          "2024-08-27T03:00:00",
          "2024-08-27T04:00:00",
          "2024-08-27T05:00:00",
          "2024-08-27T06:00:00",
          "2024-08-27T07:00:00",
          "2024-08-27T08:00:00",
          "2024-08-27T09:00:00",
          "2024-08-27T10:00:00",
          "2024-08-27T11:00:00",
          "2024-08-27T12:00:00",
          "2024-08-27T13:00:00",
          "2024-08-27T14:00:00",
          "2024-08-27T15:00:00",
          "2024-08-27T16:00:00",
          "2024-08-27T17:00:00",
          "2024-08-27T18:00:00",
          "2024-08-27T19:00:00",
          "2024-08-27T20:00:00",
          "2024-08-27T21:00:00",
          "2024-08-27T22:00:00",
          "2024-08-27T23:00:00",
          "2024-03-05T00:00:00",
          "2024-03-05T01:00:00",
          "2024-03-05T02:00:00",
          "2024-03-05T03:00:00",
          "2024-03-05T04:00:00",
          "2024-03-05T05:00:00",
          "2024-03-05T06:00:00",
          "2024-03-05T07:00:00",
          "2024-03-05T08:00:00",
          "2024-03-05T09:00:00",
          "2024-03-05T10:00:00",
          "2024-03-05T11:00:00",
          "2024-03-05T12:00:00",
          "2024-03-05T13:00:00",
          "2024-03-05T14:00:00",
          "2024-03-05T15:00:00",
          "2024-03-05T16:00:00",
          "2024-03-05T17:00:00",
          "2024-03-05T18:00:00",
          "2024-03-05T19:00:00",
          "2024-03-05T20:00:00",
          "2024-03-05T21:00:00",
          "2024-03-05T22:00:00",
          "2024-03-05T23:00:00"
         ],
         "xaxis": "x",
         "y": [
          580000,
          555000,
          555000,
          540000,
          540000,
          555000,
          555000,
          555000,
          555000,
          555000,
          580000,
          580000,
          580000,
          580000,
          580000,
          580000,
          590000,
          590000,
          605000,
          605000,
          605000,
          590000,
          590000,
          580000,
          990000,
          990000,
          860000,
          860000,
          860000,
          860000,
          860000,
          860000,
          860000,
          860000,
          860000,
          860000,
          860000,
          860000,
          990000,
          990000,
          995000,
          995000,
          1015000,
          1015000,
          1010000,
          995000,
          860000,
          860000,
          604219,
          604219,
          545331,
          524590,
          545331,
          604219,
          604219,
          604219,
          634000,
          634000,
          639000,
          639000,
          639000,
          639000,
          639000,
          639000,
          640500,
          640500,
          686000,
          686000,
          686000,
          640500,
          639000,
          634000,
          530000,
          530000,
          435518,
          413457,
          377000,
          255110,
          217597,
          95000,
          94142,
          95000,
          170000,
          217597,
          239980,
          255110,
          315000,
          413457,
          530000,
          550000,
          571000,
          571000,
          571000,
          550000,
          550000,
          550000,
          473563,
          400883,
          400883,
          400883,
          400883,
          472272,
          472272,
          472272,
          473563,
          473563,
          473563,
          479469,
          479469,
          496499,
          496499,
          496499,
          600183,
          496499,
          600183,
          700183,
          600183,
          496499,
          496499,
          473563,
          550000,
          510000,
          510000,
          435587,
          510000,
          510000,
          510000,
          510000,
          510000,
          510000,
          550000,
          550000,
          550000,
          550000,
          550000,
          550000,
          550000,
          579900,
          635000,
          635000,
          635000,
          635000,
          630000,
          550000,
          514125,
          500405,
          500405,
          481405,
          500405,
          514125,
          514125,
          514125,
          514125,
          514125,
          514125,
          540405,
          514125,
          540405,
          540405,
          545405,
          545405,
          545405,
          565083,
          615405,
          565083,
          545405,
          540405,
          514125
         ],
         "yaxis": "y"
        }
       ],
       "layout": {
        "template": {
         "data": {
          "bar": [
           {
            "error_x": {
             "color": "#2a3f5f"
            },
            "error_y": {
             "color": "#2a3f5f"
            },
            "marker": {
             "line": {
              "color": "#E5ECF6",
              "width": 0.5
             },
             "pattern": {
              "fillmode": "overlay",
              "size": 10,
              "solidity": 0.2
             }
            },
            "type": "bar"
           }
          ],
          "barpolar": [
           {
            "marker": {
             "line": {
              "color": "#E5ECF6",
              "width": 0.5
             },
             "pattern": {
              "fillmode": "overlay",
              "size": 10,
              "solidity": 0.2
             }
            },
            "type": "barpolar"
           }
          ],
          "carpet": [
           {
            "aaxis": {
             "endlinecolor": "#2a3f5f",
             "gridcolor": "white",
             "linecolor": "white",
             "minorgridcolor": "white",
             "startlinecolor": "#2a3f5f"
            },
            "baxis": {
             "endlinecolor": "#2a3f5f",
             "gridcolor": "white",
             "linecolor": "white",
             "minorgridcolor": "white",
             "startlinecolor": "#2a3f5f"
            },
            "type": "carpet"
           }
          ],
          "choropleth": [
           {
            "colorbar": {
             "outlinewidth": 0,
             "ticks": ""
            },
            "type": "choropleth"
           }
          ],
          "contour": [
           {
            "colorbar": {
             "outlinewidth": 0,
             "ticks": ""
            },
            "colorscale": [
             [
              0,
              "#0d0887"
             ],
             [
              0.1111111111111111,
              "#46039f"
             ],
             [
              0.2222222222222222,
              "#7201a8"
             ],
             [
              0.3333333333333333,
              "#9c179e"
             ],
             [
              0.4444444444444444,
              "#bd3786"
             ],
             [
              0.5555555555555556,
              "#d8576b"
             ],
             [
              0.6666666666666666,
              "#ed7953"
             ],
             [
              0.7777777777777778,
              "#fb9f3a"
             ],
             [
              0.8888888888888888,
              "#fdca26"
             ],
             [
              1,
              "#f0f921"
             ]
            ],
            "type": "contour"
           }
          ],
          "contourcarpet": [
           {
            "colorbar": {
             "outlinewidth": 0,
             "ticks": ""
            },
            "type": "contourcarpet"
           }
          ],
          "heatmap": [
           {
            "colorbar": {
             "outlinewidth": 0,
             "ticks": ""
            },
            "colorscale": [
             [
              0,
              "#0d0887"
             ],
             [
              0.1111111111111111,
              "#46039f"
             ],
             [
              0.2222222222222222,
              "#7201a8"
             ],
             [
              0.3333333333333333,
              "#9c179e"
             ],
             [
              0.4444444444444444,
              "#bd3786"
             ],
             [
              0.5555555555555556,
              "#d8576b"
             ],
             [
              0.6666666666666666,
              "#ed7953"
             ],
             [
              0.7777777777777778,
              "#fb9f3a"
             ],
             [
              0.8888888888888888,
              "#fdca26"
             ],
             [
              1,
              "#f0f921"
             ]
            ],
            "type": "heatmap"
           }
          ],
          "heatmapgl": [
           {
            "colorbar": {
             "outlinewidth": 0,
             "ticks": ""
            },
            "colorscale": [
             [
              0,
              "#0d0887"
             ],
             [
              0.1111111111111111,
              "#46039f"
             ],
             [
              0.2222222222222222,
              "#7201a8"
             ],
             [
              0.3333333333333333,
              "#9c179e"
             ],
             [
              0.4444444444444444,
              "#bd3786"
             ],
             [
              0.5555555555555556,
              "#d8576b"
             ],
             [
              0.6666666666666666,
              "#ed7953"
             ],
             [
              0.7777777777777778,
              "#fb9f3a"
             ],
             [
              0.8888888888888888,
              "#fdca26"
             ],
             [
              1,
              "#f0f921"
             ]
            ],
            "type": "heatmapgl"
           }
          ],
          "histogram": [
           {
            "marker": {
             "pattern": {
              "fillmode": "overlay",
              "size": 10,
              "solidity": 0.2
             }
            },
            "type": "histogram"
           }
          ],
          "histogram2d": [
           {
            "colorbar": {
             "outlinewidth": 0,
             "ticks": ""
            },
            "colorscale": [
             [
              0,
              "#0d0887"
             ],
             [
              0.1111111111111111,
              "#46039f"
             ],
             [
              0.2222222222222222,
              "#7201a8"
             ],
             [
              0.3333333333333333,
              "#9c179e"
             ],
             [
              0.4444444444444444,
              "#bd3786"
             ],
             [
              0.5555555555555556,
              "#d8576b"
             ],
             [
              0.6666666666666666,
              "#ed7953"
             ],
             [
              0.7777777777777778,
              "#fb9f3a"
             ],
             [
              0.8888888888888888,
              "#fdca26"
             ],
             [
              1,
              "#f0f921"
             ]
            ],
            "type": "histogram2d"
           }
          ],
          "histogram2dcontour": [
           {
            "colorbar": {
             "outlinewidth": 0,
             "ticks": ""
            },
            "colorscale": [
             [
              0,
              "#0d0887"
             ],
             [
              0.1111111111111111,
              "#46039f"
             ],
             [
              0.2222222222222222,
              "#7201a8"
             ],
             [
              0.3333333333333333,
              "#9c179e"
             ],
             [
              0.4444444444444444,
              "#bd3786"
             ],
             [
              0.5555555555555556,
              "#d8576b"
             ],
             [
              0.6666666666666666,
              "#ed7953"
             ],
             [
              0.7777777777777778,
              "#fb9f3a"
             ],
             [
              0.8888888888888888,
              "#fdca26"
             ],
             [
              1,
              "#f0f921"
             ]
            ],
            "type": "histogram2dcontour"
           }
          ],
          "mesh3d": [
           {
            "colorbar": {
             "outlinewidth": 0,
             "ticks": ""
            },
            "type": "mesh3d"
           }
          ],
          "parcoords": [
           {
            "line": {
             "colorbar": {
              "outlinewidth": 0,
              "ticks": ""
             }
            },
            "type": "parcoords"
           }
          ],
          "pie": [
           {
            "automargin": true,
            "type": "pie"
           }
          ],
          "scatter": [
           {
            "fillpattern": {
             "fillmode": "overlay",
             "size": 10,
             "solidity": 0.2
            },
            "type": "scatter"
           }
          ],
          "scatter3d": [
           {
            "line": {
             "colorbar": {
              "outlinewidth": 0,
              "ticks": ""
             }
            },
            "marker": {
             "colorbar": {
              "outlinewidth": 0,
              "ticks": ""
             }
            },
            "type": "scatter3d"
           }
          ],
          "scattercarpet": [
           {
            "marker": {
             "colorbar": {
              "outlinewidth": 0,
              "ticks": ""
             }
            },
            "type": "scattercarpet"
           }
          ],
          "scattergeo": [
           {
            "marker": {
             "colorbar": {
              "outlinewidth": 0,
              "ticks": ""
             }
            },
            "type": "scattergeo"
           }
          ],
          "scattergl": [
           {
            "marker": {
             "colorbar": {
              "outlinewidth": 0,
              "ticks": ""
             }
            },
            "type": "scattergl"
           }
          ],
          "scattermapbox": [
           {
            "marker": {
             "colorbar": {
              "outlinewidth": 0,
              "ticks": ""
             }
            },
            "type": "scattermapbox"
           }
          ],
          "scatterpolar": [
           {
            "marker": {
             "colorbar": {
              "outlinewidth": 0,
              "ticks": ""
             }
            },
            "type": "scatterpolar"
           }
          ],
          "scatterpolargl": [
           {
            "marker": {
             "colorbar": {
              "outlinewidth": 0,
              "ticks": ""
             }
            },
            "type": "scatterpolargl"
           }
          ],
          "scatterternary": [
           {
            "marker": {
             "colorbar": {
              "outlinewidth": 0,
              "ticks": ""
             }
            },
            "type": "scatterternary"
           }
          ],
          "surface": [
           {
            "colorbar": {
             "outlinewidth": 0,
             "ticks": ""
            },
            "colorscale": [
             [
              0,
              "#0d0887"
             ],
             [
              0.1111111111111111,
              "#46039f"
             ],
             [
              0.2222222222222222,
              "#7201a8"
             ],
             [
              0.3333333333333333,
              "#9c179e"
             ],
             [
              0.4444444444444444,
              "#bd3786"
             ],
             [
              0.5555555555555556,
              "#d8576b"
             ],
             [
              0.6666666666666666,
              "#ed7953"
             ],
             [
              0.7777777777777778,
              "#fb9f3a"
             ],
             [
              0.8888888888888888,
              "#fdca26"
             ],
             [
              1,
              "#f0f921"
             ]
            ],
            "type": "surface"
           }
          ],
          "table": [
           {
            "cells": {
             "fill": {
              "color": "#EBF0F8"
             },
             "line": {
              "color": "white"
             }
            },
            "header": {
             "fill": {
              "color": "#C8D4E3"
             },
             "line": {
              "color": "white"
             }
            },
            "type": "table"
           }
          ]
         },
         "layout": {
          "annotationdefaults": {
           "arrowcolor": "#2a3f5f",
           "arrowhead": 0,
           "arrowwidth": 1
          },
          "autotypenumbers": "strict",
          "coloraxis": {
           "colorbar": {
            "outlinewidth": 0,
            "ticks": ""
           }
          },
          "colorscale": {
           "diverging": [
            [
             0,
             "#8e0152"
            ],
            [
             0.1,
             "#c51b7d"
            ],
            [
             0.2,
             "#de77ae"
            ],
            [
             0.3,
             "#f1b6da"
            ],
            [
             0.4,
             "#fde0ef"
            ],
            [
             0.5,
             "#f7f7f7"
            ],
            [
             0.6,
             "#e6f5d0"
            ],
            [
             0.7,
             "#b8e186"
            ],
            [
             0.8,
             "#7fbc41"
            ],
            [
             0.9,
             "#4d9221"
            ],
            [
             1,
             "#276419"
            ]
           ],
           "sequential": [
            [
             0,
             "#0d0887"
            ],
            [
             0.1111111111111111,
             "#46039f"
            ],
            [
             0.2222222222222222,
             "#7201a8"
            ],
            [
             0.3333333333333333,
             "#9c179e"
            ],
            [
             0.4444444444444444,
             "#bd3786"
            ],
            [
             0.5555555555555556,
             "#d8576b"
            ],
            [
             0.6666666666666666,
             "#ed7953"
            ],
            [
             0.7777777777777778,
             "#fb9f3a"
            ],
            [
             0.8888888888888888,
             "#fdca26"
            ],
            [
             1,
             "#f0f921"
            ]
           ],
           "sequentialminus": [
            [
             0,
             "#0d0887"
            ],
            [
             0.1111111111111111,
             "#46039f"
            ],
            [
             0.2222222222222222,
             "#7201a8"
            ],
            [
             0.3333333333333333,
             "#9c179e"
            ],
            [
             0.4444444444444444,
             "#bd3786"
            ],
            [
             0.5555555555555556,
             "#d8576b"
            ],
            [
             0.6666666666666666,
             "#ed7953"
            ],
            [
             0.7777777777777778,
             "#fb9f3a"
            ],
            [
             0.8888888888888888,
             "#fdca26"
            ],
            [
             1,
             "#f0f921"
            ]
           ]
          },
          "colorway": [
           "#636efa",
           "#EF553B",
           "#00cc96",
           "#ab63fa",
           "#FFA15A",
           "#19d3f3",
           "#FF6692",
           "#B6E880",
           "#FF97FF",
           "#FECB52"
          ],
          "font": {
           "color": "#2a3f5f"
          },
          "geo": {
           "bgcolor": "white",
           "lakecolor": "white",
           "landcolor": "#E5ECF6",
           "showlakes": true,
           "showland": true,
           "subunitcolor": "white"
          },
          "hoverlabel": {
           "align": "left"
          },
          "hovermode": "closest",
          "mapbox": {
           "style": "light"
          },
          "paper_bgcolor": "white",
          "plot_bgcolor": "#E5ECF6",
          "polar": {
           "angularaxis": {
            "gridcolor": "white",
            "linecolor": "white",
            "ticks": ""
           },
           "bgcolor": "#E5ECF6",
           "radialaxis": {
            "gridcolor": "white",
            "linecolor": "white",
            "ticks": ""
           }
          },
          "scene": {
           "xaxis": {
            "backgroundcolor": "#E5ECF6",
            "gridcolor": "white",
            "gridwidth": 2,
            "linecolor": "white",
            "showbackground": true,
            "ticks": "",
            "zerolinecolor": "white"
           },
           "yaxis": {
            "backgroundcolor": "#E5ECF6",
            "gridcolor": "white",
            "gridwidth": 2,
            "linecolor": "white",
            "showbackground": true,
            "ticks": "",
            "zerolinecolor": "white"
           },
           "zaxis": {
            "backgroundcolor": "#E5ECF6",
            "gridcolor": "white",
            "gridwidth": 2,
            "linecolor": "white",
            "showbackground": true,
            "ticks": "",
            "zerolinecolor": "white"
           }
          },
          "shapedefaults": {
           "line": {
            "color": "#2a3f5f"
           }
          },
          "ternary": {
           "aaxis": {
            "gridcolor": "white",
            "linecolor": "white",
            "ticks": ""
           },
           "baxis": {
            "gridcolor": "white",
            "linecolor": "white",
            "ticks": ""
           },
           "bgcolor": "#E5ECF6",
           "caxis": {
            "gridcolor": "white",
            "linecolor": "white",
            "ticks": ""
           }
          },
          "title": {
           "x": 0.05
          },
          "xaxis": {
           "automargin": true,
           "gridcolor": "white",
           "linecolor": "white",
           "ticks": "",
           "title": {
            "standoff": 15
           },
           "zerolinecolor": "white",
           "zerolinewidth": 2
          },
          "yaxis": {
           "automargin": true,
           "gridcolor": "white",
           "linecolor": "white",
           "ticks": "",
           "title": {
            "standoff": 15
           },
           "zerolinecolor": "white",
           "zerolinewidth": 2
          }
         }
        }
       }
      }
     },
     "metadata": {},
     "output_type": "display_data"
    }
   ],
   "source": [
    "\n",
    "fig = px.line(output, x=\"datetime\", y=\"MPO\", color=\"source\", title=\"MPO\")\n",
    "fig.update_layout(\n",
    "    xaxis_title=\"Hora\",\n",
    "    yaxis_title=\"Precio [COP/MWh]\",\n",
    "    # width=800,\n",
    "    # height=600,\n",
    "    # xaxis=dict(\n",
    "    #     dtick=3_600_000,\n",
    "    # ),\n",
    ")\n",
    "fig_2 = go.Figure()\n",
    "fig_2.add_traces(\n",
    "    fig.data\n",
    ")\n",
    "fig_2.show()"
   ]
  },
  {
   "cell_type": "code",
   "execution_count": 5,
   "metadata": {},
   "outputs": [],
   "source": [
    "output_unstacked = output.pivot(index=\"datetime\", columns=\"source\", values=\"MPO\")"
   ]
  },
  {
   "cell_type": "code",
   "execution_count": 6,
   "metadata": {},
   "outputs": [
    {
     "data": {
      "text/html": [
       "<div>\n",
       "<style scoped>\n",
       "    .dataframe tbody tr th:only-of-type {\n",
       "        vertical-align: middle;\n",
       "    }\n",
       "\n",
       "    .dataframe tbody tr th {\n",
       "        vertical-align: top;\n",
       "    }\n",
       "\n",
       "    .dataframe thead th {\n",
       "        text-align: right;\n",
       "    }\n",
       "</style>\n",
       "<table border=\"1\" class=\"dataframe\">\n",
       "  <thead>\n",
       "    <tr style=\"text-align: right;\">\n",
       "      <th></th>\n",
       "      <th>MAPE %</th>\n",
       "    </tr>\n",
       "  </thead>\n",
       "  <tbody>\n",
       "    <tr>\n",
       "      <th>2024-02-05</th>\n",
       "      <td>0.951882</td>\n",
       "    </tr>\n",
       "    <tr>\n",
       "      <th>2024-02-24</th>\n",
       "      <td>0.000000</td>\n",
       "    </tr>\n",
       "    <tr>\n",
       "      <th>2024-03-05</th>\n",
       "      <td>0.678621</td>\n",
       "    </tr>\n",
       "    <tr>\n",
       "      <th>2024-03-27</th>\n",
       "      <td>0.165161</td>\n",
       "    </tr>\n",
       "    <tr>\n",
       "      <th>2024-04-23</th>\n",
       "      <td>1.153555</td>\n",
       "    </tr>\n",
       "    <tr>\n",
       "      <th>2024-08-11</th>\n",
       "      <td>0.000000</td>\n",
       "    </tr>\n",
       "    <tr>\n",
       "      <th>2024-08-27</th>\n",
       "      <td>0.925559</td>\n",
       "    </tr>\n",
       "  </tbody>\n",
       "</table>\n",
       "</div>"
      ],
      "text/plain": [
       "              MAPE %\n",
       "2024-02-05  0.951882\n",
       "2024-02-24  0.000000\n",
       "2024-03-05  0.678621\n",
       "2024-03-27  0.165161\n",
       "2024-04-23  1.153555\n",
       "2024-08-11  0.000000\n",
       "2024-08-27  0.925559"
      ]
     },
     "execution_count": 6,
     "metadata": {},
     "output_type": "execute_result"
    }
   ],
   "source": [
    "# Group by days and apply the mean_absolute_percentage_error function\n",
    "grouped = output_unstacked.groupby(output_unstacked.index.date).apply(\n",
    "    lambda x: mean_absolute_percentage_error(y_pred=x[\"MPO preideal Modelo\"], y_true=x[\"MPO preideal XM\"])\n",
    ")\n",
    "\n",
    "# Convert the result to a DataFrame for better readability\n",
    "grouped_df = pd.DataFrame(grouped, columns=[\"MAPE %\"])\n",
    "grouped_df[\"MAPE %\"] = grouped_df[\"MAPE %\"] * 100\n",
    "grouped_df"
   ]
  },
  {
   "cell_type": "code",
   "execution_count": 7,
   "metadata": {},
   "outputs": [
    {
     "data": {
      "application/vnd.plotly.v1+json": {
       "config": {
        "plotlyServerURL": "https://plot.ly"
       },
       "data": [
        {
         "fill": "tozeroy",
         "mode": "none",
         "type": "scatter",
         "x": [
          "2024-02-05T00:00:00",
          "2024-02-05T01:00:00",
          "2024-02-05T02:00:00",
          "2024-02-05T03:00:00",
          "2024-02-05T04:00:00",
          "2024-02-05T05:00:00",
          "2024-02-05T06:00:00",
          "2024-02-05T07:00:00",
          "2024-02-05T08:00:00",
          "2024-02-05T09:00:00",
          "2024-02-05T10:00:00",
          "2024-02-05T11:00:00",
          "2024-02-05T12:00:00",
          "2024-02-05T13:00:00",
          "2024-02-05T14:00:00",
          "2024-02-05T15:00:00",
          "2024-02-05T16:00:00",
          "2024-02-05T17:00:00",
          "2024-02-05T18:00:00",
          "2024-02-05T19:00:00",
          "2024-02-05T20:00:00",
          "2024-02-05T21:00:00",
          "2024-02-05T22:00:00",
          "2024-02-05T23:00:00",
          "2024-02-24T00:00:00",
          "2024-02-24T01:00:00",
          "2024-02-24T02:00:00",
          "2024-02-24T03:00:00",
          "2024-02-24T04:00:00",
          "2024-02-24T05:00:00",
          "2024-02-24T06:00:00",
          "2024-02-24T07:00:00",
          "2024-02-24T08:00:00",
          "2024-02-24T09:00:00",
          "2024-02-24T10:00:00",
          "2024-02-24T11:00:00",
          "2024-02-24T12:00:00",
          "2024-02-24T13:00:00",
          "2024-02-24T14:00:00",
          "2024-02-24T15:00:00",
          "2024-02-24T16:00:00",
          "2024-02-24T17:00:00",
          "2024-02-24T18:00:00",
          "2024-02-24T19:00:00",
          "2024-02-24T20:00:00",
          "2024-02-24T21:00:00",
          "2024-02-24T22:00:00",
          "2024-02-24T23:00:00",
          "2024-03-05T00:00:00",
          "2024-03-05T01:00:00",
          "2024-03-05T02:00:00",
          "2024-03-05T03:00:00",
          "2024-03-05T04:00:00",
          "2024-03-05T05:00:00",
          "2024-03-05T06:00:00",
          "2024-03-05T07:00:00",
          "2024-03-05T08:00:00",
          "2024-03-05T09:00:00",
          "2024-03-05T10:00:00",
          "2024-03-05T11:00:00",
          "2024-03-05T12:00:00",
          "2024-03-05T13:00:00",
          "2024-03-05T14:00:00",
          "2024-03-05T15:00:00",
          "2024-03-05T16:00:00",
          "2024-03-05T17:00:00",
          "2024-03-05T18:00:00",
          "2024-03-05T19:00:00",
          "2024-03-05T20:00:00",
          "2024-03-05T21:00:00",
          "2024-03-05T22:00:00",
          "2024-03-05T23:00:00",
          "2024-03-27T00:00:00",
          "2024-03-27T01:00:00",
          "2024-03-27T02:00:00",
          "2024-03-27T03:00:00",
          "2024-03-27T04:00:00",
          "2024-03-27T05:00:00",
          "2024-03-27T06:00:00",
          "2024-03-27T07:00:00",
          "2024-03-27T08:00:00",
          "2024-03-27T09:00:00",
          "2024-03-27T10:00:00",
          "2024-03-27T11:00:00",
          "2024-03-27T12:00:00",
          "2024-03-27T13:00:00",
          "2024-03-27T14:00:00",
          "2024-03-27T15:00:00",
          "2024-03-27T16:00:00",
          "2024-03-27T17:00:00",
          "2024-03-27T18:00:00",
          "2024-03-27T19:00:00",
          "2024-03-27T20:00:00",
          "2024-03-27T21:00:00",
          "2024-03-27T22:00:00",
          "2024-03-27T23:00:00",
          "2024-04-23T00:00:00",
          "2024-04-23T01:00:00",
          "2024-04-23T02:00:00",
          "2024-04-23T03:00:00",
          "2024-04-23T04:00:00",
          "2024-04-23T05:00:00",
          "2024-04-23T06:00:00",
          "2024-04-23T07:00:00",
          "2024-04-23T08:00:00",
          "2024-04-23T09:00:00",
          "2024-04-23T10:00:00",
          "2024-04-23T11:00:00",
          "2024-04-23T12:00:00",
          "2024-04-23T13:00:00",
          "2024-04-23T14:00:00",
          "2024-04-23T15:00:00",
          "2024-04-23T16:00:00",
          "2024-04-23T17:00:00",
          "2024-04-23T18:00:00",
          "2024-04-23T19:00:00",
          "2024-04-23T20:00:00",
          "2024-04-23T21:00:00",
          "2024-04-23T22:00:00",
          "2024-04-23T23:00:00",
          "2024-08-11T00:00:00",
          "2024-08-11T01:00:00",
          "2024-08-11T02:00:00",
          "2024-08-11T03:00:00",
          "2024-08-11T04:00:00",
          "2024-08-11T05:00:00",
          "2024-08-11T06:00:00",
          "2024-08-11T07:00:00",
          "2024-08-11T08:00:00",
          "2024-08-11T09:00:00",
          "2024-08-11T10:00:00",
          "2024-08-11T11:00:00",
          "2024-08-11T12:00:00",
          "2024-08-11T13:00:00",
          "2024-08-11T14:00:00",
          "2024-08-11T15:00:00",
          "2024-08-11T16:00:00",
          "2024-08-11T17:00:00",
          "2024-08-11T18:00:00",
          "2024-08-11T19:00:00",
          "2024-08-11T20:00:00",
          "2024-08-11T21:00:00",
          "2024-08-11T22:00:00",
          "2024-08-11T23:00:00",
          "2024-08-27T00:00:00",
          "2024-08-27T01:00:00",
          "2024-08-27T02:00:00",
          "2024-08-27T03:00:00",
          "2024-08-27T04:00:00",
          "2024-08-27T05:00:00",
          "2024-08-27T06:00:00",
          "2024-08-27T07:00:00",
          "2024-08-27T08:00:00",
          "2024-08-27T09:00:00",
          "2024-08-27T10:00:00",
          "2024-08-27T11:00:00",
          "2024-08-27T12:00:00",
          "2024-08-27T13:00:00",
          "2024-08-27T14:00:00",
          "2024-08-27T15:00:00",
          "2024-08-27T16:00:00",
          "2024-08-27T17:00:00",
          "2024-08-27T18:00:00",
          "2024-08-27T19:00:00",
          "2024-08-27T20:00:00",
          "2024-08-27T21:00:00",
          "2024-08-27T22:00:00",
          "2024-08-27T23:00:00"
         ],
         "y": [
          0,
          0,
          -10329,
          -10329,
          0,
          0,
          0,
          0,
          0,
          0,
          0,
          0,
          0,
          0,
          0,
          0,
          0,
          0,
          0,
          0,
          0,
          0,
          0,
          0,
          0,
          0,
          0,
          0,
          0,
          0,
          0,
          0,
          0,
          0,
          0,
          0,
          0,
          0,
          0,
          0,
          0,
          0,
          0,
          0,
          0,
          0,
          0,
          0,
          0,
          0,
          0,
          0,
          0,
          0,
          0,
          0,
          0,
          0,
          0,
          0,
          0,
          0,
          0,
          0,
          0,
          0,
          0,
          0,
          0,
          0,
          0,
          0,
          0,
          0,
          0,
          0,
          0,
          0,
          0,
          0,
          0,
          0,
          0,
          0,
          0,
          0,
          0,
          0,
          0,
          0,
          0,
          0,
          0,
          0,
          0,
          0,
          0,
          -72680,
          -72680,
          -72680,
          -72680,
          -1291,
          -1291,
          -1291,
          0,
          0,
          0,
          0,
          0,
          0,
          0,
          0,
          0,
          0,
          15580.25,
          15580.25,
          15580.25,
          0,
          0,
          0,
          0,
          0,
          0,
          0,
          0,
          0,
          -22383,
          -144980,
          -145838,
          -144980,
          -69980,
          -22383,
          0,
          0,
          0,
          0,
          0,
          0,
          21000,
          21000,
          21000,
          0,
          0,
          0,
          0,
          0,
          0,
          -74413,
          0,
          0,
          0,
          0,
          0,
          0,
          0,
          0,
          0,
          0,
          0,
          0,
          0,
          0,
          5000,
          5000,
          5000,
          0,
          0,
          0
         ]
        }
       ],
       "layout": {
        "template": {
         "data": {
          "bar": [
           {
            "error_x": {
             "color": "#2a3f5f"
            },
            "error_y": {
             "color": "#2a3f5f"
            },
            "marker": {
             "line": {
              "color": "#E5ECF6",
              "width": 0.5
             },
             "pattern": {
              "fillmode": "overlay",
              "size": 10,
              "solidity": 0.2
             }
            },
            "type": "bar"
           }
          ],
          "barpolar": [
           {
            "marker": {
             "line": {
              "color": "#E5ECF6",
              "width": 0.5
             },
             "pattern": {
              "fillmode": "overlay",
              "size": 10,
              "solidity": 0.2
             }
            },
            "type": "barpolar"
           }
          ],
          "carpet": [
           {
            "aaxis": {
             "endlinecolor": "#2a3f5f",
             "gridcolor": "white",
             "linecolor": "white",
             "minorgridcolor": "white",
             "startlinecolor": "#2a3f5f"
            },
            "baxis": {
             "endlinecolor": "#2a3f5f",
             "gridcolor": "white",
             "linecolor": "white",
             "minorgridcolor": "white",
             "startlinecolor": "#2a3f5f"
            },
            "type": "carpet"
           }
          ],
          "choropleth": [
           {
            "colorbar": {
             "outlinewidth": 0,
             "ticks": ""
            },
            "type": "choropleth"
           }
          ],
          "contour": [
           {
            "colorbar": {
             "outlinewidth": 0,
             "ticks": ""
            },
            "colorscale": [
             [
              0,
              "#0d0887"
             ],
             [
              0.1111111111111111,
              "#46039f"
             ],
             [
              0.2222222222222222,
              "#7201a8"
             ],
             [
              0.3333333333333333,
              "#9c179e"
             ],
             [
              0.4444444444444444,
              "#bd3786"
             ],
             [
              0.5555555555555556,
              "#d8576b"
             ],
             [
              0.6666666666666666,
              "#ed7953"
             ],
             [
              0.7777777777777778,
              "#fb9f3a"
             ],
             [
              0.8888888888888888,
              "#fdca26"
             ],
             [
              1,
              "#f0f921"
             ]
            ],
            "type": "contour"
           }
          ],
          "contourcarpet": [
           {
            "colorbar": {
             "outlinewidth": 0,
             "ticks": ""
            },
            "type": "contourcarpet"
           }
          ],
          "heatmap": [
           {
            "colorbar": {
             "outlinewidth": 0,
             "ticks": ""
            },
            "colorscale": [
             [
              0,
              "#0d0887"
             ],
             [
              0.1111111111111111,
              "#46039f"
             ],
             [
              0.2222222222222222,
              "#7201a8"
             ],
             [
              0.3333333333333333,
              "#9c179e"
             ],
             [
              0.4444444444444444,
              "#bd3786"
             ],
             [
              0.5555555555555556,
              "#d8576b"
             ],
             [
              0.6666666666666666,
              "#ed7953"
             ],
             [
              0.7777777777777778,
              "#fb9f3a"
             ],
             [
              0.8888888888888888,
              "#fdca26"
             ],
             [
              1,
              "#f0f921"
             ]
            ],
            "type": "heatmap"
           }
          ],
          "heatmapgl": [
           {
            "colorbar": {
             "outlinewidth": 0,
             "ticks": ""
            },
            "colorscale": [
             [
              0,
              "#0d0887"
             ],
             [
              0.1111111111111111,
              "#46039f"
             ],
             [
              0.2222222222222222,
              "#7201a8"
             ],
             [
              0.3333333333333333,
              "#9c179e"
             ],
             [
              0.4444444444444444,
              "#bd3786"
             ],
             [
              0.5555555555555556,
              "#d8576b"
             ],
             [
              0.6666666666666666,
              "#ed7953"
             ],
             [
              0.7777777777777778,
              "#fb9f3a"
             ],
             [
              0.8888888888888888,
              "#fdca26"
             ],
             [
              1,
              "#f0f921"
             ]
            ],
            "type": "heatmapgl"
           }
          ],
          "histogram": [
           {
            "marker": {
             "pattern": {
              "fillmode": "overlay",
              "size": 10,
              "solidity": 0.2
             }
            },
            "type": "histogram"
           }
          ],
          "histogram2d": [
           {
            "colorbar": {
             "outlinewidth": 0,
             "ticks": ""
            },
            "colorscale": [
             [
              0,
              "#0d0887"
             ],
             [
              0.1111111111111111,
              "#46039f"
             ],
             [
              0.2222222222222222,
              "#7201a8"
             ],
             [
              0.3333333333333333,
              "#9c179e"
             ],
             [
              0.4444444444444444,
              "#bd3786"
             ],
             [
              0.5555555555555556,
              "#d8576b"
             ],
             [
              0.6666666666666666,
              "#ed7953"
             ],
             [
              0.7777777777777778,
              "#fb9f3a"
             ],
             [
              0.8888888888888888,
              "#fdca26"
             ],
             [
              1,
              "#f0f921"
             ]
            ],
            "type": "histogram2d"
           }
          ],
          "histogram2dcontour": [
           {
            "colorbar": {
             "outlinewidth": 0,
             "ticks": ""
            },
            "colorscale": [
             [
              0,
              "#0d0887"
             ],
             [
              0.1111111111111111,
              "#46039f"
             ],
             [
              0.2222222222222222,
              "#7201a8"
             ],
             [
              0.3333333333333333,
              "#9c179e"
             ],
             [
              0.4444444444444444,
              "#bd3786"
             ],
             [
              0.5555555555555556,
              "#d8576b"
             ],
             [
              0.6666666666666666,
              "#ed7953"
             ],
             [
              0.7777777777777778,
              "#fb9f3a"
             ],
             [
              0.8888888888888888,
              "#fdca26"
             ],
             [
              1,
              "#f0f921"
             ]
            ],
            "type": "histogram2dcontour"
           }
          ],
          "mesh3d": [
           {
            "colorbar": {
             "outlinewidth": 0,
             "ticks": ""
            },
            "type": "mesh3d"
           }
          ],
          "parcoords": [
           {
            "line": {
             "colorbar": {
              "outlinewidth": 0,
              "ticks": ""
             }
            },
            "type": "parcoords"
           }
          ],
          "pie": [
           {
            "automargin": true,
            "type": "pie"
           }
          ],
          "scatter": [
           {
            "fillpattern": {
             "fillmode": "overlay",
             "size": 10,
             "solidity": 0.2
            },
            "type": "scatter"
           }
          ],
          "scatter3d": [
           {
            "line": {
             "colorbar": {
              "outlinewidth": 0,
              "ticks": ""
             }
            },
            "marker": {
             "colorbar": {
              "outlinewidth": 0,
              "ticks": ""
             }
            },
            "type": "scatter3d"
           }
          ],
          "scattercarpet": [
           {
            "marker": {
             "colorbar": {
              "outlinewidth": 0,
              "ticks": ""
             }
            },
            "type": "scattercarpet"
           }
          ],
          "scattergeo": [
           {
            "marker": {
             "colorbar": {
              "outlinewidth": 0,
              "ticks": ""
             }
            },
            "type": "scattergeo"
           }
          ],
          "scattergl": [
           {
            "marker": {
             "colorbar": {
              "outlinewidth": 0,
              "ticks": ""
             }
            },
            "type": "scattergl"
           }
          ],
          "scattermapbox": [
           {
            "marker": {
             "colorbar": {
              "outlinewidth": 0,
              "ticks": ""
             }
            },
            "type": "scattermapbox"
           }
          ],
          "scatterpolar": [
           {
            "marker": {
             "colorbar": {
              "outlinewidth": 0,
              "ticks": ""
             }
            },
            "type": "scatterpolar"
           }
          ],
          "scatterpolargl": [
           {
            "marker": {
             "colorbar": {
              "outlinewidth": 0,
              "ticks": ""
             }
            },
            "type": "scatterpolargl"
           }
          ],
          "scatterternary": [
           {
            "marker": {
             "colorbar": {
              "outlinewidth": 0,
              "ticks": ""
             }
            },
            "type": "scatterternary"
           }
          ],
          "surface": [
           {
            "colorbar": {
             "outlinewidth": 0,
             "ticks": ""
            },
            "colorscale": [
             [
              0,
              "#0d0887"
             ],
             [
              0.1111111111111111,
              "#46039f"
             ],
             [
              0.2222222222222222,
              "#7201a8"
             ],
             [
              0.3333333333333333,
              "#9c179e"
             ],
             [
              0.4444444444444444,
              "#bd3786"
             ],
             [
              0.5555555555555556,
              "#d8576b"
             ],
             [
              0.6666666666666666,
              "#ed7953"
             ],
             [
              0.7777777777777778,
              "#fb9f3a"
             ],
             [
              0.8888888888888888,
              "#fdca26"
             ],
             [
              1,
              "#f0f921"
             ]
            ],
            "type": "surface"
           }
          ],
          "table": [
           {
            "cells": {
             "fill": {
              "color": "#EBF0F8"
             },
             "line": {
              "color": "white"
             }
            },
            "header": {
             "fill": {
              "color": "#C8D4E3"
             },
             "line": {
              "color": "white"
             }
            },
            "type": "table"
           }
          ]
         },
         "layout": {
          "annotationdefaults": {
           "arrowcolor": "#2a3f5f",
           "arrowhead": 0,
           "arrowwidth": 1
          },
          "autotypenumbers": "strict",
          "coloraxis": {
           "colorbar": {
            "outlinewidth": 0,
            "ticks": ""
           }
          },
          "colorscale": {
           "diverging": [
            [
             0,
             "#8e0152"
            ],
            [
             0.1,
             "#c51b7d"
            ],
            [
             0.2,
             "#de77ae"
            ],
            [
             0.3,
             "#f1b6da"
            ],
            [
             0.4,
             "#fde0ef"
            ],
            [
             0.5,
             "#f7f7f7"
            ],
            [
             0.6,
             "#e6f5d0"
            ],
            [
             0.7,
             "#b8e186"
            ],
            [
             0.8,
             "#7fbc41"
            ],
            [
             0.9,
             "#4d9221"
            ],
            [
             1,
             "#276419"
            ]
           ],
           "sequential": [
            [
             0,
             "#0d0887"
            ],
            [
             0.1111111111111111,
             "#46039f"
            ],
            [
             0.2222222222222222,
             "#7201a8"
            ],
            [
             0.3333333333333333,
             "#9c179e"
            ],
            [
             0.4444444444444444,
             "#bd3786"
            ],
            [
             0.5555555555555556,
             "#d8576b"
            ],
            [
             0.6666666666666666,
             "#ed7953"
            ],
            [
             0.7777777777777778,
             "#fb9f3a"
            ],
            [
             0.8888888888888888,
             "#fdca26"
            ],
            [
             1,
             "#f0f921"
            ]
           ],
           "sequentialminus": [
            [
             0,
             "#0d0887"
            ],
            [
             0.1111111111111111,
             "#46039f"
            ],
            [
             0.2222222222222222,
             "#7201a8"
            ],
            [
             0.3333333333333333,
             "#9c179e"
            ],
            [
             0.4444444444444444,
             "#bd3786"
            ],
            [
             0.5555555555555556,
             "#d8576b"
            ],
            [
             0.6666666666666666,
             "#ed7953"
            ],
            [
             0.7777777777777778,
             "#fb9f3a"
            ],
            [
             0.8888888888888888,
             "#fdca26"
            ],
            [
             1,
             "#f0f921"
            ]
           ]
          },
          "colorway": [
           "#636efa",
           "#EF553B",
           "#00cc96",
           "#ab63fa",
           "#FFA15A",
           "#19d3f3",
           "#FF6692",
           "#B6E880",
           "#FF97FF",
           "#FECB52"
          ],
          "font": {
           "color": "#2a3f5f"
          },
          "geo": {
           "bgcolor": "white",
           "lakecolor": "white",
           "landcolor": "#E5ECF6",
           "showlakes": true,
           "showland": true,
           "subunitcolor": "white"
          },
          "hoverlabel": {
           "align": "left"
          },
          "hovermode": "closest",
          "mapbox": {
           "style": "light"
          },
          "paper_bgcolor": "white",
          "plot_bgcolor": "#E5ECF6",
          "polar": {
           "angularaxis": {
            "gridcolor": "white",
            "linecolor": "white",
            "ticks": ""
           },
           "bgcolor": "#E5ECF6",
           "radialaxis": {
            "gridcolor": "white",
            "linecolor": "white",
            "ticks": ""
           }
          },
          "scene": {
           "xaxis": {
            "backgroundcolor": "#E5ECF6",
            "gridcolor": "white",
            "gridwidth": 2,
            "linecolor": "white",
            "showbackground": true,
            "ticks": "",
            "zerolinecolor": "white"
           },
           "yaxis": {
            "backgroundcolor": "#E5ECF6",
            "gridcolor": "white",
            "gridwidth": 2,
            "linecolor": "white",
            "showbackground": true,
            "ticks": "",
            "zerolinecolor": "white"
           },
           "zaxis": {
            "backgroundcolor": "#E5ECF6",
            "gridcolor": "white",
            "gridwidth": 2,
            "linecolor": "white",
            "showbackground": true,
            "ticks": "",
            "zerolinecolor": "white"
           }
          },
          "shapedefaults": {
           "line": {
            "color": "#2a3f5f"
           }
          },
          "ternary": {
           "aaxis": {
            "gridcolor": "white",
            "linecolor": "white",
            "ticks": ""
           },
           "baxis": {
            "gridcolor": "white",
            "linecolor": "white",
            "ticks": ""
           },
           "bgcolor": "#E5ECF6",
           "caxis": {
            "gridcolor": "white",
            "linecolor": "white",
            "ticks": ""
           }
          },
          "title": {
           "x": 0.05
          },
          "xaxis": {
           "automargin": true,
           "gridcolor": "white",
           "linecolor": "white",
           "ticks": "",
           "title": {
            "standoff": 15
           },
           "zerolinecolor": "white",
           "zerolinewidth": 2
          },
          "yaxis": {
           "automargin": true,
           "gridcolor": "white",
           "linecolor": "white",
           "ticks": "",
           "title": {
            "standoff": 15
           },
           "zerolinecolor": "white",
           "zerolinewidth": 2
          }
         }
        },
        "title": {
         "text": "Difference between MPO preideal Modelo and MPO bess_preideal Modelo"
        },
        "xaxis": {
         "title": {
          "text": "Datetime"
         }
        },
        "yaxis": {
         "title": {
          "text": "Difference [COP/MWh]"
         }
        }
       }
      }
     },
     "metadata": {},
     "output_type": "display_data"
    }
   ],
   "source": [
    "# Calculate the difference between the two columns\n",
    "output_unstacked['Difference'] = output_unstacked['MPO preideal Modelo'] - output_unstacked['MPO bess_preideal_resource Modelo']\n",
    "\n",
    "# Create an area plot with Plotly\n",
    "fig = go.Figure()\n",
    "fig.add_trace(go.Scatter(\n",
    "    x=output_unstacked.index,\n",
    "    y=output_unstacked['Difference'],\n",
    "    fill='tozeroy',\n",
    "    mode='none'  # No markers or lines\n",
    "))\n",
    "\n",
    "fig.update_layout(\n",
    "    title='Difference between MPO preideal Modelo and MPO bess_preideal Modelo',\n",
    "    xaxis_title='Datetime',\n",
    "    yaxis_title='Difference [COP/MWh]'\n",
    ")\n",
    "\n",
    "fig.show()"
   ]
  },
  {
   "cell_type": "code",
   "execution_count": 8,
   "metadata": {},
   "outputs": [
    {
     "data": {
      "application/vnd.plotly.v1+json": {
       "config": {
        "plotlyServerURL": "https://plot.ly"
       },
       "data": [
        {
         "mode": "lines",
         "name": "MPO preideal Modelo",
         "type": "scatter",
         "x": [
          "2024-02-05T00:00:00",
          "2024-02-05T01:00:00",
          "2024-02-05T02:00:00",
          "2024-02-05T03:00:00",
          "2024-02-05T04:00:00",
          "2024-02-05T05:00:00",
          "2024-02-05T06:00:00",
          "2024-02-05T07:00:00",
          "2024-02-05T08:00:00",
          "2024-02-05T09:00:00",
          "2024-02-05T10:00:00",
          "2024-02-05T11:00:00",
          "2024-02-05T12:00:00",
          "2024-02-05T13:00:00",
          "2024-02-05T14:00:00",
          "2024-02-05T15:00:00",
          "2024-02-05T16:00:00",
          "2024-02-05T17:00:00",
          "2024-02-05T18:00:00",
          "2024-02-05T19:00:00",
          "2024-02-05T20:00:00",
          "2024-02-05T21:00:00",
          "2024-02-05T22:00:00",
          "2024-02-05T23:00:00",
          "2024-02-24T00:00:00",
          "2024-02-24T01:00:00",
          "2024-02-24T02:00:00",
          "2024-02-24T03:00:00",
          "2024-02-24T04:00:00",
          "2024-02-24T05:00:00",
          "2024-02-24T06:00:00",
          "2024-02-24T07:00:00",
          "2024-02-24T08:00:00",
          "2024-02-24T09:00:00",
          "2024-02-24T10:00:00",
          "2024-02-24T11:00:00",
          "2024-02-24T12:00:00",
          "2024-02-24T13:00:00",
          "2024-02-24T14:00:00",
          "2024-02-24T15:00:00",
          "2024-02-24T16:00:00",
          "2024-02-24T17:00:00",
          "2024-02-24T18:00:00",
          "2024-02-24T19:00:00",
          "2024-02-24T20:00:00",
          "2024-02-24T21:00:00",
          "2024-02-24T22:00:00",
          "2024-02-24T23:00:00",
          "2024-03-05T00:00:00",
          "2024-03-05T01:00:00",
          "2024-03-05T02:00:00",
          "2024-03-05T03:00:00",
          "2024-03-05T04:00:00",
          "2024-03-05T05:00:00",
          "2024-03-05T06:00:00",
          "2024-03-05T07:00:00",
          "2024-03-05T08:00:00",
          "2024-03-05T09:00:00",
          "2024-03-05T10:00:00",
          "2024-03-05T11:00:00",
          "2024-03-05T12:00:00",
          "2024-03-05T13:00:00",
          "2024-03-05T14:00:00",
          "2024-03-05T15:00:00",
          "2024-03-05T16:00:00",
          "2024-03-05T17:00:00",
          "2024-03-05T18:00:00",
          "2024-03-05T19:00:00",
          "2024-03-05T20:00:00",
          "2024-03-05T21:00:00",
          "2024-03-05T22:00:00",
          "2024-03-05T23:00:00",
          "2024-03-27T00:00:00",
          "2024-03-27T01:00:00",
          "2024-03-27T02:00:00",
          "2024-03-27T03:00:00",
          "2024-03-27T04:00:00",
          "2024-03-27T05:00:00",
          "2024-03-27T06:00:00",
          "2024-03-27T07:00:00",
          "2024-03-27T08:00:00",
          "2024-03-27T09:00:00",
          "2024-03-27T10:00:00",
          "2024-03-27T11:00:00",
          "2024-03-27T12:00:00",
          "2024-03-27T13:00:00",
          "2024-03-27T14:00:00",
          "2024-03-27T15:00:00",
          "2024-03-27T16:00:00",
          "2024-03-27T17:00:00",
          "2024-03-27T18:00:00",
          "2024-03-27T19:00:00",
          "2024-03-27T20:00:00",
          "2024-03-27T21:00:00",
          "2024-03-27T22:00:00",
          "2024-03-27T23:00:00",
          "2024-04-23T00:00:00",
          "2024-04-23T01:00:00",
          "2024-04-23T02:00:00",
          "2024-04-23T03:00:00",
          "2024-04-23T04:00:00",
          "2024-04-23T05:00:00",
          "2024-04-23T06:00:00",
          "2024-04-23T07:00:00",
          "2024-04-23T08:00:00",
          "2024-04-23T09:00:00",
          "2024-04-23T10:00:00",
          "2024-04-23T11:00:00",
          "2024-04-23T12:00:00",
          "2024-04-23T13:00:00",
          "2024-04-23T14:00:00",
          "2024-04-23T15:00:00",
          "2024-04-23T16:00:00",
          "2024-04-23T17:00:00",
          "2024-04-23T18:00:00",
          "2024-04-23T19:00:00",
          "2024-04-23T20:00:00",
          "2024-04-23T21:00:00",
          "2024-04-23T22:00:00",
          "2024-04-23T23:00:00",
          "2024-08-11T00:00:00",
          "2024-08-11T01:00:00",
          "2024-08-11T02:00:00",
          "2024-08-11T03:00:00",
          "2024-08-11T04:00:00",
          "2024-08-11T05:00:00",
          "2024-08-11T06:00:00",
          "2024-08-11T07:00:00",
          "2024-08-11T08:00:00",
          "2024-08-11T09:00:00",
          "2024-08-11T10:00:00",
          "2024-08-11T11:00:00",
          "2024-08-11T12:00:00",
          "2024-08-11T13:00:00",
          "2024-08-11T14:00:00",
          "2024-08-11T15:00:00",
          "2024-08-11T16:00:00",
          "2024-08-11T17:00:00",
          "2024-08-11T18:00:00",
          "2024-08-11T19:00:00",
          "2024-08-11T20:00:00",
          "2024-08-11T21:00:00",
          "2024-08-11T22:00:00",
          "2024-08-11T23:00:00",
          "2024-08-27T00:00:00",
          "2024-08-27T01:00:00",
          "2024-08-27T02:00:00",
          "2024-08-27T03:00:00",
          "2024-08-27T04:00:00",
          "2024-08-27T05:00:00",
          "2024-08-27T06:00:00",
          "2024-08-27T07:00:00",
          "2024-08-27T08:00:00",
          "2024-08-27T09:00:00",
          "2024-08-27T10:00:00",
          "2024-08-27T11:00:00",
          "2024-08-27T12:00:00",
          "2024-08-27T13:00:00",
          "2024-08-27T14:00:00",
          "2024-08-27T15:00:00",
          "2024-08-27T16:00:00",
          "2024-08-27T17:00:00",
          "2024-08-27T18:00:00",
          "2024-08-27T19:00:00",
          "2024-08-27T20:00:00",
          "2024-08-27T21:00:00",
          "2024-08-27T22:00:00",
          "2024-08-27T23:00:00"
         ],
         "y": [
          611993,
          611993,
          545331,
          545331,
          611993,
          611993,
          611993,
          611993,
          634000,
          634000,
          639000,
          639000,
          639000,
          639000,
          639000,
          639000,
          639000,
          640500,
          686000,
          686000,
          686000,
          640500,
          639000,
          634000,
          580000,
          555000,
          555000,
          540000,
          540000,
          555000,
          555000,
          555000,
          555000,
          555000,
          580000,
          580000,
          580000,
          580000,
          580000,
          580000,
          590000,
          590000,
          605000,
          605000,
          605000,
          590000,
          590000,
          580000,
          513720,
          500000,
          500000,
          481000,
          500000,
          513720,
          513720,
          513720,
          513720,
          513720,
          513720,
          540000,
          513720,
          540000,
          540000,
          545000,
          540000,
          540000,
          564678,
          564678,
          564678,
          540000,
          520990,
          513720,
          990000,
          982718,
          860000,
          860000,
          860000,
          860000,
          860000,
          860000,
          860000,
          860000,
          860000,
          860000,
          860000,
          860000,
          982718,
          990000,
          990000,
          990000,
          1010000,
          1010000,
          1010000,
          990000,
          860000,
          860000,
          473380,
          400700,
          400700,
          400700,
          400700,
          472089,
          472089,
          472089,
          473380,
          473380,
          473380,
          479286,
          479286,
          496316,
          496316,
          496316,
          525000,
          496316,
          600000,
          600000,
          600000,
          496316,
          496316,
          473380,
          530000,
          530000,
          435518,
          413457,
          377000,
          255110,
          217597,
          95000,
          94142,
          95000,
          170000,
          217597,
          239980,
          255110,
          315000,
          413457,
          530000,
          550000,
          571000,
          571000,
          571000,
          550000,
          550000,
          550000,
          550000,
          510000,
          510000,
          435587,
          510000,
          510000,
          510000,
          510000,
          510000,
          550000,
          550000,
          550000,
          550000,
          550000,
          550000,
          550000,
          579900,
          594057,
          635000,
          635000,
          635000,
          630000,
          594057,
          550000
         ]
        },
        {
         "fill": "tonexty",
         "line": {
          "color": "green"
         },
         "mode": "lines",
         "name": "MPO bess_preideal Modelo",
         "type": "scatter",
         "x": [
          "2024-02-05T00:00:00",
          "2024-02-05T01:00:00",
          "2024-02-05T02:00:00",
          "2024-02-05T03:00:00",
          "2024-02-05T04:00:00",
          "2024-02-05T05:00:00",
          "2024-02-05T06:00:00",
          "2024-02-05T07:00:00",
          "2024-02-05T08:00:00",
          "2024-02-05T09:00:00",
          "2024-02-05T10:00:00",
          "2024-02-05T11:00:00",
          "2024-02-05T12:00:00",
          "2024-02-05T13:00:00",
          "2024-02-05T14:00:00",
          "2024-02-05T15:00:00",
          "2024-02-05T16:00:00",
          "2024-02-05T17:00:00",
          "2024-02-05T18:00:00",
          "2024-02-05T19:00:00",
          "2024-02-05T20:00:00",
          "2024-02-05T21:00:00",
          "2024-02-05T22:00:00",
          "2024-02-05T23:00:00",
          "2024-02-24T00:00:00",
          "2024-02-24T01:00:00",
          "2024-02-24T02:00:00",
          "2024-02-24T03:00:00",
          "2024-02-24T04:00:00",
          "2024-02-24T05:00:00",
          "2024-02-24T06:00:00",
          "2024-02-24T07:00:00",
          "2024-02-24T08:00:00",
          "2024-02-24T09:00:00",
          "2024-02-24T10:00:00",
          "2024-02-24T11:00:00",
          "2024-02-24T12:00:00",
          "2024-02-24T13:00:00",
          "2024-02-24T14:00:00",
          "2024-02-24T15:00:00",
          "2024-02-24T16:00:00",
          "2024-02-24T17:00:00",
          "2024-02-24T18:00:00",
          "2024-02-24T19:00:00",
          "2024-02-24T20:00:00",
          "2024-02-24T21:00:00",
          "2024-02-24T22:00:00",
          "2024-02-24T23:00:00",
          "2024-03-05T00:00:00",
          "2024-03-05T01:00:00",
          "2024-03-05T02:00:00",
          "2024-03-05T03:00:00",
          "2024-03-05T04:00:00",
          "2024-03-05T05:00:00",
          "2024-03-05T06:00:00",
          "2024-03-05T07:00:00",
          "2024-03-05T08:00:00",
          "2024-03-05T09:00:00",
          "2024-03-05T10:00:00",
          "2024-03-05T11:00:00",
          "2024-03-05T12:00:00",
          "2024-03-05T13:00:00",
          "2024-03-05T14:00:00",
          "2024-03-05T15:00:00",
          "2024-03-05T16:00:00",
          "2024-03-05T17:00:00",
          "2024-03-05T18:00:00",
          "2024-03-05T19:00:00",
          "2024-03-05T20:00:00",
          "2024-03-05T21:00:00",
          "2024-03-05T22:00:00",
          "2024-03-05T23:00:00",
          "2024-03-27T00:00:00",
          "2024-03-27T01:00:00",
          "2024-03-27T02:00:00",
          "2024-03-27T03:00:00",
          "2024-03-27T04:00:00",
          "2024-03-27T05:00:00",
          "2024-03-27T06:00:00",
          "2024-03-27T07:00:00",
          "2024-03-27T08:00:00",
          "2024-03-27T09:00:00",
          "2024-03-27T10:00:00",
          "2024-03-27T11:00:00",
          "2024-03-27T12:00:00",
          "2024-03-27T13:00:00",
          "2024-03-27T14:00:00",
          "2024-03-27T15:00:00",
          "2024-03-27T16:00:00",
          "2024-03-27T17:00:00",
          "2024-03-27T18:00:00",
          "2024-03-27T19:00:00",
          "2024-03-27T20:00:00",
          "2024-03-27T21:00:00",
          "2024-03-27T22:00:00",
          "2024-03-27T23:00:00",
          "2024-04-23T00:00:00",
          "2024-04-23T01:00:00",
          "2024-04-23T02:00:00",
          "2024-04-23T03:00:00",
          "2024-04-23T04:00:00",
          "2024-04-23T05:00:00",
          "2024-04-23T06:00:00",
          "2024-04-23T07:00:00",
          "2024-04-23T08:00:00",
          "2024-04-23T09:00:00",
          "2024-04-23T10:00:00",
          "2024-04-23T11:00:00",
          "2024-04-23T12:00:00",
          "2024-04-23T13:00:00",
          "2024-04-23T14:00:00",
          "2024-04-23T15:00:00",
          "2024-04-23T16:00:00",
          "2024-04-23T17:00:00",
          "2024-04-23T18:00:00",
          "2024-04-23T19:00:00",
          "2024-04-23T20:00:00",
          "2024-04-23T21:00:00",
          "2024-04-23T22:00:00",
          "2024-04-23T23:00:00",
          "2024-08-11T00:00:00",
          "2024-08-11T01:00:00",
          "2024-08-11T02:00:00",
          "2024-08-11T03:00:00",
          "2024-08-11T04:00:00",
          "2024-08-11T05:00:00",
          "2024-08-11T06:00:00",
          "2024-08-11T07:00:00",
          "2024-08-11T08:00:00",
          "2024-08-11T09:00:00",
          "2024-08-11T10:00:00",
          "2024-08-11T11:00:00",
          "2024-08-11T12:00:00",
          "2024-08-11T13:00:00",
          "2024-08-11T14:00:00",
          "2024-08-11T15:00:00",
          "2024-08-11T16:00:00",
          "2024-08-11T17:00:00",
          "2024-08-11T18:00:00",
          "2024-08-11T19:00:00",
          "2024-08-11T20:00:00",
          "2024-08-11T21:00:00",
          "2024-08-11T22:00:00",
          "2024-08-11T23:00:00",
          "2024-08-27T00:00:00",
          "2024-08-27T01:00:00",
          "2024-08-27T02:00:00",
          "2024-08-27T03:00:00",
          "2024-08-27T04:00:00",
          "2024-08-27T05:00:00",
          "2024-08-27T06:00:00",
          "2024-08-27T07:00:00",
          "2024-08-27T08:00:00",
          "2024-08-27T09:00:00",
          "2024-08-27T10:00:00",
          "2024-08-27T11:00:00",
          "2024-08-27T12:00:00",
          "2024-08-27T13:00:00",
          "2024-08-27T14:00:00",
          "2024-08-27T15:00:00",
          "2024-08-27T16:00:00",
          "2024-08-27T17:00:00",
          "2024-08-27T18:00:00",
          "2024-08-27T19:00:00",
          "2024-08-27T20:00:00",
          "2024-08-27T21:00:00",
          "2024-08-27T22:00:00",
          "2024-08-27T23:00:00"
         ],
         "y": [
          611993,
          611993,
          555660,
          555660,
          611993,
          611993,
          611993,
          611993,
          634000,
          634000,
          639000,
          639000,
          639000,
          639000,
          639000,
          639000,
          639000,
          640500,
          686000,
          686000,
          686000,
          640500,
          639000,
          634000,
          580000,
          555000,
          555000,
          540000,
          540000,
          555000,
          555000,
          555000,
          555000,
          555000,
          580000,
          580000,
          580000,
          580000,
          580000,
          580000,
          590000,
          590000,
          605000,
          605000,
          605000,
          590000,
          590000,
          580000,
          513720,
          500000,
          500000,
          481000,
          500000,
          513720,
          513720,
          513720,
          513720,
          513720,
          513720,
          540000,
          513720,
          540000,
          540000,
          545000,
          540000,
          540000,
          564678,
          564678,
          564678,
          540000,
          520990,
          513720,
          990000,
          982718,
          860000,
          860000,
          860000,
          860000,
          860000,
          860000,
          860000,
          860000,
          860000,
          860000,
          860000,
          860000,
          982718,
          990000,
          990000,
          990000,
          1010000,
          1010000,
          1010000,
          990000,
          860000,
          860000,
          473380,
          473380,
          473380,
          473380,
          473380,
          473380,
          473380,
          473380,
          473380,
          473380,
          473380,
          479286,
          479286,
          496316,
          496316,
          496316,
          525000,
          496316,
          584419.75,
          584419.75,
          584419.75,
          496316,
          496316,
          473380,
          530000,
          530000,
          435518,
          413457,
          377000,
          255110,
          239980,
          239980,
          239980,
          239980,
          239980,
          239980,
          239980,
          255110,
          315000,
          413457,
          530000,
          550000,
          550000,
          550000,
          550000,
          550000,
          550000,
          550000,
          550000,
          510000,
          510000,
          510000,
          510000,
          510000,
          510000,
          510000,
          510000,
          550000,
          550000,
          550000,
          550000,
          550000,
          550000,
          550000,
          579900,
          594057,
          630000,
          630000,
          630000,
          630000,
          594057,
          550000
         ]
        }
       ],
       "layout": {
        "legend": {
         "title": {
          "text": "Legend"
         }
        },
        "template": {
         "data": {
          "bar": [
           {
            "error_x": {
             "color": "#2a3f5f"
            },
            "error_y": {
             "color": "#2a3f5f"
            },
            "marker": {
             "line": {
              "color": "#E5ECF6",
              "width": 0.5
             },
             "pattern": {
              "fillmode": "overlay",
              "size": 10,
              "solidity": 0.2
             }
            },
            "type": "bar"
           }
          ],
          "barpolar": [
           {
            "marker": {
             "line": {
              "color": "#E5ECF6",
              "width": 0.5
             },
             "pattern": {
              "fillmode": "overlay",
              "size": 10,
              "solidity": 0.2
             }
            },
            "type": "barpolar"
           }
          ],
          "carpet": [
           {
            "aaxis": {
             "endlinecolor": "#2a3f5f",
             "gridcolor": "white",
             "linecolor": "white",
             "minorgridcolor": "white",
             "startlinecolor": "#2a3f5f"
            },
            "baxis": {
             "endlinecolor": "#2a3f5f",
             "gridcolor": "white",
             "linecolor": "white",
             "minorgridcolor": "white",
             "startlinecolor": "#2a3f5f"
            },
            "type": "carpet"
           }
          ],
          "choropleth": [
           {
            "colorbar": {
             "outlinewidth": 0,
             "ticks": ""
            },
            "type": "choropleth"
           }
          ],
          "contour": [
           {
            "colorbar": {
             "outlinewidth": 0,
             "ticks": ""
            },
            "colorscale": [
             [
              0,
              "#0d0887"
             ],
             [
              0.1111111111111111,
              "#46039f"
             ],
             [
              0.2222222222222222,
              "#7201a8"
             ],
             [
              0.3333333333333333,
              "#9c179e"
             ],
             [
              0.4444444444444444,
              "#bd3786"
             ],
             [
              0.5555555555555556,
              "#d8576b"
             ],
             [
              0.6666666666666666,
              "#ed7953"
             ],
             [
              0.7777777777777778,
              "#fb9f3a"
             ],
             [
              0.8888888888888888,
              "#fdca26"
             ],
             [
              1,
              "#f0f921"
             ]
            ],
            "type": "contour"
           }
          ],
          "contourcarpet": [
           {
            "colorbar": {
             "outlinewidth": 0,
             "ticks": ""
            },
            "type": "contourcarpet"
           }
          ],
          "heatmap": [
           {
            "colorbar": {
             "outlinewidth": 0,
             "ticks": ""
            },
            "colorscale": [
             [
              0,
              "#0d0887"
             ],
             [
              0.1111111111111111,
              "#46039f"
             ],
             [
              0.2222222222222222,
              "#7201a8"
             ],
             [
              0.3333333333333333,
              "#9c179e"
             ],
             [
              0.4444444444444444,
              "#bd3786"
             ],
             [
              0.5555555555555556,
              "#d8576b"
             ],
             [
              0.6666666666666666,
              "#ed7953"
             ],
             [
              0.7777777777777778,
              "#fb9f3a"
             ],
             [
              0.8888888888888888,
              "#fdca26"
             ],
             [
              1,
              "#f0f921"
             ]
            ],
            "type": "heatmap"
           }
          ],
          "heatmapgl": [
           {
            "colorbar": {
             "outlinewidth": 0,
             "ticks": ""
            },
            "colorscale": [
             [
              0,
              "#0d0887"
             ],
             [
              0.1111111111111111,
              "#46039f"
             ],
             [
              0.2222222222222222,
              "#7201a8"
             ],
             [
              0.3333333333333333,
              "#9c179e"
             ],
             [
              0.4444444444444444,
              "#bd3786"
             ],
             [
              0.5555555555555556,
              "#d8576b"
             ],
             [
              0.6666666666666666,
              "#ed7953"
             ],
             [
              0.7777777777777778,
              "#fb9f3a"
             ],
             [
              0.8888888888888888,
              "#fdca26"
             ],
             [
              1,
              "#f0f921"
             ]
            ],
            "type": "heatmapgl"
           }
          ],
          "histogram": [
           {
            "marker": {
             "pattern": {
              "fillmode": "overlay",
              "size": 10,
              "solidity": 0.2
             }
            },
            "type": "histogram"
           }
          ],
          "histogram2d": [
           {
            "colorbar": {
             "outlinewidth": 0,
             "ticks": ""
            },
            "colorscale": [
             [
              0,
              "#0d0887"
             ],
             [
              0.1111111111111111,
              "#46039f"
             ],
             [
              0.2222222222222222,
              "#7201a8"
             ],
             [
              0.3333333333333333,
              "#9c179e"
             ],
             [
              0.4444444444444444,
              "#bd3786"
             ],
             [
              0.5555555555555556,
              "#d8576b"
             ],
             [
              0.6666666666666666,
              "#ed7953"
             ],
             [
              0.7777777777777778,
              "#fb9f3a"
             ],
             [
              0.8888888888888888,
              "#fdca26"
             ],
             [
              1,
              "#f0f921"
             ]
            ],
            "type": "histogram2d"
           }
          ],
          "histogram2dcontour": [
           {
            "colorbar": {
             "outlinewidth": 0,
             "ticks": ""
            },
            "colorscale": [
             [
              0,
              "#0d0887"
             ],
             [
              0.1111111111111111,
              "#46039f"
             ],
             [
              0.2222222222222222,
              "#7201a8"
             ],
             [
              0.3333333333333333,
              "#9c179e"
             ],
             [
              0.4444444444444444,
              "#bd3786"
             ],
             [
              0.5555555555555556,
              "#d8576b"
             ],
             [
              0.6666666666666666,
              "#ed7953"
             ],
             [
              0.7777777777777778,
              "#fb9f3a"
             ],
             [
              0.8888888888888888,
              "#fdca26"
             ],
             [
              1,
              "#f0f921"
             ]
            ],
            "type": "histogram2dcontour"
           }
          ],
          "mesh3d": [
           {
            "colorbar": {
             "outlinewidth": 0,
             "ticks": ""
            },
            "type": "mesh3d"
           }
          ],
          "parcoords": [
           {
            "line": {
             "colorbar": {
              "outlinewidth": 0,
              "ticks": ""
             }
            },
            "type": "parcoords"
           }
          ],
          "pie": [
           {
            "automargin": true,
            "type": "pie"
           }
          ],
          "scatter": [
           {
            "fillpattern": {
             "fillmode": "overlay",
             "size": 10,
             "solidity": 0.2
            },
            "type": "scatter"
           }
          ],
          "scatter3d": [
           {
            "line": {
             "colorbar": {
              "outlinewidth": 0,
              "ticks": ""
             }
            },
            "marker": {
             "colorbar": {
              "outlinewidth": 0,
              "ticks": ""
             }
            },
            "type": "scatter3d"
           }
          ],
          "scattercarpet": [
           {
            "marker": {
             "colorbar": {
              "outlinewidth": 0,
              "ticks": ""
             }
            },
            "type": "scattercarpet"
           }
          ],
          "scattergeo": [
           {
            "marker": {
             "colorbar": {
              "outlinewidth": 0,
              "ticks": ""
             }
            },
            "type": "scattergeo"
           }
          ],
          "scattergl": [
           {
            "marker": {
             "colorbar": {
              "outlinewidth": 0,
              "ticks": ""
             }
            },
            "type": "scattergl"
           }
          ],
          "scattermapbox": [
           {
            "marker": {
             "colorbar": {
              "outlinewidth": 0,
              "ticks": ""
             }
            },
            "type": "scattermapbox"
           }
          ],
          "scatterpolar": [
           {
            "marker": {
             "colorbar": {
              "outlinewidth": 0,
              "ticks": ""
             }
            },
            "type": "scatterpolar"
           }
          ],
          "scatterpolargl": [
           {
            "marker": {
             "colorbar": {
              "outlinewidth": 0,
              "ticks": ""
             }
            },
            "type": "scatterpolargl"
           }
          ],
          "scatterternary": [
           {
            "marker": {
             "colorbar": {
              "outlinewidth": 0,
              "ticks": ""
             }
            },
            "type": "scatterternary"
           }
          ],
          "surface": [
           {
            "colorbar": {
             "outlinewidth": 0,
             "ticks": ""
            },
            "colorscale": [
             [
              0,
              "#0d0887"
             ],
             [
              0.1111111111111111,
              "#46039f"
             ],
             [
              0.2222222222222222,
              "#7201a8"
             ],
             [
              0.3333333333333333,
              "#9c179e"
             ],
             [
              0.4444444444444444,
              "#bd3786"
             ],
             [
              0.5555555555555556,
              "#d8576b"
             ],
             [
              0.6666666666666666,
              "#ed7953"
             ],
             [
              0.7777777777777778,
              "#fb9f3a"
             ],
             [
              0.8888888888888888,
              "#fdca26"
             ],
             [
              1,
              "#f0f921"
             ]
            ],
            "type": "surface"
           }
          ],
          "table": [
           {
            "cells": {
             "fill": {
              "color": "#EBF0F8"
             },
             "line": {
              "color": "white"
             }
            },
            "header": {
             "fill": {
              "color": "#C8D4E3"
             },
             "line": {
              "color": "white"
             }
            },
            "type": "table"
           }
          ]
         },
         "layout": {
          "annotationdefaults": {
           "arrowcolor": "#2a3f5f",
           "arrowhead": 0,
           "arrowwidth": 1
          },
          "autotypenumbers": "strict",
          "coloraxis": {
           "colorbar": {
            "outlinewidth": 0,
            "ticks": ""
           }
          },
          "colorscale": {
           "diverging": [
            [
             0,
             "#8e0152"
            ],
            [
             0.1,
             "#c51b7d"
            ],
            [
             0.2,
             "#de77ae"
            ],
            [
             0.3,
             "#f1b6da"
            ],
            [
             0.4,
             "#fde0ef"
            ],
            [
             0.5,
             "#f7f7f7"
            ],
            [
             0.6,
             "#e6f5d0"
            ],
            [
             0.7,
             "#b8e186"
            ],
            [
             0.8,
             "#7fbc41"
            ],
            [
             0.9,
             "#4d9221"
            ],
            [
             1,
             "#276419"
            ]
           ],
           "sequential": [
            [
             0,
             "#0d0887"
            ],
            [
             0.1111111111111111,
             "#46039f"
            ],
            [
             0.2222222222222222,
             "#7201a8"
            ],
            [
             0.3333333333333333,
             "#9c179e"
            ],
            [
             0.4444444444444444,
             "#bd3786"
            ],
            [
             0.5555555555555556,
             "#d8576b"
            ],
            [
             0.6666666666666666,
             "#ed7953"
            ],
            [
             0.7777777777777778,
             "#fb9f3a"
            ],
            [
             0.8888888888888888,
             "#fdca26"
            ],
            [
             1,
             "#f0f921"
            ]
           ],
           "sequentialminus": [
            [
             0,
             "#0d0887"
            ],
            [
             0.1111111111111111,
             "#46039f"
            ],
            [
             0.2222222222222222,
             "#7201a8"
            ],
            [
             0.3333333333333333,
             "#9c179e"
            ],
            [
             0.4444444444444444,
             "#bd3786"
            ],
            [
             0.5555555555555556,
             "#d8576b"
            ],
            [
             0.6666666666666666,
             "#ed7953"
            ],
            [
             0.7777777777777778,
             "#fb9f3a"
            ],
            [
             0.8888888888888888,
             "#fdca26"
            ],
            [
             1,
             "#f0f921"
            ]
           ]
          },
          "colorway": [
           "#636efa",
           "#EF553B",
           "#00cc96",
           "#ab63fa",
           "#FFA15A",
           "#19d3f3",
           "#FF6692",
           "#B6E880",
           "#FF97FF",
           "#FECB52"
          ],
          "font": {
           "color": "#2a3f5f"
          },
          "geo": {
           "bgcolor": "white",
           "lakecolor": "white",
           "landcolor": "#E5ECF6",
           "showlakes": true,
           "showland": true,
           "subunitcolor": "white"
          },
          "hoverlabel": {
           "align": "left"
          },
          "hovermode": "closest",
          "mapbox": {
           "style": "light"
          },
          "paper_bgcolor": "white",
          "plot_bgcolor": "#E5ECF6",
          "polar": {
           "angularaxis": {
            "gridcolor": "white",
            "linecolor": "white",
            "ticks": ""
           },
           "bgcolor": "#E5ECF6",
           "radialaxis": {
            "gridcolor": "white",
            "linecolor": "white",
            "ticks": ""
           }
          },
          "scene": {
           "xaxis": {
            "backgroundcolor": "#E5ECF6",
            "gridcolor": "white",
            "gridwidth": 2,
            "linecolor": "white",
            "showbackground": true,
            "ticks": "",
            "zerolinecolor": "white"
           },
           "yaxis": {
            "backgroundcolor": "#E5ECF6",
            "gridcolor": "white",
            "gridwidth": 2,
            "linecolor": "white",
            "showbackground": true,
            "ticks": "",
            "zerolinecolor": "white"
           },
           "zaxis": {
            "backgroundcolor": "#E5ECF6",
            "gridcolor": "white",
            "gridwidth": 2,
            "linecolor": "white",
            "showbackground": true,
            "ticks": "",
            "zerolinecolor": "white"
           }
          },
          "shapedefaults": {
           "line": {
            "color": "#2a3f5f"
           }
          },
          "ternary": {
           "aaxis": {
            "gridcolor": "white",
            "linecolor": "white",
            "ticks": ""
           },
           "baxis": {
            "gridcolor": "white",
            "linecolor": "white",
            "ticks": ""
           },
           "bgcolor": "#E5ECF6",
           "caxis": {
            "gridcolor": "white",
            "linecolor": "white",
            "ticks": ""
           }
          },
          "title": {
           "x": 0.05
          },
          "xaxis": {
           "automargin": true,
           "gridcolor": "white",
           "linecolor": "white",
           "ticks": "",
           "title": {
            "standoff": 15
           },
           "zerolinecolor": "white",
           "zerolinewidth": 2
          },
          "yaxis": {
           "automargin": true,
           "gridcolor": "white",
           "linecolor": "white",
           "ticks": "",
           "title": {
            "standoff": 15
           },
           "zerolinecolor": "white",
           "zerolinewidth": 2
          }
         }
        },
        "title": {
         "text": "MPO preideal Modelo vs MPO bess_preideal Modelo"
        },
        "xaxis": {
         "title": {
          "text": "Datetime"
         }
        },
        "yaxis": {
         "title": {
          "text": "MPO [COP/MWh]"
         }
        },
        "yaxis2": {
         "overlaying": "y",
         "side": "right",
         "title": {
          "text": "Difference [COP/MWh]"
         }
        }
       }
      }
     },
     "metadata": {},
     "output_type": "display_data"
    }
   ],
   "source": [
    "fig = go.Figure()\n",
    "\n",
    "# Add line for \"MPO preideal Modelo\"\n",
    "fig.add_trace(go.Scatter(\n",
    "    x=output_unstacked.index,\n",
    "    y=output_unstacked['MPO preideal Modelo'],\n",
    "    mode='lines',\n",
    "    name='MPO preideal Modelo'\n",
    "))\n",
    "\n",
    "# Add line for \"MPO bess_preideal Modelo\"\n",
    "fig.add_trace(go.Scatter(\n",
    "    x=output_unstacked.index,\n",
    "    y=output_unstacked['MPO bess_preideal_resource Modelo'],\n",
    "    mode='lines',\n",
    "    name='MPO bess_preideal Modelo',\n",
    "    fill='tonexty',\n",
    "    line_color='green'\n",
    "))\n",
    "\n",
    "# Add area for positive differences\n",
    "# fig.add_trace(go.Scatter(\n",
    "#     x=output_unstacked.index,\n",
    "#     y=output_unstacked['Difference'].apply(lambda x: x if x > 0 else 0),\n",
    "#     fill='tozeroy',\n",
    "#     mode='none',\n",
    "#     fillcolor='rgba(0, 255, 0, 0.5)',  # Green color for positive differences\n",
    "#     name='Positive Difference',\n",
    "#     line_shape='hv',\n",
    "#     yaxis='y2'\n",
    "# ))\n",
    "\n",
    "# # Add area for negative differences\n",
    "# fig.add_trace(go.Scatter(\n",
    "#     x=output_unstacked.index,\n",
    "#     y=output_unstacked['Difference'].apply(lambda x: x if x < 0 else 0),\n",
    "#     fill='tozeroy',\n",
    "#     mode='none',\n",
    "#     fillcolor='rgba(255, 0, 0, 0.5)',  # Red color for negative differences\n",
    "#     name='Negative Difference',\n",
    "#     line_shape='hv',\n",
    "#     yaxis='y2'\n",
    "# ))\n",
    "\n",
    "fig.update_layout(\n",
    "    title='MPO preideal Modelo vs MPO bess_preideal Modelo',\n",
    "    xaxis_title='Datetime',\n",
    "    yaxis_title='MPO [COP/MWh]',\n",
    "    yaxis2=dict(\n",
    "        title='Difference [COP/MWh]',\n",
    "        overlaying='y',\n",
    "        side='right'\n",
    "    ),\n",
    "    legend_title='Legend'\n",
    ")\n",
    "\n",
    "fig.show()"
   ]
  },
  {
   "cell_type": "code",
   "execution_count": 9,
   "metadata": {},
   "outputs": [
    {
     "data": {
      "text/plain": [
       "Index(['MPO bess_preideal_resource Modelo', 'MPO preideal Modelo',\n",
       "       'MPO preideal XM', 'MPO preideal_resource XM', 'Difference'],\n",
       "      dtype='object', name='source')"
      ]
     },
     "execution_count": 9,
     "metadata": {},
     "output_type": "execute_result"
    }
   ],
   "source": [
    "output_unstacked.columns"
   ]
  },
  {
   "cell_type": "code",
   "execution_count": null,
   "metadata": {},
   "outputs": [],
   "source": []
  }
 ],
 "metadata": {
  "kernelspec": {
   "display_name": ".env",
   "language": "python",
   "name": "python3"
  },
  "language_info": {
   "codemirror_mode": {
    "name": "ipython",
    "version": 3
   },
   "file_extension": ".py",
   "mimetype": "text/x-python",
   "name": "python",
   "nbconvert_exporter": "python",
   "pygments_lexer": "ipython3",
   "version": "3.12.2"
  }
 },
 "nbformat": 4,
 "nbformat_minor": 2
}
